{
 "cells": [
  {
   "cell_type": "markdown",
   "source": [
    "# Universidad Autónoma de Yucatán\n",
    "\n",
    "## Facultad de Matemáticas\n",
    "\n",
    "### Machine Learning\n",
    "\n",
    "**Teacher:** Dr. Victor Uc Cetina\n",
    "\n",
    "**Student:** Dayan Bravo Fraga"
   ],
   "metadata": {
    "collapsed": false
   }
  },
  {
   "cell_type": "markdown",
   "source": [
    "# Create Animation **(Step 4 of 4)**"
   ],
   "metadata": {
    "collapsed": false
   }
  },
  {
   "cell_type": "markdown",
   "source": [
    "## Import libraries"
   ],
   "metadata": {
    "collapsed": false
   }
  },
  {
   "cell_type": "code",
   "execution_count": 15,
   "metadata": {
    "collapsed": true,
    "ExecuteTime": {
     "end_time": "2023-05-14T21:23:50.163746898Z",
     "start_time": "2023-05-14T21:23:50.121237822Z"
    }
   },
   "outputs": [],
   "source": [
    "import numpy as np\n",
    "import sympy as sp\n",
    "import pandas as pd\n",
    "import matplotlib.pyplot as plt\n",
    "import matplotlib.animation as animation"
   ]
  },
  {
   "cell_type": "markdown",
   "source": [
    "## Import History Generated"
   ],
   "metadata": {
    "collapsed": false
   }
  },
  {
   "cell_type": "markdown",
   "source": [
    "Paste the report number copied from the notebook:\n",
    "**Generate Artificial Data Points** [![Open In Colab](https://colab.research.google.com/assets/colab-badge.svg)](https://colab.research.google.com/github/dayan3847/machine_learning/blob/master/stochastic_gradient_descent/colab/1_generate_artificial_data_points.ipynb)"
   ],
   "metadata": {
    "collapsed": false
   }
  },
  {
   "cell_type": "code",
   "execution_count": 3,
   "outputs": [],
   "source": [
    "report_number: str = '20230514144011475656'"
   ],
   "metadata": {
    "collapsed": false,
    "ExecuteTime": {
     "end_time": "2023-05-14T21:15:12.770772083Z",
     "start_time": "2023-05-14T21:15:12.735219287Z"
    }
   }
  },
  {
   "cell_type": "code",
   "execution_count": 4,
   "outputs": [],
   "source": [
    "data_points: np.array = np.loadtxt(f'reports/{report_number}/data_points.csv', delimiter=',').T"
   ],
   "metadata": {
    "collapsed": false,
    "ExecuteTime": {
     "end_time": "2023-05-14T21:15:14.604668661Z",
     "start_time": "2023-05-14T21:15:14.574123751Z"
    }
   }
  },
  {
   "cell_type": "code",
   "execution_count": 5,
   "outputs": [
    {
     "name": "stdout",
     "output_type": "stream",
     "text": [
      "\u001B[92mloading data... \u001B[0m\n",
      "\u001B[92mdata loaded\u001B[0m\n"
     ]
    }
   ],
   "source": [
    "print('\\033[92m' + 'loading data... ' + '\\033[0m')\n",
    "history_df: pd.DataFrame = pd.read_csv(f'reports/{report_number}/history.csv')\n",
    "print('\\033[92m' + 'data loaded' + '\\033[0m')"
   ],
   "metadata": {
    "collapsed": false,
    "ExecuteTime": {
     "end_time": "2023-05-14T21:15:16.162199862Z",
     "start_time": "2023-05-14T21:15:16.153003034Z"
    }
   }
  },
  {
   "cell_type": "code",
   "execution_count": 6,
   "outputs": [
    {
     "name": "stdout",
     "output_type": "stream",
     "text": [
      "\u001B[32mImported base function:\u001B[0m\n"
     ]
    },
    {
     "data": {
      "text/plain": "sin(2*pi*x)",
      "text/latex": "$\\displaystyle \\sin{\\left(2 \\pi x \\right)}$"
     },
     "execution_count": 6,
     "metadata": {},
     "output_type": "execute_result"
    }
   ],
   "source": [
    "function_str: str = open(f'reports/{report_number}/data_points_base_function.txt', 'r').read()\n",
    "function: sp.Expr = sp.sympify(function_str)\n",
    "print('\\033[32m' + 'Imported base function:' + '\\033[0m')\n",
    "function"
   ],
   "metadata": {
    "collapsed": false,
    "ExecuteTime": {
     "end_time": "2023-05-14T21:15:18.230033591Z",
     "start_time": "2023-05-14T21:15:18.065290695Z"
    }
   }
  },
  {
   "cell_type": "markdown",
   "source": [
    "## Create Animation"
   ],
   "metadata": {
    "collapsed": false
   }
  },
  {
   "cell_type": "code",
   "execution_count": 7,
   "outputs": [],
   "source": [
    "total_frames = 10"
   ],
   "metadata": {
    "collapsed": false,
    "ExecuteTime": {
     "end_time": "2023-05-14T21:15:21.483105261Z",
     "start_time": "2023-05-14T21:15:21.464031471Z"
    }
   }
  },
  {
   "cell_type": "code",
   "execution_count": 13,
   "outputs": [],
   "source": [
    "x_ = np.linspace(0, 1, 100)\n",
    "# Function Base\n",
    "y_function_base = [function.subs('x', x_i) for x_i in x_]\n",
    "history_polynomial = history_df['polynomial'].tolist()\n",
    "history_polynomial_best = history_df['polynomial_best'].tolist()"
   ],
   "metadata": {
    "collapsed": false,
    "ExecuteTime": {
     "end_time": "2023-05-14T21:21:45.496849382Z",
     "start_time": "2023-05-14T21:21:45.485676241Z"
    }
   }
  },
  {
   "cell_type": "code",
   "execution_count": 18,
   "outputs": [],
   "source": [
    "def update_plot(frame):\n",
    "    frame_i = frame\n",
    "    print('\\033[92m' + f'frame: {frame_i} of {total_frames}' + '\\033[0m')\n",
    "    plt.cla()\n",
    "\n",
    "    plt.title(\"Iteration: {}\".format(frame_i))\n",
    "    plt.xlabel('x')\n",
    "    plt.ylabel('y')\n",
    "    plt.axvline(color='black')\n",
    "    plt.axhline(color='black')\n",
    "\n",
    "    # Data Points\n",
    "    plt.scatter(data_points[0], data_points[1], color='gray', label='data points')\n",
    "    # Function Base\n",
    "    plt.plot(x_, y_function_base, label='function base', color='yellow', linestyle='--')\n",
    "    # Function Current\n",
    "    y_polynomial_current = [sp.sympify(history_polynomial[frame_i]).subs('x', x_i) for x_i in x_]\n",
    "    plt.plot(x_, y_polynomial_current, label='polynomial current', color='blue', linestyle='--')\n",
    "    # Function Best\n",
    "    y_polynomial_best = [sp.sympify(history_polynomial_best[frame_i]).subs('x', x_i) for x_i in x_]\n",
    "    plt.plot(x_, y_polynomial_best, label='polynomial best', color='green')\n",
    "\n",
    "    plt.legend()\n",
    "    plt.grid()\n",
    "    return plt.gcf()"
   ],
   "metadata": {
    "collapsed": false,
    "ExecuteTime": {
     "end_time": "2023-05-14T21:27:06.211541998Z",
     "start_time": "2023-05-14T21:27:06.170541189Z"
    }
   }
  },
  {
   "cell_type": "code",
   "execution_count": 19,
   "outputs": [
    {
     "name": "stdout",
     "output_type": "stream",
     "text": [
      "\u001B[92mcreating animation... \u001B[0m\n",
      "\u001B[92mframe: 0 of 10\u001B[0m\n",
      "\u001B[92mframe: 0 of 10\u001B[0m\n",
      "\u001B[92mframe: 1 of 10\u001B[0m\n",
      "\u001B[92mframe: 2 of 10\u001B[0m\n",
      "\u001B[92mframe: 3 of 10\u001B[0m\n",
      "\u001B[92mframe: 4 of 10\u001B[0m\n",
      "\u001B[92mframe: 5 of 10\u001B[0m\n",
      "\u001B[92mframe: 6 of 10\u001B[0m\n",
      "\u001B[92mframe: 7 of 10\u001B[0m\n",
      "\u001B[92mframe: 8 of 10\u001B[0m\n",
      "\u001B[92mframe: 9 of 10\u001B[0m\n",
      "\u001B[92manimation created \u001B[0m\n",
      "\u001B[92mframe: 0 of 10\u001B[0m\n"
     ]
    },
    {
     "data": {
      "text/plain": "<Figure size 640x480 with 1 Axes>",
      "image/png": "[encoded data removed]"
     },
     "metadata": {},
     "output_type": "display_data"
    }
   ],
   "source": [
    "print('\\033[92m' + 'creating animation... ' + '\\033[0m')\n",
    "fig = plt.figure()\n",
    "ani = animation.FuncAnimation(fig, update_plot, frames=total_frames, interval=1000)\n",
    "ani.save(f'reports/{report_number}/animation.mp4', writer='ffmpeg')"
   ],
   "metadata": {
    "collapsed": false,
    "ExecuteTime": {
     "end_time": "2023-05-14T21:27:16.039212115Z",
     "start_time": "2023-05-14T21:27:08.026314164Z"
    }
   }
  }
 ],
 "metadata": {
  "kernelspec": {
   "display_name": "Python 3",
   "language": "python",
   "name": "python3"
  },
  "language_info": {
   "codemirror_mode": {
    "name": "ipython",
    "version": 2
   },
   "file_extension": ".py",
   "mimetype": "text/x-python",
   "name": "python",
   "nbconvert_exporter": "python",
   "pygments_lexer": "ipython2",
   "version": "2.7.6"
  }
 },
 "nbformat": 4,
 "nbformat_minor": 0
}
