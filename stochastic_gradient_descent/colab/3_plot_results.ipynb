{
 "cells": [
  {
   "cell_type": "markdown",
   "source": [
    "# Universidad Autónoma de Yucatán\n",
    "\n",
    "## Facultad de Matemáticas\n",
    "\n",
    "### Machine Learning\n",
    "\n",
    "**Teacher:** Dr. Victor Uc Cetina\n",
    "\n",
    "**Student:** Dayan Bravo Fraga"
   ],
   "metadata": {
    "collapsed": false
   }
  },
  {
   "cell_type": "markdown",
   "source": [
    "# Plot Results **(Step 3 of 4)**"
   ],
   "metadata": {
    "collapsed": false
   }
  },
  {
   "cell_type": "markdown",
   "source": [
    "## Clone and load project from GitHub (only for Colab)"
   ],
   "metadata": {
    "collapsed": false
   }
  },
  {
   "cell_type": "code",
   "execution_count": null,
   "outputs": [],
   "source": [
    "import sys\n",
    "import os\n",
    "in_colab: bool = 'google.colab' in sys.modules\n",
    "if in_colab:\n",
    "    print('Is running in Colab')\n",
    "    if not os.path.isdir('machine_learning'):\n",
    "        print(\"Downloading project\")\n",
    "        ! git clone https://github.com/dayan3847/machine_learning\n",
    "        sys.path.insert(0, './machine_learning/')\n",
    "    else:\n",
    "        ! git -C ./machine_learning fetch\n",
    "        ! git -C ./machine_learning rebase\n",
    "    if not os.path.isdir('reports'):\n",
    "        print('Coping reports folder')\n",
    "        ! cp -r ./machine_learning/stochastic_gradient_descent/reports ./\n",
    "else:\n",
    "    print('Is not running in Colab')"
   ],
   "metadata": {
    "collapsed": false
   }
  },
  {
   "cell_type": "markdown",
   "source": [
    "## Import libraries"
   ],
   "metadata": {
    "collapsed": false
   }
  },
  {
   "cell_type": "code",
   "execution_count": null,
   "metadata": {
    "collapsed": true
   },
   "outputs": [],
   "source": [
    "import numpy as np\n",
    "import sympy as sp\n",
    "import pandas as pd\n",
    "import matplotlib.pyplot as plt"
   ]
  },
  {
   "cell_type": "markdown",
   "source": [
    "## Import History Generated"
   ],
   "metadata": {
    "collapsed": false
   }
  },
  {
   "cell_type": "markdown",
   "source": [
    "Paste the report number copied from the notebook:\n",
    "**Generate Artificial Data Points** [![Open In Colab](https://colab.research.google.com/assets/colab-badge.svg)](https://colab.research.google.com/github/dayan3847/machine_learning/blob/master/stochastic_gradient_descent/colab/1_generate_artificial_data_points.ipynb)"
   ],
   "metadata": {
    "collapsed": false
   }
  },
  {
   "cell_type": "code",
   "execution_count": null,
   "outputs": [],
   "source": [
    "report_number: str = '20230514144011475656'"
   ],
   "metadata": {
    "collapsed": false
   }
  },
  {
   "cell_type": "code",
   "execution_count": null,
   "outputs": [],
   "source": [
    "data_points: np.array = np.loadtxt(f'reports/{report_number}/data_points.csv', delimiter=',').T"
   ],
   "metadata": {
    "collapsed": false
   }
  },
  {
   "cell_type": "code",
   "execution_count": null,
   "outputs": [],
   "source": [
    "print('\\033[92m' + 'loading data... ' + '\\033[0m')\n",
    "history_df: pd.DataFrame = pd.read_csv(f'reports/{report_number}/history.csv')\n",
    "print('\\033[92m' + 'data loaded' + '\\033[0m')"
   ],
   "metadata": {
    "collapsed": false
   }
  },
  {
   "cell_type": "code",
   "execution_count": null,
   "outputs": [],
   "source": [
    "function_str: str = open(f'reports/{report_number}/data_points_base_function.txt', 'r').read()\n",
    "function: sp.Expr = sp.sympify(function_str)\n",
    "print('\\033[32m' + 'Imported base function:' + '\\033[0m')\n",
    "function"
   ],
   "metadata": {
    "collapsed": false
   }
  },
  {
   "cell_type": "markdown",
   "source": [
    "## Plot Data"
   ],
   "metadata": {
    "collapsed": false
   }
  },
  {
   "cell_type": "code",
   "execution_count": null,
   "outputs": [],
   "source": [
    "plt.title('Data')\n",
    "plt.xlabel('x')\n",
    "plt.ylabel('y')\n",
    "plt.axvline(color='black')\n",
    "plt.axhline(color='black')\n",
    "# Data Points\n",
    "plt.scatter(data_points[0], data_points[1], color='gray', label='data points')\n",
    "# Function Base\n",
    "x_ = np.linspace(0, 1, 100)\n",
    "y_function_base = [function.subs('x', x_i) for x_i in x_]\n",
    "plt.plot(x_, y_function_base, label='function base', color='yellow', linestyle='--')\n",
    "\n",
    "history_polynomial = history_df['polynomial'].tolist()\n",
    "# Polynomial Initial\n",
    "y_function_base = [sp.sympify(history_polynomial[0]).subs('x', x_i) for x_i in x_]\n",
    "plt.plot(x_, y_function_base, label='polynomial initial', color='blue')\n",
    "# Polynomial Final\n",
    "y_function_base = [sp.sympify(history_polynomial[-1]).subs('x', x_i) for x_i in x_]\n",
    "plt.plot(x_, y_function_base, label='polynomial final', color='green')\n",
    "\n",
    "plt.legend()\n",
    "plt.grid()\n",
    "plt.show()"
   ],
   "metadata": {
    "collapsed": false
   }
  },
  {
   "cell_type": "markdown",
   "source": [
    "## Plot Error"
   ],
   "metadata": {
    "collapsed": false
   }
  },
  {
   "cell_type": "code",
   "execution_count": null,
   "outputs": [],
   "source": [
    "plt.title('Error')\n",
    "plt.xlabel('iteration')\n",
    "plt.ylabel('error')\n",
    "plt.axvline(color='black')\n",
    "plt.axhline(color='black')\n",
    "plt.plot(history_df['error'], label='error', color='red')\n",
    "plt.legend()\n",
    "plt.grid()\n",
    "plt.show()"
   ],
   "metadata": {
    "collapsed": false
   }
  }
 ],
 "metadata": {
  "kernelspec": {
   "display_name": "Python 3",
   "language": "python",
   "name": "python3"
  },
  "language_info": {
   "codemirror_mode": {
    "name": "ipython",
    "version": 2
   },
   "file_extension": ".py",
   "mimetype": "text/x-python",
   "name": "python",
   "nbconvert_exporter": "python",
   "pygments_lexer": "ipython2",
   "version": "2.7.6"
  }
 },
 "nbformat": 4,
 "nbformat_minor": 0
}
