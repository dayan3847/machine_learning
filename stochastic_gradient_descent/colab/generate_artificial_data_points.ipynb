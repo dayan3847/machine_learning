{
 "cells": [
  {
   "cell_type": "markdown",
   "source": [
    "# Generate artificial data points"
   ],
   "metadata": {
    "collapsed": false
   }
  },
  {
   "cell_type": "markdown",
   "source": [
    "## Import libraries"
   ],
   "metadata": {
    "collapsed": false
   }
  },
  {
   "cell_type": "code",
   "execution_count": null,
   "metadata": {
    "collapsed": true
   },
   "outputs": [],
   "source": [
    "import os\n",
    "import datetime\n",
    "import numpy as np\n",
    "import sympy as sp\n",
    "import matplotlib.pyplot as plt\n",
    "\n",
    "from stochastic_gradient_descent.TrainingDataGenerator import TrainingDataGenerator"
   ]
  },
  {
   "cell_type": "markdown",
   "source": [
    "## Create report folder"
   ],
   "metadata": {
    "collapsed": false
   }
  },
  {
   "cell_type": "code",
   "execution_count": null,
   "outputs": [],
   "source": [
    "report_number: str = datetime.datetime.now().strftime('%Y%m%d%H%M%S%f')\n",
    "report_path: str = os.path.join('reports', report_number)\n",
    "os.mkdir(report_path)\n",
    "print(f'Report number:', '\\033[32m' + report_number + '\\033[0m')"
   ],
   "metadata": {
    "collapsed": false
   }
  },
  {
   "cell_type": "markdown",
   "source": [
    "### Generate data points"
   ],
   "metadata": {
    "collapsed": false
   }
  },
  {
   "cell_type": "code",
   "execution_count": null,
   "outputs": [],
   "source": [
    "x = sp.Symbol('x')\n",
    "function: sp.Expr = sp.sin(2 * sp.pi * x)"
   ],
   "metadata": {
    "collapsed": false
   }
  },
  {
   "cell_type": "code",
   "execution_count": null,
   "outputs": [],
   "source": [
    "data_points: np.array = TrainingDataGenerator.generate_data_points(report_path, function)"
   ],
   "metadata": {
    "collapsed": false
   }
  },
  {
   "cell_type": "markdown",
   "source": [
    "## Import data points generated"
   ],
   "metadata": {
    "collapsed": false
   }
  },
  {
   "cell_type": "markdown",
   "source": [
    "#### Plot data points"
   ],
   "metadata": {
    "collapsed": false
   }
  },
  {
   "cell_type": "code",
   "execution_count": null,
   "outputs": [],
   "source": [
    "plt.title('Data')\n",
    "plt.xlabel('x')\n",
    "plt.ylabel('y')\n",
    "plt.axvline(color='black')\n",
    "plt.axhline(color='black')\n",
    "# Function Base\n",
    "x_ = np.linspace(0, 1, 100)\n",
    "y_ = [function.subs(x, x_i) for x_i in x_]\n",
    "plt.plot(x_, y_, label='function base', color='blue', linestyle='--')\n",
    "# Data Points\n",
    "plt.scatter(data_points[0], data_points[1], color='gray', label='data points')\n",
    "plt.legend()\n",
    "plt.grid()\n",
    "plt.savefig(f'reports/{report_number}/data_points.png')\n",
    "plt.show()"
   ],
   "metadata": {
    "collapsed": false
   }
  }
 ],
 "metadata": {
  "kernelspec": {
   "display_name": "Python 3",
   "language": "python",
   "name": "python3"
  },
  "language_info": {
   "codemirror_mode": {
    "name": "ipython",
    "version": 2
   },
   "file_extension": ".py",
   "mimetype": "text/x-python",
   "name": "python",
   "nbconvert_exporter": "python",
   "pygments_lexer": "ipython2",
   "version": "2.7.6"
  }
 },
 "nbformat": 4,
 "nbformat_minor": 0
}
