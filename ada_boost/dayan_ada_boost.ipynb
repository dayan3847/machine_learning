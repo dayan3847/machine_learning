{
 "cells": [
  {
   "cell_type": "markdown",
   "source": [
    "# Ada Boost"
   ],
   "metadata": {
    "collapsed": false
   }
  },
  {
   "cell_type": "code",
   "execution_count": null,
   "outputs": [],
   "source": [
    "import matplotlib.pyplot as plt\n",
    "from typing import List\n",
    "\n",
    "from ada_boost.main import AdaBoostMain\n",
    "from ada_boost.entity import WeakClassifier\n",
    "from ada_boost.tools import Plotter, Printer"
   ],
   "metadata": {
    "collapsed": false,
    "ExecuteTime": {
     "start_time": "2023-04-22T21:57:47.950912Z",
     "end_time": "2023-04-22T21:57:48.162956Z"
    }
   }
  },
  {
   "cell_type": "markdown",
   "source": [
    "## Plot Data"
   ],
   "metadata": {
    "collapsed": false
   }
  },
  {
   "cell_type": "code",
   "execution_count": null,
   "outputs": [],
   "source": [
    "ada_boost_main = AdaBoostMain()\n",
    "data = ada_boost_main.data\n",
    "\n",
    "plotter: Plotter = Plotter(False)\n",
    "plotter.plot_data(data)\n",
    "plotter.show()"
   ],
   "metadata": {
    "collapsed": false,
    "ExecuteTime": {
     "start_time": "2023-04-22T21:57:48.163868Z",
     "end_time": "2023-04-22T21:57:48.258152Z"
    }
   }
  },
  {
   "cell_type": "markdown",
   "source": [
    "## Normalize Data and Plot\n",
    "Los datos se normalizan y todos están en el rango de 0 a 100"
   ],
   "metadata": {
    "collapsed": false
   }
  },
  {
   "cell_type": "code",
   "execution_count": null,
   "outputs": [],
   "source": [
    "data.normalize()\n",
    "plotter.plot_data(data)\n",
    "plotter.show()"
   ],
   "metadata": {
    "collapsed": false,
    "ExecuteTime": {
     "start_time": "2023-04-22T21:57:48.269489Z",
     "end_time": "2023-04-22T21:57:48.328574Z"
    }
   }
  },
  {
   "cell_type": "markdown",
   "source": [
    "## Ahora vamos a buscar el mejor clasificador débil\n",
    "Estos clasificadores débiles se encuentran en la clase WeakClassifier\n",
    "### Debe ejecutar este bloque varias veces hasta que encuentre el mejor clasificador"
   ],
   "metadata": {
    "collapsed": false
   }
  },
  {
   "cell_type": "code",
   "execution_count": null,
   "outputs": [],
   "source": [
    "if 'classifier_optimo' not in locals():\n",
    "    classifier_optimo = None\n",
    "if 'error_optimo' not in locals():\n",
    "    error_optimo = None\n",
    "if 'feature' not in locals():\n",
    "    feature = 0\n",
    "if 'threshold' not in locals():\n",
    "    threshold = 0\n",
    "threshold += 2\n",
    "if threshold > 100:\n",
    "    threshold = 1\n",
    "    feature += 1\n",
    "\n",
    "if feature <= 1:\n",
    "    classifier = WeakClassifier(feature, threshold)\n",
    "    classifier_error = classifier.fix_polarity(data)\n",
    "\n",
    "    plotter.plot_data(data)\n",
    "    plotter.plot_classifier(classifier, '--')\n",
    "\n",
    "    print('Analizando el clasificador: ')\n",
    "    Printer.print_classifier(classifier, data)\n",
    "\n",
    "    if classifier_optimo is None or classifier_error < error_optimo:\n",
    "        classifier_optimo = classifier\n",
    "        error_optimo = classifier_error\n",
    "        print('\\033[32m' + 'Nuevo óptimo encontrado' + '\\033[0m')\n",
    "\n",
    "    print('El mejor clasificador en este momento es: ')\n",
    "    Printer.print_classifier(classifier_optimo, data)\n",
    "    plotter.plot_classifier(classifier_optimo)\n",
    "\n",
    "    plotter.show()\n",
    "else:\n",
    "    print('El mejor clasificador es: ')\n",
    "    Printer.print_classifier(classifier_optimo, data)\n",
    "    plotter.plot_classifier(classifier_optimo)\n",
    "    plotter.plot_data(data)\n",
    "    plotter.show()"
   ],
   "metadata": {
    "collapsed": false,
    "ExecuteTime": {
     "start_time": "2023-04-22T22:03:28.286580Z",
     "end_time": "2023-04-22T22:03:28.361539Z"
    }
   }
  },
  {
   "cell_type": "markdown",
   "source": [
    "### Ya que encontramos el mejor clasificador débil, vamos a actualizar los pesos de los datos en función de este clasificador"
   ],
   "metadata": {
    "collapsed": false
   }
  },
  {
   "cell_type": "code",
   "execution_count": null,
   "outputs": [],
   "source": [
    "ada_boost_main.update_weights(classifier_optimo)\n",
    "\n",
    "plotter.plot_classifier(classifier_optimo)\n",
    "plotter.plot_data(data)\n",
    "plotter.show()\n",
    "\n",
    "classifiers: List[WeakClassifier] = [classifier_optimo]"
   ],
   "metadata": {
    "collapsed": false,
    "ExecuteTime": {
     "start_time": "2023-04-22T22:00:08.152741Z",
     "end_time": "2023-04-22T22:00:08.215298Z"
    }
   }
  },
  {
   "cell_type": "code",
   "execution_count": null,
   "outputs": [],
   "source": [
    "del classifier_optimo\n",
    "del error_optimo\n",
    "del feature\n",
    "del threshold"
   ],
   "metadata": {
    "collapsed": false,
    "ExecuteTime": {
     "start_time": "2023-04-22T22:02:11.975427Z",
     "end_time": "2023-04-22T22:02:12.019953Z"
    }
   }
  }
 ],
 "metadata": {
  "kernelspec": {
   "display_name": "Python 3",
   "language": "python",
   "name": "python3"
  },
  "language_info": {
   "codemirror_mode": {
    "name": "ipython",
    "version": 2
   },
   "file_extension": ".py",
   "mimetype": "text/x-python",
   "name": "python",
   "nbconvert_exporter": "python",
   "pygments_lexer": "ipython2",
   "version": "2.7.6"
  }
 },
 "nbformat": 4,
 "nbformat_minor": 0
}
