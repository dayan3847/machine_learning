{
  "nbformat": 4,
  "nbformat_minor": 0,
  "metadata": {
    "colab": {
      "provenance": [],
      "authorship_tag": "ABX9TyOnuiWkEJ2BY+OX1K9p45to",
      "include_colab_link": true
    },
    "kernelspec": {
      "name": "python3",
      "display_name": "Python 3"
    },
    "language_info": {
      "name": "python"
    }
  },
  "cells": [
    {
      "cell_type": "markdown",
      "metadata": {
        "id": "view-in-github",
        "colab_type": "text"
      },
      "source": [
        "<a href=\"https://colab.research.google.com/github/dayan3847/machine_learning/blob/dev%2Fada_boost/ada_boost/colab/dayan_ada_boost.ipynb\" target=\"_parent\"><img src=\"https://colab.research.google.com/assets/colab-badge.svg\" alt=\"Open In Colab\"/></a>"
      ]
    },
    {
      "cell_type": "markdown",
      "source": [
        "# Ada Boost"
      ],
      "metadata": {
        "id": "tT2rYrhxTb-j"
      }
    },
    {
      "cell_type": "markdown",
      "source": [
        "## Importando Bibliotecas necesarias para la carga del proyecto"
      ],
      "metadata": {
        "id": "wp9pRA-TWDTs"
      }
    },
    {
      "cell_type": "code",
      "source": [
        "import os\n",
        "import sys"
      ],
      "metadata": {
        "id": "xPNEmtXYUSz1"
      },
      "execution_count": 1,
      "outputs": []
    },
    {
      "cell_type": "markdown",
      "source": [
        "## Descargando el proyecto de GitHub"
      ],
      "metadata": {
        "id": "qChzU3hWWPkj"
      }
    },
    {
      "cell_type": "code",
      "execution_count": 2,
      "metadata": {
        "colab": {
          "base_uri": "https://localhost:8080/"
        },
        "id": "8l2fcSyPTViZ",
        "outputId": "17a04e96-4bd4-445d-f7ee-37e12d7b1f76"
      },
      "outputs": [
        {
          "output_type": "stream",
          "name": "stdout",
          "text": [
            "Downloading project\n",
            "Cloning into 'machine_learning'...\n",
            "remote: Enumerating objects: 76, done.\u001b[K\n",
            "remote: Counting objects: 100% (76/76), done.\u001b[K\n",
            "remote: Compressing objects: 100% (56/56), done.\u001b[K\n",
            "remote: Total 76 (delta 15), reused 74 (delta 13), pack-reused 0\u001b[K\n",
            "Unpacking objects: 100% (76/76), 14.28 KiB | 585.00 KiB/s, done.\n",
            "Updating Project\n",
            "Branch 'dev/ada_boost' set up to track remote branch 'dev/ada_boost' from 'origin'.\n",
            "Switched to a new branch 'dev/ada_boost'\n",
            "Current branch dev/ada_boost is up to date.\n"
          ]
        }
      ],
      "source": [
        "# import git proyect machine_learning\n",
        "if not os.path.isdir('machine_learning'):\n",
        "    print(\"Downloading project\")\n",
        "    ! git clone https://github.com/dayan3847/machine_learning\n",
        "print(\"Updating Project\")\n",
        "! git -C ./machine_learning checkout dev/ada_boost \n",
        "! git -C ./machine_learning fetch\n",
        "! git -C ./machine_learning rebase"
      ]
    },
    {
      "cell_type": "markdown",
      "source": [
        "## Permitir la carga de los ficheros del proyecto"
      ],
      "metadata": {
        "id": "zvkgUxvfWoak"
      }
    },
    {
      "cell_type": "code",
      "source": [
        "sys.path.insert(0, './machine_learning')"
      ],
      "metadata": {
        "id": "awPanAjRWfZq"
      },
      "execution_count": 3,
      "outputs": []
    },
    {
      "cell_type": "markdown",
      "source": [
        "## Importar Clases del proyecto y otras requeridas"
      ],
      "metadata": {
        "id": "0S7naFIBXluX"
      }
    },
    {
      "cell_type": "code",
      "source": [
        "from typing import List\n",
        "\n",
        "from ada_boost.main import AdaBoostMain\n",
        "from ada_boost.entity import WeakClassifier\n",
        "from ada_boost.tools import Plotter, Printer"
      ],
      "metadata": {
        "id": "ih0UxH9hWyz9"
      },
      "execution_count": 4,
      "outputs": []
    },
    {
      "cell_type": "code",
      "source": [
        "corpus_path: str = './machine_learning/ada_boost/corpus'\n",
        "ada_boost_main = AdaBoostMain(corpus_path)\n",
        "data = ada_boost_main.data\n",
        "\n",
        "plotter: Plotter = Plotter(False)\n",
        "plotter.plot_data(data)\n",
        "plotter.show()"
      ],
      "metadata": {
        "colab": {
          "base_uri": "https://localhost:8080/",
          "height": 430
        },
        "id": "Xi-qetTZXwUQ",
        "outputId": "8802c628-f900-469a-e042-bdbbea68ae3d"
      },
      "execution_count": 6,
      "outputs": [
        {
          "output_type": "display_data",
          "data": {
            "text/plain": [
              "<Figure size 640x480 with 1 Axes>"
            ],
            "image/png": "[encoded data removed]"
          },
          "metadata": {}
        }
      ]
    },
    {
      "cell_type": "code",
      "source": [
        "data.normalize()\n",
        "plotter.plot_data(data)\n",
        "plotter.show()"
      ],
      "metadata": {
        "id": "-yjyvxzCZS2Q"
      },
      "execution_count": null,
      "outputs": []
    },
    {
      "cell_type": "code",
      "source": [
        "if 'classifier_optimo' not in locals():\n",
        "    classifier_optimo = None\n",
        "if 'error_optimo' not in locals():\n",
        "    error_optimo = None\n",
        "if 'feature' not in locals():\n",
        "    feature = 0\n",
        "if 'threshold' not in locals():\n",
        "    threshold = 0\n",
        "threshold += 2\n",
        "if threshold > 100:\n",
        "    threshold = 1\n",
        "    feature += 1\n",
        "\n",
        "if feature <= 1:\n",
        "    classifier = WeakClassifier(feature, threshold)\n",
        "    classifier_error = classifier.fix_polarity(data)\n",
        "\n",
        "    plotter.plot_data(data)\n",
        "    plotter.plot_classifier(classifier, '--')\n",
        "\n",
        "    print('Analizando el clasificador: ')\n",
        "    Printer.print_classifier(classifier, data)\n",
        "\n",
        "    if classifier_optimo is None or classifier_error < error_optimo:\n",
        "        classifier_optimo = classifier\n",
        "        error_optimo = classifier_error\n",
        "        print('\\033[32m' + 'Nuevo óptimo encontrado' + '\\033[0m')\n",
        "\n",
        "    print('El mejor clasificador en este momento es: ')\n",
        "    Printer.print_classifier(classifier_optimo, data)\n",
        "    plotter.plot_classifier(classifier_optimo)\n",
        "\n",
        "    plotter.show()\n",
        "else:\n",
        "    print('El mejor clasificador es: ')\n",
        "    Printer.print_classifier(classifier_optimo, data)\n",
        "    plotter.plot_classifier(classifier_optimo)\n",
        "    plotter.plot_data(data)\n",
        "    plotter.show()"
      ],
      "metadata": {
        "id": "OVW60t27ZXAg"
      },
      "execution_count": null,
      "outputs": []
    },
    {
      "cell_type": "code",
      "source": [
        "ada_boost_main.update_weights(classifier_optimo)\n",
        "\n",
        "plotter.plot_classifier(classifier_optimo)\n",
        "plotter.plot_data(data)\n",
        "plotter.show()\n",
        "\n",
        "classifiers: List[WeakClassifier] = [classifier_optimo]"
      ],
      "metadata": {
        "id": "MaYdZ2lvaI3j"
      },
      "execution_count": null,
      "outputs": []
    },
    {
      "cell_type": "code",
      "source": [
        "del classifier_optimo\n",
        "del error_optimo\n",
        "del feature\n",
        "del threshold"
      ],
      "metadata": {
        "id": "wjjSqqP2aN5X"
      },
      "execution_count": null,
      "outputs": []
    }
  ]
}