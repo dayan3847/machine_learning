{
 "cells": [
  {
   "cell_type": "code",
   "execution_count": null,
   "id": "initial_id",
   "metadata": {
    "collapsed": true
   },
   "outputs": [],
   "source": [
    "import keras\n",
    "from keras.models import Sequential\n",
    "from keras.layers import Dense\n",
    "import numpy as np"
   ]
  },
  {
   "cell_type": "code",
   "execution_count": null,
   "outputs": [],
   "source": [
    "x = np.array([\n",
    "    1,\n",
    "    2,\n",
    "    3,\n",
    "    4,\n",
    "    5,\n",
    "])\n",
    "y = np.array([\n",
    "    [44, 66],\n",
    "    [100, 5],\n",
    "    [3, 99],\n",
    "    [88, 66],\n",
    "    [20, 1],\n",
    "])"
   ],
   "metadata": {
    "collapsed": false
   },
   "id": "210157ea187113d"
  },
  {
   "cell_type": "code",
   "execution_count": null,
   "outputs": [],
   "source": [
    "# Crear el modelo\n",
    "model = Sequential()\n",
    "model.add(Dense(16, input_dim=1, activation='relu'))\n",
    "model.add(Dense(2, activation='linear'))\n",
    "model.compile(optimizer='adam', loss='mean_squared_error')\n",
    "model.summary()"
   ],
   "metadata": {
    "collapsed": false
   },
   "id": "80571ab1feaf0cd8"
  },
  {
   "cell_type": "code",
   "execution_count": null,
   "outputs": [],
   "source": [
    "model.fit(x, y, epochs=10000, verbose=0)"
   ],
   "metadata": {
    "collapsed": false
   },
   "id": "95fd68987ff06187"
  },
  {
   "cell_type": "code",
   "execution_count": null,
   "outputs": [],
   "source": [
    "model.predict(x)"
   ],
   "metadata": {
    "collapsed": false
   },
   "id": "a9136408ec786d0b"
  },
  {
   "cell_type": "code",
   "execution_count": null,
   "outputs": [],
   "source": [
    "'asd'"
   ],
   "metadata": {
    "collapsed": false
   },
   "id": "32dc5807797a5be6"
  },
  {
   "cell_type": "code",
   "execution_count": null,
   "outputs": [],
   "source": [
    "# Crear el modelo\n",
    "model = Sequential()\n",
    "model.add(Dense(16, input_dim=1, activation='relu'))\n",
    "model.add(Dense(2, activation='linear'))\n",
    "\n",
    "\n",
    "# Compilar el modelo con máscara de pérdida\n",
    "def masked_loss(y_true, y_pred):\n",
    "    # Máscara de pérdida: 1 en las dimensiones conocidas, 0 en las dimensiones desconocidas\n",
    "    mask = keras.backend.not_equal(y_true, 0)\n",
    "    # Pérdida multiplicada por la máscara\n",
    "    loss = keras.backend.mean(keras.backend.square(y_true - y_pred) * keras.backend.cast(mask, 'float32'), axis=-1)\n",
    "    return loss\n",
    "\n",
    "\n",
    "model.compile(optimizer='adam', loss=masked_loss)\n",
    "\n",
    "# Entrenar el modelo\n",
    "model.fit(inputs, known_outputs, epochs=1000, verbose=2)\n",
    "\n",
    "# Obtener predicciones para todos los datos\n",
    "predictions = model.predict(np.arange(0.0, 2.1, 0.1))\n",
    "\n",
    "print(\"Predicciones:\")\n",
    "print(predictions)"
   ],
   "metadata": {
    "collapsed": false
   },
   "id": "c33f0a079d867579"
  }
 ],
 "metadata": {
  "kernelspec": {
   "display_name": "Python 3",
   "language": "python",
   "name": "python3"
  },
  "language_info": {
   "codemirror_mode": {
    "name": "ipython",
    "version": 2
   },
   "file_extension": ".py",
   "mimetype": "text/x-python",
   "name": "python",
   "nbconvert_exporter": "python",
   "pygments_lexer": "ipython2",
   "version": "2.7.6"
  }
 },
 "nbformat": 4,
 "nbformat_minor": 5
}
