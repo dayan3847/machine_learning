{
 "nbformat": 4,
 "nbformat_minor": 0,
 "metadata": {
  "colab": {
   "provenance": [],
   "authorship_tag": "ABX9TyM+qq+ohiIw+woyFmplCp85"
  },
  "kernelspec": {
   "name": "python3",
   "language": "python",
   "display_name": "Python 3 (ipykernel)"
  },
  "language_info": {
   "name": "python"
  }
 },
 "cells": [
  {
   "cell_type": "markdown",
   "source": [
    "# Universidad Autónoma de Yucatán\n",
    "\n",
    "## Facultad de Matemáticas\n",
    "\n",
    "### Machine Learning\n",
    "\n",
    "**Teacher:** Dr. Victor Uc Cetina\n",
    "\n",
    "**Student:** Dayan Bravo Fraga\n"
   ],
   "metadata": {
    "id": "OQT7EsiIe54F"
   }
  },
  {
   "cell_type": "markdown",
   "source": [
    "# GitHub Repository\n",
    "\n",
    "All tasks are in the repository:\n",
    "\n",
    "https://github.com/dayan3847/machine_learning"
   ],
   "metadata": {
    "id": "o_bCQa8hfGHc"
   }
  },
  {
   "cell_type": "markdown",
   "source": [
    "# Practice 1: Stochastic Gradient Descent\n",
    "\n",
    "## GitHub\n",
    "\n",
    "https://github.com/dayan3847/machine_learning/tree/master/dayan3847/dayan3847stochastic_gradient_descent\n",
    "\n",
    "\n",
    "## Readme\n",
    "\n",
    "https://github.com/dayan3847/machine_learning/blob/master/dayan3847/stochastic_gradient_descent/README.md\n",
    "\n",
    "## Colab\n",
    "\n",
    "### Generate artificial data points\n",
    "\n",
    "[![Open In Colab](https://colab.research.google.com/assets/colab-badge.svg)](https://colab.research.google.com/github/dayan3847/machine_learning/blob/master/dayan3847/stochastic_gradient_descent/colab/1_generate_artificial_data_points.ipynb)\n",
    "\n",
    "### Implement the Stochastic Gradient Descent algorithm\n",
    "\n",
    "[![Open In Colab](https://colab.research.google.com/assets/colab-badge.svg)](https://colab.research.google.com/github/dayan3847/machine_learning/blob/master/dayan3847/stochastic_gradient_descent/colab/2_stochastic_gradient_descent.ipynb)\n",
    "\n",
    "### Plot Results\n",
    "\n",
    "[![Open In Colab](https://colab.research.google.com/assets/colab-badge.svg)](https://colab.research.google.com/github/dayan3847/machine_learning/blob/master/dayan3847/stochastic_gradient_descent/colab/3_plot_results.ipynb)\n",
    "\n",
    "### Create Animation\n",
    "\n",
    "[![Open In Colab](https://colab.research.google.com/assets/colab-badge.svg)](https://colab.research.google.com/github/dayan3847/machine_learning/blob/master/dayan3847/stochastic_gradient_descent/colab/4_create_animation.ipynb)"
   ],
   "metadata": {
    "id": "_xbMhpu9fB8C"
   }
  },
  {
   "cell_type": "markdown",
   "source": [
    "# Practice 2: Binary Classification through Logistic Regression\n",
    "\n",
    "##GitHub\n",
    "\n",
    "https://github.com/dayan3847/machine_learning/tree/master/dayan3847/binary_classification\n",
    "\n",
    "## Readme\n",
    "\n",
    "https://github.com/dayan3847/machine_learning/blob/master/dayan3847/binary_classification/README.md\n",
    "\n",
    "## Colab\n",
    "\n",
    "[![Open In Colab](https://colab.research.google.com/assets/colab-badge.svg)](https://colab.research.google.com/github/dayan3847/machine_learning/blob/master/dayan3847/binary_classification/colab/logistic_regression.ipynb)"
   ],
   "metadata": {
    "id": "V8W1cbDhzoHj"
   }
  },
  {
   "cell_type": "markdown",
   "source": [
    "# Practice 3: Multi Layer Perceptron\n",
    "\n",
    "##GitHub\n",
    "\n",
    "https://github.com/dayan3847/machine_learning/tree/master/dayan3847/multi_layer_perceptron\n",
    "\n",
    "## Colab\n",
    "\n",
    "[![Open In Colab](https://colab.research.google.com/assets/colab-badge.svg)](https://colab.research.google.com/github/dayan3847/machine_learning/blob/master/dayan3847/multi_layer_perceptron/colab/multi_layer_perceptron.ipynb)"
   ],
   "metadata": {
    "id": "u_vD97bADIic"
   }
  },
  {
   "cell_type": "markdown",
   "source": [
    "# Practice 4: Digit Detection\n",
    "\n",
    "Postal code recognition with convolutional network.\n",
    "\n",
    "##GitHub\n",
    "\n",
    "https://github.com/dayan3847/machine_learning/tree/master/dayan3847/digit_detection\n",
    "\n",
    "## Colab\n",
    "\n",
    "[![Open In Colab](https://colab.research.google.com/assets/colab-badge.svg)](https://colab.research.google.com/github/dayan3847/machine_learning/blob/master/dayan3847/digit_detection/colab/digit_detection.ipynb)"
   ],
   "metadata": {
    "id": "gyxpIRA4X9j1"
   }
  },
  {
   "cell_type": "markdown",
   "source": [
    "# Practice 5: Transfer Learning\n",
    "\n",
    "Practice Use of previously trained keras convolutional network.\n",
    "\n",
    "##GitHub\n",
    "\n",
    "https://github.com/dayan3847/machine_learning/tree/master/dayan3847/transfer_learning\n",
    "\n",
    "## Colab\n",
    "\n",
    "[![Open In Colab](https://colab.research.google.com/assets/colab-badge.svg)](https://colab.research.google.com/github/dayan3847/machine_learning/blob/master/dayan3847/transfer_learning/colab/transfer_learning.ipynb)"
   ],
   "metadata": {
    "id": "KPOI7Lv2a6ku"
   }
  },
  {
   "cell_type": "markdown",
   "source": [
    "# Practice 6: Ada Boost\n",
    "\n",
    "##GitHub\n",
    "\n",
    "https://github.com/dayan3847/machine_learning/tree/master/dayan3847/ada_boost\n",
    "\n",
    "## Colab\n",
    "\n",
    "[![Open In Colab](https://colab.research.google.com/assets/colab-badge.svg)](https://colab.research.google.com/github/dayan3847/machine_learning/blob/master/dayan3847/ada_boost/ada_boost.ipynb)"
   ],
   "metadata": {
    "id": "NDKoM73NbRsD"
   }
  },
  {
   "cell_type": "markdown",
   "source": [
    "# Practice 7: Bandit Machine\n",
    "\n",
    "##GitHub\n",
    "\n",
    "https://github.com/dayan3847/machine_learning/tree/master/dayan3847/bandit\n",
    "\n",
    "## Colab\n",
    "\n",
    "[![Open In Colab](https://colab.research.google.com/assets/colab-badge.svg)](https://colab.research.google.com/github/dayan3847/machine_learning/blob/master/dayan3847/bandit/colab/bandit.ipynb)"
   ],
   "metadata": {
    "id": "0-qapOWXbawC"
   }
  }
 ]
}
