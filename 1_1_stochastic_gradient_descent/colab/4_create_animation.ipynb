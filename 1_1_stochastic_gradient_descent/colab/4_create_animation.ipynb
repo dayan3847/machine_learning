{
 "cells": [
  {
   "cell_type": "markdown",
   "source": [
    "# Universidad Autónoma de Yucatán\n",
    "\n",
    "## Facultad de Matemáticas\n",
    "\n",
    "### Machine Learning\n",
    "\n",
    "**Teacher:** Dr. Victor Uc Cetina\n",
    "\n",
    "**Student:** Dayan Bravo Fraga"
   ],
   "metadata": {
    "collapsed": false
   }
  },
  {
   "cell_type": "markdown",
   "source": [
    "# Create Animation **(Step 4 of 4)**"
   ],
   "metadata": {
    "collapsed": false
   }
  },
  {
   "cell_type": "markdown",
   "source": [
    "## Clone and load project from GitHub (only for Colab)"
   ],
   "metadata": {
    "collapsed": false
   }
  },
  {
   "cell_type": "code",
   "execution_count": 1,
   "outputs": [
    {
     "name": "stdout",
     "output_type": "stream",
     "text": [
      "Is not running in Colab\n"
     ]
    }
   ],
   "source": [
    "import sys\n",
    "import os\n",
    "\n",
    "in_colab: bool = 'google.colab' in sys.modules\n",
    "if in_colab:\n",
    "    print('Is running in Colab')\n",
    "    if not os.path.isdir('machine_learning'):\n",
    "        print(\"Downloading project\")\n",
    "        get_ipython().system('git clone https://github.com/dayan3847/machine_learning')\n",
    "        sys.path.insert(0, './machine_learning/')\n",
    "    else:\n",
    "        get_ipython().system('git -C ./machine_learning fetch')\n",
    "        get_ipython().system('git -C ./machine_learning rebase')\n",
    "    if not os.path.isdir('reports'):\n",
    "        print('Copying reports folder')\n",
    "        get_ipython().system('cp -r ./machine_learning/dayan3847/stochastic_gradient_descent/colab/reports ./')\n",
    "else:\n",
    "    print('Is not running in Colab')"
   ],
   "metadata": {
    "collapsed": false,
    "ExecuteTime": {
     "end_time": "2023-05-23T04:33:26.385456933Z",
     "start_time": "2023-05-23T04:33:26.380158883Z"
    }
   }
  },
  {
   "cell_type": "markdown",
   "source": [
    "## Import libraries"
   ],
   "metadata": {
    "collapsed": false
   }
  },
  {
   "cell_type": "code",
   "execution_count": 2,
   "metadata": {
    "collapsed": true,
    "ExecuteTime": {
     "end_time": "2023-05-23T04:33:27.023460262Z",
     "start_time": "2023-05-23T04:33:26.380302869Z"
    }
   },
   "outputs": [],
   "source": [
    "import numpy as np\n",
    "import sympy as sp\n",
    "import pandas as pd\n",
    "import matplotlib.pyplot as plt\n",
    "import matplotlib.animation as animation"
   ]
  },
  {
   "cell_type": "markdown",
   "source": [
    "## Import History Generated"
   ],
   "metadata": {
    "collapsed": false
   }
  },
  {
   "cell_type": "markdown",
   "source": [
    "Paste the report number copied from the notebook:\n",
    "\n",
    "[![Open In Colab](https://colab.research.google.com/assets/colab-badge.svg)](https://colab.research.google.com/github/dayan3847/machine_learning/blob/master/dayan3847/stochastic_gradient_descent/colab/1_generate_artificial_data_points.ipynb)"
   ],
   "metadata": {
    "collapsed": false
   }
  },
  {
   "cell_type": "code",
   "execution_count": 3,
   "outputs": [],
   "source": [
    "report_number: str = '20230514144011475656'"
   ],
   "metadata": {
    "collapsed": false,
    "ExecuteTime": {
     "end_time": "2023-05-23T04:33:27.026015676Z",
     "start_time": "2023-05-23T04:33:27.023161199Z"
    }
   }
  },
  {
   "cell_type": "code",
   "execution_count": 4,
   "outputs": [],
   "source": [
    "data_points: np.array = np.loadtxt(f'reports/{report_number}/data_points.csv', delimiter=',').T"
   ],
   "metadata": {
    "collapsed": false,
    "ExecuteTime": {
     "end_time": "2023-05-23T04:33:27.030996764Z",
     "start_time": "2023-05-23T04:33:27.025706931Z"
    }
   }
  },
  {
   "cell_type": "code",
   "execution_count": 5,
   "outputs": [
    {
     "name": "stdout",
     "output_type": "stream",
     "text": [
      "\u001B[92mloading data... \u001B[0m\n",
      "\u001B[92mdata loaded\u001B[0m\n"
     ]
    }
   ],
   "source": [
    "print('\\033[92m' + 'loading data... ' + '\\033[0m')\n",
    "history_df: pd.DataFrame = pd.read_csv(f'reports/{report_number}/history.csv')\n",
    "print('\\033[92m' + 'data loaded' + '\\033[0m')"
   ],
   "metadata": {
    "collapsed": false,
    "ExecuteTime": {
     "end_time": "2023-05-23T04:33:27.112300397Z",
     "start_time": "2023-05-23T04:33:27.031399259Z"
    }
   }
  },
  {
   "cell_type": "code",
   "execution_count": 6,
   "outputs": [
    {
     "name": "stdout",
     "output_type": "stream",
     "text": [
      "\u001B[32mImported base function:\u001B[0m\n"
     ]
    },
    {
     "data": {
      "text/plain": "sin(2*pi*x)",
      "text/latex": "$\\displaystyle \\sin{\\left(2 \\pi x \\right)}$"
     },
     "execution_count": 6,
     "metadata": {},
     "output_type": "execute_result"
    }
   ],
   "source": [
    "function_str: str = open(f'reports/{report_number}/data_points_base_function.txt', 'r').read()\n",
    "function: sp.Expr = sp.sympify(function_str)\n",
    "print('\\033[32m' + 'Imported base function:' + '\\033[0m')\n",
    "function"
   ],
   "metadata": {
    "collapsed": false,
    "ExecuteTime": {
     "end_time": "2023-05-23T04:33:27.206664609Z",
     "start_time": "2023-05-23T04:33:27.066937640Z"
    }
   }
  },
  {
   "cell_type": "markdown",
   "source": [
    "## Create Animation"
   ],
   "metadata": {
    "collapsed": false
   }
  },
  {
   "cell_type": "code",
   "execution_count": 7,
   "outputs": [],
   "source": [
    "x_ = np.linspace(0, 1, 100)\n",
    "# Function Base\n",
    "y_function_base = [function.subs('x', x_i) for x_i in x_]\n",
    "history_polynomial = history_df['polynomial'].tolist()\n",
    "history_polynomial_best = history_df['polynomial_best'].tolist()"
   ],
   "metadata": {
    "collapsed": false,
    "ExecuteTime": {
     "end_time": "2023-05-23T04:33:27.444481177Z",
     "start_time": "2023-05-23T04:33:27.239325323Z"
    }
   }
  },
  {
   "cell_type": "code",
   "execution_count": 8,
   "outputs": [
    {
     "data": {
      "text/plain": "5001"
     },
     "execution_count": 8,
     "metadata": {},
     "output_type": "execute_result"
    }
   ],
   "source": [
    "total_frames: int = len(history_polynomial)\n",
    "# total_frames = 100\n",
    "total_frames"
   ],
   "metadata": {
    "collapsed": false,
    "ExecuteTime": {
     "end_time": "2023-05-23T04:33:27.488469448Z",
     "start_time": "2023-05-23T04:33:27.448150072Z"
    }
   }
  },
  {
   "cell_type": "code",
   "execution_count": 9,
   "outputs": [],
   "source": [
    "def update_plot(frame):\n",
    "    frame_i = frame\n",
    "    print('\\033[92m' + f'frame: {frame_i} of {total_frames}' + '\\033[0m')\n",
    "    plt.cla()\n",
    "\n",
    "    plt.title(\"Iteration: {}\".format(frame_i))\n",
    "    plt.xlabel('x')\n",
    "    plt.ylabel('y')\n",
    "    plt.axvline(color='black')\n",
    "    plt.axhline(color='black')\n",
    "\n",
    "    # Data Points\n",
    "    plt.scatter(data_points[0], data_points[1], color='gray', label='data points')\n",
    "    # Function Base\n",
    "    plt.plot(x_, y_function_base, label='function base', color='yellow', linestyle='--')\n",
    "    # Function Current\n",
    "    y_polynomial_current = [sp.sympify(history_polynomial[frame_i]).subs('x', x_i) for x_i in x_]\n",
    "    plt.plot(x_, y_polynomial_current, label='polynomial current', color='blue', linestyle='--')\n",
    "    # Function Best\n",
    "    y_polynomial_best = [sp.sympify(history_polynomial_best[frame_i]).subs('x', x_i) for x_i in x_]\n",
    "    plt.plot(x_, y_polynomial_best, label='polynomial best', color='green')\n",
    "\n",
    "    plt.legend()\n",
    "    plt.grid()\n",
    "    return plt.gcf()"
   ],
   "metadata": {
    "collapsed": false,
    "ExecuteTime": {
     "end_time": "2023-05-23T04:33:27.489697118Z",
     "start_time": "2023-05-23T04:33:27.488940135Z"
    }
   }
  },
  {
   "cell_type": "code",
   "execution_count": 10,
   "outputs": [
    {
     "name": "stderr",
     "output_type": "stream",
     "text": [
      "MovieWriter imagemagick unavailable; using Pillow instead.\n"
     ]
    },
    {
     "name": "stdout",
     "output_type": "stream",
     "text": [
      "\u001B[92mcreating animation... \u001B[0m\n",
      "\u001B[92mframe: 0 of 5001\u001B[0m\n",
      "\u001B[92mframe: 0 of 5001\u001B[0m\n",
      "\u001B[92mframe: 1 of 5001\u001B[0m\n",
      "\u001B[92mframe: 2 of 5001\u001B[0m\n",
      "\u001B[92mframe: 3 of 5001\u001B[0m\n",
      "\u001B[92mframe: 4 of 5001\u001B[0m\n",
      "\u001B[92mframe: 5 of 5001\u001B[0m\n",
      "\u001B[92mframe: 6 of 5001\u001B[0m\n",
      "\u001B[92mframe: 7 of 5001\u001B[0m\n",
      "\u001B[92mframe: 8 of 5001\u001B[0m\n",
      "\u001B[92mframe: 9 of 5001\u001B[0m\n",
      "\u001B[92mframe: 10 of 5001\u001B[0m\n",
      "\u001B[92mframe: 11 of 5001\u001B[0m\n",
      "\u001B[92mframe: 12 of 5001\u001B[0m\n",
      "\u001B[92mframe: 13 of 5001\u001B[0m\n",
      "\u001B[92mframe: 14 of 5001\u001B[0m\n",
      "\u001B[92mframe: 15 of 5001\u001B[0m\n",
      "\u001B[92mframe: 16 of 5001\u001B[0m\n",
      "\u001B[92mframe: 17 of 5001\u001B[0m\n",
      "\u001B[92mframe: 18 of 5001\u001B[0m\n",
      "\u001B[92mframe: 19 of 5001\u001B[0m\n",
      "\u001B[92mframe: 20 of 5001\u001B[0m\n",
      "\u001B[92mframe: 21 of 5001\u001B[0m\n",
      "\u001B[92mframe: 22 of 5001\u001B[0m\n",
      "\u001B[92mframe: 23 of 5001\u001B[0m\n",
      "\u001B[92mframe: 24 of 5001\u001B[0m\n",
      "\u001B[92mframe: 25 of 5001\u001B[0m\n",
      "\u001B[92mframe: 26 of 5001\u001B[0m\n",
      "\u001B[92mframe: 27 of 5001\u001B[0m\n",
      "\u001B[92mframe: 28 of 5001\u001B[0m\n",
      "\u001B[92mframe: 29 of 5001\u001B[0m\n",
      "\u001B[92mframe: 30 of 5001\u001B[0m\n",
      "\u001B[92mframe: 31 of 5001\u001B[0m\n",
      "\u001B[92mframe: 32 of 5001\u001B[0m\n",
      "\u001B[92mframe: 33 of 5001\u001B[0m\n",
      "\u001B[92mframe: 34 of 5001\u001B[0m\n",
      "\u001B[92mframe: 35 of 5001\u001B[0m\n",
      "\u001B[92mframe: 36 of 5001\u001B[0m\n",
      "\u001B[92mframe: 37 of 5001\u001B[0m\n",
      "\u001B[92mframe: 38 of 5001\u001B[0m\n",
      "\u001B[92mframe: 39 of 5001\u001B[0m\n",
      "\u001B[92mframe: 40 of 5001\u001B[0m\n",
      "\u001B[92mframe: 41 of 5001\u001B[0m\n",
      "\u001B[92mframe: 42 of 5001\u001B[0m\n",
      "\u001B[92mframe: 43 of 5001\u001B[0m\n",
      "\u001B[92mframe: 44 of 5001\u001B[0m\n",
      "\u001B[92mframe: 45 of 5001\u001B[0m\n",
      "\u001B[92mframe: 46 of 5001\u001B[0m\n",
      "\u001B[92mframe: 47 of 5001\u001B[0m\n",
      "\u001B[92mframe: 48 of 5001\u001B[0m\n",
      "\u001B[92mframe: 49 of 5001\u001B[0m\n",
      "\u001B[92mframe: 50 of 5001\u001B[0m\n",
      "\u001B[92mframe: 51 of 5001\u001B[0m\n",
      "\u001B[92mframe: 52 of 5001\u001B[0m\n",
      "\u001B[92mframe: 53 of 5001\u001B[0m\n",
      "\u001B[92mframe: 54 of 5001\u001B[0m\n",
      "\u001B[92mframe: 55 of 5001\u001B[0m\n",
      "\u001B[92mframe: 56 of 5001\u001B[0m\n",
      "\u001B[92mframe: 57 of 5001\u001B[0m\n",
      "\u001B[92mframe: 58 of 5001\u001B[0m\n",
      "\u001B[92mframe: 59 of 5001\u001B[0m\n",
      "\u001B[92mframe: 60 of 5001\u001B[0m\n",
      "\u001B[92mframe: 61 of 5001\u001B[0m\n",
      "\u001B[92mframe: 62 of 5001\u001B[0m\n",
      "\u001B[92mframe: 63 of 5001\u001B[0m\n",
      "\u001B[92mframe: 64 of 5001\u001B[0m\n",
      "\u001B[92mframe: 65 of 5001\u001B[0m\n",
      "\u001B[92mframe: 66 of 5001\u001B[0m\n",
      "\u001B[92mframe: 67 of 5001\u001B[0m\n",
      "\u001B[92mframe: 68 of 5001\u001B[0m\n",
      "\u001B[92mframe: 69 of 5001\u001B[0m\n",
      "\u001B[92mframe: 70 of 5001\u001B[0m\n",
      "\u001B[92mframe: 71 of 5001\u001B[0m\n"
     ]
    },
    {
     "ename": "KeyboardInterrupt",
     "evalue": "",
     "output_type": "error",
     "traceback": [
      "\u001B[0;31m---------------------------------------------------------------------------\u001B[0m",
      "\u001B[0;31mKeyboardInterrupt\u001B[0m                         Traceback (most recent call last)",
      "Cell \u001B[0;32mIn[10], line 5\u001B[0m\n\u001B[1;32m      3\u001B[0m ani \u001B[38;5;241m=\u001B[39m animation\u001B[38;5;241m.\u001B[39mFuncAnimation(fig, update_plot, frames\u001B[38;5;241m=\u001B[39mtotal_frames, interval\u001B[38;5;241m=\u001B[39m\u001B[38;5;241m1000\u001B[39m)\n\u001B[1;32m      4\u001B[0m \u001B[38;5;66;03m# ani.save(f'reports/{report_number}/animation.mp4', writer='ffmpeg')\u001B[39;00m\n\u001B[0;32m----> 5\u001B[0m \u001B[43mani\u001B[49m\u001B[38;5;241;43m.\u001B[39;49m\u001B[43msave\u001B[49m\u001B[43m(\u001B[49m\u001B[38;5;124;43mf\u001B[39;49m\u001B[38;5;124;43m'\u001B[39;49m\u001B[38;5;124;43mreports/\u001B[39;49m\u001B[38;5;132;43;01m{\u001B[39;49;00m\u001B[43mreport_number\u001B[49m\u001B[38;5;132;43;01m}\u001B[39;49;00m\u001B[38;5;124;43m/animation.gif\u001B[39;49m\u001B[38;5;124;43m'\u001B[39;49m\u001B[43m,\u001B[49m\u001B[43m \u001B[49m\u001B[43mwriter\u001B[49m\u001B[38;5;241;43m=\u001B[39;49m\u001B[38;5;124;43m'\u001B[39;49m\u001B[38;5;124;43mimagemagick\u001B[39;49m\u001B[38;5;124;43m'\u001B[39;49m\u001B[43m)\u001B[49m\n",
      "File \u001B[0;32m/usr/local/lib/python3.10/dist-packages/matplotlib/animation.py:1082\u001B[0m, in \u001B[0;36mAnimation.save\u001B[0;34m(self, filename, writer, fps, dpi, codec, bitrate, extra_args, metadata, extra_anim, savefig_kwargs, progress_callback)\u001B[0m\n\u001B[1;32m   1079\u001B[0m \u001B[38;5;28;01mfor\u001B[39;00m data \u001B[38;5;129;01min\u001B[39;00m \u001B[38;5;28mzip\u001B[39m(\u001B[38;5;241m*\u001B[39m[a\u001B[38;5;241m.\u001B[39mnew_saved_frame_seq() \u001B[38;5;28;01mfor\u001B[39;00m a \u001B[38;5;129;01min\u001B[39;00m all_anim]):\n\u001B[1;32m   1080\u001B[0m     \u001B[38;5;28;01mfor\u001B[39;00m anim, d \u001B[38;5;129;01min\u001B[39;00m \u001B[38;5;28mzip\u001B[39m(all_anim, data):\n\u001B[1;32m   1081\u001B[0m         \u001B[38;5;66;03m# TODO: See if turning off blit is really necessary\u001B[39;00m\n\u001B[0;32m-> 1082\u001B[0m         \u001B[43manim\u001B[49m\u001B[38;5;241;43m.\u001B[39;49m\u001B[43m_draw_next_frame\u001B[49m\u001B[43m(\u001B[49m\u001B[43md\u001B[49m\u001B[43m,\u001B[49m\u001B[43m \u001B[49m\u001B[43mblit\u001B[49m\u001B[38;5;241;43m=\u001B[39;49m\u001B[38;5;28;43;01mFalse\u001B[39;49;00m\u001B[43m)\u001B[49m\n\u001B[1;32m   1083\u001B[0m         \u001B[38;5;28;01mif\u001B[39;00m progress_callback \u001B[38;5;129;01mis\u001B[39;00m \u001B[38;5;129;01mnot\u001B[39;00m \u001B[38;5;28;01mNone\u001B[39;00m:\n\u001B[1;32m   1084\u001B[0m             progress_callback(frame_number, total_frames)\n",
      "File \u001B[0;32m/usr/local/lib/python3.10/dist-packages/matplotlib/animation.py:1117\u001B[0m, in \u001B[0;36mAnimation._draw_next_frame\u001B[0;34m(self, framedata, blit)\u001B[0m\n\u001B[1;32m   1113\u001B[0m \u001B[38;5;28;01mdef\u001B[39;00m \u001B[38;5;21m_draw_next_frame\u001B[39m(\u001B[38;5;28mself\u001B[39m, framedata, blit):\n\u001B[1;32m   1114\u001B[0m     \u001B[38;5;66;03m# Breaks down the drawing of the next frame into steps of pre- and\u001B[39;00m\n\u001B[1;32m   1115\u001B[0m     \u001B[38;5;66;03m# post- draw, as well as the drawing of the frame itself.\u001B[39;00m\n\u001B[1;32m   1116\u001B[0m     \u001B[38;5;28mself\u001B[39m\u001B[38;5;241m.\u001B[39m_pre_draw(framedata, blit)\n\u001B[0;32m-> 1117\u001B[0m     \u001B[38;5;28;43mself\u001B[39;49m\u001B[38;5;241;43m.\u001B[39;49m\u001B[43m_draw_frame\u001B[49m\u001B[43m(\u001B[49m\u001B[43mframedata\u001B[49m\u001B[43m)\u001B[49m\n\u001B[1;32m   1118\u001B[0m     \u001B[38;5;28mself\u001B[39m\u001B[38;5;241m.\u001B[39m_post_draw(framedata, blit)\n",
      "File \u001B[0;32m/usr/local/lib/python3.10/dist-packages/matplotlib/animation.py:1744\u001B[0m, in \u001B[0;36mFuncAnimation._draw_frame\u001B[0;34m(self, framedata)\u001B[0m\n\u001B[1;32m   1740\u001B[0m \u001B[38;5;28mself\u001B[39m\u001B[38;5;241m.\u001B[39m_save_seq \u001B[38;5;241m=\u001B[39m \u001B[38;5;28mself\u001B[39m\u001B[38;5;241m.\u001B[39m_save_seq[\u001B[38;5;241m-\u001B[39m\u001B[38;5;28mself\u001B[39m\u001B[38;5;241m.\u001B[39msave_count:]\n\u001B[1;32m   1742\u001B[0m \u001B[38;5;66;03m# Call the func with framedata and args. If blitting is desired,\u001B[39;00m\n\u001B[1;32m   1743\u001B[0m \u001B[38;5;66;03m# func needs to return a sequence of any artists that were modified.\u001B[39;00m\n\u001B[0;32m-> 1744\u001B[0m \u001B[38;5;28mself\u001B[39m\u001B[38;5;241m.\u001B[39m_drawn_artists \u001B[38;5;241m=\u001B[39m \u001B[38;5;28;43mself\u001B[39;49m\u001B[38;5;241;43m.\u001B[39;49m\u001B[43m_func\u001B[49m\u001B[43m(\u001B[49m\u001B[43mframedata\u001B[49m\u001B[43m,\u001B[49m\u001B[43m \u001B[49m\u001B[38;5;241;43m*\u001B[39;49m\u001B[38;5;28;43mself\u001B[39;49m\u001B[38;5;241;43m.\u001B[39;49m\u001B[43m_args\u001B[49m\u001B[43m)\u001B[49m\n\u001B[1;32m   1746\u001B[0m \u001B[38;5;28;01mif\u001B[39;00m \u001B[38;5;28mself\u001B[39m\u001B[38;5;241m.\u001B[39m_blit:\n\u001B[1;32m   1748\u001B[0m     err \u001B[38;5;241m=\u001B[39m \u001B[38;5;167;01mRuntimeError\u001B[39;00m(\u001B[38;5;124m'\u001B[39m\u001B[38;5;124mThe animation function must return a sequence \u001B[39m\u001B[38;5;124m'\u001B[39m\n\u001B[1;32m   1749\u001B[0m                        \u001B[38;5;124m'\u001B[39m\u001B[38;5;124mof Artist objects.\u001B[39m\u001B[38;5;124m'\u001B[39m)\n",
      "Cell \u001B[0;32mIn[9], line 17\u001B[0m, in \u001B[0;36mupdate_plot\u001B[0;34m(frame)\u001B[0m\n\u001B[1;32m     15\u001B[0m plt\u001B[38;5;241m.\u001B[39mplot(x_, y_function_base, label\u001B[38;5;241m=\u001B[39m\u001B[38;5;124m'\u001B[39m\u001B[38;5;124mfunction base\u001B[39m\u001B[38;5;124m'\u001B[39m, color\u001B[38;5;241m=\u001B[39m\u001B[38;5;124m'\u001B[39m\u001B[38;5;124myellow\u001B[39m\u001B[38;5;124m'\u001B[39m, linestyle\u001B[38;5;241m=\u001B[39m\u001B[38;5;124m'\u001B[39m\u001B[38;5;124m--\u001B[39m\u001B[38;5;124m'\u001B[39m)\n\u001B[1;32m     16\u001B[0m \u001B[38;5;66;03m# Function Current\u001B[39;00m\n\u001B[0;32m---> 17\u001B[0m y_polynomial_current \u001B[38;5;241m=\u001B[39m [sp\u001B[38;5;241m.\u001B[39msympify(history_polynomial[frame_i])\u001B[38;5;241m.\u001B[39msubs(\u001B[38;5;124m'\u001B[39m\u001B[38;5;124mx\u001B[39m\u001B[38;5;124m'\u001B[39m, x_i) \u001B[38;5;28;01mfor\u001B[39;00m x_i \u001B[38;5;129;01min\u001B[39;00m x_]\n\u001B[1;32m     18\u001B[0m plt\u001B[38;5;241m.\u001B[39mplot(x_, y_polynomial_current, label\u001B[38;5;241m=\u001B[39m\u001B[38;5;124m'\u001B[39m\u001B[38;5;124mpolynomial current\u001B[39m\u001B[38;5;124m'\u001B[39m, color\u001B[38;5;241m=\u001B[39m\u001B[38;5;124m'\u001B[39m\u001B[38;5;124mblue\u001B[39m\u001B[38;5;124m'\u001B[39m, linestyle\u001B[38;5;241m=\u001B[39m\u001B[38;5;124m'\u001B[39m\u001B[38;5;124m--\u001B[39m\u001B[38;5;124m'\u001B[39m)\n\u001B[1;32m     19\u001B[0m \u001B[38;5;66;03m# Function Best\u001B[39;00m\n",
      "Cell \u001B[0;32mIn[9], line 17\u001B[0m, in \u001B[0;36m<listcomp>\u001B[0;34m(.0)\u001B[0m\n\u001B[1;32m     15\u001B[0m plt\u001B[38;5;241m.\u001B[39mplot(x_, y_function_base, label\u001B[38;5;241m=\u001B[39m\u001B[38;5;124m'\u001B[39m\u001B[38;5;124mfunction base\u001B[39m\u001B[38;5;124m'\u001B[39m, color\u001B[38;5;241m=\u001B[39m\u001B[38;5;124m'\u001B[39m\u001B[38;5;124myellow\u001B[39m\u001B[38;5;124m'\u001B[39m, linestyle\u001B[38;5;241m=\u001B[39m\u001B[38;5;124m'\u001B[39m\u001B[38;5;124m--\u001B[39m\u001B[38;5;124m'\u001B[39m)\n\u001B[1;32m     16\u001B[0m \u001B[38;5;66;03m# Function Current\u001B[39;00m\n\u001B[0;32m---> 17\u001B[0m y_polynomial_current \u001B[38;5;241m=\u001B[39m [\u001B[43msp\u001B[49m\u001B[38;5;241;43m.\u001B[39;49m\u001B[43msympify\u001B[49m\u001B[43m(\u001B[49m\u001B[43mhistory_polynomial\u001B[49m\u001B[43m[\u001B[49m\u001B[43mframe_i\u001B[49m\u001B[43m]\u001B[49m\u001B[43m)\u001B[49m\u001B[38;5;241;43m.\u001B[39;49m\u001B[43msubs\u001B[49m\u001B[43m(\u001B[49m\u001B[38;5;124;43m'\u001B[39;49m\u001B[38;5;124;43mx\u001B[39;49m\u001B[38;5;124;43m'\u001B[39;49m\u001B[43m,\u001B[49m\u001B[43m \u001B[49m\u001B[43mx_i\u001B[49m\u001B[43m)\u001B[49m \u001B[38;5;28;01mfor\u001B[39;00m x_i \u001B[38;5;129;01min\u001B[39;00m x_]\n\u001B[1;32m     18\u001B[0m plt\u001B[38;5;241m.\u001B[39mplot(x_, y_polynomial_current, label\u001B[38;5;241m=\u001B[39m\u001B[38;5;124m'\u001B[39m\u001B[38;5;124mpolynomial current\u001B[39m\u001B[38;5;124m'\u001B[39m, color\u001B[38;5;241m=\u001B[39m\u001B[38;5;124m'\u001B[39m\u001B[38;5;124mblue\u001B[39m\u001B[38;5;124m'\u001B[39m, linestyle\u001B[38;5;241m=\u001B[39m\u001B[38;5;124m'\u001B[39m\u001B[38;5;124m--\u001B[39m\u001B[38;5;124m'\u001B[39m)\n\u001B[1;32m     19\u001B[0m \u001B[38;5;66;03m# Function Best\u001B[39;00m\n",
      "File \u001B[0;32m/usr/local/lib/python3.10/dist-packages/sympy/core/basic.py:997\u001B[0m, in \u001B[0;36mBasic.subs\u001B[0;34m(self, *args, **kwargs)\u001B[0m\n\u001B[1;32m    995\u001B[0m rv \u001B[38;5;241m=\u001B[39m \u001B[38;5;28mself\u001B[39m\n\u001B[1;32m    996\u001B[0m \u001B[38;5;28;01mfor\u001B[39;00m old, new \u001B[38;5;129;01min\u001B[39;00m sequence:\n\u001B[0;32m--> 997\u001B[0m     rv \u001B[38;5;241m=\u001B[39m \u001B[43mrv\u001B[49m\u001B[38;5;241;43m.\u001B[39;49m\u001B[43m_subs\u001B[49m\u001B[43m(\u001B[49m\u001B[43mold\u001B[49m\u001B[43m,\u001B[49m\u001B[43m \u001B[49m\u001B[43mnew\u001B[49m\u001B[43m,\u001B[49m\u001B[43m \u001B[49m\u001B[38;5;241;43m*\u001B[39;49m\u001B[38;5;241;43m*\u001B[39;49m\u001B[43mkwargs\u001B[49m\u001B[43m)\u001B[49m\n\u001B[1;32m    998\u001B[0m     \u001B[38;5;28;01mif\u001B[39;00m \u001B[38;5;129;01mnot\u001B[39;00m \u001B[38;5;28misinstance\u001B[39m(rv, Basic):\n\u001B[1;32m    999\u001B[0m         \u001B[38;5;28;01mbreak\u001B[39;00m\n",
      "File \u001B[0;32m/usr/local/lib/python3.10/dist-packages/sympy/core/cache.py:70\u001B[0m, in \u001B[0;36m__cacheit.<locals>.func_wrapper.<locals>.wrapper\u001B[0;34m(*args, **kwargs)\u001B[0m\n\u001B[1;32m     67\u001B[0m \u001B[38;5;129m@wraps\u001B[39m(func)\n\u001B[1;32m     68\u001B[0m \u001B[38;5;28;01mdef\u001B[39;00m \u001B[38;5;21mwrapper\u001B[39m(\u001B[38;5;241m*\u001B[39margs, \u001B[38;5;241m*\u001B[39m\u001B[38;5;241m*\u001B[39mkwargs):\n\u001B[1;32m     69\u001B[0m     \u001B[38;5;28;01mtry\u001B[39;00m:\n\u001B[0;32m---> 70\u001B[0m         retval \u001B[38;5;241m=\u001B[39m \u001B[43mcfunc\u001B[49m\u001B[43m(\u001B[49m\u001B[38;5;241;43m*\u001B[39;49m\u001B[43margs\u001B[49m\u001B[43m,\u001B[49m\u001B[43m \u001B[49m\u001B[38;5;241;43m*\u001B[39;49m\u001B[38;5;241;43m*\u001B[39;49m\u001B[43mkwargs\u001B[49m\u001B[43m)\u001B[49m\n\u001B[1;32m     71\u001B[0m     \u001B[38;5;28;01mexcept\u001B[39;00m \u001B[38;5;167;01mTypeError\u001B[39;00m \u001B[38;5;28;01mas\u001B[39;00m e:\n\u001B[1;32m     72\u001B[0m         \u001B[38;5;28;01mif\u001B[39;00m \u001B[38;5;129;01mnot\u001B[39;00m e\u001B[38;5;241m.\u001B[39margs \u001B[38;5;129;01mor\u001B[39;00m \u001B[38;5;129;01mnot\u001B[39;00m e\u001B[38;5;241m.\u001B[39margs[\u001B[38;5;241m0\u001B[39m]\u001B[38;5;241m.\u001B[39mstartswith(\u001B[38;5;124m'\u001B[39m\u001B[38;5;124munhashable type:\u001B[39m\u001B[38;5;124m'\u001B[39m):\n",
      "File \u001B[0;32m/usr/local/lib/python3.10/dist-packages/sympy/core/basic.py:1111\u001B[0m, in \u001B[0;36mBasic._subs\u001B[0;34m(self, old, new, **hints)\u001B[0m\n\u001B[1;32m   1109\u001B[0m rv \u001B[38;5;241m=\u001B[39m \u001B[38;5;28mself\u001B[39m\u001B[38;5;241m.\u001B[39m_eval_subs(old, new)\n\u001B[1;32m   1110\u001B[0m \u001B[38;5;28;01mif\u001B[39;00m rv \u001B[38;5;129;01mis\u001B[39;00m \u001B[38;5;28;01mNone\u001B[39;00m:\n\u001B[0;32m-> 1111\u001B[0m     rv \u001B[38;5;241m=\u001B[39m \u001B[43mfallback\u001B[49m\u001B[43m(\u001B[49m\u001B[38;5;28;43mself\u001B[39;49m\u001B[43m,\u001B[49m\u001B[43m \u001B[49m\u001B[43mold\u001B[49m\u001B[43m,\u001B[49m\u001B[43m \u001B[49m\u001B[43mnew\u001B[49m\u001B[43m)\u001B[49m\n\u001B[1;32m   1112\u001B[0m \u001B[38;5;28;01mreturn\u001B[39;00m rv\n",
      "File \u001B[0;32m/usr/local/lib/python3.10/dist-packages/sympy/core/basic.py:1083\u001B[0m, in \u001B[0;36mBasic._subs.<locals>.fallback\u001B[0;34m(self, old, new)\u001B[0m\n\u001B[1;32m   1081\u001B[0m \u001B[38;5;28;01mif\u001B[39;00m \u001B[38;5;129;01mnot\u001B[39;00m \u001B[38;5;28mhasattr\u001B[39m(arg, \u001B[38;5;124m'\u001B[39m\u001B[38;5;124m_eval_subs\u001B[39m\u001B[38;5;124m'\u001B[39m):\n\u001B[1;32m   1082\u001B[0m     \u001B[38;5;28;01mcontinue\u001B[39;00m\n\u001B[0;32m-> 1083\u001B[0m arg \u001B[38;5;241m=\u001B[39m \u001B[43marg\u001B[49m\u001B[38;5;241;43m.\u001B[39;49m\u001B[43m_subs\u001B[49m\u001B[43m(\u001B[49m\u001B[43mold\u001B[49m\u001B[43m,\u001B[49m\u001B[43m \u001B[49m\u001B[43mnew\u001B[49m\u001B[43m,\u001B[49m\u001B[43m \u001B[49m\u001B[38;5;241;43m*\u001B[39;49m\u001B[38;5;241;43m*\u001B[39;49m\u001B[43mhints\u001B[49m\u001B[43m)\u001B[49m\n\u001B[1;32m   1084\u001B[0m \u001B[38;5;28;01mif\u001B[39;00m \u001B[38;5;129;01mnot\u001B[39;00m _aresame(arg, args[i]):\n\u001B[1;32m   1085\u001B[0m     hit \u001B[38;5;241m=\u001B[39m \u001B[38;5;28;01mTrue\u001B[39;00m\n",
      "File \u001B[0;32m/usr/local/lib/python3.10/dist-packages/sympy/core/cache.py:70\u001B[0m, in \u001B[0;36m__cacheit.<locals>.func_wrapper.<locals>.wrapper\u001B[0;34m(*args, **kwargs)\u001B[0m\n\u001B[1;32m     67\u001B[0m \u001B[38;5;129m@wraps\u001B[39m(func)\n\u001B[1;32m     68\u001B[0m \u001B[38;5;28;01mdef\u001B[39;00m \u001B[38;5;21mwrapper\u001B[39m(\u001B[38;5;241m*\u001B[39margs, \u001B[38;5;241m*\u001B[39m\u001B[38;5;241m*\u001B[39mkwargs):\n\u001B[1;32m     69\u001B[0m     \u001B[38;5;28;01mtry\u001B[39;00m:\n\u001B[0;32m---> 70\u001B[0m         retval \u001B[38;5;241m=\u001B[39m \u001B[43mcfunc\u001B[49m\u001B[43m(\u001B[49m\u001B[38;5;241;43m*\u001B[39;49m\u001B[43margs\u001B[49m\u001B[43m,\u001B[49m\u001B[43m \u001B[49m\u001B[38;5;241;43m*\u001B[39;49m\u001B[38;5;241;43m*\u001B[39;49m\u001B[43mkwargs\u001B[49m\u001B[43m)\u001B[49m\n\u001B[1;32m     71\u001B[0m     \u001B[38;5;28;01mexcept\u001B[39;00m \u001B[38;5;167;01mTypeError\u001B[39;00m \u001B[38;5;28;01mas\u001B[39;00m e:\n\u001B[1;32m     72\u001B[0m         \u001B[38;5;28;01mif\u001B[39;00m \u001B[38;5;129;01mnot\u001B[39;00m e\u001B[38;5;241m.\u001B[39margs \u001B[38;5;129;01mor\u001B[39;00m \u001B[38;5;129;01mnot\u001B[39;00m e\u001B[38;5;241m.\u001B[39margs[\u001B[38;5;241m0\u001B[39m]\u001B[38;5;241m.\u001B[39mstartswith(\u001B[38;5;124m'\u001B[39m\u001B[38;5;124munhashable type:\u001B[39m\u001B[38;5;124m'\u001B[39m):\n",
      "File \u001B[0;32m/usr/local/lib/python3.10/dist-packages/sympy/core/basic.py:1111\u001B[0m, in \u001B[0;36mBasic._subs\u001B[0;34m(self, old, new, **hints)\u001B[0m\n\u001B[1;32m   1109\u001B[0m rv \u001B[38;5;241m=\u001B[39m \u001B[38;5;28mself\u001B[39m\u001B[38;5;241m.\u001B[39m_eval_subs(old, new)\n\u001B[1;32m   1110\u001B[0m \u001B[38;5;28;01mif\u001B[39;00m rv \u001B[38;5;129;01mis\u001B[39;00m \u001B[38;5;28;01mNone\u001B[39;00m:\n\u001B[0;32m-> 1111\u001B[0m     rv \u001B[38;5;241m=\u001B[39m \u001B[43mfallback\u001B[49m\u001B[43m(\u001B[49m\u001B[38;5;28;43mself\u001B[39;49m\u001B[43m,\u001B[49m\u001B[43m \u001B[49m\u001B[43mold\u001B[49m\u001B[43m,\u001B[49m\u001B[43m \u001B[49m\u001B[43mnew\u001B[49m\u001B[43m)\u001B[49m\n\u001B[1;32m   1112\u001B[0m \u001B[38;5;28;01mreturn\u001B[39;00m rv\n",
      "File \u001B[0;32m/usr/local/lib/python3.10/dist-packages/sympy/core/basic.py:1083\u001B[0m, in \u001B[0;36mBasic._subs.<locals>.fallback\u001B[0;34m(self, old, new)\u001B[0m\n\u001B[1;32m   1081\u001B[0m \u001B[38;5;28;01mif\u001B[39;00m \u001B[38;5;129;01mnot\u001B[39;00m \u001B[38;5;28mhasattr\u001B[39m(arg, \u001B[38;5;124m'\u001B[39m\u001B[38;5;124m_eval_subs\u001B[39m\u001B[38;5;124m'\u001B[39m):\n\u001B[1;32m   1082\u001B[0m     \u001B[38;5;28;01mcontinue\u001B[39;00m\n\u001B[0;32m-> 1083\u001B[0m arg \u001B[38;5;241m=\u001B[39m \u001B[43marg\u001B[49m\u001B[38;5;241;43m.\u001B[39;49m\u001B[43m_subs\u001B[49m\u001B[43m(\u001B[49m\u001B[43mold\u001B[49m\u001B[43m,\u001B[49m\u001B[43m \u001B[49m\u001B[43mnew\u001B[49m\u001B[43m,\u001B[49m\u001B[43m \u001B[49m\u001B[38;5;241;43m*\u001B[39;49m\u001B[38;5;241;43m*\u001B[39;49m\u001B[43mhints\u001B[49m\u001B[43m)\u001B[49m\n\u001B[1;32m   1084\u001B[0m \u001B[38;5;28;01mif\u001B[39;00m \u001B[38;5;129;01mnot\u001B[39;00m _aresame(arg, args[i]):\n\u001B[1;32m   1085\u001B[0m     hit \u001B[38;5;241m=\u001B[39m \u001B[38;5;28;01mTrue\u001B[39;00m\n",
      "File \u001B[0;32m/usr/local/lib/python3.10/dist-packages/sympy/core/cache.py:70\u001B[0m, in \u001B[0;36m__cacheit.<locals>.func_wrapper.<locals>.wrapper\u001B[0;34m(*args, **kwargs)\u001B[0m\n\u001B[1;32m     67\u001B[0m \u001B[38;5;129m@wraps\u001B[39m(func)\n\u001B[1;32m     68\u001B[0m \u001B[38;5;28;01mdef\u001B[39;00m \u001B[38;5;21mwrapper\u001B[39m(\u001B[38;5;241m*\u001B[39margs, \u001B[38;5;241m*\u001B[39m\u001B[38;5;241m*\u001B[39mkwargs):\n\u001B[1;32m     69\u001B[0m     \u001B[38;5;28;01mtry\u001B[39;00m:\n\u001B[0;32m---> 70\u001B[0m         retval \u001B[38;5;241m=\u001B[39m \u001B[43mcfunc\u001B[49m\u001B[43m(\u001B[49m\u001B[38;5;241;43m*\u001B[39;49m\u001B[43margs\u001B[49m\u001B[43m,\u001B[49m\u001B[43m \u001B[49m\u001B[38;5;241;43m*\u001B[39;49m\u001B[38;5;241;43m*\u001B[39;49m\u001B[43mkwargs\u001B[49m\u001B[43m)\u001B[49m\n\u001B[1;32m     71\u001B[0m     \u001B[38;5;28;01mexcept\u001B[39;00m \u001B[38;5;167;01mTypeError\u001B[39;00m \u001B[38;5;28;01mas\u001B[39;00m e:\n\u001B[1;32m     72\u001B[0m         \u001B[38;5;28;01mif\u001B[39;00m \u001B[38;5;129;01mnot\u001B[39;00m e\u001B[38;5;241m.\u001B[39margs \u001B[38;5;129;01mor\u001B[39;00m \u001B[38;5;129;01mnot\u001B[39;00m e\u001B[38;5;241m.\u001B[39margs[\u001B[38;5;241m0\u001B[39m]\u001B[38;5;241m.\u001B[39mstartswith(\u001B[38;5;124m'\u001B[39m\u001B[38;5;124munhashable type:\u001B[39m\u001B[38;5;124m'\u001B[39m):\n",
      "File \u001B[0;32m/usr/local/lib/python3.10/dist-packages/sympy/core/basic.py:1109\u001B[0m, in \u001B[0;36mBasic._subs\u001B[0;34m(self, old, new, **hints)\u001B[0m\n\u001B[1;32m   1106\u001B[0m \u001B[38;5;28;01mif\u001B[39;00m _aresame(\u001B[38;5;28mself\u001B[39m, old):\n\u001B[1;32m   1107\u001B[0m     \u001B[38;5;28;01mreturn\u001B[39;00m new\n\u001B[0;32m-> 1109\u001B[0m rv \u001B[38;5;241m=\u001B[39m \u001B[38;5;28;43mself\u001B[39;49m\u001B[38;5;241;43m.\u001B[39;49m\u001B[43m_eval_subs\u001B[49m\u001B[43m(\u001B[49m\u001B[43mold\u001B[49m\u001B[43m,\u001B[49m\u001B[43m \u001B[49m\u001B[43mnew\u001B[49m\u001B[43m)\u001B[49m\n\u001B[1;32m   1110\u001B[0m \u001B[38;5;28;01mif\u001B[39;00m rv \u001B[38;5;129;01mis\u001B[39;00m \u001B[38;5;28;01mNone\u001B[39;00m:\n\u001B[1;32m   1111\u001B[0m     rv \u001B[38;5;241m=\u001B[39m fallback(\u001B[38;5;28mself\u001B[39m, old, new)\n",
      "File \u001B[0;32m/usr/local/lib/python3.10/dist-packages/sympy/core/power.py:907\u001B[0m, in \u001B[0;36mPow._eval_subs\u001B[0;34m(self, old, new)\u001B[0m\n\u001B[1;32m    905\u001B[0m         \u001B[38;5;28;01mreturn\u001B[39;00m new(\u001B[38;5;28mself\u001B[39m\u001B[38;5;241m.\u001B[39mexp\u001B[38;5;241m.\u001B[39m_subs(old, new))\n\u001B[1;32m    906\u001B[0m     \u001B[38;5;28;01melse\u001B[39;00m:\n\u001B[0;32m--> 907\u001B[0m         \u001B[38;5;28;01mreturn\u001B[39;00m new\u001B[38;5;241m*\u001B[39m\u001B[38;5;241m*\u001B[39m\u001B[38;5;28;43mself\u001B[39;49m\u001B[38;5;241;43m.\u001B[39;49m\u001B[43mexp\u001B[49m\u001B[38;5;241;43m.\u001B[39;49m\u001B[43m_subs\u001B[49m\u001B[43m(\u001B[49m\u001B[43mold\u001B[49m\u001B[43m,\u001B[49m\u001B[43m \u001B[49m\u001B[43mnew\u001B[49m\u001B[43m)\u001B[49m\n\u001B[1;32m    909\u001B[0m \u001B[38;5;66;03m# issue 10829: (4**x - 3*y + 2).subs(2**x, y) -> y**2 - 3*y + 2\u001B[39;00m\n\u001B[1;32m    910\u001B[0m \u001B[38;5;28;01mif\u001B[39;00m \u001B[38;5;28misinstance\u001B[39m(old, \u001B[38;5;28mself\u001B[39m\u001B[38;5;241m.\u001B[39mfunc) \u001B[38;5;129;01mand\u001B[39;00m \u001B[38;5;28mself\u001B[39m\u001B[38;5;241m.\u001B[39mexp \u001B[38;5;241m==\u001B[39m old\u001B[38;5;241m.\u001B[39mexp:\n",
      "File \u001B[0;32m/usr/local/lib/python3.10/dist-packages/sympy/core/cache.py:70\u001B[0m, in \u001B[0;36m__cacheit.<locals>.func_wrapper.<locals>.wrapper\u001B[0;34m(*args, **kwargs)\u001B[0m\n\u001B[1;32m     67\u001B[0m \u001B[38;5;129m@wraps\u001B[39m(func)\n\u001B[1;32m     68\u001B[0m \u001B[38;5;28;01mdef\u001B[39;00m \u001B[38;5;21mwrapper\u001B[39m(\u001B[38;5;241m*\u001B[39margs, \u001B[38;5;241m*\u001B[39m\u001B[38;5;241m*\u001B[39mkwargs):\n\u001B[1;32m     69\u001B[0m     \u001B[38;5;28;01mtry\u001B[39;00m:\n\u001B[0;32m---> 70\u001B[0m         retval \u001B[38;5;241m=\u001B[39m \u001B[43mcfunc\u001B[49m\u001B[43m(\u001B[49m\u001B[38;5;241;43m*\u001B[39;49m\u001B[43margs\u001B[49m\u001B[43m,\u001B[49m\u001B[43m \u001B[49m\u001B[38;5;241;43m*\u001B[39;49m\u001B[38;5;241;43m*\u001B[39;49m\u001B[43mkwargs\u001B[49m\u001B[43m)\u001B[49m\n\u001B[1;32m     71\u001B[0m     \u001B[38;5;28;01mexcept\u001B[39;00m \u001B[38;5;167;01mTypeError\u001B[39;00m \u001B[38;5;28;01mas\u001B[39;00m e:\n\u001B[1;32m     72\u001B[0m         \u001B[38;5;28;01mif\u001B[39;00m \u001B[38;5;129;01mnot\u001B[39;00m e\u001B[38;5;241m.\u001B[39margs \u001B[38;5;129;01mor\u001B[39;00m \u001B[38;5;129;01mnot\u001B[39;00m e\u001B[38;5;241m.\u001B[39margs[\u001B[38;5;241m0\u001B[39m]\u001B[38;5;241m.\u001B[39mstartswith(\u001B[38;5;124m'\u001B[39m\u001B[38;5;124munhashable type:\u001B[39m\u001B[38;5;124m'\u001B[39m):\n",
      "File \u001B[0;32m/usr/local/lib/python3.10/dist-packages/sympy/core/numbers.py:2284\u001B[0m, in \u001B[0;36mInteger.__hash__\u001B[0;34m(self)\u001B[0m\n\u001B[1;32m   2281\u001B[0m         \u001B[38;5;28;01mreturn\u001B[39;00m _sympify(\u001B[38;5;28mself\u001B[39m\u001B[38;5;241m.\u001B[39mp \u001B[38;5;241m<\u001B[39m\u001B[38;5;241m=\u001B[39m other\u001B[38;5;241m.\u001B[39mp)\n\u001B[1;32m   2282\u001B[0m     \u001B[38;5;28;01mreturn\u001B[39;00m Rational\u001B[38;5;241m.\u001B[39m\u001B[38;5;21m__le__\u001B[39m(\u001B[38;5;28mself\u001B[39m, other)\n\u001B[0;32m-> 2284\u001B[0m \u001B[38;5;28;01mdef\u001B[39;00m \u001B[38;5;21m__hash__\u001B[39m(\u001B[38;5;28mself\u001B[39m):\n\u001B[1;32m   2285\u001B[0m     \u001B[38;5;28;01mreturn\u001B[39;00m \u001B[38;5;28mhash\u001B[39m(\u001B[38;5;28mself\u001B[39m\u001B[38;5;241m.\u001B[39mp)\n\u001B[1;32m   2287\u001B[0m \u001B[38;5;28;01mdef\u001B[39;00m \u001B[38;5;21m__index__\u001B[39m(\u001B[38;5;28mself\u001B[39m):\n",
      "\u001B[0;31mKeyboardInterrupt\u001B[0m: "
     ]
    },
    {
     "name": "stdout",
     "output_type": "stream",
     "text": [
      "\u001B[92mframe: 0 of 5001\u001B[0m\n"
     ]
    },
    {
     "data": {
      "text/plain": "<Figure size 640x480 with 1 Axes>",
      "image/png": "[encoded data removed]"
     },
     "metadata": {},
     "output_type": "display_data"
    }
   ],
   "source": [
    "print('\\033[92m' + 'creating animation... ' + '\\033[0m')\n",
    "fig = plt.figure()\n",
    "ani = animation.FuncAnimation(fig, update_plot, frames=total_frames, interval=1000)\n",
    "# ani.save(f'reports/{report_number}/animation.mp4', writer='ffmpeg')\n",
    "ani.save(f'reports/{report_number}/animation.gif', writer='imagemagick')"
   ],
   "metadata": {
    "collapsed": false,
    "ExecuteTime": {
     "end_time": "2023-05-23T04:34:21.132907941Z",
     "start_time": "2023-05-23T04:33:27.489160829Z"
    }
   }
  }
 ],
 "metadata": {
  "kernelspec": {
   "display_name": "Python 3",
   "language": "python",
   "name": "python3"
  },
  "language_info": {
   "codemirror_mode": {
    "name": "ipython",
    "version": 2
   },
   "file_extension": ".py",
   "mimetype": "text/x-python",
   "name": "python",
   "nbconvert_exporter": "python",
   "pygments_lexer": "ipython2",
   "version": "2.7.6"
  }
 },
 "nbformat": 4,
 "nbformat_minor": 0
}
