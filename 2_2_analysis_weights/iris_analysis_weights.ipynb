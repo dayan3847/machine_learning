{
 "cells": [
  {
   "cell_type": "markdown",
   "source": [
    "# Machine Learning\n",
    "\n",
    "### <font color='orange'>Universidad Autónoma de Yucatán</font> _Facultad de Matemáticas_\n",
    "\n",
    "**Teacher:** Dr. Victor Uc Cetina <[victoruccetina@gmail.com](mailto:victoruccetina@gmail.com)>\n",
    "\n",
    "**Student:** Ing. Dayan Bravo Fraga <[dayan3847@gmail.com](mailto:dayan3847@gmail.com)>"
   ],
   "metadata": {
    "collapsed": false
   },
   "id": "5d98d7ce913b8d64"
  },
  {
   "cell_type": "code",
   "execution_count": null,
   "id": "initial_id",
   "metadata": {
    "collapsed": true
   },
   "outputs": [],
   "source": [
    "import time\n",
    "import matplotlib.pyplot as plt\n",
    "from sklearn import datasets\n",
    "from tensorflow import keras"
   ]
  },
  {
   "cell_type": "code",
   "execution_count": null,
   "outputs": [],
   "source": [
    "def load_iris():\n",
    "    _dataset_iris = datasets.load_iris()\n",
    "    _x = _dataset_iris.data\n",
    "    _iris_target = _dataset_iris.target\n",
    "    _y = keras.utils.to_categorical(_iris_target, dtype='uint8')\n",
    "    return _x, _y\n",
    "\n",
    "\n",
    "x, y = load_iris()\n",
    "x.shape, y.shape"
   ],
   "metadata": {
    "collapsed": false
   },
   "id": "3726d7285755c924"
  },
  {
   "cell_type": "code",
   "execution_count": null,
   "outputs": [],
   "source": [
    "weights_list = []"
   ],
   "metadata": {
    "collapsed": false
   },
   "id": "1fef0cbf705b6dbb"
  },
  {
   "cell_type": "code",
   "execution_count": null,
   "outputs": [],
   "source": [
    "class WeightsCollectorCallback(keras.callbacks.Callback):\n",
    "    def on_epoch_end(self, epoch, logs=None):\n",
    "        global weights_list\n",
    "        i_weights = self.model.get_weights()\n",
    "        weights_list.append(i_weights)"
   ],
   "metadata": {
    "collapsed": false
   },
   "id": "ab273c3f60b2329b"
  },
  {
   "cell_type": "code",
   "execution_count": null,
   "outputs": [],
   "source": [
    "def plot_weights(_activation: str, optimizer_name: str):\n",
    "    global weights_list\n",
    "    rr = range(len(weights_list))\n",
    "    _layers_count = len(weights_list[0]) // 2\n",
    "    plt.title('\"Weights\" L:{} A:{} O:{}'.format(_layers_count, _activation, optimizer_name))\n",
    "    for l in range(_layers_count):  # layers\n",
    "        l *= 2\n",
    "        b = l + 1\n",
    "        _in, _out = weights_list[0][l].shape\n",
    "        for _i in range(_in):  # inputs\n",
    "            for _o in range(_out):  # outputs\n",
    "                plt.plot([weights_list[i][l][_i][_o] for i in rr])\n",
    "                plt.plot([weights_list[i][b][_o] for i in rr])\n",
    "    plt.savefig(f'img/weights_l_{_layers_count}_a_{_activation}_o_{optimizer_name}.png'.lower(), dpi=200)\n",
    "    plt.show()"
   ],
   "metadata": {
    "collapsed": false
   },
   "id": "e53f432264368257"
  },
  {
   "cell_type": "code",
   "execution_count": null,
   "outputs": [],
   "source": [
    "def experiment(_layers_count: int, _activation: str, _optimizer):\n",
    "    global x, y, weights_list\n",
    "    weights_list = []\n",
    "    input_shape = x.shape[1:]  # (4,)\n",
    "    output_neurons = y.shape[1]  # 3\n",
    "    model_layers = [keras.layers.Dense(2, activation=_activation, name='layer_0', input_shape=input_shape)]\n",
    "    for i in range(1, _layers_count - 1):\n",
    "        model_layers.append(keras.layers.Dense(2, activation=_activation, name=f'layer_{i}'))\n",
    "    model_layers.append(keras.layers.Dense(output_neurons, activation='softmax', name='layer_out'))\n",
    "    model = keras.Sequential(model_layers)\n",
    "    model.summary()\n",
    "    print(len(model_layers))\n",
    "    model.compile(\n",
    "        optimizer=_optimizer,\n",
    "        loss=keras.losses.MeanSquaredError()\n",
    "    )\n",
    "    model.fit(x, y, epochs=100, callbacks=[WeightsCollectorCallback()])\n",
    "    plot_weights(_activation, _optimizer.name)"
   ],
   "metadata": {
    "collapsed": false
   },
   "id": "18797ca08663812c"
  },
  {
   "cell_type": "code",
   "execution_count": null,
   "outputs": [],
   "source": [
    "# > * Número de capas: {2,3,4,5,6}\n",
    "# > * Función de activación: {Sigmoid, ReLu, Tanh}\n",
    "# > * Optimizer: {SGD, Adam}\n",
    "\n",
    "e_layers_count = [2, 3, 4, 5, 6]\n",
    "e_activations = ['sigmoid', 'relu', 'tanh']\n",
    "\n",
    "for lc in e_layers_count:\n",
    "    for a in e_activations:\n",
    "        time_start = time.time()\n",
    "        experiment(lc, a, keras.optimizers.SGD(learning_rate=0.03))\n",
    "        experiment(lc, a, keras.optimizers.Adam(learning_rate=0.03))\n",
    "        print('\\033[92m')\n",
    "        print(f'Experimento con {lc} capas, {a} y SGD: {time.time() - time_start} segundos')\n",
    "        print('\\033[0m')"
   ],
   "metadata": {
    "collapsed": false
   },
   "id": "60751e8be4e9f4d5"
  }
 ],
 "metadata": {
  "kernelspec": {
   "display_name": "Python 3",
   "language": "python",
   "name": "python3"
  },
  "language_info": {
   "codemirror_mode": {
    "name": "ipython",
    "version": 2
   },
   "file_extension": ".py",
   "mimetype": "text/x-python",
   "name": "python",
   "nbconvert_exporter": "python",
   "pygments_lexer": "ipython2",
   "version": "2.7.6"
  }
 },
 "nbformat": 4,
 "nbformat_minor": 5
}
