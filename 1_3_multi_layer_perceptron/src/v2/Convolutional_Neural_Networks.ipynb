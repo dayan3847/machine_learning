{
 "nbformat": 4,
 "nbformat_minor": 0,
 "metadata": {
  "colab": {
   "provenance": []
  },
  "kernelspec": {
   "name": "python3",
   "language": "python",
   "display_name": "Python 3 (ipykernel)"
  },
  "language_info": {
   "name": "python"
  }
 },
 "cells": [
  {
   "cell_type": "code",
   "outputs": [],
   "source": [
    "import numpy as np\n"
   ],
   "metadata": {
    "id": "gIajuUr8_zzM",
    "ExecuteTime": {
     "end_time": "2024-03-12T01:43:15.015193414Z",
     "start_time": "2024-03-12T01:43:15.006141194Z"
    }
   },
   "execution_count": 22
  },
  {
   "cell_type": "markdown",
   "source": [
    "Artificial Neural Networks\n",
    "\n",
    "Implementar una Red Neuronal Artificial Multiclase para la clasificación de imágenes de dígitos  del 0 al 9 escritos a mano (handwriting digit recognition).\n"
   ],
   "metadata": {
    "id": "8EwyI8dPErMQ"
   }
  },
  {
   "cell_type": "code",
   "outputs": [
    {
     "name": "stdout",
     "output_type": "stream",
     "text": [
      "Defaulting to user installation because normal site-packages is not writeable\r\n",
      "Requirement already satisfied: gdown in /home/dayan3847/.local/lib/python3.10/site-packages (5.1.0)\r\n",
      "Requirement already satisfied: beautifulsoup4 in /home/dayan3847/.local/lib/python3.10/site-packages (from gdown) (4.11.1)\r\n",
      "Requirement already satisfied: filelock in /home/dayan3847/.local/lib/python3.10/site-packages (from gdown) (3.9.0)\r\n",
      "Requirement already satisfied: requests[socks] in /home/dayan3847/.local/lib/python3.10/site-packages (from gdown) (2.31.0)\r\n",
      "Requirement already satisfied: tqdm in /home/dayan3847/.local/lib/python3.10/site-packages (from gdown) (4.64.1)\r\n",
      "Requirement already satisfied: soupsieve>1.2 in /home/dayan3847/.local/lib/python3.10/site-packages (from beautifulsoup4->gdown) (2.3.2.post1)\r\n",
      "Requirement already satisfied: charset-normalizer<4,>=2 in /home/dayan3847/.local/lib/python3.10/site-packages (from requests[socks]->gdown) (2.0.12)\r\n",
      "Requirement already satisfied: idna<4,>=2.5 in /usr/local/lib/python3.10/dist-packages (from requests[socks]->gdown) (2.10)\r\n",
      "Requirement already satisfied: urllib3<3,>=1.21.1 in /usr/local/lib/python3.10/dist-packages (from requests[socks]->gdown) (1.25.11)\r\n",
      "Requirement already satisfied: certifi>=2017.4.17 in /usr/local/lib/python3.10/dist-packages (from requests[socks]->gdown) (2023.5.7)\r\n",
      "Requirement already satisfied: PySocks!=1.5.7,>=1.5.6 in /home/dayan3847/.local/lib/python3.10/site-packages (from requests[socks]->gdown) (1.7.1)\r\n",
      "\u001B[33mDEPRECATION: colab 1.13.5 has a non-standard dependency specifier pytz>=2011n. pip 24.1 will enforce this behaviour change. A possible replacement is to upgrade to a newer version of colab or contact the author to suggest that they release a version with a conforming dependency specifiers. Discussion can be found at https://github.com/pypa/pip/issues/12063\u001B[0m\u001B[33m\r\n",
      "\u001B[0m\u001B[33mDEPRECATION: gpg 1.23.2-unknown has a non-standard version number. pip 24.1 will enforce this behaviour change. A possible replacement is to upgrade to a newer version of gpg or contact the author to suggest that they release a version with a conforming version number. Discussion can be found at https://github.com/pypa/pip/issues/12063\u001B[0m\u001B[33m\r\n",
      "\u001B[0m"
     ]
    }
   ],
   "source": [
    "!pip install --upgrade gdown"
   ],
   "metadata": {
    "colab": {
     "base_uri": "https://localhost:8080/"
    },
    "id": "bEZDuwAWeIY2",
    "outputId": "7a048152-347c-4642-bf97-148519c39712",
    "ExecuteTime": {
     "end_time": "2024-03-12T01:30:33.004894568Z",
     "start_time": "2024-03-12T01:30:30.687451730Z"
    }
   },
   "execution_count": 1
  },
  {
   "cell_type": "code",
   "outputs": [
    {
     "name": "stdout",
     "output_type": "stream",
     "text": [
      "/home/dayan3847/.local/lib/python3.10/site-packages/gdown/__main__.py:132: FutureWarning: Option `--id` was deprecated in version 4.3.1 and will be removed in 5.0. You don't need to pass it anymore to use a file ID.\r\n",
      "  warnings.warn(\r\n",
      "Downloading...\r\n",
      "From: https://drive.google.com/uc?id=1x0JbCKDCGtynM6GnunAOdDYlyt7dI0B-\r\n",
      "To: /home/dayan3847/PycharmProjects/machine_learning/1_3_multi_layer_perceptron/src/v2/mnist.txt\r\n",
      "100%|██████████████████████████████████████| 9.13M/9.13M [00:00<00:00, 9.70MB/s]\r\n"
     ]
    }
   ],
   "source": [
    "!gdown --id 1x0JbCKDCGtynM6GnunAOdDYlyt7dI0B- -O mnist.txt"
   ],
   "metadata": {
    "colab": {
     "base_uri": "https://localhost:8080/"
    },
    "id": "aJFzj-QqGU4J",
    "outputId": "2c3bb888-05bf-4465-ec1f-92fd894270ba",
    "ExecuteTime": {
     "end_time": "2024-03-12T01:30:44.717851641Z",
     "start_time": "2024-03-12T01:30:41.968112655Z"
    }
   },
   "execution_count": 2
  },
  {
   "cell_type": "code",
   "outputs": [],
   "source": [
    "import numpy as np\n",
    "import matplotlib.pyplot as plt"
   ],
   "metadata": {
    "id": "QQmNw-J_nyWP",
    "ExecuteTime": {
     "end_time": "2024-03-12T01:30:54.851576953Z",
     "start_time": "2024-03-12T01:30:54.584493424Z"
    }
   },
   "execution_count": 3
  },
  {
   "cell_type": "code",
   "outputs": [],
   "source": [
    "def load_data(file_path):\n",
    "    data = np.loadtxt(file_path)\n",
    "    X = data[:, :-1]  # Características (pixeles)\n",
    "    y = data[:, -1]  # Etiquetas (clase)\n",
    "    return X, y"
   ],
   "metadata": {
    "id": "kDhUIRA3nvkv",
    "ExecuteTime": {
     "end_time": "2024-03-12T01:30:59.028858164Z",
     "start_time": "2024-03-12T01:30:59.024761761Z"
    }
   },
   "execution_count": 4
  },
  {
   "cell_type": "code",
   "outputs": [],
   "source": [
    "def visualize_image(images, labels, n):\n",
    "    if n >= len(images):\n",
    "        print(\"El índice n está fuera del rango.\")\n",
    "        return\n",
    "    image = images[n].reshape(28, 28)  # reconstruye la imagen en una matriz de 28x28\n",
    "    label = int(labels[n])\n",
    "\n",
    "    plt.imshow(image, cmap='gray')\n",
    "    plt.title(f\"Imagen del dígito: {label} índice:{n}\")\n",
    "    plt.axis('off')\n",
    "    plt.show()"
   ],
   "metadata": {
    "id": "tQFE9l2ln0iW",
    "ExecuteTime": {
     "end_time": "2024-03-12T01:31:01.859636572Z",
     "start_time": "2024-03-12T01:31:01.815572584Z"
    }
   },
   "execution_count": 5
  },
  {
   "cell_type": "code",
   "outputs": [
    {
     "name": "stdout",
     "output_type": "stream",
     "text": [
      "5000\n",
      "5000\n"
     ]
    }
   ],
   "source": [
    "# Cargar los datos\n",
    "file_path = \"mnist.txt\"\n",
    "images, labels = load_data(file_path)\n",
    "print(len(images))\n",
    "print(len(labels))"
   ],
   "metadata": {
    "colab": {
     "base_uri": "https://localhost:8080/"
    },
    "id": "FFj6ucNMjniu",
    "outputId": "6f741fe7-555b-40f0-ed40-2ca5820abcd4",
    "ExecuteTime": {
     "end_time": "2024-03-12T01:31:04.294739346Z",
     "start_time": "2024-03-12T01:31:04.154869588Z"
    }
   },
   "execution_count": 6
  },
  {
   "cell_type": "code",
   "outputs": [
    {
     "data": {
      "text/plain": "<Figure size 640x480 with 1 Axes>",
      "image/png": "[encoded data removed]"
     },
     "metadata": {},
     "output_type": "display_data"
    }
   ],
   "source": [
    "# Visualizar la imagen en la posición n\n",
    "import random\n",
    "\n",
    "n = random.randint(0, 5000)\n",
    "visualize_image(images, labels, n)"
   ],
   "metadata": {
    "colab": {
     "base_uri": "https://localhost:8080/",
     "height": 429
    },
    "id": "x5FaAKM9qAu2",
    "outputId": "9ac45c37-a99a-41f7-ca07-9ebb0bca1d96",
    "ExecuteTime": {
     "end_time": "2024-03-12T01:36:27.960449828Z",
     "start_time": "2024-03-12T01:36:27.911108202Z"
    }
   },
   "execution_count": 15
  },
  {
   "cell_type": "code",
   "outputs": [],
   "source": [
    "# Dividir los datos en conjuntos de entrenamiento y prueba\n",
    "X_train, X_test = images[:900], images[900:]\n",
    "y_train, y_test = labels[:900], labels[900:]\n",
    "\n",
    "# Normalizar los datos\n",
    "X_train /= 255.0\n",
    "X_test /= 255.0"
   ],
   "metadata": {
    "collapsed": false,
    "ExecuteTime": {
     "end_time": "2024-03-12T01:32:21.531586807Z",
     "start_time": "2024-03-12T01:32:21.489318468Z"
    }
   },
   "execution_count": 9
  },
  {
   "cell_type": "code",
   "outputs": [
    {
     "name": "stdout",
     "output_type": "stream",
     "text": [
      "(900, 784)\n",
      "(900,)\n"
     ]
    }
   ],
   "source": [
    "print(X_train.shape)\n",
    "print(y_train.shape)"
   ],
   "metadata": {
    "collapsed": false,
    "ExecuteTime": {
     "end_time": "2024-03-12T01:35:54.395785429Z",
     "start_time": "2024-03-12T01:35:54.355091797Z"
    }
   },
   "execution_count": 12
  },
  {
   "cell_type": "code",
   "outputs": [],
   "source": [
    "a: float = 0.1\n",
    "\n",
    "topology = [784, 512, 10]\n",
    "\n",
    "w1 = np.random.rand(topology[0] + 1, topology[1])\n",
    "\n",
    "\n",
    "def propagate_w1(input_: np.array):\n",
    "    return np.append(input_ @ w1, 1)\n",
    "\n",
    "\n",
    "w2 = np.random.rand(topology[1] + 1, topology[2])\n",
    "\n",
    "\n",
    "def propagate_w2(input_: np.array):\n",
    "    return input_ @ w2\n",
    "\n",
    "\n",
    "def propagate(input_: np.array):\n",
    "    # return propagate_w2(propagate_w1(input_))\n",
    "    return np.append(input_ @ w1, 1) @ w2"
   ],
   "metadata": {
    "collapsed": false,
    "ExecuteTime": {
     "end_time": "2024-03-12T01:41:09.779734480Z",
     "start_time": "2024-03-12T01:41:09.737625506Z"
    }
   },
   "execution_count": 18
  },
  {
   "cell_type": "code",
   "outputs": [],
   "source": [
    "def retro_propagate(x: np.array, y: np.array):\n",
    "    global w1, w2\n",
    "    o1 = np.append(x @ w1, 1)\n",
    "    print('o1', o1.shape)\n",
    "    o2 = o1 @ w2\n",
    "    d2 = np.multiply(o2, np.multiply(1 - o2, y - o2))\n",
    "    # output neuron:\n",
    "    w2 += a * np.outer(o1, d2)\n",
    "    # hidden neuron:\n",
    "    wdwdwd = []\n",
    "    for i in range(w2.shape[0]):\n",
    "        wd_i = 0\n",
    "        for j in range(w2.shape[1]):\n",
    "            wd_i += w2[i, j] * d2[j]\n",
    "        wdwdwd.append(wd_i)\n",
    "    print('wdwdwd', np.array(wdwdwd).shape)\n",
    "    print('1 - o1', (1 - o1).shape)\n",
    "    print('np.array(wdwdwd)', np.array(wdwdwd))\n",
    "\n",
    "    qwe = np.multiply(1 - o1, np.array(wdwdwd))\n",
    "    print('qwe', qwe.shape)\n",
    "    d1 = np.multiply(o1, qwe)\n",
    "    d1 = d1[0:-1]\n",
    "    print('d1', d1.shape)\n",
    "    w1 += a * np.outer(x, d1)"
   ],
   "metadata": {
    "collapsed": false,
    "ExecuteTime": {
     "end_time": "2024-03-12T01:41:14.390180990Z",
     "start_time": "2024-03-12T01:41:14.387850279Z"
    }
   },
   "execution_count": 19
  },
  {
   "cell_type": "code",
   "outputs": [
    {
     "data": {
      "text/plain": "5.0"
     },
     "execution_count": 24,
     "metadata": {},
     "output_type": "execute_result"
    }
   ],
   "source": [
    "y_train[0]"
   ],
   "metadata": {
    "collapsed": false,
    "ExecuteTime": {
     "end_time": "2024-03-12T01:45:07.339810092Z",
     "start_time": "2024-03-12T01:45:07.299352366Z"
    }
   },
   "execution_count": 24
  },
  {
   "cell_type": "code",
   "outputs": [
    {
     "name": "stdout",
     "output_type": "stream",
     "text": [
      "o1 (513,)\n",
      "wdwdwd (513,)\n",
      "1 - o1 (513,)\n",
      "np.array(wdwdwd) [           -inf            -inf            -inf            -inf\n",
      "            -inf            -inf            -inf            -inf\n",
      "            -inf            -inf            -inf            -inf\n",
      "            -inf            -inf            -inf            -inf\n",
      "            -inf            -inf            -inf            -inf\n",
      "            -inf            -inf            -inf            -inf\n",
      "            -inf            -inf            -inf            -inf\n",
      "            -inf            -inf            -inf            -inf\n",
      "            -inf            -inf            -inf            -inf\n",
      "            -inf            -inf            -inf            -inf\n",
      "            -inf            -inf            -inf            -inf\n",
      "            -inf            -inf            -inf            -inf\n",
      "            -inf            -inf            -inf            -inf\n",
      "            -inf            -inf            -inf            -inf\n",
      "            -inf            -inf            -inf            -inf\n",
      "            -inf            -inf            -inf            -inf\n",
      "            -inf            -inf            -inf            -inf\n",
      "            -inf            -inf            -inf            -inf\n",
      "            -inf            -inf            -inf            -inf\n",
      "            -inf            -inf            -inf            -inf\n",
      "            -inf            -inf            -inf            -inf\n",
      "            -inf            -inf            -inf            -inf\n",
      "            -inf            -inf            -inf            -inf\n",
      "            -inf            -inf            -inf            -inf\n",
      "            -inf            -inf            -inf            -inf\n",
      "            -inf            -inf            -inf            -inf\n",
      "            -inf            -inf            -inf            -inf\n",
      "            -inf            -inf            -inf            -inf\n",
      "            -inf            -inf            -inf            -inf\n",
      "            -inf            -inf            -inf            -inf\n",
      "            -inf            -inf            -inf            -inf\n",
      "            -inf            -inf            -inf            -inf\n",
      "            -inf            -inf            -inf            -inf\n",
      "            -inf            -inf            -inf            -inf\n",
      "            -inf            -inf            -inf            -inf\n",
      "            -inf            -inf            -inf            -inf\n",
      "            -inf            -inf            -inf            -inf\n",
      "            -inf            -inf            -inf            -inf\n",
      "            -inf            -inf            -inf            -inf\n",
      "            -inf            -inf            -inf            -inf\n",
      "            -inf            -inf            -inf            -inf\n",
      "            -inf            -inf            -inf            -inf\n",
      "            -inf            -inf            -inf            -inf\n",
      "            -inf            -inf            -inf            -inf\n",
      "            -inf            -inf            -inf            -inf\n",
      "            -inf            -inf            -inf            -inf\n",
      "            -inf            -inf            -inf            -inf\n",
      "            -inf            -inf            -inf            -inf\n",
      "            -inf            -inf            -inf            -inf\n",
      "            -inf            -inf            -inf            -inf\n",
      "            -inf            -inf            -inf            -inf\n",
      "            -inf            -inf            -inf            -inf\n",
      "            -inf            -inf            -inf            -inf\n",
      "            -inf            -inf            -inf            -inf\n",
      "            -inf            -inf            -inf            -inf\n",
      "            -inf            -inf            -inf            -inf\n",
      "            -inf            -inf            -inf            -inf\n",
      "            -inf            -inf            -inf            -inf\n",
      "            -inf            -inf            -inf            -inf\n",
      "            -inf            -inf            -inf            -inf\n",
      "            -inf            -inf            -inf            -inf\n",
      "            -inf            -inf            -inf            -inf\n",
      "            -inf            -inf            -inf            -inf\n",
      "            -inf            -inf            -inf            -inf\n",
      "            -inf            -inf            -inf            -inf\n",
      "            -inf            -inf            -inf            -inf\n",
      "            -inf            -inf            -inf            -inf\n",
      "            -inf            -inf            -inf            -inf\n",
      "            -inf            -inf            -inf            -inf\n",
      "            -inf            -inf            -inf            -inf\n",
      "            -inf            -inf            -inf            -inf\n",
      "            -inf            -inf            -inf            -inf\n",
      "            -inf            -inf            -inf            -inf\n",
      "            -inf            -inf            -inf            -inf\n",
      "            -inf            -inf            -inf            -inf\n",
      "            -inf            -inf            -inf            -inf\n",
      "            -inf            -inf            -inf            -inf\n",
      "            -inf            -inf            -inf            -inf\n",
      "            -inf            -inf            -inf            -inf\n",
      "            -inf            -inf            -inf            -inf\n",
      "            -inf            -inf            -inf            -inf\n",
      "            -inf            -inf            -inf            -inf\n",
      "            -inf            -inf            -inf            -inf\n",
      "            -inf            -inf            -inf            -inf\n",
      "            -inf            -inf            -inf            -inf\n",
      "            -inf            -inf            -inf            -inf\n",
      "            -inf            -inf            -inf            -inf\n",
      "            -inf            -inf            -inf            -inf\n",
      "            -inf            -inf            -inf            -inf\n",
      "            -inf            -inf            -inf            -inf\n",
      "            -inf            -inf            -inf            -inf\n",
      "            -inf            -inf            -inf            -inf\n",
      "            -inf            -inf            -inf            -inf\n",
      "            -inf            -inf            -inf            -inf\n",
      "            -inf            -inf            -inf            -inf\n",
      "            -inf            -inf            -inf            -inf\n",
      "            -inf            -inf            -inf            -inf\n",
      "            -inf            -inf            -inf            -inf\n",
      "            -inf            -inf            -inf            -inf\n",
      "            -inf            -inf            -inf            -inf\n",
      "            -inf            -inf            -inf            -inf\n",
      "            -inf            -inf            -inf            -inf\n",
      "            -inf            -inf            -inf            -inf\n",
      "            -inf            -inf            -inf            -inf\n",
      "            -inf            -inf            -inf            -inf\n",
      "            -inf            -inf            -inf            -inf\n",
      "            -inf            -inf            -inf            -inf\n",
      "            -inf            -inf            -inf            -inf\n",
      "            -inf            -inf            -inf            -inf\n",
      "            -inf            -inf            -inf            -inf\n",
      "            -inf            -inf            -inf            -inf\n",
      "            -inf            -inf            -inf            -inf\n",
      "            -inf            -inf            -inf            -inf\n",
      "            -inf            -inf            -inf            -inf\n",
      "            -inf            -inf            -inf            -inf\n",
      "            -inf            -inf            -inf            -inf\n",
      "            -inf            -inf            -inf            -inf\n",
      "            -inf            -inf            -inf            -inf\n",
      "            -inf            -inf            -inf            -inf\n",
      "            -inf            -inf            -inf            -inf\n",
      "            -inf            -inf            -inf            -inf\n",
      "            -inf            -inf            -inf            -inf\n",
      "            -inf            -inf            -inf            -inf\n",
      "            -inf            -inf            -inf            -inf\n",
      "            -inf            -inf            -inf            -inf\n",
      "            -inf            -inf            -inf            -inf\n",
      "            -inf            -inf            -inf            -inf\n",
      "            -inf            -inf            -inf            -inf\n",
      " 3.04892492e+281]\n",
      "qwe (513,)\n",
      "d1 (512,)\n"
     ]
    },
    {
     "name": "stderr",
     "output_type": "stream",
     "text": [
      "/tmp/ipykernel_1198699/3415998143.py:14: RuntimeWarning: overflow encountered in double_scalars\n",
      "  wd_i += w2[i, j] * d2[j]\n",
      "/home/dayan3847/.local/lib/python3.10/site-packages/numpy/core/numeric.py:942: RuntimeWarning: invalid value encountered in multiply\n",
      "  return multiply(a.ravel()[:, newaxis], b.ravel()[newaxis, :], out)\n"
     ]
    }
   ],
   "source": [
    "retro_propagate(np.append(X_train[0], 1), np.array([0, 0, 0, 0, 0, 1, 0, 0, 0, 0]))"
   ],
   "metadata": {
    "collapsed": false,
    "ExecuteTime": {
     "end_time": "2024-03-12T01:46:29.343779726Z",
     "start_time": "2024-03-12T01:46:29.298649448Z"
    }
   },
   "execution_count": 25
  },
  {
   "cell_type": "code",
   "outputs": [],
   "source": [],
   "metadata": {
    "collapsed": false
   }
  }
 ]
}
