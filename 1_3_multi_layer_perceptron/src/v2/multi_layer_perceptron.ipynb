{
 "cells": [
  {
   "cell_type": "code",
   "execution_count": 116,
   "id": "initial_id",
   "metadata": {
    "collapsed": true,
    "ExecuteTime": {
     "end_time": "2024-03-12T00:51:33.423603516Z",
     "start_time": "2024-03-12T00:51:33.382768729Z"
    }
   },
   "outputs": [],
   "source": [
    "import numpy as np"
   ]
  },
  {
   "cell_type": "code",
   "outputs": [],
   "source": [
    "# Learning rate\n",
    "a: float = 0.1"
   ],
   "metadata": {
    "collapsed": false,
    "ExecuteTime": {
     "end_time": "2024-03-12T00:51:33.841031129Z",
     "start_time": "2024-03-12T00:51:33.834661251Z"
    }
   },
   "id": "a6cc0cf29ade34b",
   "execution_count": 117
  },
  {
   "cell_type": "code",
   "outputs": [
    {
     "data": {
      "text/plain": "(4, 2)"
     },
     "execution_count": 119,
     "metadata": {},
     "output_type": "execute_result"
    }
   ],
   "source": [
    "w1 = np.random.rand(4, 2)\n",
    "w1.shape"
   ],
   "metadata": {
    "collapsed": false,
    "ExecuteTime": {
     "end_time": "2024-03-12T00:51:40.580495064Z",
     "start_time": "2024-03-12T00:51:40.566946698Z"
    }
   },
   "id": "e81afec6e0a47e9",
   "execution_count": 119
  },
  {
   "cell_type": "code",
   "outputs": [],
   "source": [
    "def propagate_w1(input_: np.array):\n",
    "    return np.append(input_ @ w1, 1)"
   ],
   "metadata": {
    "collapsed": false,
    "ExecuteTime": {
     "end_time": "2024-03-12T00:51:44.397453400Z",
     "start_time": "2024-03-12T00:51:44.394343318Z"
    }
   },
   "id": "e9dfc638a3c961c0",
   "execution_count": 120
  },
  {
   "cell_type": "code",
   "outputs": [
    {
     "data": {
      "text/plain": "(3,)"
     },
     "execution_count": 122,
     "metadata": {},
     "output_type": "execute_result"
    }
   ],
   "source": [
    "propagate_w1([6, 8, 4, 1]).shape"
   ],
   "metadata": {
    "collapsed": false,
    "ExecuteTime": {
     "end_time": "2024-03-12T00:51:51.261619204Z",
     "start_time": "2024-03-12T00:51:51.253001079Z"
    }
   },
   "id": "533938ea356001bc",
   "execution_count": 122
  },
  {
   "cell_type": "code",
   "outputs": [
    {
     "data": {
      "text/plain": "array([[0.11151492, 0.24947072, 0.55343262, 0.66870519, 0.70959002,\n        0.93905256, 0.31005826, 0.51871081, 0.14156209, 0.13862528],\n       [0.32753723, 0.19967571, 0.5885687 , 0.17288607, 0.57180157,\n        0.7701458 , 0.59187137, 0.97156444, 0.4294568 , 0.68390733],\n       [0.66897383, 0.9220142 , 0.89941051, 0.10770092, 0.41372676,\n        0.72063756, 0.65243069, 0.48013163, 0.93580896, 0.44336808]])"
     },
     "execution_count": 123,
     "metadata": {},
     "output_type": "execute_result"
    }
   ],
   "source": [
    "w2 = np.random.rand(3, 10)\n",
    "w2"
   ],
   "metadata": {
    "collapsed": false,
    "ExecuteTime": {
     "end_time": "2024-03-12T00:52:01.963775085Z",
     "start_time": "2024-03-12T00:52:01.919697894Z"
    }
   },
   "id": "a0edaeb95737edb5",
   "execution_count": 123
  },
  {
   "cell_type": "code",
   "outputs": [],
   "source": [
    "def propagate_w2(input_: np.array):\n",
    "    return input_ @ w2"
   ],
   "metadata": {
    "collapsed": false,
    "ExecuteTime": {
     "end_time": "2024-03-12T00:52:07.354872973Z",
     "start_time": "2024-03-12T00:52:07.351775149Z"
    }
   },
   "id": "ee20115f6971f84f",
   "execution_count": 124
  },
  {
   "cell_type": "code",
   "outputs": [
    {
     "data": {
      "text/plain": "(10,)"
     },
     "execution_count": 125,
     "metadata": {},
     "output_type": "execute_result"
    }
   ],
   "source": [
    "propagate_w2([9, 4, 1]).shape"
   ],
   "metadata": {
    "collapsed": false,
    "ExecuteTime": {
     "end_time": "2024-03-12T00:52:13.134739068Z",
     "start_time": "2024-03-12T00:52:13.124239889Z"
    }
   },
   "id": "c8b5bda7fdbaf02a",
   "execution_count": 125
  },
  {
   "cell_type": "code",
   "outputs": [],
   "source": [
    "def propagate(input_: np.array):\n",
    "    # return propagate_w2(propagate_w1(input_))\n",
    "    return np.append(input_ @ w1, 1) @ w2"
   ],
   "metadata": {
    "collapsed": false,
    "ExecuteTime": {
     "end_time": "2024-03-12T00:52:24.571619180Z",
     "start_time": "2024-03-12T00:52:24.530754389Z"
    }
   },
   "id": "8af0c9662872749",
   "execution_count": 126
  },
  {
   "cell_type": "code",
   "outputs": [
    {
     "data": {
      "text/plain": "(10,)"
     },
     "execution_count": 127,
     "metadata": {},
     "output_type": "execute_result"
    }
   ],
   "source": [
    "propagate([6, 8, 4, 1]).shape"
   ],
   "metadata": {
    "collapsed": false,
    "ExecuteTime": {
     "end_time": "2024-03-12T00:52:25.403787634Z",
     "start_time": "2024-03-12T00:52:25.399029091Z"
    }
   },
   "id": "ab2ed4d4be07a984",
   "execution_count": 127
  },
  {
   "cell_type": "code",
   "outputs": [
    {
     "data": {
      "text/plain": "array([0.64101667, 0.84703702, 0.19453029, 0.91877494, 0.75159564,\n       0.52585762, 0.99389709, 0.76386408, 0.18673076, 0.67242353])"
     },
     "execution_count": 50,
     "metadata": {},
     "output_type": "execute_result"
    }
   ],
   "source": [
    "# generar datos de entrenamiento\n",
    "y = np.random.rand(10)\n",
    "y"
   ],
   "metadata": {
    "collapsed": false,
    "ExecuteTime": {
     "end_time": "2024-03-11T23:51:30.763850294Z",
     "start_time": "2024-03-11T23:51:30.722581433Z"
    }
   },
   "id": "3ce5ec5955579870",
   "execution_count": 50
  },
  {
   "cell_type": "code",
   "outputs": [
    {
     "data": {
      "text/plain": "array([0.99757638, 0.95200476, 0.57012808, 1.        ])"
     },
     "execution_count": 95,
     "metadata": {},
     "output_type": "execute_result"
    }
   ],
   "source": [
    "x = np.append(np.random.rand(3), 1)\n",
    "x"
   ],
   "metadata": {
    "collapsed": false,
    "ExecuteTime": {
     "end_time": "2024-03-12T00:15:21.121838418Z",
     "start_time": "2024-03-12T00:15:21.112903497Z"
    }
   },
   "id": "1b7195f714ca41bf",
   "execution_count": 95
  },
  {
   "cell_type": "code",
   "outputs": [
    {
     "data": {
      "text/plain": "(4, 2)"
     },
     "execution_count": 140,
     "metadata": {},
     "output_type": "execute_result"
    }
   ],
   "source": [
    "w1.shape"
   ],
   "metadata": {
    "collapsed": false,
    "ExecuteTime": {
     "end_time": "2024-03-12T01:01:05.374497536Z",
     "start_time": "2024-03-12T01:01:05.366680968Z"
    }
   },
   "id": "b22f8f1dee9ba925",
   "execution_count": 140
  },
  {
   "cell_type": "code",
   "outputs": [
    {
     "data": {
      "text/plain": "(3, 10)"
     },
     "execution_count": 145,
     "metadata": {},
     "output_type": "execute_result"
    }
   ],
   "source": [
    "w2.shape"
   ],
   "metadata": {
    "collapsed": false,
    "ExecuteTime": {
     "end_time": "2024-03-12T01:07:21.283806851Z",
     "start_time": "2024-03-12T01:07:21.239775587Z"
    }
   },
   "id": "f89edb208ee79dbf",
   "execution_count": 145
  },
  {
   "cell_type": "code",
   "outputs": [],
   "source": [
    "def retro_propagate(x: np.array, y: np.array):\n",
    "    global w1, w2\n",
    "    o1 = np.append(x @ w1, 1)\n",
    "    print('o1', o1.shape)\n",
    "    o2 = o1 @ w2\n",
    "    d2 = np.multiply(o2, np.multiply(1 - o2, y - o2))\n",
    "    # output neuron:\n",
    "    w2 += a * np.outer(o1, d2)\n",
    "    # hidden neuron:\n",
    "    wdwdwd = []\n",
    "    for i in range(w2.shape[0]):\n",
    "        wd_i = 0\n",
    "        for j in range(w1.shape[1]):\n",
    "            wd_i += w1[i, j] * d2[j]\n",
    "        wdwdwd.append(wd_i)\n",
    "    print('wdwdwd', np.array(wdwdwd).shape)\n",
    "    print('1 - o1', (1 - o1).shape)\n",
    "    print('np.array(wdwdwd)', np.array(wdwdwd))\n",
    "    \n",
    "    qwe =  np.multiply(1 - o1, np.array(wdwdwd))\n",
    "    # print('qwe', qwe.shape)\n",
    "    # d1 = np.multiply(o1, qwe)\n",
    "    # print('d1', d1.shape)\n",
    "    # w1 += a * np.outer(x, d1)"
   ],
   "metadata": {
    "collapsed": false,
    "ExecuteTime": {
     "end_time": "2024-03-12T01:12:15.435683214Z",
     "start_time": "2024-03-12T01:12:15.393634698Z"
    }
   },
   "id": "d4342358f8e47439",
   "execution_count": 168
  },
  {
   "cell_type": "code",
   "outputs": [
    {
     "name": "stdout",
     "output_type": "stream",
     "text": [
      "o1 (3,)\n",
      "wdwdwd (3,)\n",
      "1 - o1 (3,)\n",
      "np.array(wdwdwd) [inf inf inf]\n"
     ]
    },
    {
     "name": "stderr",
     "output_type": "stream",
     "text": [
      "/tmp/ipykernel_998163/3623448229.py:20: RuntimeWarning: invalid value encountered in multiply\n",
      "  qwe =  np.multiply(1 - o1, np.array(wdwdwd))\n"
     ]
    }
   ],
   "source": [
    "retro_propagate(x, y)"
   ],
   "metadata": {
    "collapsed": false,
    "ExecuteTime": {
     "end_time": "2024-03-12T01:12:15.802620690Z",
     "start_time": "2024-03-12T01:12:15.798548573Z"
    }
   },
   "id": "c0bf968b40ca11b5",
   "execution_count": 169
  },
  {
   "cell_type": "code",
   "outputs": [
    {
     "name": "stdout",
     "output_type": "stream",
     "text": [
      "Defaulting to user installation because normal site-packages is not writeable\r\n",
      "Requirement already satisfied: gdown in /home/dayan3847/.local/lib/python3.10/site-packages (4.6.0)\r\n",
      "Collecting gdown\r\n",
      "  Downloading gdown-5.1.0-py3-none-any.whl.metadata (5.7 kB)\r\n",
      "Requirement already satisfied: beautifulsoup4 in /home/dayan3847/.local/lib/python3.10/site-packages (from gdown) (4.11.1)\r\n",
      "Requirement already satisfied: filelock in /home/dayan3847/.local/lib/python3.10/site-packages (from gdown) (3.9.0)\r\n",
      "Requirement already satisfied: requests[socks] in /home/dayan3847/.local/lib/python3.10/site-packages (from gdown) (2.31.0)\r\n",
      "Requirement already satisfied: tqdm in /home/dayan3847/.local/lib/python3.10/site-packages (from gdown) (4.64.1)\r\n",
      "Requirement already satisfied: soupsieve>1.2 in /home/dayan3847/.local/lib/python3.10/site-packages (from beautifulsoup4->gdown) (2.3.2.post1)\r\n",
      "Requirement already satisfied: charset-normalizer<4,>=2 in /home/dayan3847/.local/lib/python3.10/site-packages (from requests[socks]->gdown) (2.0.12)\r\n",
      "Requirement already satisfied: idna<4,>=2.5 in /usr/local/lib/python3.10/dist-packages (from requests[socks]->gdown) (2.10)\r\n",
      "Requirement already satisfied: urllib3<3,>=1.21.1 in /usr/local/lib/python3.10/dist-packages (from requests[socks]->gdown) (1.25.11)\r\n",
      "Requirement already satisfied: certifi>=2017.4.17 in /usr/local/lib/python3.10/dist-packages (from requests[socks]->gdown) (2023.5.7)\r\n",
      "Requirement already satisfied: PySocks!=1.5.7,>=1.5.6 in /home/dayan3847/.local/lib/python3.10/site-packages (from requests[socks]->gdown) (1.7.1)\r\n",
      "Downloading gdown-5.1.0-py3-none-any.whl (17 kB)\r\n",
      "\u001B[33mDEPRECATION: colab 1.13.5 has a non-standard dependency specifier pytz>=2011n. pip 24.1 will enforce this behaviour change. A possible replacement is to upgrade to a newer version of colab or contact the author to suggest that they release a version with a conforming dependency specifiers. Discussion can be found at https://github.com/pypa/pip/issues/12063\u001B[0m\u001B[33m\r\n",
      "\u001B[0m\u001B[33mDEPRECATION: gpg 1.23.2-unknown has a non-standard version number. pip 24.1 will enforce this behaviour change. A possible replacement is to upgrade to a newer version of gpg or contact the author to suggest that they release a version with a conforming version number. Discussion can be found at https://github.com/pypa/pip/issues/12063\u001B[0m\u001B[33m\r\n",
      "\u001B[0mInstalling collected packages: gdown\r\n",
      "  Attempting uninstall: gdown\r\n",
      "    Found existing installation: gdown 4.6.0\r\n",
      "    Uninstalling gdown-4.6.0:\r\n",
      "      Successfully uninstalled gdown-4.6.0\r\n",
      "Successfully installed gdown-5.1.0\r\n"
     ]
    }
   ],
   "source": [
    "!pip install --upgrade gdown"
   ],
   "metadata": {
    "collapsed": false,
    "ExecuteTime": {
     "end_time": "2024-03-12T01:27:16.656718447Z",
     "start_time": "2024-03-12T01:27:13.569637678Z"
    }
   },
   "id": "cb023a0a277b30cc",
   "execution_count": 170
  },
  {
   "cell_type": "code",
   "outputs": [
    {
     "name": "stdout",
     "output_type": "stream",
     "text": [
      "/home/dayan3847/.local/lib/python3.10/site-packages/gdown/__main__.py:132: FutureWarning: Option `--id` was deprecated in version 4.3.1 and will be removed in 5.0. You don't need to pass it anymore to use a file ID.\r\n",
      "  warnings.warn(\r\n",
      "Downloading...\r\n",
      "From: https://drive.google.com/uc?id=1x0JbCKDCGtynM6GnunAOdDYlyt7dI0B-\r\n",
      "To: /home/dayan3847/PycharmProjects/machine_learning/1_3_multi_layer_perceptron/src/v2/mnist.txt\r\n",
      "100%|██████████████████████████████████████| 9.13M/9.13M [00:00<00:00, 9.94MB/s]\r\n"
     ]
    }
   ],
   "source": [
    "!gdown --id 1x0JbCKDCGtynM6GnunAOdDYlyt7dI0B- -O mnist.txt"
   ],
   "metadata": {
    "collapsed": false,
    "ExecuteTime": {
     "end_time": "2024-03-12T01:27:28.857494922Z",
     "start_time": "2024-03-12T01:27:26.009506123Z"
    }
   },
   "id": "75a1c7c572a72dc0",
   "execution_count": 171
  },
  {
   "cell_type": "code",
   "outputs": [],
   "source": [],
   "metadata": {
    "collapsed": false
   },
   "id": "a12b1b23f4f76a8f"
  }
 ],
 "metadata": {
  "kernelspec": {
   "display_name": "Python 3",
   "language": "python",
   "name": "python3"
  },
  "language_info": {
   "codemirror_mode": {
    "name": "ipython",
    "version": 2
   },
   "file_extension": ".py",
   "mimetype": "text/x-python",
   "name": "python",
   "nbconvert_exporter": "python",
   "pygments_lexer": "ipython2",
   "version": "2.7.6"
  }
 },
 "nbformat": 4,
 "nbformat_minor": 5
}
