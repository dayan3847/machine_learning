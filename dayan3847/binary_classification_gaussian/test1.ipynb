{
 "cells": [
  {
   "cell_type": "code",
   "execution_count": 29,
   "outputs": [],
   "source": [
    "import numpy as np\n",
    "import matplotlib.pyplot as plt"
   ],
   "metadata": {
    "collapsed": false,
    "ExecuteTime": {
     "end_time": "2023-08-31T05:57:38.444262166Z",
     "start_time": "2023-08-31T05:57:38.158563079Z"
    }
   },
   "id": "1936a2204427f327"
  },
  {
   "cell_type": "code",
   "execution_count": 1,
   "id": "initial_id",
   "metadata": {
    "collapsed": true,
    "ExecuteTime": {
     "end_time": "2023-08-31T05:32:01.986989106Z",
     "start_time": "2023-08-31T05:32:01.984256137Z"
    }
   },
   "outputs": [
    {
     "name": "stdout",
     "output_type": "stream",
     "text": [
      "hw\n"
     ]
    }
   ],
   "source": [
    "print('hw')"
   ]
  },
  {
   "cell_type": "code",
   "execution_count": 3,
   "outputs": [],
   "source": [
    "# tamaño del panel\n",
    "size: int = 100"
   ],
   "metadata": {
    "collapsed": false,
    "ExecuteTime": {
     "end_time": "2023-08-31T05:35:11.043399390Z",
     "start_time": "2023-08-31T05:35:10.996946064Z"
    }
   },
   "id": "f16cbe5e95e5cace"
  },
  {
   "cell_type": "code",
   "execution_count": 4,
   "outputs": [],
   "source": [
    "# radio de las circunferencias\n",
    "r: int = 15"
   ],
   "metadata": {
    "collapsed": false,
    "ExecuteTime": {
     "end_time": "2023-08-31T05:36:07.502163973Z",
     "start_time": "2023-08-31T05:36:07.460547496Z"
    }
   },
   "id": "89de7e820b5ad19b"
  },
  {
   "cell_type": "code",
   "execution_count": 5,
   "outputs": [
    {
     "data": {
      "text/plain": "3"
     },
     "execution_count": 5,
     "metadata": {},
     "output_type": "execute_result"
    }
   ],
   "source": [
    "# numero de circunferencias por fila\n",
    "n: int = int(size / (2 * r))\n",
    "n"
   ],
   "metadata": {
    "collapsed": false,
    "ExecuteTime": {
     "end_time": "2023-08-31T05:38:45.382686686Z",
     "start_time": "2023-08-31T05:38:45.340614258Z"
    }
   },
   "id": "821f7e23077e8205"
  },
  {
   "cell_type": "code",
   "execution_count": 9,
   "outputs": [
    {
     "data": {
      "text/plain": "2.5"
     },
     "execution_count": 9,
     "metadata": {},
     "output_type": "execute_result"
    }
   ],
   "source": [
    "# margen de las circunferencias\n",
    "m: float = (size - 2 * r * n) / (n + 1)\n",
    "m"
   ],
   "metadata": {
    "collapsed": false,
    "ExecuteTime": {
     "end_time": "2023-08-31T05:41:50.702518436Z",
     "start_time": "2023-08-31T05:41:50.658427081Z"
    }
   },
   "id": "3b892ab99ff967fb"
  },
  {
   "cell_type": "code",
   "execution_count": 38,
   "outputs": [
    {
     "ename": "IndexError",
     "evalue": "index 1 is out of bounds for axis 0 with size 1",
     "output_type": "error",
     "traceback": [
      "\u001B[0;31m---------------------------------------------------------------------------\u001B[0m",
      "\u001B[0;31mIndexError\u001B[0m                                Traceback (most recent call last)",
      "Cell \u001B[0;32mIn[38], line 9\u001B[0m\n\u001B[1;32m      7\u001B[0m     \u001B[38;5;28;01mfor\u001B[39;00m _y \u001B[38;5;129;01min\u001B[39;00m _c:\n\u001B[1;32m      8\u001B[0m         C \u001B[38;5;241m=\u001B[39m np\u001B[38;5;241m.\u001B[39mappend(C[\u001B[38;5;241m0\u001B[39m], _x)\n\u001B[0;32m----> 9\u001B[0m         C \u001B[38;5;241m=\u001B[39m np\u001B[38;5;241m.\u001B[39mappend(\u001B[43mC\u001B[49m\u001B[43m[\u001B[49m\u001B[38;5;241;43m1\u001B[39;49m\u001B[43m]\u001B[49m, _y)\n\u001B[1;32m     10\u001B[0m C\n",
      "\u001B[0;31mIndexError\u001B[0m: index 1 is out of bounds for axis 0 with size 1"
     ]
    }
   ],
   "source": [
    "# vertor de centros\n",
    "_c: np.array = np.array([m + r])\n",
    "for i in range(n - 1):\n",
    "    _c = np.append(_c, _c[i] + 2 * r + m)\n",
    "C: np.array = np.array([[], []])\n",
    "for _x in _c:\n",
    "    for _y in _c:\n",
    "        C = np.append(C[0], _x)\n",
    "        C = np.append(C[1], _y)\n",
    "C"
   ],
   "metadata": {
    "collapsed": false,
    "ExecuteTime": {
     "end_time": "2023-08-31T06:03:16.893860727Z",
     "start_time": "2023-08-31T06:03:16.846259972Z"
    }
   },
   "id": "c0b7606a09319bc4"
  },
  {
   "cell_type": "code",
   "execution_count": 28,
   "outputs": [
    {
     "data": {
      "text/plain": "array([15, 15, 15])"
     },
     "execution_count": 28,
     "metadata": {},
     "output_type": "execute_result"
    }
   ],
   "source": [
    "# vector de radios\n",
    "R: np.array = np.full(n, r)\n",
    "R"
   ],
   "metadata": {
    "collapsed": false,
    "ExecuteTime": {
     "end_time": "2023-08-31T05:56:27.216204426Z",
     "start_time": "2023-08-31T05:56:27.191288900Z"
    }
   },
   "id": "506ed8cc3a832c91"
  },
  {
   "cell_type": "code",
   "execution_count": null,
   "outputs": [],
   "source": [
    "# plot de las circunferencias\n",
    "for"
   ],
   "metadata": {
    "collapsed": false
   },
   "id": "319a8c776d060b93"
  },
  {
   "cell_type": "code",
   "execution_count": null,
   "outputs": [],
   "source": [
    "\n"
   ],
   "metadata": {
    "collapsed": false
   },
   "id": "4a9e3e5da5f5e2fd"
  }
 ],
 "metadata": {
  "kernelspec": {
   "display_name": "Python 3",
   "language": "python",
   "name": "python3"
  },
  "language_info": {
   "codemirror_mode": {
    "name": "ipython",
    "version": 2
   },
   "file_extension": ".py",
   "mimetype": "text/x-python",
   "name": "python",
   "nbconvert_exporter": "python",
   "pygments_lexer": "ipython2",
   "version": "2.7.6"
  }
 },
 "nbformat": 4,
 "nbformat_minor": 5
}
