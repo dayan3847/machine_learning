{
 "nbformat": 4,
 "nbformat_minor": 0,
 "metadata": {
  "colab": {
   "provenance": [],
   "mount_file_id": "1jAR_tG68zCCz4cirnbCD3gzuKaOpYF3J",
   "authorship_tag": "ABX9TyMer7thdo/D7jHTKbX3DAX1"
  },
  "kernelspec": {
   "name": "python3",
   "display_name": "Python 3"
  },
  "language_info": {
   "name": "python"
  },
  "accelerator": "GPU",
  "gpuClass": "standard"
 },
 "cells": [
  {
   "cell_type": "code",
   "execution_count": 2,
   "metadata": {
    "id": "vzPydVHoq7bM",
    "executionInfo": {
     "status": "ok",
     "timestamp": 1680119356722,
     "user_tz": 360,
     "elapsed": 797,
     "user": {
      "displayName": "Dayan Bravo Fraga",
      "userId": "05762651316564612225"
     }
    }
   },
   "outputs": [],
   "source": [
    "from tensorflow.keras.applications.inception_v3 import InceptionV3\n",
    "from tensorflow.keras.preprocessing import image\n",
    "from tensorflow.keras.models import Model\n",
    "from tensorflow.keras.layers import Dense, GlobalAveragePooling2D\n",
    "from tensorflow.keras.utils import to_categorical\n",
    "from tensorflow.keras.layers import Input\n",
    "from tensorflow.keras.applications.vgg16 import VGG16\n",
    "from tensorflow.keras.applications.vgg16 import preprocess_input\n",
    "import numpy as np\n",
    "import sklearn.datasets"
   ]
  },
  {
   "cell_type": "code",
   "source": [
    "from keras.datasets import cifar100\n",
    "import matplotlib.pyplot as plt\n",
    "\n",
    "(x_train, y_train), (x_test, y_test) = cifar100.load_data(label_mode='fine')\n",
    "\n",
    "# Mostrar la primera imagen del conjunto de entrenamiento\n",
    "plt.imshow(x_train[51])\n",
    "plt.show()\n",
    "\n",
    "# Imprimir el tamaño de los conjuntos de datos\n",
    "print('Tamaño del conjunto de entrenamiento:', x_train.shape)\n",
    "print('Tamaño del conjunto de prueba:', x_test.shape)\n"
   ],
   "metadata": {
    "colab": {
     "base_uri": "https://localhost:8080/",
     "height": 465
    },
    "id": "Rx3bZqms3M-R",
    "executionInfo": {
     "status": "ok",
     "timestamp": 1680120588542,
     "user_tz": 360,
     "elapsed": 1349,
     "user": {
      "displayName": "Dayan Bravo Fraga",
      "userId": "05762651316564612225"
     }
    },
    "outputId": "a604e916-0a93-472d-82cd-4ec009306b5c"
   },
   "execution_count": 24,
   "outputs": [
    {
     "output_type": "display_data",
     "data": {
      "text/plain": [
       "<Figure size 640x480 with 1 Axes>"
      ],
      "image/png": "[encoded data removed]"
     },
     "metadata": {}
    },
    {
     "output_type": "stream",
     "name": "stdout",
     "text": [
      "Tamaño del conjunto de entrenamiento: (50000, 32, 32, 3)\n",
      "Tamaño del conjunto de prueba: (10000, 32, 32, 3)\n"
     ]
    }
   ]
  },
  {
   "cell_type": "code",
   "source": [
    "x_train[0].shape"
   ],
   "metadata": {
    "colab": {
     "base_uri": "https://localhost:8080/"
    },
    "id": "coKeIt4S3V-E",
    "executionInfo": {
     "status": "ok",
     "timestamp": 1680119373935,
     "user_tz": 360,
     "elapsed": 27,
     "user": {
      "displayName": "Dayan Bravo Fraga",
      "userId": "05762651316564612225"
     }
    },
    "outputId": "1817c03a-428c-4521-ff8e-c66021ef7d61"
   },
   "execution_count": 4,
   "outputs": [
    {
     "output_type": "execute_result",
     "data": {
      "text/plain": [
       "(32, 32, 3)"
      ]
     },
     "metadata": {},
     "execution_count": 4
    }
   ]
  },
  {
   "cell_type": "code",
   "source": [
    "y_train = to_categorical(y_train)\n",
    "y_train.shape"
   ],
   "metadata": {
    "colab": {
     "base_uri": "https://localhost:8080/"
    },
    "id": "_bXDpYwu4WAm",
    "executionInfo": {
     "status": "ok",
     "timestamp": 1680119373935,
     "user_tz": 360,
     "elapsed": 19,
     "user": {
      "displayName": "Dayan Bravo Fraga",
      "userId": "05762651316564612225"
     }
    },
    "outputId": "f3497ae9-f891-4701-ea63-8c9d1a03d096"
   },
   "execution_count": 5,
   "outputs": [
    {
     "output_type": "execute_result",
     "data": {
      "text/plain": [
       "(50000, 100)"
      ]
     },
     "metadata": {},
     "execution_count": 5
    }
   ]
  },
  {
   "cell_type": "code",
   "source": [
    "output_count: int = int(y_train[0].shape[0])\n",
    "output_count"
   ],
   "metadata": {
    "colab": {
     "base_uri": "https://localhost:8080/"
    },
    "id": "gxBEQ0iK4qfH",
    "executionInfo": {
     "status": "ok",
     "timestamp": 1680119373936,
     "user_tz": 360,
     "elapsed": 16,
     "user": {
      "displayName": "Dayan Bravo Fraga",
      "userId": "05762651316564612225"
     }
    },
    "outputId": "83418390-87d7-4a5e-86d8-9ddb930377de"
   },
   "execution_count": 6,
   "outputs": [
    {
     "output_type": "execute_result",
     "data": {
      "text/plain": [
       "100"
      ]
     },
     "metadata": {},
     "execution_count": 6
    }
   ]
  },
  {
   "cell_type": "code",
   "source": [
    "#db_olivetti_faces = sklearn.datasets.fetch_olivetti_faces()"
   ],
   "metadata": {
    "id": "bpBHR6wQr5rQ",
    "executionInfo": {
     "status": "ok",
     "timestamp": 1680119373937,
     "user_tz": 360,
     "elapsed": 15,
     "user": {
      "displayName": "Dayan Bravo Fraga",
      "userId": "05762651316564612225"
     }
    }
   },
   "execution_count": 7,
   "outputs": []
  },
  {
   "cell_type": "code",
   "source": [
    "# x_train = db_olivetti_faces['images']\n",
    "# x_train[0].shape"
   ],
   "metadata": {
    "id": "OLk-MBDrufGr",
    "executionInfo": {
     "status": "ok",
     "timestamp": 1680119373938,
     "user_tz": 360,
     "elapsed": 15,
     "user": {
      "displayName": "Dayan Bravo Fraga",
      "userId": "05762651316564612225"
     }
    }
   },
   "execution_count": 8,
   "outputs": []
  },
  {
   "cell_type": "code",
   "source": [
    "# y_train = db_olivetti_faces['target']\n",
    "# y_train = to_categorical(y_train)\n",
    "# y_train.shape"
   ],
   "metadata": {
    "id": "n6xIbQN4urVL",
    "executionInfo": {
     "status": "ok",
     "timestamp": 1680119373939,
     "user_tz": 360,
     "elapsed": 15,
     "user": {
      "displayName": "Dayan Bravo Fraga",
      "userId": "05762651316564612225"
     }
    }
   },
   "execution_count": 9,
   "outputs": []
  },
  {
   "cell_type": "code",
   "source": [
    "# this could also be the output a different Keras model or layer\n",
    "input_tensor = Input(shape=x_train[0].shape)\n",
    "\n",
    "# create the base pre-trained model\n",
    "# base_model = InceptionV3(\n",
    "#     input_tensor=input_tensor,\n",
    "#     weights='imagenet', \n",
    "#     include_top=False,\n",
    "#     )\n",
    "\n",
    "\n",
    "base_model = VGG16(\n",
    "    input_tensor=input_tensor,\n",
    "    weights='imagenet', \n",
    "    include_top=False\n",
    "    )"
   ],
   "metadata": {
    "colab": {
     "base_uri": "https://localhost:8080/"
    },
    "id": "Bk6ZCR99zgj8",
    "executionInfo": {
     "status": "ok",
     "timestamp": 1680119381527,
     "user_tz": 360,
     "elapsed": 7603,
     "user": {
      "displayName": "Dayan Bravo Fraga",
      "userId": "05762651316564612225"
     }
    },
    "outputId": "23e7e7a1-1d81-4cb8-810b-3c391f12f2cf"
   },
   "execution_count": 10,
   "outputs": [
    {
     "output_type": "stream",
     "name": "stdout",
     "text": [
      "Downloading data from https://storage.googleapis.com/tensorflow/keras-applications/vgg16/vgg16_weights_tf_dim_ordering_tf_kernels_notop.h5\n",
      "58889256/58889256 [==============================] - 3s 0us/step\n"
     ]
    }
   ]
  },
  {
   "cell_type": "code",
   "source": [
    "# add a global spatial average pooling layer\n",
    "x = base_model.output\n",
    "x = GlobalAveragePooling2D()(x)\n",
    "# let's add a fully-connected layer\n",
    "x = Dense(1024, activation='relu')(x)\n",
    "# and a logistic layer -- let's say we have 200 classes\n",
    "predictions = Dense(output_count, activation='softmax')(x)\n",
    "\n",
    "# this is the model we will train\n",
    "model = Model(inputs=base_model.input, outputs=predictions)\n",
    "\n",
    "# first: train only the top layers (which were randomly initialized)\n",
    "# i.e. freeze all convolutional InceptionV3 layers\n",
    "for layer in base_model.layers:\n",
    "    layer.trainable = False\n",
    "\n",
    "# compile the model (should be done *after* setting layers to non-trainable)\n",
    "model.compile(optimizer='rmsprop', loss='categorical_crossentropy', metrics=['accuracy'])"
   ],
   "metadata": {
    "id": "zwgOLdMiq_2M",
    "executionInfo": {
     "status": "ok",
     "timestamp": 1680119970038,
     "user_tz": 360,
     "elapsed": 11,
     "user": {
      "displayName": "Dayan Bravo Fraga",
      "userId": "05762651316564612225"
     }
    }
   },
   "execution_count": 20,
   "outputs": []
  },
  {
   "cell_type": "code",
   "source": [
    "model.summary()"
   ],
   "metadata": {
    "colab": {
     "base_uri": "https://localhost:8080/"
    },
    "id": "IIc_ER-ow1Q2",
    "executionInfo": {
     "status": "ok",
     "timestamp": 1680119972151,
     "user_tz": 360,
     "elapsed": 21,
     "user": {
      "displayName": "Dayan Bravo Fraga",
      "userId": "05762651316564612225"
     }
    },
    "outputId": "0ec540d4-4d48-4907-d04d-5f0b6207c6d0"
   },
   "execution_count": 21,
   "outputs": [
    {
     "output_type": "stream",
     "name": "stdout",
     "text": [
      "Model: \"model_1\"\n",
      "_________________________________________________________________\n",
      " Layer (type)                Output Shape              Param #   \n",
      "=================================================================\n",
      " input_1 (InputLayer)        [(None, 32, 32, 3)]       0         \n",
      "                                                                 \n",
      " block1_conv1 (Conv2D)       (None, 32, 32, 64)        1792      \n",
      "                                                                 \n",
      " block1_conv2 (Conv2D)       (None, 32, 32, 64)        36928     \n",
      "                                                                 \n",
      " block1_pool (MaxPooling2D)  (None, 16, 16, 64)        0         \n",
      "                                                                 \n",
      " block2_conv1 (Conv2D)       (None, 16, 16, 128)       73856     \n",
      "                                                                 \n",
      " block2_conv2 (Conv2D)       (None, 16, 16, 128)       147584    \n",
      "                                                                 \n",
      " block2_pool (MaxPooling2D)  (None, 8, 8, 128)         0         \n",
      "                                                                 \n",
      " block3_conv1 (Conv2D)       (None, 8, 8, 256)         295168    \n",
      "                                                                 \n",
      " block3_conv2 (Conv2D)       (None, 8, 8, 256)         590080    \n",
      "                                                                 \n",
      " block3_conv3 (Conv2D)       (None, 8, 8, 256)         590080    \n",
      "                                                                 \n",
      " block3_pool (MaxPooling2D)  (None, 4, 4, 256)         0         \n",
      "                                                                 \n",
      " block4_conv1 (Conv2D)       (None, 4, 4, 512)         1180160   \n",
      "                                                                 \n",
      " block4_conv2 (Conv2D)       (None, 4, 4, 512)         2359808   \n",
      "                                                                 \n",
      " block4_conv3 (Conv2D)       (None, 4, 4, 512)         2359808   \n",
      "                                                                 \n",
      " block4_pool (MaxPooling2D)  (None, 2, 2, 512)         0         \n",
      "                                                                 \n",
      " block5_conv1 (Conv2D)       (None, 2, 2, 512)         2359808   \n",
      "                                                                 \n",
      " block5_conv2 (Conv2D)       (None, 2, 2, 512)         2359808   \n",
      "                                                                 \n",
      " block5_conv3 (Conv2D)       (None, 2, 2, 512)         2359808   \n",
      "                                                                 \n",
      " block5_pool (MaxPooling2D)  (None, 1, 1, 512)         0         \n",
      "                                                                 \n",
      " global_average_pooling2d_1   (None, 512)              0         \n",
      " (GlobalAveragePooling2D)                                        \n",
      "                                                                 \n",
      " dense_2 (Dense)             (None, 1024)              525312    \n",
      "                                                                 \n",
      " dense_3 (Dense)             (None, 100)               102500    \n",
      "                                                                 \n",
      "=================================================================\n",
      "Total params: 15,342,500\n",
      "Trainable params: 627,812\n",
      "Non-trainable params: 14,714,688\n",
      "_________________________________________________________________\n"
     ]
    }
   ]
  },
  {
   "cell_type": "code",
   "source": [
    "# train the model on the new data for a few epochs\n",
    "h = model.fit(x_train, y_train, epochs=10, validation_split = 0.2)"
   ],
   "metadata": {
    "colab": {
     "base_uri": "https://localhost:8080/"
    },
    "id": "ma4EhDKhrChB",
    "executionInfo": {
     "status": "ok",
     "timestamp": 1680120123004,
     "user_tz": 360,
     "elapsed": 143667,
     "user": {
      "displayName": "Dayan Bravo Fraga",
      "userId": "05762651316564612225"
     }
    },
    "outputId": "e4e3f0b7-0bfb-4af6-8f36-1719b91d972f"
   },
   "execution_count": 22,
   "outputs": [
    {
     "output_type": "stream",
     "name": "stdout",
     "text": [
      "Epoch 1/10\n",
      "1250/1250 [==============================] - 14s 10ms/step - loss: 4.5759 - accuracy: 0.2161 - val_loss: 3.4750 - val_accuracy: 0.2434\n",
      "Epoch 2/10\n",
      "1250/1250 [==============================] - 12s 10ms/step - loss: 3.1071 - accuracy: 0.3063 - val_loss: 3.6207 - val_accuracy: 0.2600\n",
      "Epoch 3/10\n",
      "1250/1250 [==============================] - 12s 10ms/step - loss: 2.9326 - accuracy: 0.3518 - val_loss: 3.8032 - val_accuracy: 0.2538\n",
      "Epoch 4/10\n",
      "1250/1250 [==============================] - 12s 10ms/step - loss: 2.7867 - accuracy: 0.3798 - val_loss: 4.0974 - val_accuracy: 0.2652\n",
      "Epoch 5/10\n",
      "1250/1250 [==============================] - 12s 10ms/step - loss: 2.6633 - accuracy: 0.4095 - val_loss: 4.3285 - val_accuracy: 0.2673\n",
      "Epoch 6/10\n",
      "1250/1250 [==============================] - 12s 10ms/step - loss: 2.5471 - accuracy: 0.4417 - val_loss: 4.6442 - val_accuracy: 0.2741\n",
      "Epoch 7/10\n",
      "1250/1250 [==============================] - 13s 10ms/step - loss: 2.4127 - accuracy: 0.4682 - val_loss: 4.8179 - val_accuracy: 0.2639\n",
      "Epoch 8/10\n",
      "1250/1250 [==============================] - 13s 10ms/step - loss: 2.3026 - accuracy: 0.4905 - val_loss: 5.1476 - val_accuracy: 0.2659\n",
      "Epoch 9/10\n",
      "1250/1250 [==============================] - 13s 10ms/step - loss: 2.2120 - accuracy: 0.5147 - val_loss: 5.4481 - val_accuracy: 0.2712\n",
      "Epoch 10/10\n",
      "1250/1250 [==============================] - 13s 10ms/step - loss: 2.1201 - accuracy: 0.5337 - val_loss: 5.7120 - val_accuracy: 0.2665\n"
     ]
    }
   ]
  },
  {
   "cell_type": "code",
   "source": [
    "model.save('model1')"
   ],
   "metadata": {
    "colab": {
     "base_uri": "https://localhost:8080/"
    },
    "id": "dGUM1G37-RBk",
    "executionInfo": {
     "status": "ok",
     "timestamp": 1680120350007,
     "user_tz": 360,
     "elapsed": 2791,
     "user": {
      "displayName": "Dayan Bravo Fraga",
      "userId": "05762651316564612225"
     }
    },
    "outputId": "ffc15e00-861c-4e45-ae10-f6708f74d673"
   },
   "execution_count": 23,
   "outputs": [
    {
     "output_type": "stream",
     "name": "stderr",
     "text": [
      "WARNING:absl:Found untraced functions such as _jit_compiled_convolution_op, _jit_compiled_convolution_op, _jit_compiled_convolution_op, _jit_compiled_convolution_op, _jit_compiled_convolution_op while saving (showing 5 of 13). These functions will not be directly callable after loading.\n"
     ]
    }
   ]
  },
  {
   "cell_type": "code",
   "source": [
    "# at this point, the top layers are well trained and we can start fine-tuning\n",
    "# convolutional layers from inception V3. We will freeze the bottom N layers\n",
    "# and train the remaining top layers.\n",
    "\n",
    "# let's visualize layer names and layer indices to see how many layers\n",
    "# we should freeze:\n",
    "# for i, layer in enumerate(base_model.layers):\n",
    "#   print(i, layer.name)\n"
   ],
   "metadata": {
    "colab": {
     "base_uri": "https://localhost:8080/"
    },
    "id": "g992Ov3trGW6",
    "executionInfo": {
     "status": "ok",
     "timestamp": 1680119524917,
     "user_tz": 360,
     "elapsed": 48,
     "user": {
      "displayName": "Dayan Bravo Fraga",
      "userId": "05762651316564612225"
     }
    },
    "outputId": "f67b9e18-f604-4275-b921-bdecc803a064"
   },
   "execution_count": 14,
   "outputs": [
    {
     "output_type": "stream",
     "name": "stdout",
     "text": [
      "0 input_1\n",
      "1 block1_conv1\n",
      "2 block1_conv2\n",
      "3 block1_pool\n",
      "4 block2_conv1\n",
      "5 block2_conv2\n",
      "6 block2_pool\n",
      "7 block3_conv1\n",
      "8 block3_conv2\n",
      "9 block3_conv3\n",
      "10 block3_pool\n",
      "11 block4_conv1\n",
      "12 block4_conv2\n",
      "13 block4_conv3\n",
      "14 block4_pool\n",
      "15 block5_conv1\n",
      "16 block5_conv2\n",
      "17 block5_conv3\n",
      "18 block5_pool\n"
     ]
    }
   ]
  },
  {
   "cell_type": "code",
   "source": [
    "# we chose to train the top 2 inception blocks, i.e. we will freeze\n",
    "# the first 249 layers and unfreeze the rest:\n",
    "# for layer in model.layers[:249]:\n",
    "#    layer.trainable = False\n",
    "# for layer in model.layers[249:]:\n",
    "#    layer.trainable = True"
   ],
   "metadata": {
    "id": "eeWVuR2MrWPP",
    "executionInfo": {
     "status": "ok",
     "timestamp": 1680119524917,
     "user_tz": 360,
     "elapsed": 39,
     "user": {
      "displayName": "Dayan Bravo Fraga",
      "userId": "05762651316564612225"
     }
    }
   },
   "execution_count": 15,
   "outputs": []
  },
  {
   "cell_type": "code",
   "source": [
    "# we need to recompile the model for these modifications to take effect\n",
    "# we use SGD with a low learning rate\n",
    "# from tensorflow.keras.optimizers import SGD\n",
    "# model.compile(optimizer=SGD(lr=0.0001, momentum=0.9), loss='categorical_crossentropy')"
   ],
   "metadata": {
    "colab": {
     "base_uri": "https://localhost:8080/"
    },
    "id": "x7a5ybEzrJlz",
    "executionInfo": {
     "status": "ok",
     "timestamp": 1680119524918,
     "user_tz": 360,
     "elapsed": 38,
     "user": {
      "displayName": "Dayan Bravo Fraga",
      "userId": "05762651316564612225"
     }
    },
    "outputId": "c95d6078-3a67-427d-983c-6ec02821e1c3"
   },
   "execution_count": 16,
   "outputs": [
    {
     "output_type": "stream",
     "name": "stderr",
     "text": [
      "WARNING:absl:`lr` is deprecated, please use `learning_rate` instead, or use the legacy optimizer, e.g.,tf.keras.optimizers.legacy.SGD.\n"
     ]
    }
   ]
  },
  {
   "cell_type": "code",
   "source": [
    "# we train our model again (this time fine-tuning the top 2 inception blocks\n",
    "# alongside the top Dense layers\n",
    "# model.fit(...)"
   ],
   "metadata": {
    "colab": {
     "base_uri": "https://localhost:8080/",
     "height": 363
    },
    "id": "iC66C9uJrMDC",
    "executionInfo": {
     "status": "error",
     "timestamp": 1680119524918,
     "user_tz": 360,
     "elapsed": 30,
     "user": {
      "displayName": "Dayan Bravo Fraga",
      "userId": "05762651316564612225"
     }
    },
    "outputId": "81ed25b8-6ed3-4d7b-8227-f354e6fe1842"
   },
   "execution_count": null,
   "outputs": []
  }
 ]
}
