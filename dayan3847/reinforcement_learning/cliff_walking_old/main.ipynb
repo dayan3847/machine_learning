{
 "cells": [
  {
   "cell_type": "code",
   "execution_count": 17,
   "outputs": [],
   "source": [
    "import time\n",
    "import numpy as np\n",
    "import multiprocessing as mp\n",
    "import matplotlib.pyplot as plt\n",
    "from IPython.display import clear_output\n",
    "from matplotlib.animation import FuncAnimation\n",
    "from matplotlib.figure import Figure\n",
    "from matplotlib.lines import Line2D\n",
    "\n",
    "\n",
    "class Plotter:\n",
    "    def __init__(\n",
    "            self,\n",
    "            title_: str = '',\n",
    "            fig_size: tuple = (15, 5)\n",
    "    ):\n",
    "        self.title = title_\n",
    "        self.p_axs: list[PlotterAx] = []\n",
    "        self.fig: Figure = plt.figure(figsize=fig_size)\n",
    "\n",
    "    def get_ax(self, pos: int) -> plt.Axes:\n",
    "        return self.fig.add_subplot(pos)\n",
    "\n",
    "    def add_p_ax(self, p_ax_: 'PlotterAx'):\n",
    "        self.p_axs.append(p_ax_)\n",
    "\n",
    "    def plot(self, animate: bool = True, clear_output_: bool = False):\n",
    "        if self.title != '':\n",
    "            self.fig.suptitle(self.title)\n",
    "        for pax in self.p_axs:\n",
    "            pax.plot()\n",
    "\n",
    "        if animate:\n",
    "            _ani = FuncAnimation(\n",
    "                self.fig,\n",
    "                self.plot_callback,\n",
    "                blit=True,\n",
    "                interval=17  # for 60 fps use interval=17\n",
    "            )\n",
    "        plt.tight_layout()\n",
    "        if clear_output_:\n",
    "            clear_output(wait=True)\n",
    "        plt.show()\n",
    "\n",
    "    def plot_callback(self, frame) -> tuple:\n",
    "        r_ = tuple(pax.plot_callback() for pax in self.p_axs)\n",
    "        self.fig.canvas.draw()\n",
    "        return r_\n",
    "\n",
    "\n",
    "class PlotterAx:\n",
    "    def __init__(\n",
    "            self,\n",
    "            ax_: plt.Axes,\n",
    "            queue_: mp.Queue,\n",
    "            title: str = 'Rewards',\n",
    "            label: str = 'Rewards',\n",
    "            xlabel: str = 'Episode',\n",
    "            ylabel: str = 'Sum of rewards'\n",
    "    ):\n",
    "        self.ax: plt.Axes = ax_\n",
    "        self.queue = queue_\n",
    "        self.title = title\n",
    "        self.label = label\n",
    "        self.xlabel = xlabel\n",
    "        self.ylabel = ylabel\n",
    "\n",
    "        _current_data = self.get_current_data()\n",
    "        self.ax.set_title(_current_data['title'])\n",
    "        self.ax_line: Line2D = self.ax.plot(_current_data['x'], _current_data['y'], label=label, c='b')[0]\n",
    "\n",
    "    def plot(self):\n",
    "        self.ax.set_xlabel(self.xlabel)\n",
    "        self.ax.set_ylabel(self.ylabel)\n",
    "        self.ax.legend()\n",
    "\n",
    "    def plot_callback(self):\n",
    "        if not self.queue.empty():\n",
    "            current_data: np.array = self.get_current_data()\n",
    "            self.ax.set_title(current_data['title'])\n",
    "            self.ax_line.set_xdata(current_data['x'])\n",
    "            self.ax_line.set_ydata(current_data['y'])\n",
    "            self.ax.relim()\n",
    "            self.ax.autoscale_view()\n",
    "\n",
    "        return self.ax_line\n",
    "\n",
    "    def get_current_data(self) -> dict:\n",
    "        current_data = None\n",
    "        while not self.queue.empty():\n",
    "            current_data: np.array = self.queue.get()\n",
    "        if current_data is None:\n",
    "            current_data = {\n",
    "                'title': self.title,\n",
    "                'x': [],\n",
    "                'y': [],\n",
    "            }\n",
    "        return current_data\n"
   ],
   "metadata": {
    "collapsed": false,
    "ExecuteTime": {
     "end_time": "2023-10-13T23:31:32.786103342Z",
     "start_time": "2023-10-13T23:31:32.741593936Z"
    }
   },
   "id": "270b5ce7a2967bd2"
  },
  {
   "cell_type": "code",
   "execution_count": 18,
   "outputs": [],
   "source": [
    "class Trainner:\n",
    "    def __init__(self):\n",
    "        self.experiments_count: int = 1000\n",
    "        self.episodes_count: int = 100\n",
    "        self.rewards: np.ndarray = np.zeros((self.experiments_count, self.episodes_count))\n",
    "\n",
    "    def train_callback(self, queue_rewards_: mp.Queue, queue_stop_: mp.Queue):\n",
    "        for i in range(self.experiments_count):\n",
    "            for j in range(self.episodes_count):\n",
    "                title = 'Experiment: {}/{} Episode: {}/{}'.format(\n",
    "                    i + 1,\n",
    "                    self.experiments_count,\n",
    "                    j + 1,\n",
    "                    self.episodes_count\n",
    "                )\n",
    "                self.rewards[i, j] = np.random.normal()\n",
    "                sum_rewards = self.rewards.sum(axis=0)\n",
    "                current_data = {\n",
    "                    'title': title,\n",
    "                    'x': np.arange(self.episodes_count),\n",
    "                    'y': sum_rewards,\n",
    "                }\n",
    "                queue_rewards_.put(current_data)\n",
    "                if not queue_stop_.empty():\n",
    "                    print('stop')\n",
    "                    return ''"
   ],
   "metadata": {
    "collapsed": false,
    "ExecuteTime": {
     "end_time": "2023-10-13T23:31:32.788643179Z",
     "start_time": "2023-10-13T23:31:32.786014021Z"
    }
   },
   "id": "3bdde5b23da581b3"
  },
  {
   "cell_type": "code",
   "execution_count": 19,
   "id": "initial_id",
   "metadata": {
    "collapsed": true,
    "ExecuteTime": {
     "end_time": "2023-10-13T23:31:32.794116941Z",
     "start_time": "2023-10-13T23:31:32.792065944Z"
    }
   },
   "outputs": [],
   "source": [
    "def get_plot(queue_rewards_: mp.Queue):\n",
    "    _p: Plotter = Plotter()\n",
    "    _p.add_p_ax(PlotterAx(_p.get_ax(111), queue_rewards_))\n",
    "    return _p"
   ]
  },
  {
   "cell_type": "code",
   "execution_count": 20,
   "outputs": [
    {
     "data": {
      "text/plain": "<Figure size 1500x500 with 1 Axes>",
      "image/png": "[encoded data removed]"
     },
     "metadata": {},
     "output_type": "display_data"
    }
   ],
   "source": [
    "if __name__ == '__main__':\n",
    "    queue_rewards: mp.Queue = mp.Queue()\n",
    "    queue_stop: mp.Queue = mp.Queue()\n",
    "    t = Trainner()\n",
    "\n",
    "    process: mp.Process = mp.Process(\n",
    "        target=t.train_callback,\n",
    "        args=(queue_rewards, queue_stop),\n",
    "    )\n",
    "    process.start()\n",
    "\n",
    "    for _ in range(10):\n",
    "        plt.close()\n",
    "        p: Plotter = get_plot(queue_rewards)\n",
    "        p.plot(animate=False, clear_output_=True)\n",
    "        time.sleep(1)\n",
    "    queue_stop.put(1)\n",
    "    # process.join()\n",
    "    process.terminate()"
   ],
   "metadata": {
    "collapsed": false
   },
   "id": "e60f737c88838b76"
  }
 ],
 "metadata": {
  "kernelspec": {
   "display_name": "Python 3",
   "language": "python",
   "name": "python3"
  },
  "language_info": {
   "codemirror_mode": {
    "name": "ipython",
    "version": 2
   },
   "file_extension": ".py",
   "mimetype": "text/x-python",
   "name": "python",
   "nbconvert_exporter": "python",
   "pygments_lexer": "ipython2",
   "version": "2.7.6"
  }
 },
 "nbformat": 4,
 "nbformat_minor": 5
}
