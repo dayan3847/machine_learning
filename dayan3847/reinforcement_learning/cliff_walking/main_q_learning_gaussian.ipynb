{
 "cells": [
  {
   "cell_type": "code",
   "execution_count": 1,
   "id": "initial_id",
   "metadata": {
    "collapsed": true,
    "ExecuteTime": {
     "end_time": "2023-10-23T05:31:58.057281888Z",
     "start_time": "2023-10-23T05:31:57.302082888Z"
    }
   },
   "outputs": [
    {
     "name": "stdout",
     "output_type": "stream",
     "text": [
      "pygame-ce 2.3.2 (SDL 2.26.5, Python 3.10.12)\n"
     ]
    }
   ],
   "source": [
    "import numpy as np\n",
    "import matplotlib.pyplot as plt\n",
    "from Agent import Environment, AgentQLearning, AgentQLearningGaussian\n",
    "from Trainner import Trainner"
   ]
  },
  {
   "cell_type": "code",
   "execution_count": 2,
   "outputs": [],
   "source": [
    "np.random.seed(0)"
   ],
   "metadata": {
    "collapsed": false,
    "ExecuteTime": {
     "end_time": "2023-10-23T05:31:58.060235085Z",
     "start_time": "2023-10-23T05:31:58.058093393Z"
    }
   },
   "id": "eb42e3a3e8f24e65"
  },
  {
   "cell_type": "code",
   "execution_count": 3,
   "outputs": [],
   "source": [
    "env: Environment = Environment()\n",
    "agent: AgentQLearning = AgentQLearningGaussian(env)\n",
    "trainer = Trainner(agent, 1, 200)"
   ],
   "metadata": {
    "collapsed": false,
    "ExecuteTime": {
     "end_time": "2023-10-23T05:31:58.082403919Z",
     "start_time": "2023-10-23T05:31:58.061078688Z"
    }
   },
   "id": "91246caac1b69a46"
  },
  {
   "cell_type": "code",
   "execution_count": null,
   "outputs": [
    {
     "name": "stdout",
     "output_type": "stream",
     "text": [
      "Experiment: 1/1 Episode: 1/200\n",
      "Experiment: 1/1 Episode: 2/200\n",
      "Experiment: 1/1 Episode: 3/200\n",
      "Experiment: 1/1 Episode: 4/200\n",
      "Experiment: 1/1 Episode: 5/200\n",
      "Experiment: 1/1 Episode: 6/200\n",
      "Experiment: 1/1 Episode: 7/200\n",
      "Experiment: 1/1 Episode: 8/200\n",
      "Experiment: 1/1 Episode: 9/200\n",
      "Experiment: 1/1 Episode: 10/200\n",
      "Experiment: 1/1 Episode: 11/200\n",
      "Experiment: 1/1 Episode: 12/200\n",
      "Experiment: 1/1 Episode: 13/200\n",
      "Experiment: 1/1 Episode: 14/200\n",
      "Experiment: 1/1 Episode: 15/200\n",
      "Experiment: 1/1 Episode: 16/200\n",
      "Experiment: 1/1 Episode: 17/200\n",
      "Experiment: 1/1 Episode: 18/200\n",
      "Experiment: 1/1 Episode: 19/200\n",
      "Experiment: 1/1 Episode: 20/200\n",
      "Experiment: 1/1 Episode: 21/200\n",
      "Experiment: 1/1 Episode: 22/200\n",
      "Experiment: 1/1 Episode: 23/200\n",
      "Experiment: 1/1 Episode: 24/200\n",
      "Experiment: 1/1 Episode: 25/200\n",
      "Experiment: 1/1 Episode: 26/200\n",
      "Experiment: 1/1 Episode: 27/200\n",
      "Experiment: 1/1 Episode: 28/200\n",
      "Experiment: 1/1 Episode: 29/200\n",
      "Experiment: 1/1 Episode: 30/200\n",
      "Experiment: 1/1 Episode: 31/200\n",
      "Experiment: 1/1 Episode: 32/200\n",
      "Experiment: 1/1 Episode: 33/200\n",
      "Experiment: 1/1 Episode: 34/200\n",
      "Experiment: 1/1 Episode: 35/200\n",
      "Experiment: 1/1 Episode: 36/200\n",
      "Experiment: 1/1 Episode: 37/200\n",
      "Experiment: 1/1 Episode: 38/200\n",
      "Experiment: 1/1 Episode: 39/200\n",
      "Experiment: 1/1 Episode: 40/200\n",
      "Experiment: 1/1 Episode: 41/200\n",
      "Experiment: 1/1 Episode: 42/200\n",
      "Experiment: 1/1 Episode: 43/200\n",
      "Experiment: 1/1 Episode: 44/200\n",
      "Experiment: 1/1 Episode: 45/200\n",
      "Experiment: 1/1 Episode: 46/200\n",
      "Experiment: 1/1 Episode: 47/200\n",
      "Experiment: 1/1 Episode: 48/200\n",
      "Experiment: 1/1 Episode: 49/200\n",
      "Experiment: 1/1 Episode: 50/200\n",
      "Experiment: 1/1 Episode: 51/200\n",
      "Experiment: 1/1 Episode: 52/200\n",
      "Experiment: 1/1 Episode: 53/200\n",
      "Experiment: 1/1 Episode: 54/200\n",
      "Experiment: 1/1 Episode: 55/200\n",
      "Experiment: 1/1 Episode: 56/200\n",
      "Experiment: 1/1 Episode: 57/200\n",
      "Experiment: 1/1 Episode: 58/200\n",
      "Experiment: 1/1 Episode: 59/200\n",
      "Experiment: 1/1 Episode: 60/200\n",
      "Experiment: 1/1 Episode: 61/200\n",
      "Experiment: 1/1 Episode: 62/200\n",
      "Experiment: 1/1 Episode: 63/200\n",
      "Experiment: 1/1 Episode: 64/200\n",
      "Experiment: 1/1 Episode: 65/200\n",
      "Experiment: 1/1 Episode: 66/200\n",
      "Experiment: 1/1 Episode: 67/200\n",
      "Experiment: 1/1 Episode: 68/200\n",
      "Experiment: 1/1 Episode: 69/200\n",
      "Experiment: 1/1 Episode: 70/200\n",
      "Experiment: 1/1 Episode: 71/200\n",
      "Experiment: 1/1 Episode: 72/200\n",
      "Experiment: 1/1 Episode: 73/200\n",
      "Experiment: 1/1 Episode: 74/200\n",
      "Experiment: 1/1 Episode: 75/200\n",
      "Experiment: 1/1 Episode: 76/200\n",
      "Experiment: 1/1 Episode: 77/200\n",
      "Experiment: 1/1 Episode: 78/200\n",
      "Experiment: 1/1 Episode: 79/200\n",
      "Experiment: 1/1 Episode: 80/200\n",
      "Experiment: 1/1 Episode: 81/200\n",
      "Experiment: 1/1 Episode: 82/200\n",
      "Experiment: 1/1 Episode: 83/200\n",
      "Experiment: 1/1 Episode: 84/200\n",
      "Experiment: 1/1 Episode: 85/200\n",
      "Experiment: 1/1 Episode: 86/200\n",
      "Experiment: 1/1 Episode: 87/200\n",
      "Experiment: 1/1 Episode: 88/200\n",
      "Experiment: 1/1 Episode: 89/200\n",
      "Experiment: 1/1 Episode: 90/200\n",
      "Experiment: 1/1 Episode: 91/200\n",
      "Experiment: 1/1 Episode: 92/200\n",
      "Experiment: 1/1 Episode: 93/200\n",
      "Experiment: 1/1 Episode: 94/200\n",
      "Experiment: 1/1 Episode: 95/200\n",
      "Experiment: 1/1 Episode: 96/200\n",
      "Experiment: 1/1 Episode: 97/200\n",
      "Experiment: 1/1 Episode: 98/200\n",
      "Experiment: 1/1 Episode: 99/200\n",
      "Experiment: 1/1 Episode: 100/200\n",
      "Experiment: 1/1 Episode: 101/200\n",
      "Experiment: 1/1 Episode: 102/200\n",
      "Experiment: 1/1 Episode: 103/200\n",
      "Experiment: 1/1 Episode: 104/200\n",
      "Experiment: 1/1 Episode: 105/200\n",
      "Experiment: 1/1 Episode: 106/200\n",
      "Experiment: 1/1 Episode: 107/200\n",
      "Experiment: 1/1 Episode: 108/200\n",
      "Experiment: 1/1 Episode: 109/200\n",
      "Experiment: 1/1 Episode: 110/200\n",
      "Experiment: 1/1 Episode: 111/200\n",
      "Experiment: 1/1 Episode: 112/200\n",
      "Experiment: 1/1 Episode: 113/200\n",
      "Experiment: 1/1 Episode: 114/200\n",
      "Experiment: 1/1 Episode: 115/200\n",
      "Experiment: 1/1 Episode: 116/200\n",
      "Experiment: 1/1 Episode: 117/200\n",
      "Experiment: 1/1 Episode: 118/200\n",
      "Experiment: 1/1 Episode: 119/200\n",
      "Experiment: 1/1 Episode: 120/200\n",
      "Experiment: 1/1 Episode: 121/200\n",
      "Experiment: 1/1 Episode: 122/200\n",
      "Experiment: 1/1 Episode: 123/200\n",
      "Experiment: 1/1 Episode: 124/200\n",
      "Experiment: 1/1 Episode: 125/200\n",
      "Experiment: 1/1 Episode: 126/200\n",
      "Experiment: 1/1 Episode: 127/200\n",
      "Experiment: 1/1 Episode: 128/200\n",
      "Experiment: 1/1 Episode: 129/200\n",
      "Experiment: 1/1 Episode: 130/200\n",
      "Experiment: 1/1 Episode: 131/200\n",
      "Experiment: 1/1 Episode: 132/200\n"
     ]
    }
   ],
   "source": [
    "trainer.train_callback()"
   ],
   "metadata": {
    "collapsed": false,
    "is_executing": true,
    "ExecuteTime": {
     "start_time": "2023-10-23T05:31:58.081000758Z"
    }
   },
   "id": "114c322492a92019"
  },
  {
   "cell_type": "code",
   "execution_count": null,
   "outputs": [],
   "source": [
    "# Plot the Reward Average\n",
    "plt.plot(trainer.get_rewards_average(), label='Reward Average')\n",
    "plt.xlabel('Episode')\n",
    "plt.ylabel('Reward Average')\n",
    "plt.show()"
   ],
   "metadata": {
    "collapsed": false,
    "is_executing": true
   },
   "id": "28f19e047a5b80de"
  },
  {
   "cell_type": "code",
   "execution_count": null,
   "outputs": [],
   "source": [
    "# Plot the Success\n",
    "plt.plot(trainer.success, label='Success')\n",
    "plt.xlabel('Episode')\n",
    "plt.ylabel('Success')\n",
    "plt.show()"
   ],
   "metadata": {
    "collapsed": false,
    "is_executing": true
   },
   "id": "d9bd7e6018ea926c"
  },
  {
   "cell_type": "code",
   "execution_count": null,
   "outputs": [],
   "source": [],
   "metadata": {
    "collapsed": false,
    "is_executing": true
   },
   "id": "bad18b491093a33a"
  }
 ],
 "metadata": {
  "kernelspec": {
   "display_name": "Python 3",
   "language": "python",
   "name": "python3"
  },
  "language_info": {
   "codemirror_mode": {
    "name": "ipython",
    "version": 2
   },
   "file_extension": ".py",
   "mimetype": "text/x-python",
   "name": "python",
   "nbconvert_exporter": "python",
   "pygments_lexer": "ipython2",
   "version": "2.7.6"
  }
 },
 "nbformat": 4,
 "nbformat_minor": 5
}
