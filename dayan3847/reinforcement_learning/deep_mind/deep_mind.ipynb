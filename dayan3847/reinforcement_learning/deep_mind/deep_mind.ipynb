{
 "cells": [
  {
   "cell_type": "code",
   "execution_count": null,
   "id": "4874c24b22ea882f",
   "metadata": {},
   "outputs": [],
   "source": [
    "import numpy as np\n",
    "from dm_control import suite\n",
    "import matplotlib\n",
    "import matplotlib.pyplot as plt\n",
    "import matplotlib.animation as animation\n",
    "from IPython.display import HTML\n",
    "import copy\n",
    "from dm_control.rl.control import Environment"
   ]
  },
  {
   "cell_type": "code",
   "execution_count": null,
   "id": "initial_id",
   "metadata": {},
   "outputs": [],
   "source": [
    "#@title Loading and simulating a `suite` task{vertical-output: true}\n",
    "\n",
    "# Load the environment\n",
    "random_state = np.random.RandomState(42)\n",
    "env: Environment = suite.load('cartpole', 'balance', task_kwargs={'random': random_state})"
   ]
  },
  {
   "cell_type": "code",
   "execution_count": null,
   "id": "72c5ef9fc74f935e",
   "metadata": {},
   "outputs": [],
   "source": [
    "def display_video(frames, framerate=30):\n",
    "    height, width, _ = frames[0].shape\n",
    "    dpi = 70\n",
    "    orig_backend = matplotlib.get_backend()\n",
    "    matplotlib.use('Agg')  # Switch to headless 'Agg' to inhibit figure rendering.\n",
    "    fig, ax = plt.subplots(1, 1, figsize=(width / dpi, height / dpi), dpi=dpi)\n",
    "    matplotlib.use(orig_backend)  # Switch back to the original backend.\n",
    "    ax.set_axis_off()\n",
    "    ax.set_aspect('equal')\n",
    "    ax.set_position([0, 0, 1, 1])\n",
    "    im = ax.imshow(frames[0])\n",
    "\n",
    "    def update(frame):\n",
    "        im.set_data(frame)\n",
    "        return [im]\n",
    "\n",
    "    interval = 1000 / framerate\n",
    "    anim = animation.FuncAnimation(fig=fig, func=update, frames=frames,\n",
    "                                   interval=interval, blit=True, repeat=False)\n",
    "    return HTML(anim.to_html5_video())"
   ]
  },
  {
   "cell_type": "code",
   "execution_count": null,
   "id": "e43654f1a3c6976b",
   "metadata": {},
   "outputs": [],
   "source": [
    "# Simulate episode with random actions\n",
    "ticks = []\n",
    "rewards = []\n",
    "observations = []\n",
    "\n",
    "frames = []\n",
    "\n",
    "spec = env.action_spec()\n",
    "time_step = env.reset()\n"
   ]
  },
  {
   "cell_type": "code",
   "execution_count": 12,
   "outputs": [
    {
     "data": {
      "text/plain": "(1,)"
     },
     "execution_count": 12,
     "metadata": {},
     "output_type": "execute_result"
    }
   ],
   "source": [
    "spec.shape"
   ],
   "metadata": {
    "collapsed": false,
    "ExecuteTime": {
     "end_time": "2023-11-05T23:57:56.624479711Z",
     "start_time": "2023-11-05T23:57:56.582163893Z"
    }
   },
   "id": "482a4aa4b4545071"
  },
  {
   "cell_type": "code",
   "execution_count": 13,
   "outputs": [
    {
     "data": {
      "text/plain": "OrderedDict([('position', array([ 0.21311321,  0.19642511, -0.98051883])),\n             ('velocity', array([ 0.05017089, -4.78948813]))])"
     },
     "execution_count": 13,
     "metadata": {},
     "output_type": "execute_result"
    }
   ],
   "source": [
    "time_step.observation"
   ],
   "metadata": {
    "collapsed": false,
    "ExecuteTime": {
     "end_time": "2023-11-06T00:01:52.520794500Z",
     "start_time": "2023-11-06T00:01:52.477550031Z"
    }
   },
   "id": "42d544000e25a852"
  },
  {
   "cell_type": "code",
   "execution_count": null,
   "outputs": [],
   "source": [
    "state_frames_count: int = 10000\n",
    "for i in range(state_frames_count):\n",
    "    action = 0\n",
    "    print(\"Action: \", action)\n",
    "    time_step = env.step(action)\n",
    "    print(\"Position: \", time_step.observation['position'])\n",
    "    print(\"Velocity: \", time_step.observation['velocity'])\n",
    "    print(\"Reward: \", time_step.reward)\n",
    "\n",
    "    camera0 = env.physics.render(camera_id=0, height=100, width=100)\n",
    "    print(\"camera0.shape\")\n",
    "    print(camera0.shape)\n",
    "    frames.append(camera0)\n",
    "    # Save frame has file\n",
    "    #cv2.imwrite(\"frame%d.jpg\" % i, camera0)\n",
    "\n",
    "    rewards.append(time_step.reward)\n",
    "    observations.append(copy.deepcopy(time_step.observation))\n",
    "    ticks.append(env.physics.data.time)\n",
    "\n",
    "html_video = display_video(frames, framerate=1. / env.control_timestep())\n",
    "\n",
    "# Show video and plot reward and observations\n",
    "num_sensors = len(time_step.observation)\n",
    "\n",
    "_, ax = plt.subplots(1 + num_sensors, 1, sharex=True, figsize=(4, 8))\n",
    "ax[0].plot(ticks, rewards)\n",
    "ax[0].set_ylabel('reward')\n",
    "ax[-1].set_xlabel('time')\n",
    "\n",
    "for i, key in enumerate(time_step.observation):\n",
    "    data = np.asarray([observations[j][key] for j in range(len(observations))])\n",
    "    ax[i + 1].plot(ticks, data, label=key)\n",
    "    ax[i + 1].set_ylabel(key)\n",
    "\n",
    "print(f'cantidad de frames {len(frames)}')\n",
    "\n",
    "html_video"
   ],
   "metadata": {
    "collapsed": false
   },
   "id": "7051e3b33696593c"
  },
  {
   "cell_type": "code",
   "execution_count": null,
   "id": "82b2e2a1ed9d9d31",
   "metadata": {},
   "outputs": [],
   "source": [
    "frames[0].shape"
   ]
  },
  {
   "cell_type": "code",
   "execution_count": null,
   "id": "c2ade173b1a5f9d8",
   "metadata": {},
   "outputs": [],
   "source": [
    "from Agent import Agent"
   ]
  },
  {
   "cell_type": "code",
   "execution_count": null,
   "id": "69ac53eae1ec0a7b",
   "metadata": {},
   "outputs": [],
   "source": [
    "#@title Construimos al agente\n",
    "agent = Agent(\n",
    "    env,\n",
    "    frames,\n",
    "    state_frames_count,\n",
    "    7,\n",
    ")"
   ]
  },
  {
   "cell_type": "code",
   "execution_count": null,
   "id": "47964e196228173a",
   "metadata": {},
   "outputs": [],
   "source": [
    "agent.run_step()"
   ]
  },
  {
   "cell_type": "code",
   "execution_count": null,
   "id": "3d53084a73cc9171",
   "metadata": {},
   "outputs": [],
   "source": [
    "html_video = display_video(frames, framerate=1. / env.control_timestep())\n",
    "\n",
    "# Show video and plot reward and observations\n",
    "num_sensors = len(time_step.observation)\n",
    "\n",
    "_, ax = plt.subplots(1 + num_sensors, 1, sharex=True, figsize=(4, 8))\n",
    "ax[0].plot(ticks, rewards)\n",
    "ax[0].set_ylabel('reward')\n",
    "ax[-1].set_xlabel('time')\n",
    "\n",
    "# for i, key in enumerate(time_step.observation):\n",
    "#   data = np.asarray([observations[j][key] for j in range(len(observations))])\n",
    "#   ax[i+1].plot(ticks, data, label=key)\n",
    "#   ax[i+1].set_ylabel(key)\n",
    "\n",
    "html_video"
   ]
  }
 ],
 "metadata": {
  "kernelspec": {
   "display_name": "Python 3 (ipykernel)",
   "language": "python",
   "name": "python3"
  },
  "language_info": {
   "codemirror_mode": {
    "name": "ipython",
    "version": 3
   },
   "file_extension": ".py",
   "mimetype": "text/x-python",
   "name": "python",
   "nbconvert_exporter": "python",
   "pygments_lexer": "ipython3",
   "version": "3.10.12"
  }
 },
 "nbformat": 4,
 "nbformat_minor": 5
}
