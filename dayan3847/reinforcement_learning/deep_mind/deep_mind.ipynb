{
 "cells": [
  {
   "cell_type": "code",
   "execution_count": 1,
   "outputs": [],
   "source": [
    "import numpy as np\n",
    "from dm_control import suite\n",
    "import matplotlib\n",
    "import matplotlib.pyplot as plt\n",
    "import matplotlib.animation as animation\n",
    "from IPython.display import HTML\n",
    "import copy\n",
    "from dm_control.rl.control import Environment"
   ],
   "metadata": {
    "collapsed": false,
    "ExecuteTime": {
     "end_time": "2023-11-05T18:59:22.321053308Z",
     "start_time": "2023-11-05T18:59:21.789004153Z"
    }
   },
   "id": "4874c24b22ea882f"
  },
  {
   "cell_type": "code",
   "execution_count": 2,
   "id": "initial_id",
   "metadata": {
    "collapsed": true,
    "ExecuteTime": {
     "end_time": "2023-11-05T18:59:22.629951314Z",
     "start_time": "2023-11-05T18:59:22.544157550Z"
    }
   },
   "outputs": [],
   "source": [
    "#@title Loading and simulating a `suite` task{vertical-output: true}\n",
    "\n",
    "# Load the environment\n",
    "random_state = np.random.RandomState(42)\n",
    "env: Environment = suite.load('cartpole', 'balance', task_kwargs={'random': random_state})"
   ]
  },
  {
   "cell_type": "code",
   "execution_count": 3,
   "outputs": [],
   "source": [
    "def display_video(frames, framerate=30):\n",
    "    height, width, _ = frames[0].shape\n",
    "    dpi = 70\n",
    "    orig_backend = matplotlib.get_backend()\n",
    "    matplotlib.use('Agg')  # Switch to headless 'Agg' to inhibit figure rendering.\n",
    "    fig, ax = plt.subplots(1, 1, figsize=(width / dpi, height / dpi), dpi=dpi)\n",
    "    matplotlib.use(orig_backend)  # Switch back to the original backend.\n",
    "    ax.set_axis_off()\n",
    "    ax.set_aspect('equal')\n",
    "    ax.set_position([0, 0, 1, 1])\n",
    "    im = ax.imshow(frames[0])\n",
    "\n",
    "    def update(frame):\n",
    "        im.set_data(frame)\n",
    "        return [im]\n",
    "\n",
    "    interval = 1000 / framerate\n",
    "    anim = animation.FuncAnimation(fig=fig, func=update, frames=frames,\n",
    "                                   interval=interval, blit=True, repeat=False)\n",
    "    return HTML(anim.to_html5_video())"
   ],
   "metadata": {
    "collapsed": false,
    "ExecuteTime": {
     "end_time": "2023-11-05T18:59:24.652231276Z",
     "start_time": "2023-11-05T18:59:24.625763485Z"
    }
   },
   "id": "72c5ef9fc74f935e"
  },
  {
   "cell_type": "code",
   "execution_count": 4,
   "outputs": [
    {
     "name": "stdout",
     "output_type": "stream",
     "text": [
      "Action:  0\n",
      "Position:  [-0.02502827  0.99952497  0.03081941]\n",
      "Velocity:  [0.0062639  0.01991774]\n",
      "Reward:  0.9995640018467845\n",
      "camera0.shape\n",
      "(100, 100, 3)\n",
      "Action:  0\n",
      "Position:  [-0.0249667   0.99951808  0.03104204]\n",
      "Velocity:  [0.00604953 0.02463555]\n",
      "Reward:  0.9995517679394854\n",
      "camera0.shape\n",
      "(100, 100, 3)\n",
      "Action:  0\n",
      "Position:  [-0.02490729  0.99950966  0.03131201]\n",
      "Velocity:  [0.00583347 0.02939091]\n",
      "Reward:  0.9995365851964148\n",
      "camera0.shape\n",
      "(100, 100, 3)\n",
      "Action:  0\n",
      "Position:  [-0.02485004  0.99949966  0.03162972]\n",
      "Velocity:  [0.00561537 0.03419107]\n",
      "Reward:  0.9995183559606704\n",
      "camera0.shape\n",
      "(100, 100, 3)\n",
      "cantidad de frames 4\n"
     ]
    },
    {
     "data": {
      "text/plain": "<IPython.core.display.HTML object>",
      "text/html": "<video width=\"100\" height=\"100\" controls autoplay>\n  <source type=\"video/mp4\" src=\"data:video/mp4;base64,AAAAIGZ0eXBNNFYgAAACAE00ViBpc29taXNvMmF2YzEAAAAIZnJlZQAABHptZGF0AAACrgYF//+q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\n\">\n  Your browser does not support the video tag.\n</video>"
     },
     "execution_count": 4,
     "metadata": {},
     "output_type": "execute_result"
    }
   ],
   "source": [
    "# Simulate episode with random actions\n",
    "ticks = []\n",
    "rewards = []\n",
    "observations = []\n",
    "\n",
    "frames = []\n",
    "state_frames_count: int = 4\n",
    "\n",
    "spec = env.action_spec()\n",
    "time_step = env.reset()\n",
    "\n",
    "# generar los primeros 4 frames para tener un estado inicial\n",
    "for i in range(state_frames_count):\n",
    "    action = 0\n",
    "    print(\"Action: \", action)\n",
    "    time_step = env.step(action)\n",
    "    print(\"Position: \", time_step.observation['position'])\n",
    "    print(\"Velocity: \", time_step.observation['velocity'])\n",
    "    print(\"Reward: \", time_step.reward)\n",
    "\n",
    "    camera0 = env.physics.render(camera_id=0, height=100, width=100)\n",
    "    print(\"camera0.shape\")\n",
    "    print(camera0.shape)\n",
    "    frames.append(camera0)\n",
    "    # Save frame has file\n",
    "    #cv2.imwrite(\"frame%d.jpg\" % i, camera0)\n",
    "\n",
    "    rewards.append(time_step.reward)\n",
    "    observations.append(copy.deepcopy(time_step.observation))\n",
    "    ticks.append(env.physics.data.time)\n",
    "\n",
    "html_video = display_video(frames, framerate=1. / env.control_timestep())\n",
    "\n",
    "# Show video and plot reward and observations\n",
    "num_sensors = len(time_step.observation)\n",
    "\n",
    "_, ax = plt.subplots(1 + num_sensors, 1, sharex=True, figsize=(4, 8))\n",
    "ax[0].plot(ticks, rewards)\n",
    "ax[0].set_ylabel('reward')\n",
    "ax[-1].set_xlabel('time')\n",
    "\n",
    "for i, key in enumerate(time_step.observation):\n",
    "    data = np.asarray([observations[j][key] for j in range(len(observations))])\n",
    "    ax[i + 1].plot(ticks, data, label=key)\n",
    "    ax[i + 1].set_ylabel(key)\n",
    "\n",
    "print(f'cantidad de frames {len(frames)}')\n",
    "\n",
    "html_video"
   ],
   "metadata": {
    "collapsed": false,
    "ExecuteTime": {
     "end_time": "2023-11-05T18:59:27.297937454Z",
     "start_time": "2023-11-05T18:59:26.985848343Z"
    }
   },
   "id": "e43654f1a3c6976b"
  },
  {
   "cell_type": "code",
   "execution_count": 5,
   "outputs": [
    {
     "data": {
      "text/plain": "(100, 100, 3)"
     },
     "execution_count": 5,
     "metadata": {},
     "output_type": "execute_result"
    }
   ],
   "source": [
    "frames[0].shape"
   ],
   "metadata": {
    "collapsed": false,
    "ExecuteTime": {
     "end_time": "2023-11-05T18:59:30.839590293Z",
     "start_time": "2023-11-05T18:59:30.823052208Z"
    }
   },
   "id": "82b2e2a1ed9d9d31"
  },
  {
   "cell_type": "code",
   "execution_count": 6,
   "outputs": [
    {
     "name": "stderr",
     "output_type": "stream",
     "text": [
      "2023-11-05 12:59:32.451525: I tensorflow/tsl/cuda/cudart_stub.cc:28] Could not find cuda drivers on your machine, GPU will not be used.\n",
      "2023-11-05 12:59:32.482975: I tensorflow/tsl/cuda/cudart_stub.cc:28] Could not find cuda drivers on your machine, GPU will not be used.\n",
      "2023-11-05 12:59:32.483607: I tensorflow/core/platform/cpu_feature_guard.cc:182] This TensorFlow binary is optimized to use available CPU instructions in performance-critical operations.\n",
      "To enable the following instructions: AVX2 FMA, in other operations, rebuild TensorFlow with the appropriate compiler flags.\n",
      "2023-11-05 12:59:33.083896: W tensorflow/compiler/tf2tensorrt/utils/py_utils.cc:38] TF-TRT Warning: Could not find TensorRT\n"
     ]
    }
   ],
   "source": [
    "from Agent import Agent"
   ],
   "metadata": {
    "collapsed": false,
    "ExecuteTime": {
     "end_time": "2023-11-05T18:59:33.798709951Z",
     "start_time": "2023-11-05T18:59:32.206481991Z"
    }
   },
   "id": "c2ade173b1a5f9d8"
  },
  {
   "cell_type": "code",
   "execution_count": 7,
   "outputs": [],
   "source": [
    "#@title Construimos al agente\n",
    "agent = Agent(\n",
    "    env,\n",
    "    frames,\n",
    "    state_frames_count,\n",
    "    7,\n",
    ")"
   ],
   "metadata": {
    "collapsed": false,
    "ExecuteTime": {
     "end_time": "2023-11-05T07:10:59.321925863Z",
     "start_time": "2023-11-05T07:10:57.589286350Z"
    }
   },
   "id": "69ac53eae1ec0a7b"
  },
  {
   "cell_type": "code",
   "execution_count": 8,
   "outputs": [
    {
     "name": "stdout",
     "output_type": "stream",
     "text": [
      "1/1 [==============================] - 1s 819ms/step\n",
      "1/1 [==============================] - 0s 48ms/step\n",
      "1/1 [==============================] - 0s 36ms/step\n",
      "1/1 [==============================] - 0s 12ms/step\n",
      "1/1 [==============================] - 0s 34ms/step\n",
      "1/1 [==============================] - 0s 12ms/step\n",
      "1/1 [==============================] - 0s 34ms/step\n",
      "1/1 [==============================] - 0s 12ms/step\n",
      "1/1 [==============================] - 0s 37ms/step\n",
      "1/1 [==============================] - 0s 12ms/step\n",
      "1/1 [==============================] - 0s 34ms/step\n",
      "1/1 [==============================] - 0s 12ms/step\n",
      "1/1 [==============================] - 0s 33ms/step\n",
      "1/1 [==============================] - 0s 12ms/step\n",
      "Position:  [-0.02528163  0.99946515  0.03270184]\n",
      "Velocity:  [-0.09193442  0.18037024]\n",
      "Reward:  0.7984427133362162\n",
      "1/1 [==============================] - 0s 37ms/step\n",
      "1/1 [==============================] - 0s 12ms/step\n",
      "1/1 [==============================] - 0s 34ms/step\n",
      "1/1 [==============================] - 0s 13ms/step\n",
      "1/1 [==============================] - 0s 35ms/step\n",
      "1/1 [==============================] - 0s 13ms/step\n",
      "1/1 [==============================] - 0s 38ms/step\n",
      "1/1 [==============================] - 0s 12ms/step\n",
      "1/1 [==============================] - 0s 37ms/step\n",
      "1/1 [==============================] - 0s 24ms/step\n",
      "1/1 [==============================] - 0s 43ms/step\n",
      "1/1 [==============================] - 0s 13ms/step\n",
      "1/1 [==============================] - 0s 42ms/step\n",
      "1/1 [==============================] - 0s 15ms/step\n",
      "1/1 [==============================] - 0s 38ms/step\n",
      "1/1 [==============================] - 0s 13ms/step\n",
      "1/1 [==============================] - 0s 41ms/step\n",
      "fit\n"
     ]
    },
    {
     "data": {
      "text/plain": "0.7984427133362162"
     },
     "execution_count": 8,
     "metadata": {},
     "output_type": "execute_result"
    }
   ],
   "source": [
    "agent.run_step()"
   ],
   "metadata": {
    "collapsed": false,
    "ExecuteTime": {
     "end_time": "2023-11-05T07:11:09.862195168Z",
     "start_time": "2023-11-05T07:11:07.023634606Z"
    }
   },
   "id": "47964e196228173a"
  },
  {
   "cell_type": "code",
   "execution_count": 9,
   "outputs": [
    {
     "data": {
      "text/plain": "<IPython.core.display.HTML object>",
      "text/html": "<video width=\"100\" height=\"100\" controls autoplay>\n  <source type=\"video/mp4\" src=\"data:video/mp4;base64,AAAAIGZ0eXBNNFYgAAACAE00ViBpc29taXNvMmF2YzEAAAAIZnJlZQAABKFtZGF0AAACrgYF//+q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\nAC1pbHN0AAAAJal0b28AAAAdZGF0YQAAAAEAAAAATGF2ZjU4Ljc2LjEwMA==\n\">\n  Your browser does not support the video tag.\n</video>"
     },
     "execution_count": 9,
     "metadata": {},
     "output_type": "execute_result"
    }
   ],
   "source": [
    "html_video = display_video(frames, framerate=1. / env.control_timestep())\n",
    "\n",
    "# Show video and plot reward and observations\n",
    "num_sensors = len(time_step.observation)\n",
    "\n",
    "_, ax = plt.subplots(1 + num_sensors, 1, sharex=True, figsize=(4, 8))\n",
    "ax[0].plot(ticks, rewards)\n",
    "ax[0].set_ylabel('reward')\n",
    "ax[-1].set_xlabel('time')\n",
    "\n",
    "# for i, key in enumerate(time_step.observation):\n",
    "#   data = np.asarray([observations[j][key] for j in range(len(observations))])\n",
    "#   ax[i+1].plot(ticks, data, label=key)\n",
    "#   ax[i+1].set_ylabel(key)\n",
    "\n",
    "html_video"
   ],
   "metadata": {
    "collapsed": false,
    "ExecuteTime": {
     "end_time": "2023-11-05T07:11:26.699939343Z",
     "start_time": "2023-11-05T07:11:26.581871263Z"
    }
   },
   "id": "3d53084a73cc9171"
  }
 ],
 "metadata": {
  "kernelspec": {
   "display_name": "Python 3",
   "language": "python",
   "name": "python3"
  },
  "language_info": {
   "codemirror_mode": {
    "name": "ipython",
    "version": 2
   },
   "file_extension": ".py",
   "mimetype": "text/x-python",
   "name": "python",
   "nbconvert_exporter": "python",
   "pygments_lexer": "ipython2",
   "version": "2.7.6"
  }
 },
 "nbformat": 4,
 "nbformat_minor": 5
}
