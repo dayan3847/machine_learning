{
 "cells": [
  {
   "cell_type": "markdown",
   "metadata": {
    "id": "MpkYHwCqk7W-"
   },
   "source": [
    "# **`dm_control` tutorial**\n",
    "\n",
    "[![Open In Colab](https://colab.research.google.com/assets/colab-badge.svg)](https://colab.research.google.com/github/google-deepmind/dm_control/blob/main/tutorial.ipynb)\n",
    "\n",
    "\n",
    "\n",
    "\n",
    "\n",
    "\n"
   ]
  },
  {
   "cell_type": "markdown",
   "metadata": {
    "id": "_UbO9uhtBSX5"
   },
   "source": [
    "> <p><small><small>Copyright 2020 The dm_control Authors.</small></p>\n",
    "> <p><small><small>Licensed under the Apache License, Version 2.0 (the \"License\"); you may not use this file except in compliance with the License. You may obtain a copy of the License at <a href=\"http://www.apache.org/licenses/LICENSE-2.0\">http://www.apache.org/licenses/LICENSE-2.0</a>.</small></small></p>\n",
    "> <p><small><small>Unless required by applicable law or agreed to in writing, software distributed under the License is distributed on an \"AS IS\" BASIS, WITHOUT WARRANTIES OR CONDITIONS OF ANY KIND, either express or implied. See the License for the specific language governing permissions and limitations under the License.</small></small></p>"
   ]
  },
  {
   "cell_type": "markdown",
   "metadata": {
    "id": "aThGKGp0cD76"
   },
   "source": [
    "This notebook provides an overview tutorial of DeepMind's `dm_control` package, hosted at the [google-deepmind/dm_control](https://github.com/google-deepmind/dm_control) repository on GitHub.\n",
    "\n",
    "It is adjunct to this [tech report](http://arxiv.org/abs/2006.12983).\n",
    "\n",
    "**A Colab runtime with GPU acceleration is required.** If you're using a CPU-only runtime, you can switch using the menu \"Runtime > Change runtime type\"."
   ]
  },
  {
   "cell_type": "markdown",
   "metadata": {
    "id": "YkBQUjm6gbGF"
   },
   "source": [
    "<!-- Internal installation instructions. -->"
   ]
  },
  {
   "cell_type": "markdown",
   "metadata": {
    "id": "YvyGCsgSCxHQ"
   },
   "source": [
    "### Installing `dm_control` on Colab"
   ]
  },
  {
   "cell_type": "code",
   "execution_count": null,
   "metadata": {
    "id": "IbZxYDxzoz5R"
   },
   "outputs": [],
   "source": [
    "#@title Run to install MuJoCo and `dm_control`\n",
    "import distutils.util\n",
    "import os\n",
    "import subprocess\n",
    "if subprocess.run('nvidia-smi').returncode:\n",
    "  raise RuntimeError(\n",
    "      'Cannot communicate with GPU. '\n",
    "      'Make sure you are using a GPU Colab runtime. '\n",
    "      'Go to the Runtime menu and select Choose runtime type.')\n",
    "\n",
    "# Add an ICD config so that glvnd can pick up the Nvidia EGL driver.\n",
    "# This is usually installed as part of an Nvidia driver package, but the Colab\n",
    "# kernel doesn't install its driver via APT, and as a result the ICD is missing.\n",
    "# (https://github.com/NVIDIA/libglvnd/blob/master/src/EGL/icd_enumeration.md)\n",
    "NVIDIA_ICD_CONFIG_PATH = '/usr/share/glvnd/egl_vendor.d/10_nvidia.json'\n",
    "if not os.path.exists(NVIDIA_ICD_CONFIG_PATH):\n",
    "  with open(NVIDIA_ICD_CONFIG_PATH, 'w') as f:\n",
    "    f.write(\"\"\"{\n",
    "    \"file_format_version\" : \"1.0.0\",\n",
    "    \"ICD\" : {\n",
    "        \"library_path\" : \"libEGL_nvidia.so.0\"\n",
    "    }\n",
    "}\n",
    "\"\"\")\n",
    "\n",
    "print('Installing dm_control...')\n",
    "!pip install -q dm_control>=1.0.14\n",
    "\n",
    "# Configure dm_control to use the EGL rendering backend (requires GPU)\n",
    "%env MUJOCO_GL=egl\n",
    "\n",
    "print('Checking that the dm_control installation succeeded...')\n",
    "try:\n",
    "  from dm_control import suite\n",
    "  env = suite.load('cartpole', 'swingup')\n",
    "  pixels = env.physics.render()\n",
    "except Exception as e:\n",
    "  raise e from RuntimeError(\n",
    "      'Something went wrong during installation. Check the shell output above '\n",
    "      'for more information.\\n'\n",
    "      'If using a hosted Colab runtime, make sure you enable GPU acceleration '\n",
    "      'by going to the Runtime menu and selecting \"Choose runtime type\".')\n",
    "else:\n",
    "  del pixels, suite\n",
    "\n",
    "!echo Installed dm_control $(pip show dm_control | grep -Po \"(?<=Version: ).+\")"
   ]
  },
  {
   "cell_type": "markdown",
   "metadata": {
    "id": "wtDN43hIJh2C"
   },
   "source": [
    "# Imports\n",
    "\n",
    "Run both of these cells:"
   ]
  },
  {
   "cell_type": "code",
   "execution_count": 1,
   "metadata": {
    "id": "T5f4w3Kq2X14",
    "ExecuteTime": {
     "end_time": "2023-11-05T07:02:19.349873254Z",
     "start_time": "2023-11-05T07:02:18.795885539Z"
    }
   },
   "outputs": [],
   "source": [
    "#@title All `dm_control` imports required for this tutorial\n",
    "\n",
    "# The basic mujoco wrapper.\n",
    "from dm_control import mujoco\n",
    "\n",
    "# Access to enums and MuJoCo library functions.\n",
    "from dm_control.mujoco.wrapper.mjbindings import enums\n",
    "from dm_control.mujoco.wrapper.mjbindings import mjlib\n",
    "\n",
    "# PyMJCF\n",
    "from dm_control import mjcf\n",
    "\n",
    "# Composer high level imports\n",
    "from dm_control import composer\n",
    "from dm_control.composer.observation import observable\n",
    "from dm_control.composer import variation\n",
    "\n",
    "# Imports for Composer tutorial example\n",
    "from dm_control.composer.variation import distributions\n",
    "from dm_control.composer.variation import noises\n",
    "from dm_control.locomotion.arenas import floors\n",
    "\n",
    "# Control Suite\n",
    "from dm_control import suite\n",
    "\n",
    "# Run through corridor example\n",
    "from dm_control.locomotion.walkers import cmu_humanoid\n",
    "from dm_control.locomotion.arenas import corridors as corridor_arenas\n",
    "from dm_control.locomotion.tasks import corridors as corridor_tasks\n",
    "\n",
    "# Soccer\n",
    "from dm_control.locomotion import soccer\n",
    "\n",
    "# Manipulation\n",
    "from dm_control import manipulation"
   ]
  },
  {
   "cell_type": "code",
   "execution_count": 2,
   "metadata": {
    "id": "gKc1FNhKiVJX",
    "ExecuteTime": {
     "end_time": "2023-11-05T07:02:22.558283211Z",
     "start_time": "2023-11-05T07:02:22.223775872Z"
    }
   },
   "outputs": [],
   "source": [
    "#@title Other imports and helper functions\n",
    "\n",
    "# General\n",
    "import copy\n",
    "import os\n",
    "import itertools\n",
    "from IPython.display import clear_output\n",
    "import numpy as np\n",
    "\n",
    "# Graphics-related\n",
    "import matplotlib\n",
    "import matplotlib.animation as animation\n",
    "import matplotlib.pyplot as plt\n",
    "from IPython.display import HTML\n",
    "import PIL.Image\n",
    "# Internal loading of video libraries.\n",
    "\n",
    "# Use svg backend for figure rendering\n",
    "%config InlineBackend.figure_format = 'svg'\n",
    "\n",
    "# Font sizes\n",
    "SMALL_SIZE = 8\n",
    "MEDIUM_SIZE = 10\n",
    "BIGGER_SIZE = 12\n",
    "plt.rc('font', size=SMALL_SIZE)          # controls default text sizes\n",
    "plt.rc('axes', titlesize=SMALL_SIZE)     # fontsize of the axes title\n",
    "plt.rc('axes', labelsize=MEDIUM_SIZE)    # fontsize of the x and y labels\n",
    "plt.rc('xtick', labelsize=SMALL_SIZE)    # fontsize of the tick labels\n",
    "plt.rc('ytick', labelsize=SMALL_SIZE)    # fontsize of the tick labels\n",
    "plt.rc('legend', fontsize=SMALL_SIZE)    # legend fontsize\n",
    "plt.rc('figure', titlesize=BIGGER_SIZE)  # fontsize of the figure title\n",
    "\n",
    "# Inline video helper function\n",
    "if os.environ.get('COLAB_NOTEBOOK_TEST', False):\n",
    "  # We skip video generation during tests, as it is quite expensive.\n",
    "  display_video = lambda *args, **kwargs: None\n",
    "else:\n",
    "  def display_video(frames, framerate=30):\n",
    "    height, width, _ = frames[0].shape\n",
    "    dpi = 70\n",
    "    orig_backend = matplotlib.get_backend()\n",
    "    matplotlib.use('Agg')  # Switch to headless 'Agg' to inhibit figure rendering.\n",
    "    fig, ax = plt.subplots(1, 1, figsize=(width / dpi, height / dpi), dpi=dpi)\n",
    "    matplotlib.use(orig_backend)  # Switch back to the original backend.\n",
    "    ax.set_axis_off()\n",
    "    ax.set_aspect('equal')\n",
    "    ax.set_position([0, 0, 1, 1])\n",
    "    im = ax.imshow(frames[0])\n",
    "    def update(frame):\n",
    "      im.set_data(frame)\n",
    "      return [im]\n",
    "    interval = 1000/framerate\n",
    "    anim = animation.FuncAnimation(fig=fig, func=update, frames=frames,\n",
    "                                   interval=interval, blit=True, repeat=False)\n",
    "    return HTML(anim.to_html5_video())\n",
    "\n",
    "# Seed numpy's global RNG so that cell outputs are deterministic. We also try to\n",
    "# use RandomState instances that are local to a single cell wherever possible.\n",
    "np.random.seed(42)"
   ]
  },
  {
   "cell_type": "markdown",
   "metadata": {
    "id": "jZXz9rPYGA-Y"
   },
   "source": [
    "# Model definition, compilation and rendering\n",
    "\n"
   ]
  },
  {
   "cell_type": "markdown",
   "metadata": {
    "id": "MRBaZsf1d7Gb"
   },
   "source": [
    "We begin by describing some basic concepts of the [MuJoCo](http://mujoco.org/) physics simulation library, but recommend the [official documentation](http://mujoco.org/book/) for details.\n",
    "\n",
    "Let's define a simple model with two geoms and a light."
   ]
  },
  {
   "cell_type": "code",
   "execution_count": 3,
   "metadata": {
    "id": "ZS2utl59ZTsr",
    "ExecuteTime": {
     "end_time": "2023-11-05T07:02:56.567913948Z",
     "start_time": "2023-11-05T07:02:56.406224164Z"
    }
   },
   "outputs": [
    {
     "data": {
      "text/plain": "<PIL.Image.Image image mode=RGB size=320x240>",
      "image/png": "[encoded data removed]"
     },
     "execution_count": 3,
     "metadata": {},
     "output_type": "execute_result"
    }
   ],
   "source": [
    "#@title A static model {vertical-output: true}\n",
    "\n",
    "static_model = \"\"\"\n",
    "<mujoco>\n",
    "  <worldbody>\n",
    "    <light name=\"top\" pos=\"0 0 1\"/>\n",
    "    <geom name=\"red_box\" type=\"box\" size=\".2 .2 .2\" rgba=\"1 0 0 1\"/>\n",
    "    <geom name=\"green_sphere\" pos=\".2 .2 .2\" size=\".1\" rgba=\"0 1 0 1\"/>\n",
    "  </worldbody>\n",
    "</mujoco>\n",
    "\"\"\"\n",
    "physics = mujoco.Physics.from_xml_string(static_model)\n",
    "pixels = physics.render()\n",
    "PIL.Image.fromarray(pixels)"
   ]
  },
  {
   "cell_type": "markdown",
   "metadata": {
    "id": "p4vPllljTJh8"
   },
   "source": [
    "`static_model` is written in MuJoCo's XML-based [MJCF](http://www.mujoco.org/book/modeling.html) modeling language. The `from_xml_string()` method invokes the model compiler, which instantiates the library's internal data structures. These can be accessed via the `physics` object, see below."
   ]
  },
  {
   "cell_type": "markdown",
   "metadata": {
    "id": "MdUF2UYmR4TA"
   },
   "source": [
    "## Adding DOFs and simulating, advanced rendering\n",
    "This is a perfectly legitimate model, but if we simulate it, nothing will happen except for time advancing. This is because this model has no degrees of freedom (DOFs). We add DOFs by adding **joints** to bodies, specifying how they can move with respect to their parents. Let us add a hinge joint and re-render, visualizing the joint axis."
   ]
  },
  {
   "cell_type": "code",
   "execution_count": 4,
   "metadata": {
    "id": "R7zokzd_yeEg",
    "ExecuteTime": {
     "end_time": "2023-11-05T07:03:00.536855958Z",
     "start_time": "2023-11-05T07:03:00.487403286Z"
    }
   },
   "outputs": [
    {
     "data": {
      "text/plain": "<PIL.Image.Image image mode=RGB size=320x240>",
      "image/png": "[encoded data removed]"
     },
     "execution_count": 4,
     "metadata": {},
     "output_type": "execute_result"
    }
   ],
   "source": [
    "#@title A child body with a joint { vertical-output: true }\n",
    "\n",
    "swinging_body = \"\"\"\n",
    "<mujoco>\n",
    "  <worldbody>\n",
    "    <light name=\"top\" pos=\"0 0 1\"/>\n",
    "    <body name=\"box_and_sphere\" euler=\"0 0 -30\">\n",
    "      <joint name=\"swing\" type=\"hinge\" axis=\"1 -1 0\" pos=\"-.2 -.2 -.2\"/>\n",
    "      <geom name=\"red_box\" type=\"box\" size=\".2 .2 .2\" rgba=\"1 0 0 1\"/>\n",
    "      <geom name=\"green_sphere\" pos=\".2 .2 .2\" size=\".1\" rgba=\"0 1 0 1\"/>\n",
    "    </body>\n",
    "  </worldbody>\n",
    "</mujoco>\n",
    "\"\"\"\n",
    "physics = mujoco.Physics.from_xml_string(swinging_body)\n",
    "# Visualize the joint axis.\n",
    "scene_option = mujoco.wrapper.core.MjvOption()\n",
    "scene_option.flags[enums.mjtVisFlag.mjVIS_JOINT] = True\n",
    "pixels = physics.render(scene_option=scene_option)\n",
    "PIL.Image.fromarray(pixels)"
   ]
  },
  {
   "cell_type": "markdown",
   "metadata": {
    "id": "INOGGV0PTQus"
   },
   "source": [
    "The things that move (and which have inertia) are called *bodies*. The body's child `joint` specifies how that body can move with respect to its parent, in this case `box_and_sphere` w.r.t the `worldbody`.\n",
    "\n",
    "Note that the body's frame is **rotated** with an `euler` directive, and its children, the geoms and the joint, rotate with it. This is to emphasize the local-to-parent-frame nature of position and orientation directives in MJCF.\n",
    "\n",
    "Let's make a video, to get a sense of the dynamics and to see the body swinging under gravity."
   ]
  },
  {
   "cell_type": "code",
   "execution_count": 5,
   "metadata": {
    "id": "Z_57VMUDpGrj",
    "ExecuteTime": {
     "end_time": "2023-11-05T07:03:02.853606978Z",
     "start_time": "2023-11-05T07:03:01.767380949Z"
    }
   },
   "outputs": [
    {
     "data": {
      "text/plain": "<IPython.core.display.HTML object>",
      "text/html": "<video width=\"320\" height=\"240\" controls autoplay>\n  <source type=\"video/mp4\" src=\"data:video/mp4;base64,AAAAIGZ0eXBNNFYgAAACAE00ViBpc29taXNvMmF2YzEAAAAIZnJlZQAAZh1tZGF0AAACrgYF//+q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\nNzYuMTAw\n\">\n  Your browser does not support the video tag.\n</video>"
     },
     "execution_count": 5,
     "metadata": {},
     "output_type": "execute_result"
    }
   ],
   "source": [
    "#@title Making a video {vertical-output: true}\n",
    "\n",
    "duration = 2    # (seconds)\n",
    "framerate = 30  # (Hz)\n",
    "\n",
    "# Visualize the joint axis\n",
    "scene_option = mujoco.wrapper.core.MjvOption()\n",
    "scene_option.flags[enums.mjtVisFlag.mjVIS_JOINT] = True\n",
    "\n",
    "# Simulate and display video.\n",
    "frames = []\n",
    "physics.reset()  # Reset state and time\n",
    "while physics.data.time < duration:\n",
    "  physics.step()\n",
    "  if len(frames) < physics.data.time * framerate:\n",
    "    pixels = physics.render(scene_option=scene_option)\n",
    "    frames.append(pixels)\n",
    "display_video(frames, framerate)"
   ]
  },
  {
   "cell_type": "markdown",
   "metadata": {
    "id": "yYvS1UaciMX_"
   },
   "source": [
    "Note how we collect the video frames. Because physics simulation timesteps are generally much smaller than framerates (the default timestep is 2ms), we don't render after each step."
   ]
  },
  {
   "cell_type": "markdown",
   "metadata": {
    "id": "nQ8XOnRQx7T1"
   },
   "source": [
    "## Rendering options\n",
    "\n",
    "Like joint visualisation, additional rendering options are exposed as parameters to the `render` method."
   ]
  },
  {
   "cell_type": "code",
   "execution_count": 6,
   "metadata": {
    "id": "AQITZiIgx7T2",
    "ExecuteTime": {
     "end_time": "2023-11-05T07:03:09.402509883Z",
     "start_time": "2023-11-05T07:03:09.374723668Z"
    }
   },
   "outputs": [
    {
     "data": {
      "text/plain": "<PIL.Image.Image image mode=RGB size=320x240>",
      "image/png": "[encoded data removed]"
     },
     "execution_count": 6,
     "metadata": {},
     "output_type": "execute_result"
    }
   ],
   "source": [
    "#@title Enable transparency and frame visualization {vertical-output: true}\n",
    "\n",
    "scene_option = mujoco.wrapper.core.MjvOption()\n",
    "scene_option.frame = enums.mjtFrame.mjFRAME_GEOM\n",
    "scene_option.flags[enums.mjtVisFlag.mjVIS_TRANSPARENT] = True\n",
    "pixels = physics.render(scene_option=scene_option)\n",
    "PIL.Image.fromarray(pixels)"
   ]
  },
  {
   "cell_type": "code",
   "execution_count": 7,
   "metadata": {
    "id": "PDDgY48vx7T6",
    "ExecuteTime": {
     "end_time": "2023-11-05T07:03:11.243635429Z",
     "start_time": "2023-11-05T07:03:11.192523865Z"
    }
   },
   "outputs": [
    {
     "data": {
      "text/plain": "<PIL.Image.Image image mode=L size=320x240>",
      "image/png": "[encoded data removed]"
     },
     "execution_count": 7,
     "metadata": {},
     "output_type": "execute_result"
    }
   ],
   "source": [
    "#@title Depth rendering {vertical-output: true}\n",
    "\n",
    "# depth is a float array, in meters.\n",
    "depth = physics.render(depth=True)\n",
    "# Shift nearest values to the origin.\n",
    "depth -= depth.min()\n",
    "# Scale by 2 mean distances of near rays.\n",
    "depth /= 2*depth[depth <= 1].mean()\n",
    "# Scale to [0, 255]\n",
    "pixels = 255*np.clip(depth, 0, 1)\n",
    "PIL.Image.fromarray(pixels.astype(np.uint8))"
   ]
  },
  {
   "cell_type": "code",
   "execution_count": null,
   "metadata": {
    "id": "PNwiIrgpx7T8"
   },
   "outputs": [],
   "source": [
    "#@title Segmentation rendering {vertical-output: true}\n",
    "\n",
    "seg = physics.render(segmentation=True)\n",
    "# Display the contents of the first channel, which contains object\n",
    "# IDs. The second channel, seg[:, :, 1], contains object types.\n",
    "geom_ids = seg[:, :, 0]\n",
    "# Infinity is mapped to -1\n",
    "geom_ids = geom_ids.astype(np.float64) + 1\n",
    "# Scale to [0, 1]\n",
    "geom_ids = geom_ids / geom_ids.max()\n",
    "pixels = 255*geom_ids\n",
    "PIL.Image.fromarray(pixels.astype(np.uint8))\n"
   ]
  },
  {
   "cell_type": "code",
   "execution_count": null,
   "metadata": {
    "id": "uCJQlv3cQcJQ"
   },
   "outputs": [],
   "source": [
    "#@title Projecting from world to camera coordinates {vertical-output: true}\n",
    "\n",
    "# Get the world coordinates of the box corners\n",
    "box_pos = physics.named.data.geom_xpos['red_box']\n",
    "box_mat = physics.named.data.geom_xmat['red_box'].reshape(3, 3)\n",
    "box_size = physics.named.model.geom_size['red_box']\n",
    "offsets = np.array([-1, 1]) * box_size[:, None]\n",
    "xyz_local = np.stack(list(itertools.product(*offsets))).T\n",
    "xyz_global = box_pos[:, None] + box_mat @ xyz_local\n",
    "\n",
    "# Camera matrices multiply homogenous [x, y, z, 1] vectors.\n",
    "corners_homogeneous = np.ones((4, xyz_global.shape[1]), dtype=float)\n",
    "corners_homogeneous[:3, :] = xyz_global\n",
    "\n",
    "# Get the camera matrix.\n",
    "camera = mujoco.Camera(physics)\n",
    "camera_matrix = camera.matrix\n",
    "\n",
    "# Project world coordinates into pixel space. See:\n",
    "# https://en.wikipedia.org/wiki/3D_projection#Mathematical_formula\n",
    "xs, ys, s = camera_matrix @ corners_homogeneous\n",
    "# x and y are in the pixel coordinate system.\n",
    "x = xs / s\n",
    "y = ys / s\n",
    "\n",
    "# Render the camera view and overlay the projected corner coordinates.\n",
    "pixels = camera.render()\n",
    "fig, ax = plt.subplots(1, 1)\n",
    "ax.imshow(pixels)\n",
    "ax.plot(x, y, '+', c='w')\n",
    "ax.set_axis_off()"
   ]
  },
  {
   "cell_type": "markdown",
   "metadata": {
    "id": "gf9h_wi9weet"
   },
   "source": [
    "# MuJoCo basics and named indexing"
   ]
  },
  {
   "cell_type": "markdown",
   "metadata": {
    "id": "NCcZxrDDB1Cj"
   },
   "source": [
    "## `mjModel`\n",
    "MuJoCo's `mjModel`, encapsulated in `physics.model`, contains the *model description*, including the default initial state and other fixed quantities which are not a function of the state, e.g. the positions of geoms in the frame of their parent body. The (x, y, z) offsets of the `box` and `sphere` geoms, relative their parent body `box_and_sphere` are given by `model.geom_pos`:"
   ]
  },
  {
   "cell_type": "code",
   "execution_count": null,
   "metadata": {
    "id": "wx8NANvOF8g1"
   },
   "outputs": [],
   "source": [
    "physics.model.geom_pos"
   ]
  },
  {
   "cell_type": "markdown",
   "metadata": {
    "id": "Wee5ATLtIQn_"
   },
   "source": [
    "The `model.opt` structure contains global quantities like"
   ]
  },
  {
   "cell_type": "code",
   "execution_count": null,
   "metadata": {
    "id": "BhzbZIfDIU2-"
   },
   "outputs": [],
   "source": [
    "print('timestep', physics.model.opt.timestep)\n",
    "print('gravity', physics.model.opt.gravity)"
   ]
  },
  {
   "cell_type": "markdown",
   "metadata": {
    "id": "t5hY0fyXFLcf"
   },
   "source": [
    "## `mjData`\n",
    "`mjData`, encapsulated in `physics.data`, contains the *state* and quantities that depend on it. The state is made up of time, generalized positions and generalised velocities. These are respectively `data.time`, `data.qpos` and `data.qvel`.\n",
    "\n",
    "Let's print the state of the swinging body where we left it:"
   ]
  },
  {
   "cell_type": "code",
   "execution_count": null,
   "metadata": {
    "id": "acwZtDwp9mQU"
   },
   "outputs": [],
   "source": [
    "print(physics.data.time, physics.data.qpos, physics.data.qvel)"
   ]
  },
  {
   "cell_type": "markdown",
   "metadata": {
    "id": "7YlmcLcA-WQu"
   },
   "source": [
    "`physics.data` also contains functions of the state, for example the cartesian positions of objects in the world frame. The (x, y, z) positions of our two geoms are in `data.geom_xpos`:"
   ]
  },
  {
   "cell_type": "code",
   "execution_count": null,
   "metadata": {
    "id": "CPwDcAQ0-uUE"
   },
   "outputs": [],
   "source": [
    "print(physics.data.geom_xpos)"
   ]
  },
  {
   "cell_type": "markdown",
   "metadata": {
    "id": "Z0UodCxS_v49"
   },
   "source": [
    "## Named indexing\n",
    "\n",
    "The semantics of the above arrays are made clearer using the `named` wrapper, which assigns names to rows and type names to columns."
   ]
  },
  {
   "cell_type": "code",
   "execution_count": null,
   "metadata": {
    "id": "cLARcaK6-xCU"
   },
   "outputs": [],
   "source": [
    "print(physics.named.data.geom_xpos)"
   ]
  },
  {
   "cell_type": "markdown",
   "metadata": {
    "id": "wgXOUZNZHIx6"
   },
   "source": [
    "Note how `model.geom_pos` and `data.geom_xpos` have similar semantics but very different meanings."
   ]
  },
  {
   "cell_type": "code",
   "execution_count": null,
   "metadata": {
    "id": "-cW61ClRHS8a"
   },
   "outputs": [],
   "source": [
    "print(physics.named.model.geom_pos)"
   ]
  },
  {
   "cell_type": "markdown",
   "metadata": {
    "id": "-lQ0AChVASMv"
   },
   "source": [
    "Name strings can be used to index **into** the relevant quantities, making code much more readable and robust."
   ]
  },
  {
   "cell_type": "code",
   "execution_count": null,
   "metadata": {
    "id": "Rj4ad9fQAnFZ"
   },
   "outputs": [],
   "source": [
    "physics.named.data.geom_xpos['green_sphere', 'z']"
   ]
  },
  {
   "cell_type": "markdown",
   "metadata": {
    "id": "axr_p6APAzFn"
   },
   "source": [
    "Joint names can be used to index into quantities in configuration space (beginning with the letter `q`):"
   ]
  },
  {
   "cell_type": "code",
   "execution_count": null,
   "metadata": {
    "id": "hluF9aDG9O1W"
   },
   "outputs": [],
   "source": [
    "physics.named.data.qpos['swing']"
   ]
  },
  {
   "cell_type": "markdown",
   "metadata": {
    "id": "3IhfyD2Q1pjv"
   },
   "source": [
    "We can mix NumPy slicing operations with named indexing. As an example, we can set the color of the box using its name (`\"red_box\"`) as an index into the rows of the `geom_rgba` array."
   ]
  },
  {
   "cell_type": "code",
   "execution_count": null,
   "metadata": {
    "id": "f5vVUullUvWH"
   },
   "outputs": [],
   "source": [
    "#@title Changing colors using named indexing{vertical-output: true}\n",
    "\n",
    "random_rgb = np.random.rand(3)\n",
    "physics.named.model.geom_rgba['red_box', :3] = random_rgb\n",
    "pixels = physics.render()\n",
    "PIL.Image.fromarray(pixels)"
   ]
  },
  {
   "cell_type": "markdown",
   "metadata": {
    "id": "elzPPdq-KhLI"
   },
   "source": [
    "Note that while `physics.model` quantities will not be changed by the engine, we can change them ourselves between steps. This however is generally not recommended, the preferred approach being to modify the model at the XML level using the PyMJCF library, see below."
   ]
  },
  {
   "cell_type": "markdown",
   "metadata": {
    "id": "22ENjtVuhwsm"
   },
   "source": [
    "## Setting the state with `reset_context()`\n",
    "\n",
    "In order for `data` quantities that are functions of the state to be in sync with the state, MuJoCo's `mj_step1()` needs to be called. This is facilitated by the `reset_context()` context, please see in-depth discussion in Section 2.1 of the [tech report](https://arxiv.org/abs/2006.12983)."
   ]
  },
  {
   "cell_type": "code",
   "execution_count": null,
   "metadata": {
    "id": "WBPprCtWgXFN"
   },
   "outputs": [],
   "source": [
    "physics.named.data.qpos['swing'] = np.pi\n",
    "print('Without reset_context, spatial positions are not updated:',\n",
    "      physics.named.data.geom_xpos['green_sphere', ['z']])\n",
    "with physics.reset_context():\n",
    "  physics.named.data.qpos['swing'] = np.pi\n",
    "print('After reset_context, positions are up-to-date:',\n",
    "      physics.named.data.geom_xpos['green_sphere', ['z']])"
   ]
  },
  {
   "cell_type": "markdown",
   "metadata": {
    "id": "SHppAOjvSupc"
   },
   "source": [
    "## Free bodies: the self-inverting \"tippe-top\"\n",
    "\n",
    "A free body is a body with a `free` joint, with 6 movement DOFs: 3 translations and 3 rotations. We could give our `box_and_sphere` body a free joint and watch it fall, but let's look at something more interesting. A \"tippe top\" is a spinning toy which flips itself on its head ([Wikipedia](https://en.wikipedia.org/wiki/Tippe_top)). We model it as follows:"
   ]
  },
  {
   "cell_type": "code",
   "execution_count": null,
   "metadata": {
    "id": "xasXQpVMjIwA"
   },
   "outputs": [],
   "source": [
    "#@title The \"tippe-top\" model{vertical-output: true}\n",
    "\n",
    "tippe_top = \"\"\"\n",
    "<mujoco model=\"tippe top\">\n",
    "  <option integrator=\"RK4\"/>\n",
    "  <asset>\n",
    "    <texture name=\"grid\" type=\"2d\" builtin=\"checker\" rgb1=\".1 .2 .3\"\n",
    "     rgb2=\".2 .3 .4\" width=\"300\" height=\"300\"/>\n",
    "    <material name=\"grid\" texture=\"grid\" texrepeat=\"8 8\" reflectance=\".2\"/>\n",
    "  </asset>\n",
    "  <worldbody>\n",
    "    <geom size=\".2 .2 .01\" type=\"plane\" material=\"grid\"/>\n",
    "    <light pos=\"0 0 .6\"/>\n",
    "    <camera name=\"closeup\" pos=\"0 -.1 .07\" xyaxes=\"1 0 0 0 1 2\"/>\n",
    "    <body name=\"top\" pos=\"0 0 .02\">\n",
    "      <freejoint/>\n",
    "      <geom name=\"ball\" type=\"sphere\" size=\".02\" />\n",
    "      <geom name=\"stem\" type=\"cylinder\" pos=\"0 0 .02\" size=\"0.004 .008\"/>\n",
    "      <geom name=\"ballast\" type=\"box\" size=\".023 .023 0.005\"  pos=\"0 0 -.015\"\n",
    "       contype=\"0\" conaffinity=\"0\" group=\"3\"/>\n",
    "    </body>\n",
    "  </worldbody>\n",
    "  <keyframe>\n",
    "    <key name=\"spinning\" qpos=\"0 0 0.02 1 0 0 0\" qvel=\"0 0 0 0 1 200\" />\n",
    "  </keyframe>\n",
    "</mujoco>\n",
    "\"\"\"\n",
    "physics = mujoco.Physics.from_xml_string(tippe_top)\n",
    "PIL.Image.fromarray(physics.render(camera_id='closeup'))"
   ]
  },
  {
   "cell_type": "markdown",
   "metadata": {
    "id": "bvHlr6maJYIG"
   },
   "source": [
    "Note several new features of this model definition:\n",
    "0. The free joint is added with the `<freejoint/>` clause, which is similar to `<joint type=\"free\"/>`, but prohibits unphysical attributes like friction or stiffness.\n",
    "1. We use the `<option/>` clause to set the integrator to the more accurate Runge Kutta 4th order.\n",
    "2. We define the floor's grid material inside the `<asset/>` clause and reference it in the floor geom.\n",
    "3. We use an invisible and non-colliding box geom called `ballast` to move the top's center-of-mass lower. Having a low center of mass is  (counter-intuitively) required for the flipping behaviour to occur.\n",
    "4. We save our initial spinning state as a keyframe. It has a high rotational velocity around the z-axis, but is not perfectly oriented with the world.\n",
    "5. We define a `<camera>` in our model, and then render from it using the `camera_id` argument to `render()`.\n",
    "Let us examine the state:"
   ]
  },
  {
   "cell_type": "code",
   "execution_count": null,
   "metadata": {
    "id": "o4S9nYhHOKmb"
   },
   "outputs": [],
   "source": [
    "print('positions', physics.data.qpos)\n",
    "print('velocities', physics.data.qvel)"
   ]
  },
  {
   "cell_type": "markdown",
   "metadata": {
    "id": "71UgzBAqWdtZ"
   },
   "source": [
    "The velocities are easy to interpret, 6 zeros, one for each DOF. What about the length-7 positions? We can see the initial 2cm height of the body; the subsequent four numbers are the 3D orientation, defined by a *unit quaternion*. These normalized four-vectors, which preserve the topology of the orientation group, are the reason that `data.qpos` can be bigger than `data.qvel`: 3D orientations are represented with **4** numbers while angular velocities are **3** numbers."
   ]
  },
  {
   "cell_type": "code",
   "execution_count": null,
   "metadata": {
    "id": "5P4HkhKNGQvs"
   },
   "outputs": [],
   "source": [
    "#@title Video of the tippe-top {vertical-output: true}\n",
    "\n",
    "duration = 7    # (seconds)\n",
    "framerate = 60  # (Hz)\n",
    "\n",
    "# Simulate and display video.\n",
    "frames = []\n",
    "physics.reset(0)  # Reset to keyframe 0 (load a saved state).\n",
    "while physics.data.time < duration:\n",
    "  physics.step()\n",
    "  if len(frames) < (physics.data.time) * framerate:\n",
    "    pixels = physics.render(camera_id='closeup')\n",
    "    frames.append(pixels)\n",
    "\n",
    "display_video(frames, framerate)"
   ]
  },
  {
   "cell_type": "markdown",
   "metadata": {
    "id": "rRuFKD2ubPgu"
   },
   "source": [
    "### Measuring values from `physics.data`\n",
    "The `physics.data` structure contains all of the dynamic variables and intermediate results produced by the simulation. These are expected to change on each timestep.\n",
    "\n",
    "Below we simulate for 2000 timesteps and plot the state and height of the sphere as a function of time."
   ]
  },
  {
   "cell_type": "code",
   "execution_count": null,
   "metadata": {
    "id": "1XXB6asJoZ2N"
   },
   "outputs": [],
   "source": [
    "#@title Measuring values {vertical-output: true}\n",
    "\n",
    "timevals = []\n",
    "angular_velocity = []\n",
    "stem_height = []\n",
    "\n",
    "# Simulate and save data\n",
    "physics.reset(0)\n",
    "while physics.data.time < duration:\n",
    "  physics.step()\n",
    "  timevals.append(physics.data.time)\n",
    "  angular_velocity.append(physics.data.qvel[3:6].copy())\n",
    "  stem_height.append(physics.named.data.geom_xpos['stem', 'z'])\n",
    "\n",
    "dpi = 100\n",
    "width = 480\n",
    "height = 640\n",
    "figsize = (width / dpi, height / dpi)\n",
    "_, ax = plt.subplots(2, 1, figsize=figsize, dpi=dpi, sharex=True)\n",
    "\n",
    "ax[0].plot(timevals, angular_velocity)\n",
    "ax[0].set_title('angular velocity')\n",
    "ax[0].set_ylabel('radians / second')\n",
    "\n",
    "ax[1].plot(timevals, stem_height)\n",
    "ax[1].set_xlabel('time (seconds)')\n",
    "ax[1].set_ylabel('meters')\n",
    "_ = ax[1].set_title('stem height')"
   ]
  },
  {
   "cell_type": "markdown",
   "metadata": {
    "id": "UAMItwu8e1WR"
   },
   "source": [
    "# PyMJCF tutorial\n",
    "\n",
    "\n"
   ]
  },
  {
   "cell_type": "markdown",
   "metadata": {
    "id": "hPiY8m3MssKM"
   },
   "source": [
    "This library provides a Python object model for MuJoCo's XML-based\n",
    "[MJCF](http://www.mujoco.org/book/modeling.html) physics modeling language. The\n",
    "goal of the library is to allow users to easily interact with and modify MJCF\n",
    "models in Python, similarly to what the JavaScript DOM does for HTML.\n",
    "\n",
    "A key feature of this library is the ability to easily compose multiple separate\n",
    "MJCF models into a larger one. Disambiguation of duplicated names from different\n",
    "models, or multiple instances of the same model, is handled automatically.\n",
    "\n",
    "One typical use case is when we want robots with a variable number of joints. This is a fundamental change to the kinematics, requiring a new XML descriptor and new binary model to be compiled.\n",
    "\n",
    "The following snippets realise this scenario and provide a quick example of this library's use case."
   ]
  },
  {
   "cell_type": "code",
   "execution_count": null,
   "metadata": {
    "id": "gKny5EJ4uVzu"
   },
   "outputs": [],
   "source": [
    "class Leg(object):\n",
    "  \"\"\"A 2-DoF leg with position actuators.\"\"\"\n",
    "  def __init__(self, length, rgba):\n",
    "    self.model = mjcf.RootElement()\n",
    "\n",
    "    # Defaults:\n",
    "    self.model.default.joint.damping = 2\n",
    "    self.model.default.joint.type = 'hinge'\n",
    "    self.model.default.geom.type = 'capsule'\n",
    "    self.model.default.geom.rgba = rgba  # Continued below...\n",
    "\n",
    "    # Thigh:\n",
    "    self.thigh = self.model.worldbody.add('body')\n",
    "    self.hip = self.thigh.add('joint', axis=[0, 0, 1])\n",
    "    self.thigh.add('geom', fromto=[0, 0, 0, length, 0, 0], size=[length/4])\n",
    "\n",
    "    # Hip:\n",
    "    self.shin = self.thigh.add('body', pos=[length, 0, 0])\n",
    "    self.knee = self.shin.add('joint', axis=[0, 1, 0])\n",
    "    self.shin.add('geom', fromto=[0, 0, 0, 0, 0, -length], size=[length/5])\n",
    "\n",
    "    # Position actuators:\n",
    "    self.model.actuator.add('position', joint=self.hip, kp=10)\n",
    "    self.model.actuator.add('position', joint=self.knee, kp=10)"
   ]
  },
  {
   "cell_type": "markdown",
   "metadata": {
    "id": "cFJerI--UtTy"
   },
   "source": [
    "The `Leg` class describes an abstract articulated leg, with two joints and corresponding proportional-derivative actuators.\n",
    "\n",
    "Note that:\n",
    "\n",
    "- MJCF attributes correspond directly to arguments of the `add()` method.\n",
    "- When referencing elements, e.g when specifying the joint to which an actuator is attached, the MJCF element itself is used, rather than the name string."
   ]
  },
  {
   "cell_type": "code",
   "execution_count": null,
   "metadata": {
    "cellView": "both",
    "id": "SESlL_TidKHx"
   },
   "outputs": [],
   "source": [
    "BODY_RADIUS = 0.1\n",
    "BODY_SIZE = (BODY_RADIUS, BODY_RADIUS, BODY_RADIUS / 2)\n",
    "random_state = np.random.RandomState(42)\n",
    "\n",
    "def make_creature(num_legs):\n",
    "  \"\"\"Constructs a creature with `num_legs` legs.\"\"\"\n",
    "  rgba = random_state.uniform([0, 0, 0, 1], [1, 1, 1, 1])\n",
    "  model = mjcf.RootElement()\n",
    "  model.compiler.angle = 'radian'  # Use radians.\n",
    "\n",
    "  # Make the torso geom.\n",
    "  model.worldbody.add(\n",
    "      'geom', name='torso', type='ellipsoid', size=BODY_SIZE, rgba=rgba)\n",
    "\n",
    "  # Attach legs to equidistant sites on the circumference.\n",
    "  for i in range(num_legs):\n",
    "    theta = 2 * i * np.pi / num_legs\n",
    "    hip_pos = BODY_RADIUS * np.array([np.cos(theta), np.sin(theta), 0])\n",
    "    hip_site = model.worldbody.add('site', pos=hip_pos, euler=[0, 0, theta])\n",
    "    leg = Leg(length=BODY_RADIUS, rgba=rgba)\n",
    "    hip_site.attach(leg.model)\n",
    "\n",
    "  return model"
   ]
  },
  {
   "cell_type": "markdown",
   "metadata": {
    "id": "elyuJiI3U3kM"
   },
   "source": [
    "The `make_creature` function uses PyMJCF's `attach()` method to procedurally attach legs to the torso. Note that at this stage both the torso and hip attachment sites are children of the `worldbody`, since their parent body has yet to be instantiated. We'll now make an arena with a chequered floor and two lights, and place our creatures in a grid."
   ]
  },
  {
   "cell_type": "code",
   "execution_count": null,
   "metadata": {
    "id": "F7_Tx9P9U_VJ"
   },
   "outputs": [],
   "source": [
    "#@title Six Creatures on a floor.{vertical-output: true}\n",
    "\n",
    "arena = mjcf.RootElement()\n",
    "chequered = arena.asset.add('texture', type='2d', builtin='checker', width=300,\n",
    "                            height=300, rgb1=[.2, .3, .4], rgb2=[.3, .4, .5])\n",
    "grid = arena.asset.add('material', name='grid', texture=chequered,\n",
    "                       texrepeat=[5, 5], reflectance=.2)\n",
    "arena.worldbody.add('geom', type='plane', size=[2, 2, .1], material=grid)\n",
    "for x in [-2, 2]:\n",
    "  arena.worldbody.add('light', pos=[x, -1, 3], dir=[-x, 1, -2])\n",
    "\n",
    "# Instantiate 6 creatures with 3 to 8 legs.\n",
    "creatures = [make_creature(num_legs=num_legs) for num_legs in range(3, 9)]\n",
    "\n",
    "# Place them on a grid in the arena.\n",
    "height = .15\n",
    "grid = 5 * BODY_RADIUS\n",
    "xpos, ypos, zpos = np.meshgrid([-grid, 0, grid], [0, grid], [height])\n",
    "for i, model in enumerate(creatures):\n",
    "  # Place spawn sites on a grid.\n",
    "  spawn_pos = (xpos.flat[i], ypos.flat[i], zpos.flat[i])\n",
    "  spawn_site = arena.worldbody.add('site', pos=spawn_pos, group=3)\n",
    "  # Attach to the arena at the spawn sites, with a free joint.\n",
    "  spawn_site.attach(model).add('freejoint')\n",
    "\n",
    "# Instantiate the physics and render.\n",
    "physics = mjcf.Physics.from_mjcf_model(arena)\n",
    "PIL.Image.fromarray(physics.render())"
   ]
  },
  {
   "cell_type": "markdown",
   "metadata": {
    "id": "cMfDaD7PfuoI"
   },
   "source": [
    "Multi-legged creatures, ready to roam! Let's inject some controls and watch them move. We'll generate a sinusoidal open-loop control signal of fixed frequency and random phase, recording both video frames and the horizontal positions of the torso geoms, in order to plot the movement trajectories."
   ]
  },
  {
   "cell_type": "code",
   "execution_count": null,
   "metadata": {
    "id": "8Gx39DMEUZDt"
   },
   "outputs": [],
   "source": [
    "#@title Video of the movement{vertical-output: true}\n",
    "#@test {\"timeout\": 600}\n",
    "\n",
    "duration = 10   # (Seconds)\n",
    "framerate = 30  # (Hz)\n",
    "video = []\n",
    "pos_x = []\n",
    "pos_y = []\n",
    "torsos = []  # List of torso geom elements.\n",
    "actuators = []  # List of actuator elements.\n",
    "for creature in creatures:\n",
    "  torsos.append(creature.find('geom', 'torso'))\n",
    "  actuators.extend(creature.find_all('actuator'))\n",
    "\n",
    "# Control signal frequency, phase, amplitude.\n",
    "freq = 5\n",
    "phase = 2 * np.pi * random_state.rand(len(actuators))\n",
    "amp = 0.9\n",
    "\n",
    "# Simulate, saving video frames and torso locations.\n",
    "physics.reset()\n",
    "while physics.data.time < duration:\n",
    "  # Inject controls and step the physics.\n",
    "  physics.bind(actuators).ctrl = amp * np.sin(freq * physics.data.time + phase)\n",
    "  physics.step()\n",
    "\n",
    "  # Save torso horizontal positions using bind().\n",
    "  pos_x.append(physics.bind(torsos).xpos[:, 0].copy())\n",
    "  pos_y.append(physics.bind(torsos).xpos[:, 1].copy())\n",
    "\n",
    "  # Save video frames.\n",
    "  if len(video) < physics.data.time * framerate:\n",
    "    pixels = physics.render()\n",
    "    video.append(pixels.copy())\n",
    "\n",
    "display_video(video, framerate)"
   ]
  },
  {
   "cell_type": "code",
   "execution_count": null,
   "metadata": {
    "id": "u09JfenWYLZu"
   },
   "outputs": [],
   "source": [
    "#@title Movement trajectories{vertical-output: true}\n",
    "\n",
    "creature_colors = physics.bind(torsos).rgba[:, :3]\n",
    "fig, ax = plt.subplots(figsize=(4, 4))\n",
    "ax.set_prop_cycle(color=creature_colors)\n",
    "_ = ax.plot(pos_x, pos_y, linewidth=4)"
   ]
  },
  {
   "cell_type": "markdown",
   "metadata": {
    "id": "kggQyvNpf_Y9"
   },
   "source": [
    "The plot above shows the corresponding movement trajectories of creature positions. Note how `physics.bind(torsos)` was used to access both `xpos` and `rgba` values. Once the `Physics` had been instantiated by `from_mjcf_model()`, the `bind()` method will expose both the associated `mjData` and `mjModel` fields of an `mjcf` element, providing unified access to all quantities in the simulation."
   ]
  },
  {
   "cell_type": "markdown",
   "metadata": {
    "id": "wcRX_wu_8q8u"
   },
   "source": [
    "# Composer tutorial"
   ]
  },
  {
   "cell_type": "markdown",
   "metadata": {
    "id": "1DMhNPE5tSdw"
   },
   "source": [
    "In this tutorial we will create a task requiring our \"creature\" above to press a colour-changing button on the floor with a prescribed force. We begin by implementing our creature as a `composer.Entity`:"
   ]
  },
  {
   "cell_type": "code",
   "execution_count": null,
   "metadata": {
    "id": "WwfzIqgNuFKt"
   },
   "outputs": [],
   "source": [
    "#@title The `Creature` class\n",
    "\n",
    "\n",
    "class Creature(composer.Entity):\n",
    "  \"\"\"A multi-legged creature derived from `composer.Entity`.\"\"\"\n",
    "  def _build(self, num_legs):\n",
    "    self._model = make_creature(num_legs)\n",
    "\n",
    "  def _build_observables(self):\n",
    "    return CreatureObservables(self)\n",
    "\n",
    "  @property\n",
    "  def mjcf_model(self):\n",
    "    return self._model\n",
    "\n",
    "  @property\n",
    "  def actuators(self):\n",
    "    return tuple(self._model.find_all('actuator'))\n",
    "\n",
    "\n",
    "# Add simple observable features for joint angles and velocities.\n",
    "class CreatureObservables(composer.Observables):\n",
    "\n",
    "  @composer.observable\n",
    "  def joint_positions(self):\n",
    "    all_joints = self._entity.mjcf_model.find_all('joint')\n",
    "    return observable.MJCFFeature('qpos', all_joints)\n",
    "\n",
    "  @composer.observable\n",
    "  def joint_velocities(self):\n",
    "    all_joints = self._entity.mjcf_model.find_all('joint')\n",
    "    return observable.MJCFFeature('qvel', all_joints)"
   ]
  },
  {
   "cell_type": "markdown",
   "metadata": {
    "id": "CXZOBK6RkjxH"
   },
   "source": [
    "The `Creature` Entity includes generic Observables for joint angles and velocities. Because `find_all()` is called on the `Creature`'s MJCF model, it will only return the creature's leg joints, and not the \"free\" joint with which it will be attached to the world. Note that Composer Entities should override the `_build` and `_build_observables` methods rather than `__init__`. The implementation of `__init__` in the base class calls `_build` and `_build_observables`, in that order, to ensure that the entity's MJCF model is created before its observables. This was a design choice which allows the user to refer to an observable as an attribute (`entity.observables.foo`) while still making it clear which attributes are observables. The stateful `Button` class derives from `composer.Entity` and implements the `initialize_episode` and `after_substep` callbacks."
   ]
  },
  {
   "cell_type": "code",
   "execution_count": null,
   "metadata": {
    "id": "BE9VU2EOvR-u"
   },
   "outputs": [],
   "source": [
    "#@title The `Button` class\n",
    "\n",
    "NUM_SUBSTEPS = 25  # The number of physics substeps per control timestep.\n",
    "\n",
    "\n",
    "class Button(composer.Entity):\n",
    "  \"\"\"A button Entity which changes colour when pressed with certain force.\"\"\"\n",
    "  def _build(self, target_force_range=(5, 10)):\n",
    "    self._min_force, self._max_force = target_force_range\n",
    "    self._mjcf_model = mjcf.RootElement()\n",
    "    self._geom = self._mjcf_model.worldbody.add(\n",
    "        'geom', type='cylinder', size=[0.25, 0.02], rgba=[1, 0, 0, 1])\n",
    "    self._site = self._mjcf_model.worldbody.add(\n",
    "        'site', type='cylinder', size=self._geom.size*1.01, rgba=[1, 0, 0, 0])\n",
    "    self._sensor = self._mjcf_model.sensor.add('touch', site=self._site)\n",
    "    self._num_activated_steps = 0\n",
    "\n",
    "  def _build_observables(self):\n",
    "    return ButtonObservables(self)\n",
    "\n",
    "  @property\n",
    "  def mjcf_model(self):\n",
    "    return self._mjcf_model\n",
    "  # Update the activation (and colour) if the desired force is applied.\n",
    "  def _update_activation(self, physics):\n",
    "    current_force = physics.bind(self.touch_sensor).sensordata[0]\n",
    "    self._is_activated = (current_force >= self._min_force and\n",
    "                          current_force <= self._max_force)\n",
    "    physics.bind(self._geom).rgba = (\n",
    "        [0, 1, 0, 1] if self._is_activated else [1, 0, 0, 1])\n",
    "    self._num_activated_steps += int(self._is_activated)\n",
    "\n",
    "  def initialize_episode(self, physics, random_state):\n",
    "    self._reward = 0.0\n",
    "    self._num_activated_steps = 0\n",
    "    self._update_activation(physics)\n",
    "\n",
    "  def after_substep(self, physics, random_state):\n",
    "    self._update_activation(physics)\n",
    "\n",
    "  @property\n",
    "  def touch_sensor(self):\n",
    "    return self._sensor\n",
    "\n",
    "  @property\n",
    "  def num_activated_steps(self):\n",
    "    return self._num_activated_steps\n",
    "\n",
    "\n",
    "class ButtonObservables(composer.Observables):\n",
    "  \"\"\"A touch sensor which averages contact force over physics substeps.\"\"\"\n",
    "  @composer.observable\n",
    "  def touch_force(self):\n",
    "    return observable.MJCFFeature('sensordata', self._entity.touch_sensor,\n",
    "                                  buffer_size=NUM_SUBSTEPS, aggregator='mean')"
   ]
  },
  {
   "cell_type": "markdown",
   "metadata": {
    "id": "D9vB5nCwkyIW"
   },
   "source": [
    "Note how the Button counts the number of sub-steps during which it is pressed with the desired force. It also exposes an `Observable` of the force being applied to the button, whose value is an average of the readings over the physics time-steps.\n",
    "\n",
    "We import some `variation` modules and an arena factory:"
   ]
  },
  {
   "cell_type": "code",
   "execution_count": null,
   "metadata": {
    "id": "aDTTQMHtVawM"
   },
   "outputs": [],
   "source": [
    "#@title Random initialiser using `composer.variation`\n",
    "\n",
    "\n",
    "class UniformCircle(variation.Variation):\n",
    "  \"\"\"A uniformly sampled horizontal point on a circle of radius `distance`.\"\"\"\n",
    "  def __init__(self, distance):\n",
    "    self._distance = distance\n",
    "    self._heading = distributions.Uniform(0, 2*np.pi)\n",
    "\n",
    "  def __call__(self, initial_value=None, current_value=None, random_state=None):\n",
    "    distance, heading = variation.evaluate(\n",
    "        (self._distance, self._heading), random_state=random_state)\n",
    "    return (distance*np.cos(heading), distance*np.sin(heading), 0)"
   ]
  },
  {
   "cell_type": "code",
   "execution_count": null,
   "metadata": {
    "id": "dgZwP-pvxJdt"
   },
   "outputs": [],
   "source": [
    "#@title The `PressWithSpecificForce` task\n",
    "\n",
    "\n",
    "class PressWithSpecificForce(composer.Task):\n",
    "\n",
    "  def __init__(self, creature):\n",
    "    self._creature = creature\n",
    "    self._arena = floors.Floor()\n",
    "    self._arena.add_free_entity(self._creature)\n",
    "    self._arena.mjcf_model.worldbody.add('light', pos=(0, 0, 4))\n",
    "    self._button = Button()\n",
    "    self._arena.attach(self._button)\n",
    "\n",
    "    # Configure initial poses\n",
    "    self._creature_initial_pose = (0, 0, 0.15)\n",
    "    button_distance = distributions.Uniform(0.5, .75)\n",
    "    self._button_initial_pose = UniformCircle(button_distance)\n",
    "\n",
    "    # Configure variators\n",
    "    self._mjcf_variator = variation.MJCFVariator()\n",
    "    self._physics_variator = variation.PhysicsVariator()\n",
    "\n",
    "    # Configure and enable observables\n",
    "    pos_corrptor = noises.Additive(distributions.Normal(scale=0.01))\n",
    "    self._creature.observables.joint_positions.corruptor = pos_corrptor\n",
    "    self._creature.observables.joint_positions.enabled = True\n",
    "    vel_corruptor = noises.Multiplicative(distributions.LogNormal(sigma=0.01))\n",
    "    self._creature.observables.joint_velocities.corruptor = vel_corruptor\n",
    "    self._creature.observables.joint_velocities.enabled = True\n",
    "    self._button.observables.touch_force.enabled = True\n",
    "\n",
    "    def to_button(physics):\n",
    "      button_pos, _ = self._button.get_pose(physics)\n",
    "      return self._creature.global_vector_to_local_frame(physics, button_pos)\n",
    "\n",
    "    self._task_observables = {}\n",
    "    self._task_observables['button_position'] = observable.Generic(to_button)\n",
    "\n",
    "    for obs in self._task_observables.values():\n",
    "      obs.enabled = True\n",
    "\n",
    "    self.control_timestep = NUM_SUBSTEPS * self.physics_timestep\n",
    "\n",
    "  @property\n",
    "  def root_entity(self):\n",
    "    return self._arena\n",
    "\n",
    "  @property\n",
    "  def task_observables(self):\n",
    "    return self._task_observables\n",
    "\n",
    "  def initialize_episode_mjcf(self, random_state):\n",
    "    self._mjcf_variator.apply_variations(random_state)\n",
    "\n",
    "  def initialize_episode(self, physics, random_state):\n",
    "    self._physics_variator.apply_variations(physics, random_state)\n",
    "    creature_pose, button_pose = variation.evaluate(\n",
    "        (self._creature_initial_pose, self._button_initial_pose),\n",
    "        random_state=random_state)\n",
    "    self._creature.set_pose(physics, position=creature_pose)\n",
    "    self._button.set_pose(physics, position=button_pose)\n",
    "\n",
    "  def get_reward(self, physics):\n",
    "    return self._button.num_activated_steps / NUM_SUBSTEPS"
   ]
  },
  {
   "cell_type": "code",
   "execution_count": null,
   "metadata": {
    "id": "dRuuZdLpthbv"
   },
   "outputs": [],
   "source": [
    "#@title Instantiating an environment{vertical-output: true}\n",
    "\n",
    "creature = Creature(num_legs=4)\n",
    "task = PressWithSpecificForce(creature)\n",
    "env = composer.Environment(task, random_state=np.random.RandomState(42))\n",
    "\n",
    "env.reset()\n",
    "PIL.Image.fromarray(env.physics.render())"
   ]
  },
  {
   "cell_type": "markdown",
   "metadata": {
    "id": "giTL_6euZFlw"
   },
   "source": [
    "# The *Control Suite*"
   ]
  },
  {
   "cell_type": "markdown",
   "metadata": {
    "id": "zfIcrDECtdB2"
   },
   "source": [
    "The **Control Suite** is a set of stable, well-tested tasks designed to serve as a benchmark for continuous control learning agents. Tasks are written using the basic MuJoCo wrapper interface. Standardised action, observation and reward structures make suite-wide benchmarking simple and learning curves easy to interpret. Control Suite domains are not meant to be modified, in order to facilitate benchmarking. For full details regarding benchmarking, please refer to our original [publication](https://arxiv.org/abs/1801.00690).\n",
    "\n",
    "A video of solved benchmark tasks is [available here](https://www.youtube.com/watch?v=rAai4QzcYbs&feature=youtu.be).\n",
    "\n",
    "The suite come with convenient module level tuples for iterating over tasks:"
   ]
  },
  {
   "cell_type": "code",
   "execution_count": null,
   "metadata": {
    "id": "a_whTJG8uTp1"
   },
   "outputs": [],
   "source": [
    "#@title Iterating over tasks{vertical-output: true}\n",
    "\n",
    "max_len = max(len(d) for d, _ in suite.BENCHMARKING)\n",
    "for domain, task in suite.BENCHMARKING:\n",
    "  print(f'{domain:<{max_len}}  {task}')"
   ]
  },
  {
   "cell_type": "code",
   "source": [
    "import cv2"
   ],
   "metadata": {
    "id": "jSSPG-AokTzG"
   },
   "execution_count": null,
   "outputs": []
  },
  {
   "cell_type": "code",
   "source": [
    "import numpy as np\n",
    "from tensorflow import keras\n",
    "\n",
    "\n",
    "class KnowledgeModel:\n",
    "    def __init__(self,\n",
    "                 count_actions: int,  # cantidad de acciones\n",
    "                 frames_shape: tuple,  # shape de los frames\n",
    "                 frames_count: int,  # cantidad de frames que va a tener el estado\n",
    "                 ):\n",
    "        self.model_encoder = keras.applications.resnet50.ResNet50(\n",
    "            include_top=False,\n",
    "            weights='imagenet',\n",
    "            input_shape=frames_shape,\n",
    "        )\n",
    "        state_encoded_shape = (frames_count, *self.model_encoder.output_shape[1:])\n",
    "\n",
    "        self.model_learning = self.build_model_learning(count_actions, state_encoded_shape)\n",
    "        self.model_learning.compile(optimizer='adam', loss='mean_squared_error')\n",
    "\n",
    "        # actions in one hot vector\n",
    "        self.actions: np.array = np.eye(count_actions)\n",
    "        self.path_h5 = 'knowledge/my_q_net.h5'\n",
    "\n",
    "    # My Q NET\n",
    "    @staticmethod\n",
    "    def build_model_learning(count_actions, state_encoded_shape) -> keras.models.Model:\n",
    "        state_input = keras.layers.Input(shape=state_encoded_shape, name='state_input')\n",
    "        state_flatten = keras.layers.Flatten(name='state_flatten')(state_input)\n",
    "        state_zip = keras.layers.Dense(5, name='state_zip')(state_flatten)\n",
    "        action_input = keras.layers.Input(shape=(count_actions,), name='action_input')\n",
    "        action_zip = keras.layers.Dense(5, name='action_zip')(action_input)\n",
    "        action_state = keras.layers.Concatenate(name='concatenate_action_state')([state_zip, action_zip])\n",
    "        general_layer_output = keras.layers.Dense(1, name='q')(action_state)\n",
    "\n",
    "        return keras.models.Model(\n",
    "            name='MY_Q_NET',\n",
    "            inputs=[state_input, action_input],\n",
    "            outputs=[general_layer_output],\n",
    "        )\n",
    "\n",
    "    def read_q_value(self,\n",
    "                     a: int,  # action\n",
    "                     s: np.array,  # state\n",
    "                     ) -> float:\n",
    "        _action = self.actions[a]\n",
    "\n",
    "        # codificar el estado con el encoder (resnet50)\n",
    "        _state_encoded = self.model_encoder.predict(s)\n",
    "\n",
    "        # obtener el Q con la red neuronal usando el estado codificado y la accion\n",
    "        _prediction = self.model_learning.predict([\n",
    "            np.expand_dims(_state_encoded, axis=0),\n",
    "            np.expand_dims(_action, axis=0)\n",
    "        ])\n",
    "        q = _prediction[0][0]\n",
    "        return q\n",
    "\n",
    "    def update_q_value(self,\n",
    "                       a,  # action\n",
    "                       s,  # state (normalmente seria el estado previo)\n",
    "                       q,  # q_value\n",
    "                       ):\n",
    "        _action = self.actions[a]\n",
    "        # codificar el estado con el encoder (resnet50)\n",
    "        _state_encoded = self.model_encoder.predict(s)\n",
    "        # entrenar la red neuronal con el estado codificado y la accion\n",
    "        print('fit')\n",
    "        self.model_learning.fit(\n",
    "            x=[\n",
    "                np.expand_dims(_state_encoded, axis=0),\n",
    "                np.expand_dims(_action, axis=0)\n",
    "            ],\n",
    "            y=np.array([q]),\n",
    "            epochs=1,\n",
    "            verbose=0,\n",
    "        )\n",
    "\n",
    "    def save_knowledge(self):\n",
    "        self.model_learning.save(self.path_h5)\n",
    "\n",
    "    def load_knowledge(self):\n",
    "        self.model_learning = keras.models.load_model(self.path_h5)\n",
    "\n",
    "\n",
    "class Agent:\n",
    "    def __init__(self,\n",
    "                 env_,\n",
    "                 frames: list[np.array],\n",
    "                 state_frames_count: int = 4,\n",
    "                 action_count: int = 11,\n",
    "                 ):\n",
    "        self.env = env_\n",
    "        spec = env_.action_spec()\n",
    "        self.action_count: int = action_count\n",
    "        self.action_values: np.array = np.linspace(spec.minimum, spec.maximum, action_count)\n",
    "\n",
    "        # q-learning\n",
    "        self.alpha = .1\n",
    "        self.gamma = 1\n",
    "        self.epsilon = .1\n",
    "\n",
    "        self.state_frames_count: int = state_frames_count\n",
    "        if len(frames) < state_frames_count:\n",
    "            raise Exception('Frames count is less than state_frames_count')\n",
    "        self.frames: list[np.array] = frames\n",
    "        self.state = self.update_state()\n",
    "\n",
    "        self.frames_shape = frames[0].shape\n",
    "        self.knowledge_model = KnowledgeModel(\n",
    "            count_actions=action_count,\n",
    "            frames_shape=self.frames_shape,\n",
    "            frames_count=self.state_frames_count,\n",
    "        )\n",
    "        # Cantidad de acciones que se han realizado\n",
    "        self.step_count = 0\n",
    "\n",
    "    def update_state(self):\n",
    "        self.state = np.array(self.frames[-self.state_frames_count:])\n",
    "        return self.state\n",
    "\n",
    "    def select_an_action(self) -> int:\n",
    "        return self.select_an_action_random()\n",
    "        # Realizara una accion aleatoria con probabilidad epsilon\n",
    "        #return self.select_an_action_random() if np.random.random() < self.epsilon \\\n",
    "        #    else self.select_an_action_best_q()[0]\n",
    "\n",
    "    def select_an_action_random(self) -> int:\n",
    "        return np.random.randint(self.action_count)\n",
    "\n",
    "    def select_an_action_best_q(self,\n",
    "                                s=None,  # state (default self.state)\n",
    "                                ) -> tuple[int, float]:  # best_action, best_q_value\n",
    "        if s is None:\n",
    "            s = self.state\n",
    "        # Obtener la lista de valores Q de todas las acciones para el estado \"s\"\n",
    "        q_values_per_action = self.read_q_values_x_actions(s)\n",
    "        # De la lista de valores Q, buscar el mejor\n",
    "        best_action = q_values_per_action[0][0]\n",
    "        best_q_value = q_values_per_action[0][1]\n",
    "        for av in q_values_per_action[1:]:\n",
    "            a = av[0]  # action\n",
    "            v = av[1]  # q_value\n",
    "            if v > best_q_value:\n",
    "                best_action = a\n",
    "                best_q_value = v\n",
    "        return int(best_action), float(best_q_value)\n",
    "\n",
    "    def read_q_values_x_actions(self, s: np.array) -> list:\n",
    "        return [(a, self.knowledge_model.read_q_value(a, s)) for a in range(self.action_count)]\n",
    "\n",
    "    def run_step(self) -> float:\n",
    "        a: int = self.select_an_action()\n",
    "        state_prev = self.state\n",
    "        reward = self.apply_action(a)\n",
    "        self.train_action(a, state_prev, reward)\n",
    "        self.step_count += 1\n",
    "        # Guardar el conocimiento cada 100 pasos\n",
    "        if self.step_count % 10 == 0:\n",
    "            print('saving knowledge')\n",
    "            self.knowledge_model.save_knowledge()\n",
    "        return reward\n",
    "\n",
    "    def apply_action(self, a: int):\n",
    "        action_value_: float = self.action_values[a]\n",
    "        time_step_ = self.env.step(action_value_)\n",
    "\n",
    "        print(\"Position: \", time_step_.observation['position'])\n",
    "        print(\"Velocity: \", time_step_.observation['velocity'])\n",
    "        _r = time_step_.reward\n",
    "        print(\"Reward: \", _r)\n",
    "        # Get new Frame\n",
    "        _f = self.env.physics.render(camera_id=0, height=self.frames_shape[0], width=self.frames_shape[1])\n",
    "        self.frames.append(_f)\n",
    "        self.update_state()\n",
    "        return _r\n",
    "\n",
    "    def train_action(self, a: int, state_prev: np.array, reward: float):\n",
    "        pass\n",
    "        #_q = self.knowledge_model.read_q_value(a, state_prev)\n",
    "        #_q_as_max = self.select_an_action_best_q()[1]\n",
    "        #_q_fixed: float = _q + self.alpha * (reward + self.gamma * _q_as_max - _q)\n",
    "        #self.knowledge_model.update_q_value(a, state_prev, _q_fixed)\n"
   ],
   "metadata": {
    "id": "TQ6jQAmx5qHC"
   },
   "execution_count": null,
   "outputs": []
  },
  {
   "cell_type": "code",
   "source": [
    "#@title Loading and simulating a `suite` task{vertical-output: true}\n",
    "\n",
    "# Load the environment\n",
    "random_state = np.random.RandomState(42)\n",
    "#env = suite.load('hopper', 'stand', task_kwargs={'random': random_state})\n",
    "env = suite.load('cartpole', 'balance', task_kwargs={'random': random_state})\n",
    "#env = suite.load('finger', 'spin', task_kwargs={'random': random_state})\n",
    "#env = suite.load('cheetah', 'run', task_kwargs={'random': random_state})\n",
    "\n",
    "type(env)"
   ],
   "metadata": {
    "id": "R-hkhpNw63Ov"
   },
   "execution_count": null,
   "outputs": []
  },
  {
   "cell_type": "code",
   "execution_count": null,
   "metadata": {
    "id": "qN8y3etfZFly"
   },
   "outputs": [],
   "source": [
    "# Simulate episode with random actions\n",
    "ticks = []\n",
    "rewards = []\n",
    "observations = []\n",
    "\n",
    "\n",
    "frames = []\n",
    "state_frames_count: int = 4\n",
    "\n",
    "spec = env.action_spec()\n",
    "time_step = env.reset()\n",
    "\n",
    "# generar los primeros 4 frames para tener un estado inicial\n",
    "for i in range(state_frames_count):\n",
    "  action = 0\n",
    "  print(\"Action: \", action)\n",
    "  time_step = env.step(action)\n",
    "  print(\"Position: \", time_step.observation['position'])\n",
    "  print(\"Velocity: \", time_step.observation['velocity'])\n",
    "  print(\"Reward: \", time_step.reward)\n",
    "\n",
    "  camera0 = env.physics.render(camera_id=0, height=100, width=100)\n",
    "  print(\"camera0.shape\")\n",
    "  print(camera0.shape)\n",
    "  frames.append(camera0)\n",
    "  # Save frame has file\n",
    "  #cv2.imwrite(\"frame%d.jpg\" % i, camera0)\n",
    "\n",
    "  rewards.append(time_step.reward)\n",
    "  observations.append(copy.deepcopy(time_step.observation))\n",
    "  ticks.append(env.physics.data.time)\n",
    "\n",
    "html_video = display_video(frames, framerate=1./env.control_timestep())\n",
    "\n",
    "# Show video and plot reward and observations\n",
    "num_sensors = len(time_step.observation)\n",
    "\n",
    "_, ax = plt.subplots(1 + num_sensors, 1, sharex=True, figsize=(4, 8))\n",
    "ax[0].plot(ticks, rewards)\n",
    "ax[0].set_ylabel('reward')\n",
    "ax[-1].set_xlabel('time')\n",
    "\n",
    "for i, key in enumerate(time_step.observation):\n",
    "  data = np.asarray([observations[j][key] for j in range(len(observations))])\n",
    "  ax[i+1].plot(ticks, data, label=key)\n",
    "  ax[i+1].set_ylabel(key)\n",
    "\n",
    "print(f'cantidad de frames {len(frames)}')\n",
    "\n",
    "html_video"
   ]
  },
  {
   "cell_type": "code",
   "source": [
    "frames[0].shape"
   ],
   "metadata": {
    "id": "tLdG50Lx-n8r"
   },
   "execution_count": null,
   "outputs": []
  },
  {
   "cell_type": "code",
   "source": [
    "#@title Construimos al agente\n",
    "agent = Agent(\n",
    "    env,\n",
    "    frames,\n",
    "    state_frames_count,\n",
    "    7,\n",
    ")"
   ],
   "metadata": {
    "id": "nqVMT77n9h8j"
   },
   "execution_count": null,
   "outputs": []
  },
  {
   "cell_type": "code",
   "source": [
    "agent.run_step()"
   ],
   "metadata": {
    "id": "j-PlVAFZKVPu"
   },
   "execution_count": null,
   "outputs": []
  },
  {
   "cell_type": "code",
   "source": [
    "duration = agent.step_count + 1000\n",
    "_t = env.physics.data.time\n",
    "#while _t < duration:\n",
    "while agent.step_count < duration:\n",
    "  # print(_t, ' de ', duration)\n",
    "  print(agent.step_count, ' de ', duration)\n",
    "  _r = agent.run_step()\n",
    "  rewards.append(_r)\n",
    "  # print(\"Action: \", action)\n",
    "  # time_step = env.step(action)\n",
    "  # print(\"Position: \", time_step.observation['position'])\n",
    "  # print(\"Velocity: \", time_step.observation['velocity'])\n",
    "  # observations.append(copy.deepcopy(time_step.observation))\n",
    "  ticks.append(_t)"
   ],
   "metadata": {
    "id": "qprwjKIONZff"
   },
   "execution_count": null,
   "outputs": []
  },
  {
   "cell_type": "code",
   "source": [
    "html_video = display_video(frames, framerate=1./env.control_timestep())\n",
    "\n",
    "# Show video and plot reward and observations\n",
    "num_sensors = len(time_step.observation)\n",
    "\n",
    "_, ax = plt.subplots(1 + num_sensors, 1, sharex=True, figsize=(4, 8))\n",
    "ax[0].plot(ticks, rewards)\n",
    "ax[0].set_ylabel('reward')\n",
    "ax[-1].set_xlabel('time')\n",
    "\n",
    "# for i, key in enumerate(time_step.observation):\n",
    "#   data = np.asarray([observations[j][key] for j in range(len(observations))])\n",
    "#   ax[i+1].plot(ticks, data, label=key)\n",
    "#   ax[i+1].set_ylabel(key)\n",
    "\n",
    "html_video"
   ],
   "metadata": {
    "id": "RElrZD4A83dn"
   },
   "execution_count": null,
   "outputs": []
  },
  {
   "cell_type": "code",
   "execution_count": null,
   "metadata": {
    "id": "ggVbQr5hZFl5",
    "cellView": "form"
   },
   "outputs": [],
   "source": [
    "#@title Visualizing an initial state of one task per domain in the Control Suite\n",
    "domains_tasks = {domain: task for domain, task in suite.ALL_TASKS}\n",
    "random_state = np.random.RandomState(42)\n",
    "num_domains = len(domains_tasks)\n",
    "n_col = num_domains // int(np.sqrt(num_domains))\n",
    "n_row = num_domains // n_col + int(0 < num_domains % n_col)\n",
    "_, ax = plt.subplots(n_row, n_col, figsize=(12, 12))\n",
    "for a in ax.flat:\n",
    "  a.axis('off')\n",
    "  a.grid(False)\n",
    "\n",
    "print(f'Iterating over all {num_domains} domains in the Suite:')\n",
    "for j, [domain, task] in enumerate(domains_tasks.items()):\n",
    "  print(domain, task)\n",
    "\n",
    "  env = suite.load(domain, task, task_kwargs={'random': random_state})\n",
    "  timestep = env.reset()\n",
    "  pixels = env.physics.render(height=200, width=200, camera_id=0)\n",
    "\n",
    "  ax.flat[j].imshow(pixels)\n",
    "  ax.flat[j].set_title(domain + ': ' + task)\n",
    "\n",
    "clear_output()"
   ]
  },
  {
   "cell_type": "markdown",
   "metadata": {
    "id": "JHSvxHiaopDb"
   },
   "source": [
    "# Locomotion"
   ]
  },
  {
   "cell_type": "markdown",
   "metadata": {
    "id": "yTn3C03dpHzL"
   },
   "source": [
    "## Humanoid running along corridor with obstacles\n",
    "\n",
    "As an illustrative example of using the Locomotion infrastructure to build an RL environment, consider placing a humanoid in a corridor with walls, and a task specifying that the humanoid will be rewarded for running along this corridor, navigating around the wall obstacles using vision. We instantiate the environment as a composition of the Walker, Arena, and Task as follows. First, we build a position-controlled CMU humanoid walker."
   ]
  },
  {
   "cell_type": "code",
   "execution_count": null,
   "metadata": {
    "id": "gE8rrB7PpN9X"
   },
   "outputs": [],
   "source": [
    "#@title A position controlled `cmu_humanoid`\n",
    "\n",
    "walker = cmu_humanoid.CMUHumanoidPositionControlledV2020(\n",
    "    observable_options={'egocentric_camera': dict(enabled=True)})"
   ]
  },
  {
   "cell_type": "markdown",
   "metadata": {
    "id": "3fYbaDflBrgE"
   },
   "source": [
    "Next, we construct a corridor-shaped arena that is obstructed by walls."
   ]
  },
  {
   "cell_type": "code",
   "execution_count": null,
   "metadata": {
    "id": "t-O17Fnm3E6R"
   },
   "outputs": [],
   "source": [
    "#@title A corridor arena with wall obstacles\n",
    "\n",
    "arena = corridor_arenas.WallsCorridor(\n",
    "    wall_gap=3.,\n",
    "    wall_width=distributions.Uniform(2., 3.),\n",
    "    wall_height=distributions.Uniform(2.5, 3.5),\n",
    "    corridor_width=4.,\n",
    "    corridor_length=30.,\n",
    ")"
   ]
  },
  {
   "cell_type": "markdown",
   "metadata": {
    "id": "970nN38eBx-R"
   },
   "source": [
    "The task constructor places the walker in the arena."
   ]
  },
  {
   "cell_type": "code",
   "execution_count": null,
   "metadata": {
    "id": "dz4Jy2UGpQ4Z"
   },
   "outputs": [],
   "source": [
    "#@title A task to navigate the arena\n",
    "\n",
    "task = corridor_tasks.RunThroughCorridor(\n",
    "    walker=walker,\n",
    "    arena=arena,\n",
    "    walker_spawn_position=(0.5, 0, 0),\n",
    "    target_velocity=3.0,\n",
    "    physics_timestep=0.005,\n",
    "    control_timestep=0.03,\n",
    ")"
   ]
  },
  {
   "cell_type": "markdown",
   "metadata": {
    "id": "r-Oy-qTSB4HW"
   },
   "source": [
    "Finally, a task that rewards the agent for running down the corridor at a specific velocity is instantiated as a `composer.Environment`."
   ]
  },
  {
   "cell_type": "code",
   "execution_count": null,
   "metadata": {
    "id": "sQXlaEZk3ytl"
   },
   "outputs": [],
   "source": [
    "#@title The `RunThroughCorridor` environment\n",
    "\n",
    "env = composer.Environment(\n",
    "    task=task,\n",
    "    time_limit=10,\n",
    "    random_state=np.random.RandomState(42),\n",
    "    strip_singleton_obs_buffer_dim=True,\n",
    ")\n",
    "env.reset()\n",
    "pixels = []\n",
    "for camera_id in range(3):\n",
    "  pixels.append(env.physics.render(camera_id=camera_id, width=240))\n",
    "PIL.Image.fromarray(np.hstack(pixels))"
   ]
  },
  {
   "cell_type": "markdown",
   "metadata": {
    "id": "HuuQLm8YopDe"
   },
   "source": [
    "## Multi-Agent Soccer"
   ]
  },
  {
   "cell_type": "markdown",
   "metadata": {
    "id": "OPNshDEEopDf"
   },
   "source": [
    "Building on Composer and Locomotion libraries, the Multi-agent soccer environments, introduced in [this paper](https://arxiv.org/abs/1902.07151), follow a consistent task structure of Walkers, Arena, and Task where instead of a single walker, we inject multiple walkers that can interact with each other physically in the same scene. The code snippet below shows how to instantiate a 2-vs-2 Multi-agent Soccer environment with the simple, 5 degree-of-freedom `BoxHead` walker type."
   ]
  },
  {
   "cell_type": "code",
   "execution_count": null,
   "metadata": {
    "id": "zAb3je0DAeQo"
   },
   "outputs": [],
   "source": [
    "#@title 2-v-2 `Boxhead` soccer\n",
    "\n",
    "random_state = np.random.RandomState(42)\n",
    "env = soccer.load(\n",
    "    team_size=2,\n",
    "    time_limit=45.,\n",
    "    random_state=random_state,\n",
    "    disable_walker_contacts=False,\n",
    "    walker_type=soccer.WalkerType.BOXHEAD,\n",
    ")\n",
    "env.reset()\n",
    "pixels = []\n",
    "# Select a random subset of 6 cameras (soccer envs have lots of cameras)\n",
    "cameras = random_state.choice(env.physics.model.ncam, 6, replace=False)\n",
    "for camera_id in cameras:\n",
    "  pixels.append(env.physics.render(camera_id=camera_id, width=240))\n",
    "image = np.vstack((np.hstack(pixels[:3]), np.hstack(pixels[3:])))\n",
    "PIL.Image.fromarray(image)"
   ]
  },
  {
   "cell_type": "markdown",
   "metadata": {
    "id": "J_5C2k0NGvxE"
   },
   "source": [
    " It can trivially be replaced by e.g. the `WalkerType.ANT` walker:"
   ]
  },
  {
   "cell_type": "code",
   "execution_count": null,
   "metadata": {
    "id": "WDIGodhBG-Mn"
   },
   "outputs": [],
   "source": [
    "#@title 3-v-3 `Ant` soccer\n",
    "\n",
    "random_state = np.random.RandomState(42)\n",
    "env = soccer.load(\n",
    "    team_size=3,\n",
    "    time_limit=45.,\n",
    "    random_state=random_state,\n",
    "    disable_walker_contacts=False,\n",
    "    walker_type=soccer.WalkerType.ANT,\n",
    ")\n",
    "env.reset()\n",
    "\n",
    "pixels = []\n",
    "cameras = random_state.choice(env.physics.model.ncam, 6, replace=False)\n",
    "for camera_id in cameras:\n",
    "  pixels.append(env.physics.render(camera_id=camera_id, width=240))\n",
    "image = np.vstack((np.hstack(pixels[:3]), np.hstack(pixels[3:])))\n",
    "PIL.Image.fromarray(image)"
   ]
  },
  {
   "cell_type": "markdown",
   "metadata": {
    "id": "MvK9BW4A5c9p"
   },
   "source": [
    "# Manipulation"
   ]
  },
  {
   "cell_type": "markdown",
   "metadata": {
    "id": "jPt27n2Dch_m"
   },
   "source": [
    "The `manipulation` module provides a robotic arm, a set of simple objects, and tools for building reward functions for manipulation tasks."
   ]
  },
  {
   "cell_type": "code",
   "execution_count": null,
   "metadata": {
    "id": "cZxmJoovahCA"
   },
   "outputs": [],
   "source": [
    "#@title Listing all `manipulation` tasks{vertical-output: true}\n",
    "\n",
    "# `ALL` is a tuple containing the names of all of the environments in the suite.\n",
    "print('\\n'.join(manipulation.ALL))"
   ]
  },
  {
   "cell_type": "code",
   "execution_count": null,
   "metadata": {
    "id": "oj0cJFlR5nTS"
   },
   "outputs": [],
   "source": [
    "#@title Listing `manipulation` tasks that use vision{vertical-output: true}\n",
    "print('\\n'.join(manipulation.get_environments_by_tag('vision')))"
   ]
  },
  {
   "cell_type": "code",
   "execution_count": null,
   "metadata": {
    "id": "e_6q4FqFIKxy"
   },
   "outputs": [],
   "source": [
    "#@title Loading and simulating a `manipulation` task{vertical-output: true}\n",
    "\n",
    "env = manipulation.load('stack_2_of_3_bricks_random_order_vision', seed=42)\n",
    "action_spec = env.action_spec()\n",
    "\n",
    "def sample_random_action():\n",
    "  return env.random_state.uniform(\n",
    "      low=action_spec.minimum,\n",
    "      high=action_spec.maximum,\n",
    "  ).astype(action_spec.dtype, copy=False)\n",
    "\n",
    "# Step the environment through a full episode using random actions and record\n",
    "# the camera observations.\n",
    "frames = []\n",
    "timestep = env.reset()\n",
    "frames.append(timestep.observation['front_close'])\n",
    "while not timestep.last():\n",
    "  timestep = env.step(sample_random_action())\n",
    "  frames.append(timestep.observation['front_close'])\n",
    "all_frames = np.concatenate(frames, axis=0)\n",
    "display_video(all_frames, 30)"
   ]
  }
 ],
 "metadata": {
  "accelerator": "GPU",
  "colab": {
   "collapsed_sections": [
    "YvyGCsgSCxHQ",
    "wtDN43hIJh2C",
    "jZXz9rPYGA-Y",
    "MdUF2UYmR4TA",
    "nQ8XOnRQx7T1",
    "gf9h_wi9weet",
    "NCcZxrDDB1Cj",
    "t5hY0fyXFLcf",
    "Z0UodCxS_v49",
    "22ENjtVuhwsm",
    "SHppAOjvSupc",
    "rRuFKD2ubPgu",
    "UAMItwu8e1WR",
    "wcRX_wu_8q8u",
    "JHSvxHiaopDb",
    "yTn3C03dpHzL",
    "HuuQLm8YopDe",
    "MvK9BW4A5c9p"
   ],
   "private_outputs": true,
   "provenance": [],
   "gpuType": "T4"
  },
  "kernelspec": {
   "name": "python3",
   "language": "python",
   "display_name": "Python 3 (ipykernel)"
  }
 },
 "nbformat": 4,
 "nbformat_minor": 0
}
