{
 "cells": [
  {
   "cell_type": "code",
   "execution_count": 5,
   "outputs": [
    {
     "name": "stderr",
     "output_type": "stream",
     "text": [
      "2023-11-02 04:40:39.215537: I tensorflow/tsl/cuda/cudart_stub.cc:28] Could not find cuda drivers on your machine, GPU will not be used.\n",
      "2023-11-02 04:40:39.245241: I tensorflow/tsl/cuda/cudart_stub.cc:28] Could not find cuda drivers on your machine, GPU will not be used.\n",
      "2023-11-02 04:40:39.245761: I tensorflow/core/platform/cpu_feature_guard.cc:182] This TensorFlow binary is optimized to use available CPU instructions in performance-critical operations.\n",
      "To enable the following instructions: AVX2 FMA, in other operations, rebuild TensorFlow with the appropriate compiler flags.\n",
      "2023-11-02 04:40:39.824582: W tensorflow/compiler/tf2tensorrt/utils/py_utils.cc:38] TF-TRT Warning: Could not find TensorRT\n"
     ]
    }
   ],
   "source": [
    "from tensorflow import keras"
   ],
   "metadata": {
    "collapsed": false,
    "ExecuteTime": {
     "end_time": "2023-11-02T10:40:40.564876485Z",
     "start_time": "2023-11-02T10:40:39.051071937Z"
    }
   },
   "id": "12733d94ea6d4a70"
  },
  {
   "cell_type": "code",
   "execution_count": 11,
   "outputs": [],
   "source": [
    "def build_net_status(count: int, frame_shape: tuple = (8, 10, 2048)) -> tuple[list, list]:\n",
    "    frame_inputs = []\n",
    "    frame_outputs = []\n",
    "    for i in range(count):\n",
    "        frame_input = keras.layers.Input(shape=frame_shape, name=f'frame_{i}')\n",
    "        frame_flatten = keras.layers.Flatten(name=f'frame_{i}_flatten')(frame_input)\n",
    "        frame_output = keras.layers.Dense(10, name=f'frame_{i}_zip')(frame_flatten)\n",
    "        frame_inputs.append(frame_input)\n",
    "        frame_outputs.append(frame_output)\n",
    "\n",
    "    return frame_inputs, frame_outputs\n",
    "\n",
    "\n",
    "def build_net() -> keras.models.Model:\n",
    "    frame_inputs, frame_outputs = build_net_status(4)\n",
    "    # aqui concatenamos todas las capas de frames\n",
    "    general_layer_frames = keras.layers.Concatenate(name='frames_concatenate')(frame_outputs)\n",
    "    # ahora vamos a comprimir todos los frames en 20 neuronas\n",
    "    general_layer_frames_zip = keras.layers.Dense(20, name='frames_zip')(general_layer_frames)\n",
    "    # entrada de las acciones\n",
    "    actions_input = keras.layers.Input(shape=(10,), name='actions_input')\n",
    "    # ahora vamos a comprimir el vector de las acciones en 20 neuronas taqmbien para que este equilibrado con los frames\n",
    "    actions_zip = keras.layers.Dense(20, name='actions_zip')(actions_input)\n",
    "    # ahora concatenamos los estados y las acciones\n",
    "    action_status = keras.layers.Concatenate(name='concatenate_action_status')([general_layer_frames_zip, actions_zip])\n",
    "    # la salida general seria 1 neurona con el valor Q\n",
    "    general_layer_output = keras.layers.Dense(1, name='q')(action_status)\n",
    "\n",
    "    return keras.models.Model(\n",
    "        name='MY_Q_NET',\n",
    "        inputs=[*frame_inputs, actions_input],\n",
    "        outputs=[general_layer_output],\n",
    "    )"
   ],
   "metadata": {
    "collapsed": false,
    "ExecuteTime": {
     "end_time": "2023-11-02T10:44:21.833432967Z",
     "start_time": "2023-11-02T10:44:21.787876740Z"
    }
   },
   "id": "9024e86351610f8b"
  },
  {
   "cell_type": "code",
   "execution_count": 12,
   "outputs": [
    {
     "name": "stdout",
     "output_type": "stream",
     "text": [
      "Model: \"MY_Q_NET\"\n",
      "__________________________________________________________________________________________________\n",
      " Layer (type)                   Output Shape         Param #     Connected to                     \n",
      "==================================================================================================\n",
      " frame_0 (InputLayer)           [(None, 8, 10, 2048  0           []                               \n",
      "                                )]                                                                \n",
      "                                                                                                  \n",
      " frame_1 (InputLayer)           [(None, 8, 10, 2048  0           []                               \n",
      "                                )]                                                                \n",
      "                                                                                                  \n",
      " frame_2 (InputLayer)           [(None, 8, 10, 2048  0           []                               \n",
      "                                )]                                                                \n",
      "                                                                                                  \n",
      " frame_3 (InputLayer)           [(None, 8, 10, 2048  0           []                               \n",
      "                                )]                                                                \n",
      "                                                                                                  \n",
      " frame_0_flatten (Flatten)      (None, 163840)       0           ['frame_0[0][0]']                \n",
      "                                                                                                  \n",
      " frame_1_flatten (Flatten)      (None, 163840)       0           ['frame_1[0][0]']                \n",
      "                                                                                                  \n",
      " frame_2_flatten (Flatten)      (None, 163840)       0           ['frame_2[0][0]']                \n",
      "                                                                                                  \n",
      " frame_3_flatten (Flatten)      (None, 163840)       0           ['frame_3[0][0]']                \n",
      "                                                                                                  \n",
      " frame_0_zip (Dense)            (None, 10)           1638410     ['frame_0_flatten[0][0]']        \n",
      "                                                                                                  \n",
      " frame_1_zip (Dense)            (None, 10)           1638410     ['frame_1_flatten[0][0]']        \n",
      "                                                                                                  \n",
      " frame_2_zip (Dense)            (None, 10)           1638410     ['frame_2_flatten[0][0]']        \n",
      "                                                                                                  \n",
      " frame_3_zip (Dense)            (None, 10)           1638410     ['frame_3_flatten[0][0]']        \n",
      "                                                                                                  \n",
      " frames_concatenate (Concatenat  (None, 40)          0           ['frame_0_zip[0][0]',            \n",
      " e)                                                               'frame_1_zip[0][0]',            \n",
      "                                                                  'frame_2_zip[0][0]',            \n",
      "                                                                  'frame_3_zip[0][0]']            \n",
      "                                                                                                  \n",
      " actions_input (InputLayer)     [(None, 10)]         0           []                               \n",
      "                                                                                                  \n",
      " frames_zip (Dense)             (None, 20)           820         ['frames_concatenate[0][0]']     \n",
      "                                                                                                  \n",
      " actions_zip (Dense)            (None, 20)           220         ['actions_input[0][0]']          \n",
      "                                                                                                  \n",
      " concatenate_action_status (Con  (None, 40)          0           ['frames_zip[0][0]',             \n",
      " catenate)                                                        'actions_zip[0][0]']            \n",
      "                                                                                                  \n",
      " q (Dense)                      (None, 1)            41          ['concatenate_action_status[0][0]\n",
      "                                                                 ']                               \n",
      "                                                                                                  \n",
      "==================================================================================================\n",
      "Total params: 6,554,721\n",
      "Trainable params: 6,554,721\n",
      "Non-trainable params: 0\n",
      "__________________________________________________________________________________________________\n"
     ]
    }
   ],
   "source": [
    "general_net: keras.models.Model = build_net()\n",
    "general_net.compile(optimizer='adam', loss='mean_squared_error')\n",
    "general_net.summary()"
   ],
   "metadata": {
    "collapsed": false,
    "ExecuteTime": {
     "end_time": "2023-11-02T10:44:24.352752769Z",
     "start_time": "2023-11-02T10:44:24.226814193Z"
    }
   },
   "id": "578e03aa49e1e43b"
  }
 ],
 "metadata": {
  "kernelspec": {
   "display_name": "Python 3",
   "language": "python",
   "name": "python3"
  },
  "language_info": {
   "codemirror_mode": {
    "name": "ipython",
    "version": 2
   },
   "file_extension": ".py",
   "mimetype": "text/x-python",
   "name": "python",
   "nbconvert_exporter": "python",
   "pygments_lexer": "ipython2",
   "version": "2.7.6"
  }
 },
 "nbformat": 4,
 "nbformat_minor": 5
}
