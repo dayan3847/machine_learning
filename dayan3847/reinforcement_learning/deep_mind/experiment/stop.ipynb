{
 "cells": [
  {
   "cell_type": "code",
   "execution_count": 1,
   "id": "initial_id",
   "metadata": {
    "collapsed": true,
    "ExecuteTime": {
     "end_time": "2023-12-08T10:59:37.058677800Z",
     "start_time": "2023-12-08T10:59:36.970694100Z"
    }
   },
   "outputs": [],
   "source": [
    "import numpy as np"
   ]
  },
  {
   "cell_type": "code",
   "execution_count": 2,
   "outputs": [],
   "source": [
    "# Play\n",
    "np.savetxt('stop.txt',[0])"
   ],
   "metadata": {
    "collapsed": false,
    "ExecuteTime": {
     "end_time": "2023-11-17T09:08:31.060652600Z",
     "start_time": "2023-11-17T09:08:31.058109800Z"
    }
   },
   "id": "795156313e77e9fb"
  },
  {
   "cell_type": "code",
   "execution_count": 11,
   "outputs": [],
   "source": [
    "# Stop (cuando termine la epoca actual)\n",
    "np.savetxt('stop.txt',[1])"
   ],
   "metadata": {
    "collapsed": false,
    "ExecuteTime": {
     "end_time": "2023-12-08T13:24:01.764391Z",
     "start_time": "2023-12-08T13:24:01.758794200Z"
    }
   },
   "id": "5417c02b2a547ba8"
  },
  {
   "cell_type": "code",
   "execution_count": 4,
   "outputs": [],
   "source": [
    "# Stop (now)\n",
    "np.savetxt('stop.txt',[2])"
   ],
   "metadata": {
    "collapsed": false,
    "ExecuteTime": {
     "end_time": "2023-12-08T11:04:18.233653700Z",
     "start_time": "2023-12-08T11:04:18.230060700Z"
    }
   },
   "id": "cdb3bfcf2bbc9852"
  },
  {
   "cell_type": "code",
   "execution_count": null,
   "outputs": [],
   "source": [],
   "metadata": {
    "collapsed": false
   },
   "id": "32c5f76d51670c8f"
  }
 ],
 "metadata": {
  "kernelspec": {
   "display_name": "Python 3",
   "language": "python",
   "name": "python3"
  },
  "language_info": {
   "codemirror_mode": {
    "name": "ipython",
    "version": 2
   },
   "file_extension": ".py",
   "mimetype": "text/x-python",
   "name": "python",
   "nbconvert_exporter": "python",
   "pygments_lexer": "ipython2",
   "version": "2.7.6"
  }
 },
 "nbformat": 4,
 "nbformat_minor": 5
}
