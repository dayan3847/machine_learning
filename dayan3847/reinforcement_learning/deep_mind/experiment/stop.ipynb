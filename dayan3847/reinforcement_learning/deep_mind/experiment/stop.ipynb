{
 "cells": [
  {
   "cell_type": "code",
   "execution_count": 1,
   "id": "initial_id",
   "metadata": {
    "collapsed": true,
    "ExecuteTime": {
     "end_time": "2023-11-17T06:58:11.567401654Z",
     "start_time": "2023-11-17T06:58:11.509807549Z"
    }
   },
   "outputs": [],
   "source": [
    "import numpy as np"
   ]
  },
  {
   "cell_type": "code",
   "execution_count": 11,
   "outputs": [],
   "source": [
    "# Play\n",
    "np.savetxt('stop.txt',[0])"
   ],
   "metadata": {
    "collapsed": false,
    "ExecuteTime": {
     "end_time": "2023-11-17T07:23:49.106600865Z",
     "start_time": "2023-11-17T07:23:49.058810589Z"
    }
   },
   "id": "795156313e77e9fb"
  },
  {
   "cell_type": "code",
   "execution_count": 10,
   "outputs": [],
   "source": [
    "# Stop (cuando termine la epoca actual)\n",
    "np.savetxt('stop.txt',[1])"
   ],
   "metadata": {
    "collapsed": false,
    "ExecuteTime": {
     "end_time": "2023-11-17T07:18:09.382116737Z",
     "start_time": "2023-11-17T07:18:09.367610182Z"
    }
   },
   "id": "5417c02b2a547ba8"
  },
  {
   "cell_type": "code",
   "execution_count": 5,
   "outputs": [],
   "source": [
    "# Stop (now)\n",
    "np.savetxt('stop.txt',[2])"
   ],
   "metadata": {
    "collapsed": false,
    "ExecuteTime": {
     "end_time": "2023-11-14T02:23:02.918985250Z",
     "start_time": "2023-11-14T02:23:02.872212978Z"
    }
   },
   "id": "cdb3bfcf2bbc9852"
  },
  {
   "cell_type": "code",
   "execution_count": null,
   "outputs": [],
   "source": [],
   "metadata": {
    "collapsed": false
   },
   "id": "32c5f76d51670c8f"
  }
 ],
 "metadata": {
  "kernelspec": {
   "display_name": "Python 3",
   "language": "python",
   "name": "python3"
  },
  "language_info": {
   "codemirror_mode": {
    "name": "ipython",
    "version": 2
   },
   "file_extension": ".py",
   "mimetype": "text/x-python",
   "name": "python",
   "nbconvert_exporter": "python",
   "pygments_lexer": "ipython2",
   "version": "2.7.6"
  }
 },
 "nbformat": 4,
 "nbformat_minor": 5
}
