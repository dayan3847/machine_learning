{
 "cells": [
  {
   "cell_type": "code",
   "execution_count": 35,
   "id": "initial_id",
   "metadata": {
    "collapsed": true,
    "ExecuteTime": {
     "end_time": "2023-12-08T12:17:30.729800587Z",
     "start_time": "2023-12-08T12:17:28.930762679Z"
    }
   },
   "outputs": [],
   "source": [
    "import imageio as imageio\n",
    "import numpy as np\n",
    "\n",
    "# Crea una lista de imágenes PNG\n",
    "images = [imageio.v3.imread(f\"./frames/f{i}.png\") for i in np.linspace(1, 1000, 150, dtype=np.int64)]\n",
    "\n",
    "# Crea el GIF\n",
    "imageio.mimsave(\"output2.gif\", images)"
   ]
  },
  {
   "cell_type": "code",
   "execution_count": null,
   "outputs": [],
   "source": [],
   "metadata": {
    "collapsed": false
   },
   "id": "3f54270604cce3ca"
  }
 ],
 "metadata": {
  "kernelspec": {
   "display_name": "Python 3",
   "language": "python",
   "name": "python3"
  },
  "language_info": {
   "codemirror_mode": {
    "name": "ipython",
    "version": 2
   },
   "file_extension": ".py",
   "mimetype": "text/x-python",
   "name": "python",
   "nbconvert_exporter": "python",
   "pygments_lexer": "ipython2",
   "version": "2.7.6"
  }
 },
 "nbformat": 4,
 "nbformat_minor": 5
}
