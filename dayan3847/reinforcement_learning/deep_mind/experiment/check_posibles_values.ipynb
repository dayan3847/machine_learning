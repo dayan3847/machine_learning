{
 "cells": [
  {
   "cell_type": "code",
   "execution_count": 1,
   "id": "initial_id",
   "metadata": {
    "collapsed": true,
    "ExecuteTime": {
     "end_time": "2023-12-08T07:11:24.902945124Z",
     "start_time": "2023-12-08T07:11:24.876074051Z"
    }
   },
   "outputs": [],
   "source": [
    "import numpy as np"
   ]
  },
  {
   "cell_type": "code",
   "execution_count": 14,
   "outputs": [
    {
     "data": {
      "text/plain": "(25102,)"
     },
     "execution_count": 14,
     "metadata": {},
     "output_type": "execute_result"
    }
   ],
   "source": [
    "global_reward_random = np.loadtxt('global_reward_random.txt')\n",
    "global_reward_random.shape"
   ],
   "metadata": {
    "collapsed": false,
    "ExecuteTime": {
     "end_time": "2023-12-08T07:14:11.052371481Z",
     "start_time": "2023-12-08T07:14:11.004159836Z"
    }
   },
   "id": "795156313e77e9fb"
  },
  {
   "cell_type": "code",
   "execution_count": 16,
   "outputs": [
    {
     "data": {
      "text/plain": "(0.3099305739710764, 0.9999940294510957)"
     },
     "execution_count": 16,
     "metadata": {},
     "output_type": "execute_result"
    }
   ],
   "source": [
    "np.min(global_reward_random),np.max(global_reward_random)"
   ],
   "metadata": {
    "collapsed": false,
    "ExecuteTime": {
     "end_time": "2023-12-08T07:15:17.885645848Z",
     "start_time": "2023-12-08T07:15:17.838938125Z"
    }
   },
   "id": "5417c02b2a547ba8"
  },
  {
   "cell_type": "code",
   "execution_count": 6,
   "outputs": [
    {
     "data": {
      "text/plain": "(25102, 5)"
     },
     "execution_count": 6,
     "metadata": {},
     "output_type": "execute_result"
    }
   ],
   "source": [
    "global_state_random = np.loadtxt('global_state_random.csv', delimiter=',')\n",
    "global_state_random.shape"
   ],
   "metadata": {
    "collapsed": false,
    "ExecuteTime": {
     "end_time": "2023-12-08T07:12:22.418584608Z",
     "start_time": "2023-12-08T07:12:22.389157628Z"
    }
   },
   "id": "cdb3bfcf2bbc9852"
  },
  {
   "cell_type": "code",
   "execution_count": 8,
   "outputs": [
    {
     "data": {
      "text/plain": "(-0.5350289749599358, 0.6290810776409888)"
     },
     "execution_count": 8,
     "metadata": {},
     "output_type": "execute_result"
    }
   ],
   "source": [
    "np.min(global_state_random[:, 0]), np.max(global_state_random[:, 0])"
   ],
   "metadata": {
    "collapsed": false,
    "ExecuteTime": {
     "end_time": "2023-12-08T07:13:10.424491416Z",
     "start_time": "2023-12-08T07:13:10.381271471Z"
    }
   },
   "id": "32c5f76d51670c8f"
  },
  {
   "cell_type": "code",
   "execution_count": 9,
   "outputs": [
    {
     "data": {
      "text/plain": "(0.20926405347985094, 0.9999999999535398)"
     },
     "execution_count": 9,
     "metadata": {},
     "output_type": "execute_result"
    }
   ],
   "source": [
    "np.min(global_state_random[:, 1]), np.max(global_state_random[:, 1])"
   ],
   "metadata": {
    "collapsed": false,
    "ExecuteTime": {
     "end_time": "2023-12-08T07:13:35.222206122Z",
     "start_time": "2023-12-08T07:13:35.179130619Z"
    }
   },
   "id": "33179e4ce445937e"
  },
  {
   "cell_type": "code",
   "execution_count": 10,
   "outputs": [
    {
     "data": {
      "text/plain": "(-0.9763639951124188, 0.9778591697791569)"
     },
     "execution_count": 10,
     "metadata": {},
     "output_type": "execute_result"
    }
   ],
   "source": [
    "np.min(global_state_random[:, 2]), np.max(global_state_random[:, 2])"
   ],
   "metadata": {
    "collapsed": false,
    "ExecuteTime": {
     "end_time": "2023-12-08T07:13:43.562170571Z",
     "start_time": "2023-12-08T07:13:43.528307473Z"
    }
   },
   "id": "714e8355871a76fb"
  },
  {
   "cell_type": "code",
   "execution_count": 11,
   "outputs": [
    {
     "data": {
      "text/plain": "(-1.013946272452417, 0.969174332185786)"
     },
     "execution_count": 11,
     "metadata": {},
     "output_type": "execute_result"
    }
   ],
   "source": [
    "np.min(global_state_random[:, 3]), np.max(global_state_random[:, 3])"
   ],
   "metadata": {
    "collapsed": false,
    "ExecuteTime": {
     "end_time": "2023-12-08T07:13:46.140893591Z",
     "start_time": "2023-12-08T07:13:46.126743858Z"
    }
   },
   "id": "a2ba21130c4df608"
  },
  {
   "cell_type": "code",
   "execution_count": 12,
   "outputs": [
    {
     "data": {
      "text/plain": "(-4.829733110076409, 4.690728672259539)"
     },
     "execution_count": 12,
     "metadata": {},
     "output_type": "execute_result"
    }
   ],
   "source": [
    "np.min(global_state_random[:, 4]), np.max(global_state_random[:, 4])"
   ],
   "metadata": {
    "collapsed": false,
    "ExecuteTime": {
     "end_time": "2023-12-08T07:13:47.717012048Z",
     "start_time": "2023-12-08T07:13:47.709736219Z"
    }
   },
   "id": "151cd716b09719bd"
  },
  {
   "cell_type": "code",
   "execution_count": null,
   "outputs": [],
   "source": [],
   "metadata": {
    "collapsed": false
   },
   "id": "ad6afd4fc96d7481"
  }
 ],
 "metadata": {
  "kernelspec": {
   "display_name": "Python 3",
   "language": "python",
   "name": "python3"
  },
  "language_info": {
   "codemirror_mode": {
    "name": "ipython",
    "version": 2
   },
   "file_extension": ".py",
   "mimetype": "text/x-python",
   "name": "python",
   "nbconvert_exporter": "python",
   "pygments_lexer": "ipython2",
   "version": "2.7.6"
  }
 },
 "nbformat": 4,
 "nbformat_minor": 5
}
