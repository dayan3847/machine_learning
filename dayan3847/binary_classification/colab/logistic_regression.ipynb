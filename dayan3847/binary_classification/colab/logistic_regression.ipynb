{
 "cells": [
  {
   "cell_type": "markdown",
   "source": [
    "# Universidad Autónoma de Yucatán\n",
    "\n",
    "## Facultad de Matemáticas\n",
    "\n",
    "### Machine Learning\n",
    "\n",
    "**Teacher:** Dr. Victor Uc Cetina\n",
    "\n",
    "**Student:** Dayan Bravo Fraga"
   ],
   "metadata": {
    "collapsed": false
   }
  },
  {
   "cell_type": "markdown",
   "source": [
    "# Logistic Regression (Binary Classification)"
   ],
   "metadata": {
    "collapsed": false
   }
  },
  {
   "cell_type": "markdown",
   "source": [
    "## Download Corpus from GitHub (only for Colab)"
   ],
   "metadata": {
    "collapsed": false
   }
  },
  {
   "cell_type": "code",
   "execution_count": null,
   "outputs": [],
   "source": [
    "import sys\n",
    "import os\n",
    "\n",
    "in_colab: bool = 'google.colab' in sys.modules\n",
    "if in_colab:\n",
    "    print('Is running in Colab')\n",
    "    if not os.path.isfile('data.txt'):\n",
    "        import gdown\n",
    "\n",
    "        print(\"Downloading Data\")\n",
    "        url = \"https://raw.githubusercontent.com/dayan3847/machine_learning/master/binary_classification/colab/data.txt\"\n",
    "        gdown.download(url, quiet=False)\n",
    "else:\n",
    "    print('Is not running in Colab')"
   ],
   "metadata": {
    "collapsed": false
   }
  },
  {
   "cell_type": "markdown",
   "source": [
    "## Import libraries"
   ],
   "metadata": {
    "collapsed": false
   }
  },
  {
   "cell_type": "code",
   "execution_count": null,
   "metadata": {
    "collapsed": true
   },
   "outputs": [],
   "source": [
    "import numpy as np\n",
    "import sympy as sp\n",
    "import matplotlib.pyplot as plt\n",
    "from sklearn.model_selection import train_test_split"
   ]
  },
  {
   "cell_type": "markdown",
   "source": [
    "## Import Data"
   ],
   "metadata": {
    "collapsed": false
   }
  },
  {
   "cell_type": "code",
   "execution_count": null,
   "outputs": [],
   "source": [
    "data_points: np.ndarray = np.loadtxt('data.txt', delimiter=' ').T\n",
    "data_points"
   ],
   "metadata": {
    "collapsed": false
   }
  },
  {
   "cell_type": "markdown",
   "source": [
    "## Split data into training and test"
   ],
   "metadata": {
    "collapsed": false
   }
  },
  {
   "cell_type": "code",
   "execution_count": null,
   "outputs": [],
   "source": [
    "data_train, data_test = train_test_split(data_points.T, test_size=.3, random_state=42)\n",
    "data_train = data_train.T\n",
    "data_test = data_test.T"
   ],
   "metadata": {
    "collapsed": false
   }
  },
  {
   "cell_type": "markdown",
   "source": [
    "## Plot Data Points"
   ],
   "metadata": {
    "collapsed": false
   }
  },
  {
   "cell_type": "code",
   "execution_count": null,
   "outputs": [],
   "source": [
    "def plot_data(print_polynomial: bool = False):\n",
    "    plt.title('Data')\n",
    "    plt.xlabel('x')\n",
    "    plt.ylabel('y')\n",
    "    plt.axvline(color='black')\n",
    "    plt.axhline(color='black')\n",
    "\n",
    "    index_zeros_train = np.where(data_train[2].astype(int) == 0)\n",
    "    index_ones_train = np.where(data_points[2].astype(int) != 0)\n",
    "    index_zeros_test = np.where(data_test[2].astype(int) == 0)\n",
    "    index_ones_test = np.where(data_test[2].astype(int) != 0)\n",
    "    # Data Points Train\n",
    "    plt.scatter(data_train[0][index_ones_train], data_train[1][index_ones_train], color='green', label='one_train',\n",
    "                marker='o')\n",
    "    plt.scatter(data_train[0][index_zeros_train], data_train[1][index_zeros_train], color='red', label='zero_train',\n",
    "                marker='o')\n",
    "    # Data Points Test\n",
    "    plt.scatter(data_test[0][index_ones_test], data_test[1][index_ones_test], color='green', label='one_test',\n",
    "                marker='x')\n",
    "    plt.scatter(data_test[0][index_zeros_test], data_test[1][index_zeros_test], color='red', label='zero_test',\n",
    "                marker='x')\n",
    "\n",
    "    if print_polynomial:\n",
    "        polynomial = sp.sympify(str(get_polynomial()) + ' - 0.5')\n",
    "        x_ = np.linspace(-3, 3)\n",
    "        y_ = [sp.solve(polynomial.subs('x', x_i)) for x_i in x_]\n",
    "        plt.plot(x_, y_, label='polynomial', color='blue', linestyle='-')\n",
    "\n",
    "    plt.legend()\n",
    "    plt.grid()\n",
    "    plt.show()\n",
    "\n",
    "\n",
    "plot_data()"
   ],
   "metadata": {
    "collapsed": false
   }
  },
  {
   "cell_type": "markdown",
   "source": [
    "# Logistic Regression"
   ],
   "metadata": {
    "collapsed": false
   }
  },
  {
   "cell_type": "markdown",
   "source": [
    "## Generate Thetas"
   ],
   "metadata": {
    "collapsed": false
   }
  },
  {
   "cell_type": "code",
   "execution_count": null,
   "outputs": [],
   "source": [
    "def generate_thetas() -> np.ndarray:\n",
    "    return np.random.uniform(low=-.01, high=.01, size=3)\n",
    "\n",
    "\n",
    "thetas = generate_thetas()\n",
    "thetas"
   ],
   "metadata": {
    "collapsed": false
   }
  },
  {
   "cell_type": "code",
   "execution_count": null,
   "outputs": [],
   "source": [
    "def get_polynomial() -> sp.Expr:\n",
    "    return sp.sympify(f'{thetas[0]} * x + {thetas[1]} * y + {thetas[2]}')\n",
    "\n",
    "\n",
    "get_polynomial()"
   ],
   "metadata": {
    "collapsed": false
   }
  },
  {
   "cell_type": "code",
   "execution_count": null,
   "outputs": [],
   "source": [
    "plot_data(True)"
   ],
   "metadata": {
    "collapsed": false
   }
  },
  {
   "cell_type": "code",
   "execution_count": null,
   "outputs": [],
   "source": [
    "def sigmoid(x: float) -> float:\n",
    "    return 1 / (1 + np.exp(-x))"
   ],
   "metadata": {
    "collapsed": false
   }
  },
  {
   "cell_type": "code",
   "execution_count": null,
   "outputs": [],
   "source": [
    "def h(x_vector: np.ndarray) -> float:\n",
    "    return thetas.dot(x_vector)"
   ],
   "metadata": {
    "collapsed": false
   }
  },
  {
   "cell_type": "code",
   "execution_count": null,
   "outputs": [],
   "source": [
    "def h_activation(x_vector: np.ndarray) -> float:\n",
    "    return sigmoid(h(x_vector))"
   ],
   "metadata": {
    "collapsed": false
   }
  },
  {
   "cell_type": "code",
   "execution_count": null,
   "outputs": [],
   "source": [
    "def get_error(use_train_data: bool = False) -> float:\n",
    "    d = data_train if use_train_data else data_test\n",
    "    error = 0\n",
    "    for data in d.T:\n",
    "        yi = data[2]\n",
    "        hi = h_activation(np.append(data[:2], 1))\n",
    "        error += (hi - yi) ** 2\n",
    "    return error / 2\n",
    "\n",
    "\n",
    "get_error()"
   ],
   "metadata": {
    "collapsed": false
   }
  },
  {
   "cell_type": "code",
   "execution_count": null,
   "outputs": [],
   "source": [
    "def get_error_rms(use_train_data: bool = False) -> float:\n",
    "    d = data_train if use_train_data else data_test\n",
    "    e = get_error()\n",
    "    m = d.shape[1]\n",
    "    return (2 * e / m) ** .5\n",
    "\n",
    "\n",
    "get_error_rms()"
   ],
   "metadata": {
    "collapsed": false
   }
  },
  {
   "cell_type": "code",
   "execution_count": null,
   "outputs": [],
   "source": [
    "def get_accuracy(use_train_data: bool = False):\n",
    "    d = data_train if use_train_data else data_test\n",
    "    correct = 0\n",
    "    for data in d.T:\n",
    "        yi = data[2]\n",
    "        hi = h_activation(np.append(data[:2], 1))\n",
    "        if yi == 1 and hi >= .5:\n",
    "            correct += 1\n",
    "        elif yi == 0 and hi < .5:\n",
    "            correct += 1\n",
    "    return correct / d.shape[1]\n",
    "\n",
    "\n",
    "get_accuracy()"
   ],
   "metadata": {
    "collapsed": false
   }
  },
  {
   "cell_type": "markdown",
   "source": [
    "### Training"
   ],
   "metadata": {
    "collapsed": false
   }
  },
  {
   "cell_type": "code",
   "execution_count": null,
   "outputs": [],
   "source": [
    "iterations_count: int = 100\n",
    "a: float = .1\n",
    "errors = []\n",
    "errors_test = []\n",
    "accuracy = []\n",
    "accuracy_test = []\n",
    "\n",
    "\n",
    "def to_train():\n",
    "    for _ in range(iterations_count):\n",
    "        for data in data_train.T:\n",
    "            x = np.append(data[:2], 1)\n",
    "            y = data[2]\n",
    "            hi = h_activation(x)\n",
    "            a_x_y_m_hi = a * (y - hi)\n",
    "            for i in range(3):  # len(thetas)\n",
    "                # se actualiza el theta\n",
    "                thetas[i] += a_x_y_m_hi * x[i]  # ^ 1\n",
    "        errors.append(get_error_rms())\n",
    "        errors_test.append(get_error_rms(True))\n",
    "        accuracy.append(get_accuracy())\n",
    "        accuracy_test.append(get_accuracy(True))\n",
    "\n",
    "\n",
    "print('\\033[92m' + 'training...' + '\\033[0m')\n",
    "to_train()\n",
    "print('\\033[92m' + 'training finished' + '\\033[0m')"
   ],
   "metadata": {
    "collapsed": false
   }
  },
  {
   "cell_type": "markdown",
   "source": [
    "# Results"
   ],
   "metadata": {
    "collapsed": false
   }
  },
  {
   "cell_type": "markdown",
   "source": [
    "## Error"
   ],
   "metadata": {
    "collapsed": false
   }
  },
  {
   "cell_type": "code",
   "execution_count": null,
   "outputs": [],
   "source": [
    "plt.title('Error')\n",
    "plt.xlabel('iteration')\n",
    "plt.ylabel('error')\n",
    "plt.plot(errors, label='train')\n",
    "plt.plot(errors_test, label='test')\n",
    "plt.legend()\n",
    "plt.show()"
   ],
   "metadata": {
    "collapsed": false
   }
  },
  {
   "cell_type": "markdown",
   "source": [
    "## Accuracy"
   ],
   "metadata": {
    "collapsed": false
   }
  },
  {
   "cell_type": "code",
   "execution_count": null,
   "outputs": [],
   "source": [
    "plt.title('Accuracy')\n",
    "plt.xlabel('iteration')\n",
    "plt.ylabel('accuracy')\n",
    "plt.plot(accuracy, label='train')\n",
    "plt.plot(accuracy_test, label='test')\n",
    "plt.legend()\n",
    "plt.show()"
   ],
   "metadata": {
    "collapsed": false
   }
  },
  {
   "cell_type": "markdown",
   "source": [
    "## Final Polinomial"
   ],
   "metadata": {
    "collapsed": false
   }
  },
  {
   "cell_type": "code",
   "execution_count": null,
   "outputs": [],
   "source": [
    "get_polynomial()"
   ],
   "metadata": {
    "collapsed": false
   }
  },
  {
   "cell_type": "markdown",
   "source": [
    "## Final Polinomial Graph"
   ],
   "metadata": {
    "collapsed": false
   }
  },
  {
   "cell_type": "code",
   "execution_count": null,
   "outputs": [],
   "source": [
    "plot_data(True)"
   ],
   "metadata": {
    "collapsed": false
   }
  }
 ],
 "metadata": {
  "kernelspec": {
   "display_name": "Python 3",
   "language": "python",
   "name": "python3"
  },
  "language_info": {
   "codemirror_mode": {
    "name": "ipython",
    "version": 2
   },
   "file_extension": ".py",
   "mimetype": "text/x-python",
   "name": "python",
   "nbconvert_exporter": "python",
   "pygments_lexer": "ipython2",
   "version": "2.7.6"
  }
 },
 "nbformat": 4,
 "nbformat_minor": 0
}
