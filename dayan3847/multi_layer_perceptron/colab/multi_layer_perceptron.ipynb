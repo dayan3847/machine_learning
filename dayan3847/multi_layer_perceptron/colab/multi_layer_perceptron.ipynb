{
 "nbformat": 4,
 "nbformat_minor": 0,
 "metadata": {
  "colab": {
   "provenance": [],
   "authorship_tag": "ABX9TyPBrFmiQsijV7xKFPTV639s"
  },
  "kernelspec": {
   "name": "python3",
   "language": "python",
   "display_name": "Python 3 (ipykernel)"
  },
  "language_info": {
   "name": "python"
  }
 },
 "cells": [
  {
   "cell_type": "markdown",
   "source": [
    "# Universidad Autónoma de Yucatán\n",
    "\n",
    "## Facultad de Matemáticas\n",
    "\n",
    "### Machine Learning\n",
    "\n",
    "**Teacher:** Dr. Victor Uc Cetina\n",
    "\n",
    "**Student:** Dayan Bravo Fraga"
   ],
   "metadata": {
    "collapsed": false
   }
  },
  {
   "cell_type": "markdown",
   "source": [
    "# Multi Layer Perceptron"
   ],
   "metadata": {
    "collapsed": false
   }
  },
  {
   "cell_type": "markdown",
   "source": [
    "## Download Corpus from GitHub (only for Colab)"
   ],
   "metadata": {
    "collapsed": false
   }
  },
  {
   "cell_type": "code",
   "execution_count": null,
   "outputs": [],
   "source": [
    "import sys\n",
    "import os\n",
    "\n",
    "in_colab: bool = 'google.colab' in sys.modules\n",
    "if in_colab:\n",
    "    print('Is running in Colab')\n",
    "    if not os.path.isdir('machine_learning'):\n",
    "        print(\"Downloading project\")\n",
    "        get_ipython().system('git clone https://github.com/dayan3847/machine_learning')\n",
    "        sys.path.insert(0, './machine_learning/')\n",
    "    else:\n",
    "        get_ipython().system('git -C ./machine_learning fetch')\n",
    "        get_ipython().system('git -C ./machine_learning rebase')\n",
    "else:\n",
    "    print('Is not running in Colab')"
   ],
   "metadata": {
    "collapsed": false
   }
  },
  {
   "cell_type": "markdown",
   "source": [
    "## Import libraries"
   ],
   "metadata": {
    "collapsed": false
   }
  },
  {
   "cell_type": "code",
   "execution_count": null,
   "metadata": {
    "id": "MVGhYL7iXoHo",
    "executionInfo": {
     "status": "ok",
     "timestamp": 1678093969931,
     "user_tz": 360,
     "elapsed": 458,
     "user": {
      "displayName": "Dayan Bravo Fraga",
      "userId": "05762651316564612225"
     }
    }
   },
   "outputs": [],
   "source": [
    "import numpy as np\n",
    "from typing import List\n",
    "# My Classes\n",
    "from dayan3847.multi_layer_perceptron.src.net.Network import Network\n",
    "from dayan3847.multi_layer_perceptron.src.tools.DataSet import DataSet"
   ]
  },
  {
   "cell_type": "markdown",
   "source": [
    "## Config Random Seed"
   ],
   "metadata": {
    "collapsed": false
   }
  },
  {
   "cell_type": "code",
   "execution_count": null,
   "outputs": [],
   "source": [
    "np.random.seed(123)"
   ],
   "metadata": {
    "collapsed": false
   }
  },
  {
   "cell_type": "markdown",
   "source": [
    "## Example 1"
   ],
   "metadata": {
    "collapsed": false
   }
  },
  {
   "cell_type": "markdown",
   "source": [
    "### Input Data"
   ],
   "metadata": {
    "collapsed": false
   }
  },
  {
   "cell_type": "code",
   "source": [
    "features: List[int] = DataSet.data0()\n",
    "features"
   ],
   "metadata": {
    "colab": {
     "base_uri": "https://localhost:8080/",
     "height": 336
    },
    "id": "vnP4tX80MiqF",
    "executionInfo": {
     "status": "ok",
     "timestamp": 1678094138358,
     "user_tz": 360,
     "elapsed": 16,
     "user": {
      "displayName": "Dayan Bravo Fraga",
      "userId": "05762651316564612225"
     }
    },
    "outputId": "2c8d6949-c871-4706-cc73-67195c883b95"
   },
   "execution_count": null,
   "outputs": []
  },
  {
   "cell_type": "markdown",
   "source": [
    "### Create Network and Propagate"
   ],
   "metadata": {
    "collapsed": false
   }
  },
  {
   "cell_type": "code",
   "execution_count": null,
   "outputs": [],
   "source": [
    "network: Network = Network([10, 2, 2])\n",
    "print(f'Network Output {network.propagate(features)}')"
   ],
   "metadata": {
    "collapsed": false
   }
  },
  {
   "cell_type": "markdown",
   "source": [
    "### Graph"
   ],
   "metadata": {
    "collapsed": false
   }
  },
  {
   "cell_type": "code",
   "execution_count": null,
   "outputs": [],
   "source": [
    "network.draw()"
   ],
   "metadata": {
    "collapsed": false
   }
  },
  {
   "cell_type": "markdown",
   "source": [
    "## Example 2"
   ],
   "metadata": {
    "collapsed": false
   }
  },
  {
   "cell_type": "markdown",
   "source": [
    "### Input Data"
   ],
   "metadata": {
    "collapsed": false
   }
  },
  {
   "cell_type": "code",
   "execution_count": null,
   "outputs": [],
   "source": [
    "features2: List[float] = DataSet.data1()\n",
    "features2"
   ],
   "metadata": {
    "collapsed": false
   }
  },
  {
   "cell_type": "markdown",
   "source": [
    "### Create Network and Propagate"
   ],
   "metadata": {
    "collapsed": false
   }
  },
  {
   "cell_type": "code",
   "execution_count": null,
   "outputs": [],
   "source": [
    "network2: Network = Network([11, 2, 2])\n",
    "print(f'Network Output {network2.propagate(features2)}')"
   ],
   "metadata": {
    "collapsed": false
   }
  },
  {
   "cell_type": "markdown",
   "source": [
    "### Graph"
   ],
   "metadata": {
    "collapsed": false
   }
  },
  {
   "cell_type": "code",
   "execution_count": null,
   "outputs": [],
   "source": [
    "network2.draw()"
   ],
   "metadata": {
    "collapsed": false
   }
  }
 ]
}
