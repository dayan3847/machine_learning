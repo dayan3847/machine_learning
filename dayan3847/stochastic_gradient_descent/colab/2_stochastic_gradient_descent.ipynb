{
 "cells": [
  {
   "cell_type": "markdown",
   "source": [
    "# Universidad Autónoma de Yucatán\n",
    "\n",
    "## Facultad de Matemáticas\n",
    "\n",
    "### Machine Learning\n",
    "\n",
    "**Teacher:** Dr. Victor Uc Cetina\n",
    "\n",
    "**Student:** Dayan Bravo Fraga"
   ],
   "metadata": {
    "collapsed": false
   }
  },
  {
   "cell_type": "markdown",
   "source": [
    "# Stochastic Gradient Descent **(Step 2 of 4)**"
   ],
   "metadata": {
    "collapsed": false
   }
  },
  {
   "cell_type": "markdown",
   "source": [
    "## Clone and load project from GitHub (only for Colab)"
   ],
   "metadata": {
    "collapsed": false
   }
  },
  {
   "cell_type": "code",
   "execution_count": null,
   "outputs": [],
   "source": [
    "import sys\n",
    "import os\n",
    "\n",
    "in_colab: bool = 'google.colab' in sys.modules\n",
    "if in_colab:\n",
    "    print('Is running in Colab')\n",
    "    if not os.path.isdir('machine_learning'):\n",
    "        print(\"Downloading project\")\n",
    "        ! git clone https: // github.com/dayan3847/machine_learning\n",
    "        sys.path.insert(0, './machine_learning/')\n",
    "    else:\n",
    "        ! git -C./machine_learning fetch\n",
    "        ! git -C./machine_learning rebase\n",
    "    if not os.path.isdir('reports'):\n",
    "        print('Copying reports folder')\n",
    "        ! cp -r./machine_learning/dayan3847/stochastic_gradient_descent/colab/reports./\n",
    "else:\n",
    "    print('Is not running in Colab')"
   ],
   "metadata": {
    "collapsed": false
   }
  },
  {
   "cell_type": "markdown",
   "source": [
    "## Import libraries"
   ],
   "metadata": {
    "collapsed": false
   }
  },
  {
   "cell_type": "code",
   "execution_count": null,
   "metadata": {
    "collapsed": true
   },
   "outputs": [],
   "source": [
    "import json\n",
    "import numpy as np\n",
    "import sympy as sp\n",
    "import pandas as pd\n",
    "import matplotlib.pyplot as plt\n",
    "\n",
    "from dayan3847.stochastic_gradient_descent.src.StochasticGradientDescent import StochasticGradientDescent"
   ]
  },
  {
   "cell_type": "markdown",
   "source": [
    "## Import Data Points Generated\n",
    "\n",
    "Paste the report number copied from the notebook:\n",
    "**Generate Artificial Data Points** [![Open In Colab](https://colab.research.google.com/assets/colab-badge.svg)](https://colab.research.google.com/github/dayan3847/machine_learning/blob/master/stochastic_gradient_descent/colab/1_generate_artificial_data_points.ipynb)"
   ],
   "metadata": {
    "collapsed": false
   }
  },
  {
   "cell_type": "code",
   "execution_count": null,
   "outputs": [],
   "source": [
    "report_number: str = input('Enter report number:') or '20230514144011475656'"
   ],
   "metadata": {
    "collapsed": false
   }
  },
  {
   "cell_type": "code",
   "execution_count": null,
   "outputs": [],
   "source": [
    "data_points: np.array = np.loadtxt(f'reports/{report_number}/data_points.csv', delimiter=',').T"
   ],
   "metadata": {
    "collapsed": false
   }
  },
  {
   "cell_type": "code",
   "execution_count": null,
   "outputs": [],
   "source": [
    "function_str: str = open(f'reports/{report_number}/data_points_base_function.txt', 'r').read()\n",
    "function: sp.Expr = sp.sympify(function_str)\n",
    "print('\\033[32m' + 'Imported base function:' + '\\033[0m')\n",
    "function"
   ],
   "metadata": {
    "collapsed": false
   }
  },
  {
   "cell_type": "markdown",
   "source": [
    "## Plot Data Points"
   ],
   "metadata": {
    "collapsed": false
   }
  },
  {
   "cell_type": "code",
   "execution_count": null,
   "outputs": [],
   "source": [
    "plt.title('Data')\n",
    "plt.xlabel('x')\n",
    "plt.ylabel('y')\n",
    "plt.axvline(color='black')\n",
    "plt.axhline(color='black')\n",
    "# Function Base\n",
    "x_ = np.linspace(0, 1, 100)\n",
    "y_ = [function.subs('x', x_i) for x_i in x_]\n",
    "plt.plot(x_, y_, label='function base', color='yellow', linestyle='--')\n",
    "# Data Points\n",
    "plt.scatter(data_points[0], data_points[1], color='gray', label='data points')\n",
    "plt.legend()\n",
    "plt.grid()\n",
    "plt.show()"
   ],
   "metadata": {
    "collapsed": false
   }
  },
  {
   "cell_type": "markdown",
   "source": [
    "## Stochastic Gradient Descent Class"
   ],
   "metadata": {
    "collapsed": false
   }
  },
  {
   "cell_type": "code",
   "execution_count": null,
   "outputs": [],
   "source": [
    "sgd = StochasticGradientDescent(data_points, d=10, a=.1, iterations_count=5000)"
   ],
   "metadata": {
    "collapsed": false
   }
  },
  {
   "cell_type": "markdown",
   "source": [
    "### Training"
   ],
   "metadata": {
    "collapsed": false
   }
  },
  {
   "cell_type": "code",
   "execution_count": null,
   "outputs": [],
   "source": [
    "print('\\033[92m' + 'training...' + '\\033[0m')\n",
    "training_time: float = sgd.run()\n",
    "print('\\033[92m' + 'training finished' + '\\033[0m')"
   ],
   "metadata": {
    "collapsed": false
   }
  },
  {
   "cell_type": "markdown",
   "source": [
    "### Save history report"
   ],
   "metadata": {
    "collapsed": false
   }
  },
  {
   "cell_type": "code",
   "execution_count": null,
   "outputs": [],
   "source": [
    "print('\\033[92m' + 'saving...' + '\\033[0m')\n",
    "pd.DataFrame(sgd.history).to_csv(f'reports/{report_number}/history.csv', index=False)\n",
    "print('\\033[92m' + 'saved' + '\\033[0m')"
   ],
   "metadata": {
    "collapsed": false
   }
  },
  {
   "cell_type": "markdown",
   "source": [
    "### Print Results"
   ],
   "metadata": {
    "collapsed": false
   }
  },
  {
   "cell_type": "code",
   "execution_count": null,
   "outputs": [],
   "source": [
    "# report\n",
    "report_json: dict = {\n",
    "    'alpha': sgd.a,\n",
    "    'iterations': sgd.iterations_count,\n",
    "    'polynomial_degree': sgd.d,\n",
    "    'training_time': training_time,\n",
    "    'final_error': str(sgd.history['error'][-1]),\n",
    "    'initial_parameters': str(sgd.history['polynomial'][0]),\n",
    "    'final_parameters': str(sgd.history['polynomial'][-1]),\n",
    "}\n",
    "# print report\n",
    "report: str = json.dumps(report_json, indent=4)\n",
    "print('\\033[32m' + 'report: ' + '\\033[0m' + report)\n",
    "# save report to file\n",
    "with open(f'reports/{report_number}/report.json', 'w') as file:\n",
    "    file.write(report)\n"
   ],
   "metadata": {
    "collapsed": false
   }
  }
 ],
 "metadata": {
  "kernelspec": {
   "display_name": "Python 3",
   "language": "python",
   "name": "python3"
  },
  "language_info": {
   "codemirror_mode": {
    "name": "ipython",
    "version": 2
   },
   "file_extension": ".py",
   "mimetype": "text/x-python",
   "name": "python",
   "nbconvert_exporter": "python",
   "pygments_lexer": "ipython2",
   "version": "2.7.6"
  }
 },
 "nbformat": 4,
 "nbformat_minor": 0
}
