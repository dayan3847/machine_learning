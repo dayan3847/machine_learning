{
 "cells": [
  {
   "cell_type": "markdown",
   "source": [
    "# Universidad Autónoma de Yucatán\n",
    "\n",
    "## Facultad de Matemáticas\n",
    "\n",
    "### Machine Learning\n",
    "\n",
    "**Teacher:** Dr. Victor Uc Cetina\n",
    "\n",
    "**Student:** Dayan Bravo Fraga"
   ],
   "metadata": {
    "collapsed": false
   }
  },
  {
   "cell_type": "markdown",
   "source": [
    "# Create Animation **(Step 4 of 4)**"
   ],
   "metadata": {
    "collapsed": false
   }
  },
  {
   "cell_type": "markdown",
   "source": [
    "## Clone and load project from GitHub (only for Colab)"
   ],
   "metadata": {
    "collapsed": false
   }
  },
  {
   "cell_type": "code",
   "execution_count": null,
   "outputs": [],
   "source": [
    "import sys\n",
    "import os\n",
    "\n",
    "in_colab: bool = 'google.colab' in sys.modules\n",
    "if in_colab:\n",
    "    print('Is running in Colab')\n",
    "    if not os.path.isdir('machine_learning'):\n",
    "        print(\"Downloading project\")\n",
    "        get_ipython().system('git clone https://github.com/dayan3847/machine_learning')\n",
    "        sys.path.insert(0, './machine_learning/')\n",
    "    else:\n",
    "        get_ipython().system('git -C ./machine_learning fetch')\n",
    "        get_ipython().system('git -C ./machine_learning rebase')\n",
    "    if not os.path.isdir('reports'):\n",
    "        print('Copying reports folder')\n",
    "        get_ipython().system('cp -r ./machine_learning/dayan3847/stochastic_gradient_descent/colab/reports ./')\n",
    "else:\n",
    "    print('Is not running in Colab')"
   ],
   "metadata": {
    "collapsed": false
   }
  },
  {
   "cell_type": "markdown",
   "source": [
    "## Import libraries"
   ],
   "metadata": {
    "collapsed": false
   }
  },
  {
   "cell_type": "code",
   "execution_count": null,
   "metadata": {
    "collapsed": true
   },
   "outputs": [],
   "source": [
    "import numpy as np\n",
    "import sympy as sp\n",
    "import pandas as pd\n",
    "import matplotlib.pyplot as plt\n",
    "import matplotlib.animation as animation"
   ]
  },
  {
   "cell_type": "markdown",
   "source": [
    "## Import History Generated"
   ],
   "metadata": {
    "collapsed": false
   }
  },
  {
   "cell_type": "markdown",
   "source": [
    "Paste the report number copied from the notebook:\n",
    "\n",
    "[![Open In Colab](https://colab.research.google.com/assets/colab-badge.svg)](https://colab.research.google.com/github/dayan3847/machine_learning/blob/master/dayan3847/stochastic_gradient_descent/colab/1_generate_artificial_data_points.ipynb)"
   ],
   "metadata": {
    "collapsed": false
   }
  },
  {
   "cell_type": "code",
   "execution_count": null,
   "outputs": [],
   "source": [
    "report_number: str = '20230514144011475656'"
   ],
   "metadata": {
    "collapsed": false
   }
  },
  {
   "cell_type": "code",
   "execution_count": null,
   "outputs": [],
   "source": [
    "data_points: np.array = np.loadtxt(f'reports/{report_number}/data_points.csv', delimiter=',').T"
   ],
   "metadata": {
    "collapsed": false
   }
  },
  {
   "cell_type": "code",
   "execution_count": null,
   "outputs": [],
   "source": [
    "print('\\033[92m' + 'loading data... ' + '\\033[0m')\n",
    "history_df: pd.DataFrame = pd.read_csv(f'reports/{report_number}/history.csv')\n",
    "print('\\033[92m' + 'data loaded' + '\\033[0m')"
   ],
   "metadata": {
    "collapsed": false
   }
  },
  {
   "cell_type": "code",
   "execution_count": null,
   "outputs": [],
   "source": [
    "function_str: str = open(f'reports/{report_number}/data_points_base_function.txt', 'r').read()\n",
    "function: sp.Expr = sp.sympify(function_str)\n",
    "print('\\033[32m' + 'Imported base function:' + '\\033[0m')\n",
    "function"
   ],
   "metadata": {
    "collapsed": false
   }
  },
  {
   "cell_type": "markdown",
   "source": [
    "## Create Animation"
   ],
   "metadata": {
    "collapsed": false
   }
  },
  {
   "cell_type": "code",
   "execution_count": null,
   "outputs": [],
   "source": [
    "x_ = np.linspace(0, 1, 100)\n",
    "# Function Base\n",
    "y_function_base = [function.subs('x', x_i) for x_i in x_]\n",
    "history_polynomial = history_df['polynomial'].tolist()\n",
    "history_polynomial_best = history_df['polynomial_best'].tolist()"
   ],
   "metadata": {
    "collapsed": false
   }
  },
  {
   "cell_type": "code",
   "execution_count": null,
   "outputs": [],
   "source": [
    "total_frames: int = len(history_polynomial)\n",
    "# total_frames = 100\n",
    "total_frames"
   ],
   "metadata": {
    "collapsed": false
   }
  },
  {
   "cell_type": "code",
   "execution_count": null,
   "outputs": [],
   "source": [
    "def update_plot(frame):\n",
    "    frame_i = frame\n",
    "    print('\\033[92m' + f'frame: {frame_i} of {total_frames}' + '\\033[0m')\n",
    "    plt.cla()\n",
    "\n",
    "    plt.title(\"Iteration: {}\".format(frame_i))\n",
    "    plt.xlabel('x')\n",
    "    plt.ylabel('y')\n",
    "    plt.axvline(color='black')\n",
    "    plt.axhline(color='black')\n",
    "\n",
    "    # Data Points\n",
    "    plt.scatter(data_points[0], data_points[1], color='gray', label='data points')\n",
    "    # Function Base\n",
    "    plt.plot(x_, y_function_base, label='function base', color='yellow', linestyle='--')\n",
    "    # Function Current\n",
    "    y_polynomial_current = [sp.sympify(history_polynomial[frame_i]).subs('x', x_i) for x_i in x_]\n",
    "    plt.plot(x_, y_polynomial_current, label='polynomial current', color='blue', linestyle='--')\n",
    "    # Function Best\n",
    "    y_polynomial_best = [sp.sympify(history_polynomial_best[frame_i]).subs('x', x_i) for x_i in x_]\n",
    "    plt.plot(x_, y_polynomial_best, label='polynomial best', color='green')\n",
    "\n",
    "    plt.legend()\n",
    "    plt.grid()\n",
    "    return plt.gcf()"
   ],
   "metadata": {
    "collapsed": false
   }
  },
  {
   "cell_type": "code",
   "execution_count": null,
   "outputs": [],
   "source": [
    "print('\\033[92m' + 'creating animation... ' + '\\033[0m')\n",
    "fig = plt.figure()\n",
    "ani = animation.FuncAnimation(fig, update_plot, frames=total_frames, interval=1000)\n",
    "# ani.save(f'reports/{report_number}/animation.mp4', writer='ffmpeg')\n",
    "ani.save(f'reports/{report_number}/animation.gif', writer='imagemagick')"
   ],
   "metadata": {
    "collapsed": false
   }
  }
 ],
 "metadata": {
  "kernelspec": {
   "display_name": "Python 3",
   "language": "python",
   "name": "python3"
  },
  "language_info": {
   "codemirror_mode": {
    "name": "ipython",
    "version": 2
   },
   "file_extension": ".py",
   "mimetype": "text/x-python",
   "name": "python",
   "nbconvert_exporter": "python",
   "pygments_lexer": "ipython2",
   "version": "2.7.6"
  }
 },
 "nbformat": 4,
 "nbformat_minor": 0
}
