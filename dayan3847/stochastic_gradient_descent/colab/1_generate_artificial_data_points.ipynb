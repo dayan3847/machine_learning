{
 "cells": [
  {
   "cell_type": "markdown",
   "source": [
    "# Universidad Autónoma de Yucatán\n",
    "\n",
    "## Facultad de Matemáticas\n",
    "\n",
    "### Machine Learning\n",
    "\n",
    "**Teacher:** Dr. Victor Uc Cetina\n",
    "\n",
    "**Student:** Dayan Bravo Fraga"
   ],
   "metadata": {
    "collapsed": false
   }
  },
  {
   "cell_type": "markdown",
   "source": [
    "# Generate Artificial Data Points **(Step 1 of 4)**"
   ],
   "metadata": {
    "collapsed": false
   }
  },
  {
   "cell_type": "markdown",
   "source": [
    "## Clone and load project from GitHub (only for Colab)"
   ],
   "metadata": {
    "collapsed": false
   }
  },
  {
   "cell_type": "code",
   "execution_count": 6,
   "outputs": [
    {
     "name": "stdout",
     "output_type": "stream",
     "text": [
      "/bin/bash: line 1: a: command not found\r\n"
     ]
    },
    {
     "ename": "NameError",
     "evalue": "name 'asd' is not defined",
     "output_type": "error",
     "traceback": [
      "\u001B[0;31m---------------------------------------------------------------------------\u001B[0m",
      "\u001B[0;31mNameError\u001B[0m                                 Traceback (most recent call last)",
      "Cell \u001B[0;32mIn[6], line 5\u001B[0m\n\u001B[1;32m      2\u001B[0m \u001B[38;5;28;01mimport\u001B[39;00m \u001B[38;5;21;01mos\u001B[39;00m\n\u001B[1;32m      4\u001B[0m get_ipython()\u001B[38;5;241m.\u001B[39msystem(\u001B[38;5;124m'\u001B[39m\u001B[38;5;124ma\u001B[39m\u001B[38;5;124m'\u001B[39m)\n\u001B[0;32m----> 5\u001B[0m \u001B[43masd\u001B[49m\n\u001B[1;32m      6\u001B[0m in_colab: \u001B[38;5;28mbool\u001B[39m \u001B[38;5;241m=\u001B[39m \u001B[38;5;124m'\u001B[39m\u001B[38;5;124mgoogle.colab\u001B[39m\u001B[38;5;124m'\u001B[39m \u001B[38;5;129;01min\u001B[39;00m sys\u001B[38;5;241m.\u001B[39mmodules\n\u001B[1;32m      7\u001B[0m \u001B[38;5;28;01mif\u001B[39;00m in_colab:\n",
      "\u001B[0;31mNameError\u001B[0m: name 'asd' is not defined"
     ]
    }
   ],
   "source": [
    "import sys\n",
    "import os\n",
    "\n",
    "in_colab: bool = 'google.colab' in sys.modules\n",
    "if in_colab:\n",
    "    print('Is running in Colab')\n",
    "    if not os.path.isdir('machine_learning'):\n",
    "        print(\"Downloading project\")\n",
    "        get_ipython().system('git clone https://github.com/dayan3847/machine_learning')\n",
    "        sys.path.insert(0, './machine_learning/')\n",
    "    else:\n",
    "        get_ipython().system('git -C ./machine_learning fetch')\n",
    "        get_ipython().system('git -C ./machine_learning rebase')\n",
    "    if not os.path.isdir('reports'):\n",
    "        print('Copying reports folder')\n",
    "        get_ipython().system('cp -r ./machine_learning/dayan3847/stochastic_gradient_descent/colab/reports ./')\n",
    "else:\n",
    "    print('Is not running in Colab')"
   ],
   "metadata": {
    "collapsed": false,
    "ExecuteTime": {
     "end_time": "2023-05-22T19:47:57.418254182Z",
     "start_time": "2023-05-22T19:47:57.198314727Z"
    }
   }
  },
  {
   "cell_type": "markdown",
   "source": [
    "## Import libraries"
   ],
   "metadata": {
    "collapsed": false
   }
  },
  {
   "cell_type": "code",
   "execution_count": null,
   "metadata": {
    "collapsed": true
   },
   "outputs": [],
   "source": [
    "import os\n",
    "import datetime\n",
    "import numpy as np\n",
    "import sympy as sp\n",
    "import matplotlib.pyplot as plt\n",
    "\n",
    "from dayan3847.stochastic_gradient_descent.src.TrainingDataGenerator import TrainingDataGenerator"
   ]
  },
  {
   "cell_type": "markdown",
   "source": [
    "## Create report folder\n",
    "\n",
    "Copy the report number (you will need it later)"
   ],
   "metadata": {
    "collapsed": false
   }
  },
  {
   "cell_type": "code",
   "execution_count": null,
   "outputs": [],
   "source": [
    "report_number: str = datetime.datetime.now().strftime('%Y%m%d%H%M%S%f')\n",
    "report_path: str = os.path.join('reports', report_number)\n",
    "os.mkdir(report_path)\n",
    "print(f'Report number:', '\\033[32m' + report_number + '\\033[0m')"
   ],
   "metadata": {
    "collapsed": false
   }
  },
  {
   "cell_type": "markdown",
   "source": [
    "### Generate data points"
   ],
   "metadata": {
    "collapsed": false
   }
  },
  {
   "cell_type": "code",
   "execution_count": null,
   "outputs": [],
   "source": [
    "x = sp.Symbol('x')\n",
    "function: sp.Expr = sp.sin(2 * sp.pi * x)"
   ],
   "metadata": {
    "collapsed": false
   }
  },
  {
   "cell_type": "code",
   "execution_count": null,
   "outputs": [],
   "source": [
    "data_points: np.array = TrainingDataGenerator.generate_data_points(report_path, function)"
   ],
   "metadata": {
    "collapsed": false
   }
  },
  {
   "cell_type": "markdown",
   "source": [
    "## Plot Data Points"
   ],
   "metadata": {
    "collapsed": false
   }
  },
  {
   "cell_type": "code",
   "execution_count": null,
   "outputs": [],
   "source": [
    "plt.title('Data')\n",
    "plt.xlabel('x')\n",
    "plt.ylabel('y')\n",
    "plt.axvline(color='black')\n",
    "plt.axhline(color='black')\n",
    "# Function Base\n",
    "x_ = np.linspace(0, 1, 100)\n",
    "y_ = [function.subs('x', x_i) for x_i in x_]\n",
    "plt.plot(x_, y_, label='function base', color='yellow', linestyle='--')\n",
    "# Data Points\n",
    "plt.scatter(data_points[0], data_points[1], color='gray', label='data points')\n",
    "plt.legend()\n",
    "plt.grid()\n",
    "plt.savefig(f'reports/{report_number}/data_points.png')\n",
    "plt.show()"
   ],
   "metadata": {
    "collapsed": false
   }
  },
  {
   "cell_type": "markdown",
   "source": [
    "# Copy the report number and paste it in the next notebook"
   ],
   "metadata": {
    "collapsed": false
   }
  },
  {
   "cell_type": "code",
   "execution_count": null,
   "outputs": [],
   "source": [
    "print(f'Report number:', '\\033[32m' + report_number + '\\033[0m')"
   ],
   "metadata": {
    "collapsed": false
   }
  }
 ],
 "metadata": {
  "kernelspec": {
   "display_name": "Python 3",
   "language": "python",
   "name": "python3"
  },
  "language_info": {
   "codemirror_mode": {
    "name": "ipython",
    "version": 2
   },
   "file_extension": ".py",
   "mimetype": "text/x-python",
   "name": "python",
   "nbconvert_exporter": "python",
   "pygments_lexer": "ipython2",
   "version": "2.7.6"
  }
 },
 "nbformat": 4,
 "nbformat_minor": 0
}
