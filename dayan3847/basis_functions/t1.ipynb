{
 "cells": [
  {
   "cell_type": "code",
   "execution_count": 1,
   "outputs": [],
   "source": [
    "import numpy as np"
   ],
   "metadata": {
    "collapsed": false,
    "ExecuteTime": {
     "end_time": "2023-10-09T03:59:51.478798860Z",
     "start_time": "2023-10-09T03:59:51.432356040Z"
    }
   },
   "id": "78f42d8246a5b75e"
  },
  {
   "cell_type": "code",
   "execution_count": 3,
   "id": "initial_id",
   "metadata": {
    "collapsed": true,
    "ExecuteTime": {
     "end_time": "2023-10-09T04:00:07.571852279Z",
     "start_time": "2023-10-09T04:00:07.555966101Z"
    }
   },
   "outputs": [
    {
     "data": {
      "text/plain": "array([0., 0.])"
     },
     "execution_count": 3,
     "metadata": {},
     "output_type": "execute_result"
    }
   ],
   "source": [
    "z = np.zeros(2)\n",
    "z"
   ]
  },
  {
   "cell_type": "code",
   "execution_count": 4,
   "outputs": [
    {
     "data": {
      "text/plain": "(2,)"
     },
     "execution_count": 4,
     "metadata": {},
     "output_type": "execute_result"
    }
   ],
   "source": [
    "z.shape"
   ],
   "metadata": {
    "collapsed": false,
    "ExecuteTime": {
     "end_time": "2023-10-09T04:00:11.905438201Z",
     "start_time": "2023-10-09T04:00:11.849304199Z"
    }
   },
   "id": "5fdfa0673ce19605"
  },
  {
   "cell_type": "code",
   "execution_count": 10,
   "outputs": [
    {
     "data": {
      "text/plain": "array([[0.],\n       [0.]])"
     },
     "execution_count": 10,
     "metadata": {},
     "output_type": "execute_result"
    }
   ],
   "source": [
    "c = np.row_stack(z)\n",
    "c"
   ],
   "metadata": {
    "collapsed": false,
    "ExecuteTime": {
     "end_time": "2023-10-09T04:05:08.299104202Z",
     "start_time": "2023-10-09T04:05:08.255659017Z"
    }
   },
   "id": "46a8edd720523512"
  },
  {
   "cell_type": "code",
   "execution_count": 7,
   "outputs": [
    {
     "data": {
      "text/plain": "(1, 2)"
     },
     "execution_count": 7,
     "metadata": {},
     "output_type": "execute_result"
    }
   ],
   "source": [
    "c.shape"
   ],
   "metadata": {
    "collapsed": false,
    "ExecuteTime": {
     "end_time": "2023-10-09T04:01:27.018848573Z",
     "start_time": "2023-10-09T04:01:27.005224506Z"
    }
   },
   "id": "50095ee035306899"
  },
  {
   "cell_type": "code",
   "execution_count": 9,
   "outputs": [
    {
     "data": {
      "text/plain": "(2, 1)"
     },
     "execution_count": 9,
     "metadata": {},
     "output_type": "execute_result"
    }
   ],
   "source": [
    "np.column_stack([np.zeros(2)]).shape"
   ],
   "metadata": {
    "collapsed": false,
    "ExecuteTime": {
     "end_time": "2023-10-09T04:03:30.659055750Z",
     "start_time": "2023-10-09T04:03:30.615045170Z"
    }
   },
   "id": "aa3185ca0ddfbc9c"
  },
  {
   "cell_type": "code",
   "execution_count": 12,
   "outputs": [
    {
     "data": {
      "text/plain": "(2,)"
     },
     "execution_count": 12,
     "metadata": {},
     "output_type": "execute_result"
    }
   ],
   "source": [
    "np.zeros(2)[:, np.newaxis].shape"
   ],
   "metadata": {
    "collapsed": false,
    "ExecuteTime": {
     "end_time": "2023-10-09T04:12:26.079172354Z",
     "start_time": "2023-10-09T04:12:26.038273178Z"
    }
   },
   "id": "9e428c30bb12b328"
  },
  {
   "cell_type": "code",
   "execution_count": null,
   "outputs": [],
   "source": [],
   "metadata": {
    "collapsed": false
   },
   "id": "539af8907da97b94"
  },
  {
   "cell_type": "code",
   "execution_count": 14,
   "outputs": [
    {
     "data": {
      "text/plain": "array([[0.27635154, 0.84829676, 0.04781812, 0.67443626, 0.08717817]])"
     },
     "execution_count": 14,
     "metadata": {},
     "output_type": "execute_result"
    }
   ],
   "source": [
    "r = np.random.rand(5)[np.newaxis, :]\n",
    "r"
   ],
   "metadata": {
    "collapsed": false,
    "ExecuteTime": {
     "end_time": "2023-10-09T04:38:45.491030090Z",
     "start_time": "2023-10-09T04:38:45.447129332Z"
    }
   },
   "id": "60787987f82ce3fa"
  },
  {
   "cell_type": "code",
   "execution_count": 16,
   "outputs": [
    {
     "data": {
      "text/plain": "(1, 5)"
     },
     "execution_count": 16,
     "metadata": {},
     "output_type": "execute_result"
    }
   ],
   "source": [
    "r.shape"
   ],
   "metadata": {
    "collapsed": false,
    "ExecuteTime": {
     "end_time": "2023-10-09T04:38:55.422789317Z",
     "start_time": "2023-10-09T04:38:55.409452254Z"
    }
   },
   "id": "4b435cf2ac565d7"
  },
  {
   "cell_type": "code",
   "execution_count": 20,
   "outputs": [
    {
     "data": {
      "text/plain": "0.2763515373384464"
     },
     "execution_count": 20,
     "metadata": {},
     "output_type": "execute_result"
    }
   ],
   "source": [
    "r[0, 0]"
   ],
   "metadata": {
    "collapsed": false,
    "ExecuteTime": {
     "end_time": "2023-10-09T04:39:22.787062452Z",
     "start_time": "2023-10-09T04:39:22.745462715Z"
    }
   },
   "id": "dd998407940063b3"
  },
  {
   "cell_type": "code",
   "execution_count": 21,
   "outputs": [],
   "source": [
    "\n",
    "import sympy as sp"
   ],
   "metadata": {
    "collapsed": false,
    "ExecuteTime": {
     "end_time": "2023-10-09T04:41:51.793499859Z",
     "start_time": "2023-10-09T04:41:51.586526300Z"
    }
   },
   "id": "b20437a925f9c3c4"
  },
  {
   "cell_type": "code",
   "execution_count": 22,
   "outputs": [
    {
     "data": {
      "text/plain": "exp(-0.5*(X.T - mu_.T)*sigma**(-1)*(X - mu_))",
      "text/latex": "$\\displaystyle e^{- 0.5 \\left(X^{T} - \\mu_{}^{T}\\right) \\sigma^{-1} \\left(X - \\mu_{}\\right)}$"
     },
     "execution_count": 22,
     "metadata": {},
     "output_type": "execute_result"
    }
   ],
   "source": [
    "_X: sp.Symbol = sp.MatrixSymbol('X', 2, 1)\n",
    "# mu_ mayuscula\n",
    "_M: sp.MatrixSymbol = sp.MatrixSymbol('mu_', 2, 1)\n",
    "# sigma mayuscula\n",
    "_C: sp.MatrixSymbol = sp.MatrixSymbol('sigma', 2, 2)\n",
    "sp.exp(-.5 * (_X - _M).T * _C.I * (_X - _M))"
   ],
   "metadata": {
    "collapsed": false,
    "ExecuteTime": {
     "end_time": "2023-10-09T04:42:55.988215546Z",
     "start_time": "2023-10-09T04:42:55.945830729Z"
    }
   },
   "id": "b81fa68c68084edc"
  },
  {
   "cell_type": "code",
   "execution_count": 24,
   "outputs": [
    {
     "data": {
      "text/plain": "array([[2, 4]])"
     },
     "execution_count": 24,
     "metadata": {},
     "output_type": "execute_result"
    }
   ],
   "source": [
    "a1 = np.array([2, 4])[np.newaxis, :]\n",
    "a1"
   ],
   "metadata": {
    "collapsed": false,
    "ExecuteTime": {
     "end_time": "2023-10-09T05:12:25.786599901Z",
     "start_time": "2023-10-09T05:12:25.731845071Z"
    }
   },
   "id": "e4acfb02ca0369d5"
  },
  {
   "cell_type": "code",
   "execution_count": 25,
   "outputs": [
    {
     "data": {
      "text/plain": "array([[3],\n       [5]])"
     },
     "execution_count": 25,
     "metadata": {},
     "output_type": "execute_result"
    }
   ],
   "source": [
    "a2 = np.array([3, 5])[:, np.newaxis]\n",
    "a2"
   ],
   "metadata": {
    "collapsed": false,
    "ExecuteTime": {
     "end_time": "2023-10-09T05:13:23.487574785Z",
     "start_time": "2023-10-09T05:13:23.443598119Z"
    }
   },
   "id": "3f64ecdad4bd5db5"
  },
  {
   "cell_type": "code",
   "execution_count": 27,
   "outputs": [
    {
     "data": {
      "text/plain": "array([[26]])"
     },
     "execution_count": 27,
     "metadata": {},
     "output_type": "execute_result"
    }
   ],
   "source": [
    "r = a1 @ a2\n",
    "r"
   ],
   "metadata": {
    "collapsed": false,
    "ExecuteTime": {
     "end_time": "2023-10-09T05:13:45.769303637Z",
     "start_time": "2023-10-09T05:13:45.734800892Z"
    }
   },
   "id": "3625e6fb22f1e324"
  },
  {
   "cell_type": "code",
   "execution_count": 28,
   "outputs": [
    {
     "data": {
      "text/plain": "26"
     },
     "execution_count": 28,
     "metadata": {},
     "output_type": "execute_result"
    }
   ],
   "source": [
    "r[0,0]"
   ],
   "metadata": {
    "collapsed": false,
    "ExecuteTime": {
     "end_time": "2023-10-09T05:13:52.595889162Z",
     "start_time": "2023-10-09T05:13:52.551174981Z"
    }
   },
   "id": "5a468829b65f5941"
  }
 ],
 "metadata": {
  "kernelspec": {
   "display_name": "Python 3",
   "language": "python",
   "name": "python3"
  },
  "language_info": {
   "codemirror_mode": {
    "name": "ipython",
    "version": 2
   },
   "file_extension": ".py",
   "mimetype": "text/x-python",
   "name": "python",
   "nbconvert_exporter": "python",
   "pygments_lexer": "ipython2",
   "version": "2.7.6"
  }
 },
 "nbformat": 4,
 "nbformat_minor": 5
}
