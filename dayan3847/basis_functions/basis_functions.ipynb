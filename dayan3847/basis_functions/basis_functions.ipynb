{
 "cells": [
  {
   "cell_type": "markdown",
   "source": [
    "# Universidad Autónoma de Yucatán\n",
    "\n",
    "## Facultad de Matemáticas\n",
    "\n",
    "### Machine Learning\n",
    "\n",
    "**Teacher:** Dr. Victor Uc Cetina <[victoruccetina@gmail.com](mailto:victoruccetina@gmail.com)>\n",
    "\n",
    "**Student:** Dayan Bravo Fraga <[dayan3847@gmail.com](mailto:dayan3847@gmail.com)>\n",
    "\n",
    "[GitHub Project](https://github.com/dayan3847/machine_learning/#practice-basis-functions)\n"
   ],
   "metadata": {
    "collapsed": false,
    "id": "9da6d108f4bb9183"
   },
   "id": "9da6d108f4bb9183"
  },
  {
   "cell_type": "markdown",
   "source": [
    "# Basis Functions\n",
    "\n",
    "[GitHub](https://github.com/dayan3847/machine_learning/blob/master/dayan3847/basis_functions/basis_functions.ipynb)\n",
    "\n",
    "[Colab](https://colab.research.google.com/github/dayan3847/machine_learning/blob/master/dayan3847/basis_functions/basis_functions.ipynb)"
   ],
   "metadata": {
    "collapsed": false,
    "id": "d6ae440af491cf63"
   },
   "id": "d6ae440af491cf63"
  },
  {
   "cell_type": "markdown",
   "source": [
    "### Imports"
   ],
   "metadata": {
    "collapsed": false,
    "id": "2ce1c81a86e9252"
   },
   "id": "2ce1c81a86e9252"
  },
  {
   "cell_type": "code",
   "execution_count": 1,
   "outputs": [],
   "source": [
    "import numpy as np\n",
    "import sympy as sp\n",
    "import matplotlib.pyplot as plt"
   ],
   "metadata": {
    "ExecuteTime": {
     "end_time": "2023-08-23T05:37:30.127162779Z",
     "start_time": "2023-08-23T05:37:29.702833684Z"
    },
    "id": "de90c638832ceb32",
    "executionInfo": {
     "status": "ok",
     "timestamp": 1693120116871,
     "user_tz": 360,
     "elapsed": 710,
     "user": {
      "displayName": "Dayan Bravo Fraga",
      "userId": "05762651316564612225"
     }
    }
   },
   "id": "de90c638832ceb32"
  },
  {
   "cell_type": "markdown",
   "source": [
    "### Prepare"
   ],
   "metadata": {
    "collapsed": false,
    "id": "48a12fe986dda210"
   },
   "id": "48a12fe986dda210"
  },
  {
   "cell_type": "code",
   "execution_count": 2,
   "outputs": [
    {
     "output_type": "execute_result",
     "data": {
      "text/plain": [
       "9"
      ]
     },
     "metadata": {},
     "execution_count": 2
    }
   ],
   "source": [
    "# x data to Plot\n",
    "x_plot: np.array = np.linspace(-1, 1, 1000)\n",
    "# Count of factors\n",
    "count: int = 9\n",
    "count"
   ],
   "metadata": {
    "ExecuteTime": {
     "end_time": "2023-08-23T05:37:30.135255689Z",
     "start_time": "2023-08-23T05:37:30.130547212Z"
    },
    "id": "f248b4065cbe7d5c",
    "executionInfo": {
     "status": "ok",
     "timestamp": 1693120116872,
     "user_tz": 360,
     "elapsed": 29,
     "user": {
      "displayName": "Dayan Bravo Fraga",
      "userId": "05762651316564612225"
     }
    },
    "outputId": "cfffc3c9-efd4-4440-dab8-d2e5159366e2",
    "colab": {
     "base_uri": "https://localhost:8080/"
    }
   },
   "id": "f248b4065cbe7d5c"
  },
  {
   "cell_type": "code",
   "source": [
    "w_list = np.random.rand(count) -.5\n",
    "w_list"
   ],
   "metadata": {
    "colab": {
     "base_uri": "https://localhost:8080/"
    },
    "id": "_PASBf7cZyGZ",
    "executionInfo": {
     "status": "ok",
     "timestamp": 1693120160841,
     "user_tz": 360,
     "elapsed": 166,
     "user": {
      "displayName": "Dayan Bravo Fraga",
      "userId": "05762651316564612225"
     }
    },
    "outputId": "61a6cb25-81eb-4b39-c6a0-b110f23b4d44"
   },
   "id": "_PASBf7cZyGZ",
   "execution_count": 20,
   "outputs": [
    {
     "output_type": "execute_result",
     "data": {
      "text/plain": [
       "array([ 0.35413488,  0.48357013, -0.33592283,  0.24271723, -0.45919973,\n",
       "        0.40791167,  0.24597381,  0.13306291,  0.3972268 ])"
      ]
     },
     "metadata": {},
     "execution_count": 20
    }
   ]
  },
  {
   "cell_type": "code",
   "source": [
    "w_list[int(count/2)] = 5\n",
    "w_list"
   ],
   "metadata": {
    "colab": {
     "base_uri": "https://localhost:8080/"
    },
    "id": "rQo3AAgCaFm1",
    "executionInfo": {
     "status": "ok",
     "timestamp": 1693120162585,
     "user_tz": 360,
     "elapsed": 150,
     "user": {
      "displayName": "Dayan Bravo Fraga",
      "userId": "05762651316564612225"
     }
    },
    "outputId": "8b1f8141-2ec0-424a-bd6f-53903876f54a"
   },
   "id": "rQo3AAgCaFm1",
   "execution_count": 21,
   "outputs": [
    {
     "output_type": "execute_result",
     "data": {
      "text/plain": [
       "array([ 0.35413488,  0.48357013, -0.33592283,  0.24271723,  5.        ,\n",
       "        0.40791167,  0.24597381,  0.13306291,  0.3972268 ])"
      ]
     },
     "metadata": {},
     "execution_count": 21
    }
   ]
  },
  {
   "cell_type": "code",
   "source": [
    "w_list = np.full(count, 1)\n",
    "w_list"
   ],
   "metadata": {
    "colab": {
     "base_uri": "https://localhost:8080/"
    },
    "id": "6Hity51sZ28R",
    "executionInfo": {
     "status": "ok",
     "timestamp": 1693120116873,
     "user_tz": 360,
     "elapsed": 16,
     "user": {
      "displayName": "Dayan Bravo Fraga",
      "userId": "05762651316564612225"
     }
    },
    "outputId": "dac9d857-1f33-4cbd-a09d-5a28eadbe14b"
   },
   "id": "6Hity51sZ28R",
   "execution_count": 5,
   "outputs": [
    {
     "output_type": "execute_result",
     "data": {
      "text/plain": [
       "array([1, 1, 1, 1, 1, 1, 1, 1, 1])"
      ]
     },
     "metadata": {},
     "execution_count": 5
    }
   ]
  },
  {
   "cell_type": "markdown",
   "source": [
    "## Polynomial"
   ],
   "metadata": {
    "collapsed": false,
    "id": "a05ea180fc965c3b"
   },
   "id": "a05ea180fc965c3b"
  },
  {
   "cell_type": "code",
   "execution_count": 6,
   "outputs": [
    {
     "output_type": "execute_result",
     "data": {
      "text/plain": [
       "x**n"
      ],
      "text/latex": "$\\displaystyle x^{n}$"
     },
     "metadata": {},
     "execution_count": 6
    }
   ],
   "source": [
    "# Variable\n",
    "x: sp.Symbol = sp.Symbol('x')\n",
    "# Hyper-Parameters\n",
    "n: sp.Symbol = sp.Symbol('n')  # Order of factor (degree)\n",
    "factor: sp.Expr = x ** n\n",
    "factor"
   ],
   "metadata": {
    "ExecuteTime": {
     "end_time": "2023-08-23T05:37:30.436781655Z",
     "start_time": "2023-08-23T05:37:30.389834260Z"
    },
    "id": "c992af84cff79a03",
    "executionInfo": {
     "status": "ok",
     "timestamp": 1693120116874,
     "user_tz": 360,
     "elapsed": 15,
     "user": {
      "displayName": "Dayan Bravo Fraga",
      "userId": "05762651316564612225"
     }
    },
    "outputId": "c5de1b2b-0320-4860-ffab-9670cde58315",
    "colab": {
     "base_uri": "https://localhost:8080/",
     "height": 38
    }
   },
   "id": "c992af84cff79a03"
  },
  {
   "cell_type": "code",
   "execution_count": 7,
   "outputs": [
    {
     "output_type": "execute_result",
     "data": {
      "text/plain": [
       "array([0, 1, 2, 3, 4, 5, 6, 7, 8])"
      ]
     },
     "metadata": {},
     "execution_count": 7
    }
   ],
   "source": [
    "# Degree list\n",
    "d_list: np.array = np.arange(count)\n",
    "d_list"
   ],
   "metadata": {
    "ExecuteTime": {
     "end_time": "2023-08-23T05:37:30.437021439Z",
     "start_time": "2023-08-23T05:37:30.430862700Z"
    },
    "id": "e00139d28114e76f",
    "executionInfo": {
     "status": "ok",
     "timestamp": 1693120116874,
     "user_tz": 360,
     "elapsed": 12,
     "user": {
      "displayName": "Dayan Bravo Fraga",
      "userId": "05762651316564612225"
     }
    },
    "outputId": "782cd922-05ca-40a6-ba30-9e40514f7c04",
    "colab": {
     "base_uri": "https://localhost:8080/"
    }
   },
   "id": "e00139d28114e76f"
  },
  {
   "cell_type": "code",
   "execution_count": 32,
   "outputs": [
    {
     "output_type": "display_data",
     "data": {
      "text/plain": [
       "<Figure size 640x480 with 1 Axes>"
      ],
      "image/png": "[encoded data removed]"
     },
     "metadata": {}
    }
   ],
   "source": [
    "# Plot\n",
    "for w, d in zip(w_list, d_list):\n",
    "    # with numpy\n",
    "    y_plot: np.array = w * ( x_plot ** d )\n",
    "    # with sympy\n",
    "    # y_plot: np.array = np.array([factor.subs({'d': d, 'x': _x}) for _x in x_plot])\n",
    "    plt.plot(x_plot, y_plot)\n",
    "plt.show()"
   ],
   "metadata": {
    "ExecuteTime": {
     "end_time": "2023-08-23T05:37:30.524566918Z",
     "start_time": "2023-08-23T05:37:30.431006594Z"
    },
    "id": "fcd05e24e4a30d93",
    "executionInfo": {
     "status": "ok",
     "timestamp": 1693120398958,
     "user_tz": 360,
     "elapsed": 598,
     "user": {
      "displayName": "Dayan Bravo Fraga",
      "userId": "05762651316564612225"
     }
    },
    "outputId": "6c1e875d-a5c7-4cc1-e92c-cdeaaf2cfda2",
    "colab": {
     "base_uri": "https://localhost:8080/",
     "height": 430
    }
   },
   "id": "fcd05e24e4a30d93"
  },
  {
   "cell_type": "code",
   "source": [
    "# Plot\n",
    "y_plot: np.array = np.full(len(x_plot),0)\n",
    "for w, d in zip(w_list, d_list):\n",
    "    # with numpy\n",
    "    _y_plot: np.array = w * ( x_plot ** d )\n",
    "    y_plot = y_plot + _y_plot\n",
    "plt.plot(x_plot, y_plot)\n",
    "\n",
    "plt.show()"
   ],
   "metadata": {
    "colab": {
     "base_uri": "https://localhost:8080/",
     "height": 430
    },
    "id": "viqJduKha_LK",
    "executionInfo": {
     "status": "ok",
     "timestamp": 1693120170042,
     "user_tz": 360,
     "elapsed": 448,
     "user": {
      "displayName": "Dayan Bravo Fraga",
      "userId": "05762651316564612225"
     }
    },
    "outputId": "ca3782f9-6cec-4f97-c7af-563737c28fe2"
   },
   "id": "viqJduKha_LK",
   "execution_count": 23,
   "outputs": [
    {
     "output_type": "display_data",
     "data": {
      "text/plain": [
       "<Figure size 640x480 with 1 Axes>"
      ],
      "image/png": "[encoded data removed]"
     },
     "metadata": {}
    }
   ]
  },
  {
   "cell_type": "markdown",
   "source": [
    "## Gaussian"
   ],
   "metadata": {
    "collapsed": false,
    "id": "951a630bcb7495a0"
   },
   "id": "951a630bcb7495a0"
  },
  {
   "cell_type": "code",
   "execution_count": 10,
   "outputs": [
    {
     "output_type": "execute_result",
     "data": {
      "text/plain": [
       "exp(-(-m + x)**2/(2*s**2))"
      ],
      "text/latex": "$\\displaystyle e^{- \\frac{\\left(- m + x\\right)^{2}}{2 s^{2}}}$"
     },
     "metadata": {},
     "execution_count": 10
    }
   ],
   "source": [
    "# Variable\n",
    "x: sp.Symbol = sp.Symbol('x')\n",
    "# Hyper-Parameters\n",
    "m: sp.Symbol = sp.Symbol('m')  # Mean\n",
    "s: sp.Symbol = sp.Symbol('s')  # Standard deviation\n",
    "factor: sp.Expr = sp.exp(-1 * ((x - m) ** 2) / (2 * (s ** 2)))\n",
    "factor"
   ],
   "metadata": {
    "ExecuteTime": {
     "end_time": "2023-08-23T05:37:30.279124780Z",
     "start_time": "2023-08-23T05:37:30.133681429Z"
    },
    "id": "initial_id",
    "executionInfo": {
     "status": "ok",
     "timestamp": 1693120117380,
     "user_tz": 360,
     "elapsed": 206,
     "user": {
      "displayName": "Dayan Bravo Fraga",
      "userId": "05762651316564612225"
     }
    },
    "outputId": "59894f31-1ba7-4f73-d79b-3c28808d7ddc",
    "colab": {
     "base_uri": "https://localhost:8080/",
     "height": 46
    }
   },
   "id": "initial_id"
  },
  {
   "cell_type": "code",
   "execution_count": 11,
   "outputs": [
    {
     "output_type": "execute_result",
     "data": {
      "text/plain": [
       "array([-1.  , -0.75, -0.5 , -0.25,  0.  ,  0.25,  0.5 ,  0.75,  1.  ])"
      ]
     },
     "metadata": {},
     "execution_count": 11
    }
   ],
   "source": [
    "# Mean list\n",
    "m_list: np.array = np.linspace(-1, 1, count)\n",
    "m_list"
   ],
   "metadata": {
    "ExecuteTime": {
     "end_time": "2023-08-23T05:37:30.323097175Z",
     "start_time": "2023-08-23T05:37:30.280576676Z"
    },
    "id": "d1fc21f312783871",
    "executionInfo": {
     "status": "ok",
     "timestamp": 1693120117382,
     "user_tz": 360,
     "elapsed": 19,
     "user": {
      "displayName": "Dayan Bravo Fraga",
      "userId": "05762651316564612225"
     }
    },
    "outputId": "ed9fe2ed-0c0a-4c23-a9e2-c3991b24a792",
    "colab": {
     "base_uri": "https://localhost:8080/"
    }
   },
   "id": "d1fc21f312783871"
  },
  {
   "cell_type": "code",
   "execution_count": 12,
   "outputs": [
    {
     "output_type": "execute_result",
     "data": {
      "text/plain": [
       "array([0.1, 0.1, 0.1, 0.1, 0.1, 0.1, 0.1, 0.1, 0.1])"
      ]
     },
     "metadata": {},
     "execution_count": 12
    }
   ],
   "source": [
    "# Standard deviation list\n",
    "s_list: np.array = np.full(count, 0.1)\n",
    "s_list"
   ],
   "metadata": {
    "ExecuteTime": {
     "end_time": "2023-08-23T05:37:30.323479504Z",
     "start_time": "2023-08-23T05:37:30.322978932Z"
    },
    "id": "3e50b32bf5aec939",
    "executionInfo": {
     "status": "ok",
     "timestamp": 1693120117383,
     "user_tz": 360,
     "elapsed": 15,
     "user": {
      "displayName": "Dayan Bravo Fraga",
      "userId": "05762651316564612225"
     }
    },
    "outputId": "55f7779b-48c7-4825-c228-f0daff216bcf",
    "colab": {
     "base_uri": "https://localhost:8080/"
    }
   },
   "id": "3e50b32bf5aec939"
  },
  {
   "cell_type": "code",
   "execution_count": 24,
   "outputs": [
    {
     "output_type": "display_data",
     "data": {
      "text/plain": [
       "<Figure size 640x480 with 1 Axes>"
      ],
      "image/png": "[encoded data removed]"
     },
     "metadata": {}
    }
   ],
   "source": [
    "# Plot\n",
    "for w, m, s in zip(w_list, m_list, s_list):\n",
    "    # with numpy\n",
    "    y_plot: np.array = w * np.exp(-1 * ((x_plot - m) ** 2) / (2 * (s ** 2)))\n",
    "    # with sympy\n",
    "    # y_plot: np.array = np.array([factor.subs({'m': m, 's': s, 'x': _x}) for _x in x_plot])\n",
    "    plt.plot(x_plot, y_plot)\n",
    "plt.show()"
   ],
   "metadata": {
    "ExecuteTime": {
     "end_time": "2023-08-23T05:37:30.387352782Z",
     "start_time": "2023-08-23T05:37:30.323314723Z"
    },
    "id": "797e31a4481cb757",
    "executionInfo": {
     "status": "ok",
     "timestamp": 1693120178692,
     "user_tz": 360,
     "elapsed": 635,
     "user": {
      "displayName": "Dayan Bravo Fraga",
      "userId": "05762651316564612225"
     }
    },
    "outputId": "79632a2b-4062-4dea-a7fb-4d0d46e7b913",
    "colab": {
     "base_uri": "https://localhost:8080/",
     "height": 430
    }
   },
   "id": "797e31a4481cb757"
  },
  {
   "cell_type": "code",
   "source": [
    "# Plot\n",
    "y_plot: np.array = np.full(len(x_plot),0)\n",
    "for w, m, s in zip(w_list, m_list, s_list):\n",
    "    # with numpy\n",
    "    _y_plot: np.array = w * (np.exp(-1 * ((x_plot - m) ** 2) / (2 * (s ** 2))))\n",
    "    y_plot = y_plot + _y_plot\n",
    "plt.plot(x_plot, y_plot)\n",
    "\n",
    "plt.show()"
   ],
   "metadata": {
    "colab": {
     "base_uri": "https://localhost:8080/",
     "height": 430
    },
    "id": "dS9Nb-ARaTSJ",
    "executionInfo": {
     "status": "ok",
     "timestamp": 1693120183094,
     "user_tz": 360,
     "elapsed": 507,
     "user": {
      "displayName": "Dayan Bravo Fraga",
      "userId": "05762651316564612225"
     }
    },
    "outputId": "677d9a62-4b1d-4a49-87fd-3391a20a8fe4"
   },
   "id": "dS9Nb-ARaTSJ",
   "execution_count": 25,
   "outputs": [
    {
     "output_type": "display_data",
     "data": {
      "text/plain": [
       "<Figure size 640x480 with 1 Axes>"
      ],
      "image/png": "[encoded data removed]"
     },
     "metadata": {}
    }
   ]
  },
  {
   "cell_type": "markdown",
   "source": [
    "## Sigmoidal"
   ],
   "metadata": {
    "collapsed": false,
    "id": "c7e0eab289092924"
   },
   "id": "c7e0eab289092924"
  },
  {
   "cell_type": "code",
   "execution_count": 15,
   "outputs": [
    {
     "output_type": "execute_result",
     "data": {
      "text/plain": [
       "1/(exp((m - x)/s) + 1)"
      ],
      "text/latex": "$\\displaystyle \\frac{1}{e^{\\frac{m - x}{s}} + 1}$"
     },
     "metadata": {},
     "execution_count": 15
    }
   ],
   "source": [
    "# Variable\n",
    "x: sp.Symbol = sp.Symbol('x')\n",
    "# Hyper-Parameters\n",
    "m: sp.Symbol = sp.Symbol('m')  # Mean\n",
    "s: sp.Symbol = sp.Symbol('s')  # Standard deviation\n",
    "factor: sp.Expr = 1 / ( 1 + sp.exp( (m-x)/s ) )\n",
    "factor"
   ],
   "metadata": {
    "ExecuteTime": {
     "end_time": "2023-08-23T05:37:30.529366840Z",
     "start_time": "2023-08-23T05:37:30.526123129Z"
    },
    "id": "88425cd0ab1eafc",
    "executionInfo": {
     "status": "ok",
     "timestamp": 1693120117757,
     "user_tz": 360,
     "elapsed": 21,
     "user": {
      "displayName": "Dayan Bravo Fraga",
      "userId": "05762651316564612225"
     }
    },
    "outputId": "d95686e2-bd5d-4976-a397-b3d53a677247",
    "colab": {
     "base_uri": "https://localhost:8080/",
     "height": 54
    }
   },
   "id": "88425cd0ab1eafc"
  },
  {
   "cell_type": "code",
   "source": [
    "# Mean list\n",
    "m_list: np.array = np.linspace(-1, 1, count)\n",
    "m_list"
   ],
   "metadata": {
    "id": "fVO1uO_LH8c1",
    "executionInfo": {
     "status": "ok",
     "timestamp": 1693120117758,
     "user_tz": 360,
     "elapsed": 19,
     "user": {
      "displayName": "Dayan Bravo Fraga",
      "userId": "05762651316564612225"
     }
    },
    "outputId": "f55122dc-c7fe-45c1-e612-473167fbdc55",
    "colab": {
     "base_uri": "https://localhost:8080/"
    }
   },
   "id": "fVO1uO_LH8c1",
   "execution_count": 16,
   "outputs": [
    {
     "output_type": "execute_result",
     "data": {
      "text/plain": [
       "array([-1.  , -0.75, -0.5 , -0.25,  0.  ,  0.25,  0.5 ,  0.75,  1.  ])"
      ]
     },
     "metadata": {},
     "execution_count": 16
    }
   ]
  },
  {
   "cell_type": "code",
   "source": [
    "# Standard deviation list\n",
    "s_list: np.array = np.full(count, 0.1)\n",
    "s_list"
   ],
   "metadata": {
    "id": "j_J0w8_DH-tu",
    "executionInfo": {
     "status": "ok",
     "timestamp": 1693120117758,
     "user_tz": 360,
     "elapsed": 14,
     "user": {
      "displayName": "Dayan Bravo Fraga",
      "userId": "05762651316564612225"
     }
    },
    "outputId": "60dd331c-2cf5-4202-a37c-b4059384e775",
    "colab": {
     "base_uri": "https://localhost:8080/"
    }
   },
   "id": "j_J0w8_DH-tu",
   "execution_count": 17,
   "outputs": [
    {
     "output_type": "execute_result",
     "data": {
      "text/plain": [
       "array([0.1, 0.1, 0.1, 0.1, 0.1, 0.1, 0.1, 0.1, 0.1])"
      ]
     },
     "metadata": {},
     "execution_count": 17
    }
   ]
  },
  {
   "cell_type": "code",
   "source": [
    "# Plot\n",
    "for w, m, s in zip(w_list, m_list, s_list):\n",
    "    # with numpy\n",
    "    y_plot: np.array = w * (.1 / ( 1 + np.exp( (m-x_plot)/s ) ) )\n",
    "    # with sympy\n",
    "    # y_plot: np.array = np.array([factor.subs({'m': m, 's': s, 'x': _x}) for _x in x_plot])\n",
    "    plt.plot(x_plot, y_plot)\n",
    "plt.show()"
   ],
   "metadata": {
    "id": "HnsOAR9QIEoU",
    "executionInfo": {
     "status": "ok",
     "timestamp": 1693120190304,
     "user_tz": 360,
     "elapsed": 382,
     "user": {
      "displayName": "Dayan Bravo Fraga",
      "userId": "05762651316564612225"
     }
    },
    "outputId": "4bc25666-bea9-44dc-e66b-76deab01f714",
    "colab": {
     "base_uri": "https://localhost:8080/",
     "height": 430
    }
   },
   "id": "HnsOAR9QIEoU",
   "execution_count": 26,
   "outputs": [
    {
     "output_type": "display_data",
     "data": {
      "text/plain": [
       "<Figure size 640x480 with 1 Axes>"
      ],
      "image/png": "[encoded data removed]"
     },
     "metadata": {}
    }
   ]
  },
  {
   "cell_type": "code",
   "source": [
    "# Plot\n",
    "y_plot: np.array = np.full(len(x_plot),0)\n",
    "for w, m, s in zip(w_list, m_list, s_list):\n",
    "    # with numpy\n",
    "    _y_plot: np.array = w * (.1 / ( 1 + np.exp( (m-x_plot)/s ) ))\n",
    "    y_plot = y_plot + _y_plot\n",
    "plt.plot(x_plot, y_plot)\n",
    "\n",
    "plt.show()"
   ],
   "metadata": {
    "colab": {
     "base_uri": "https://localhost:8080/",
     "height": 433
    },
    "id": "KwYbl_INaZZu",
    "executionInfo": {
     "status": "ok",
     "timestamp": 1693120194260,
     "user_tz": 360,
     "elapsed": 344,
     "user": {
      "displayName": "Dayan Bravo Fraga",
      "userId": "05762651316564612225"
     }
    },
    "outputId": "ec54b3dd-6e73-477a-e662-bfc0d33d1fa7"
   },
   "id": "KwYbl_INaZZu",
   "execution_count": 27,
   "outputs": [
    {
     "output_type": "display_data",
     "data": {
      "text/plain": [
       "<Figure size 640x480 with 1 Axes>"
      ],
      "image/png": "[encoded data removed]"
     },
     "metadata": {}
    }
   ]
  }
 ],
 "metadata": {
  "kernelspec": {
   "display_name": "Python 3",
   "language": "python",
   "name": "python3"
  },
  "language_info": {
   "codemirror_mode": {
    "name": "ipython",
    "version": 2
   },
   "file_extension": ".py",
   "mimetype": "text/x-python",
   "name": "python",
   "nbconvert_exporter": "python",
   "pygments_lexer": "ipython2",
   "version": "2.7.6"
  },
  "colab": {
   "provenance": [
    {
     "file_id": "https://github.com/dayan3847/machine_learning/blob/master/dayan3847/basis_functions/basis_functions.ipynb",
     "timestamp": 1692974278705
    }
   ]
  }
 },
 "nbformat": 4,
 "nbformat_minor": 5
}
