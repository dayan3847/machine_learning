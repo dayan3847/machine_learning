{
 "cells": [
  {
   "cell_type": "markdown",
   "source": [
    "# Universidad Autónoma de Yucatán\n",
    "\n",
    "## Facultad de Matemáticas\n",
    "\n",
    "### Machine Learning\n",
    "\n",
    "**Teacher:** Dr. Victor Uc Cetina\n",
    "\n",
    "**Student:** Dayan Bravo Fraga"
   ],
   "metadata": {
    "collapsed": false
   }
  },
  {
   "cell_type": "markdown",
   "source": [
    "# Logistic Regression (Binary Classification)"
   ],
   "metadata": {
    "collapsed": false
   }
  },
  {
   "cell_type": "markdown",
   "source": [
    "## Import libraries"
   ],
   "metadata": {
    "collapsed": false
   }
  },
  {
   "cell_type": "code",
   "execution_count": null,
   "metadata": {
    "collapsed": true
   },
   "outputs": [],
   "source": [
    "import numpy as np\n",
    "import sympy as sp\n",
    "import matplotlib.pyplot as plt\n",
    "from sklearn.model_selection import train_test_split"
   ]
  },
  {
   "cell_type": "markdown",
   "source": [
    "## Import Data"
   ],
   "metadata": {
    "collapsed": false
   }
  },
  {
   "cell_type": "code",
   "execution_count": null,
   "outputs": [],
   "source": [
    "data_points: np.ndarray = np.loadtxt('data.txt', delimiter=' ').T\n",
    "data_points"
   ],
   "metadata": {
    "collapsed": false
   }
  },
  {
   "cell_type": "code",
   "execution_count": null,
   "outputs": [],
   "source": [
    "data_train, data_test = train_test_split(data_points.T, test_size=.3, random_state=42)\n",
    "data_train = data_train.T\n",
    "data_test = data_test.T"
   ],
   "metadata": {
    "collapsed": false
   }
  },
  {
   "cell_type": "markdown",
   "source": [
    "## Plot Data Points"
   ],
   "metadata": {
    "collapsed": false
   }
  },
  {
   "cell_type": "code",
   "execution_count": null,
   "outputs": [],
   "source": [
    "def plot_data(print_polynomial: bool = False):\n",
    "    plt.title('Data')\n",
    "    plt.xlabel('x')\n",
    "    plt.ylabel('y')\n",
    "    plt.axvline(color='black')\n",
    "    plt.axhline(color='black')\n",
    "\n",
    "    index_zeros_train = np.where(data_train[2].astype(int) == 0)\n",
    "    index_ones_train = np.where(data_points[2].astype(int) != 0)\n",
    "    index_zeros_test = np.where(data_test[2].astype(int) == 0)\n",
    "    index_ones_test = np.where(data_test[2].astype(int) != 0)\n",
    "    # Data Points Train\n",
    "    plt.scatter(data_train[0][index_ones_train], data_train[1][index_ones_train], color='green', label='one_train',\n",
    "                marker='o')\n",
    "    plt.scatter(data_train[0][index_zeros_train], data_train[1][index_zeros_train], color='red', label='zero_train',\n",
    "                marker='o')\n",
    "    # Data Points Test\n",
    "    plt.scatter(data_test[0][index_ones_test], data_test[1][index_ones_test], color='green', label='one_test',\n",
    "                marker='x')\n",
    "    plt.scatter(data_test[0][index_zeros_test], data_test[1][index_zeros_test], color='red', label='zero_test',\n",
    "                marker='x')\n",
    "\n",
    "    if print_polynomial:\n",
    "        polynomial = sp.sympify(str(get_polynomial()) + ' - 0.5')\n",
    "        x_ = np.linspace(-3, 3)\n",
    "        y_ = [sp.solve(polynomial.subs('x', x_i)) for x_i in x_]\n",
    "        plt.plot(x_, y_, label='polynomial', color='blue', linestyle='-')\n",
    "\n",
    "    plt.legend()\n",
    "    plt.grid()\n",
    "    plt.show()\n",
    "\n",
    "\n",
    "plot_data()"
   ],
   "metadata": {
    "collapsed": false
   }
  },
  {
   "cell_type": "markdown",
   "source": [
    "## Logistic Regression"
   ],
   "metadata": {
    "collapsed": false
   }
  },
  {
   "cell_type": "code",
   "execution_count": 191,
   "outputs": [
    {
     "data": {
      "text/plain": "array([ 2.67260509, -0.72337204, -2.45416708])"
     },
     "execution_count": 191,
     "metadata": {},
     "output_type": "execute_result"
    }
   ],
   "source": [
    "def generate_thetas() -> np.ndarray:\n",
    "    return np.random.uniform(low=-5, high=5, size=3)\n",
    "\n",
    "\n",
    "thetas = generate_thetas()\n",
    "thetas"
   ],
   "metadata": {
    "collapsed": false,
    "ExecuteTime": {
     "end_time": "2023-05-22T08:08:20.104559962Z",
     "start_time": "2023-05-22T08:08:20.060728288Z"
    }
   }
  },
  {
   "cell_type": "code",
   "execution_count": null,
   "outputs": [],
   "source": [
    "def get_polynomial() -> sp.Expr:\n",
    "    return sp.sympify(f'{thetas[0]} * x + {thetas[1]} * y + {thetas[2]}')\n",
    "\n",
    "\n",
    "get_polynomial()"
   ],
   "metadata": {
    "collapsed": false
   }
  },
  {
   "cell_type": "code",
   "execution_count": null,
   "outputs": [],
   "source": [
    "plot_data(True)"
   ],
   "metadata": {
    "collapsed": false
   }
  },
  {
   "cell_type": "code",
   "execution_count": null,
   "outputs": [],
   "source": [
    "def sigmoid(x: float) -> float:\n",
    "    return 1 / (1 + np.exp(-x))"
   ],
   "metadata": {
    "collapsed": false
   }
  },
  {
   "cell_type": "code",
   "execution_count": null,
   "outputs": [],
   "source": [
    "def h(x_vector: np.ndarray) -> float:\n",
    "    return thetas.dot(x_vector)"
   ],
   "metadata": {
    "collapsed": false
   }
  },
  {
   "cell_type": "code",
   "execution_count": null,
   "outputs": [],
   "source": [
    "def h_activation(x_vector: np.ndarray) -> float:\n",
    "    return sigmoid(h(x_vector))"
   ],
   "metadata": {
    "collapsed": false
   }
  },
  {
   "cell_type": "code",
   "execution_count": 178,
   "outputs": [
    {
     "data": {
      "text/plain": "18.707161695319687"
     },
     "execution_count": 178,
     "metadata": {},
     "output_type": "execute_result"
    }
   ],
   "source": [
    "def get_error() -> float:\n",
    "    error = 0\n",
    "    for data in data_train:\n",
    "        yi = data[2]\n",
    "        hi = h_activation(np.append(data[:2], 1))\n",
    "        error += (hi - yi) ** 2\n",
    "    return error / 2\n",
    "\n",
    "\n",
    "get_error()"
   ],
   "metadata": {
    "collapsed": false,
    "ExecuteTime": {
     "end_time": "2023-05-22T08:04:33.348480171Z",
     "start_time": "2023-05-22T08:04:33.305087701Z"
    }
   }
  },
  {
   "cell_type": "code",
   "execution_count": 179,
   "outputs": [
    {
     "data": {
      "text/plain": "0.7310884585000581"
     },
     "execution_count": 179,
     "metadata": {},
     "output_type": "execute_result"
    }
   ],
   "source": [
    "def get_error_rms() -> float:\n",
    "    e = get_error()\n",
    "    m = data_train.shape[1]\n",
    "    return (2 * e / m) ** .5\n",
    "\n",
    "\n",
    "get_error_rms()"
   ],
   "metadata": {
    "collapsed": false,
    "ExecuteTime": {
     "end_time": "2023-05-22T08:04:38.652962235Z",
     "start_time": "2023-05-22T08:04:38.648904385Z"
    }
   }
  },
  {
   "cell_type": "markdown",
   "source": [
    "### Training"
   ],
   "metadata": {
    "collapsed": false
   }
  },
  {
   "cell_type": "code",
   "execution_count": 198,
   "outputs": [
    {
     "data": {
      "text/plain": "array([0.03493663, 0.9654974 , 2.06656002])"
     },
     "execution_count": 198,
     "metadata": {},
     "output_type": "execute_result"
    }
   ],
   "source": [
    "thetas = generate_thetas()\n",
    "thetas"
   ],
   "metadata": {
    "collapsed": false,
    "ExecuteTime": {
     "end_time": "2023-05-22T08:09:25.944487516Z",
     "start_time": "2023-05-22T08:09:25.903851479Z"
    }
   }
  },
  {
   "cell_type": "code",
   "execution_count": 199,
   "outputs": [
    {
     "name": "stdout",
     "output_type": "stream",
     "text": [
      "\u001B[92mtraining...\u001B[0m\n",
      "\u001B[92mtraining finished\u001B[0m\n"
     ]
    }
   ],
   "source": [
    "iterations_count: int = 10\n",
    "a: float = .01\n",
    "errors = [get_error()]\n",
    "\n",
    "\n",
    "def to_train():\n",
    "    for _ in range(iterations_count):\n",
    "        for data in data_train.T:\n",
    "            x = np.append(data[:2], 1)\n",
    "            y = data[2]\n",
    "            hi = h_activation(x)\n",
    "            for i in range(3):  # len(thetas)\n",
    "                # se actualiza el theta\n",
    "                thetas[i] += a * (y - hi) * x[i]  # ^ 1\n",
    "            errors.append(get_error_rms())\n",
    "\n",
    "\n",
    "print('\\033[92m' + 'training...' + '\\033[0m')\n",
    "to_train()\n",
    "print('\\033[92m' + 'training finished' + '\\033[0m')"
   ],
   "metadata": {
    "collapsed": false,
    "ExecuteTime": {
     "end_time": "2023-05-22T08:09:27.399491358Z",
     "start_time": "2023-05-22T08:09:27.378562729Z"
    }
   }
  },
  {
   "cell_type": "code",
   "execution_count": 200,
   "outputs": [
    {
     "data": {
      "text/plain": "<Figure size 640x480 with 1 Axes>",
      "image/png": "[encoded data removed]"
     },
     "metadata": {},
     "output_type": "display_data"
    }
   ],
   "source": [
    "plt.title('Error')\n",
    "plt.xlabel('iteration')\n",
    "plt.ylabel('error')\n",
    "plt.plot(errors)\n",
    "plt.show()"
   ],
   "metadata": {
    "collapsed": false,
    "ExecuteTime": {
     "end_time": "2023-05-22T08:09:31.773678723Z",
     "start_time": "2023-05-22T08:09:31.698753047Z"
    }
   }
  },
  {
   "cell_type": "code",
   "execution_count": 185,
   "outputs": [
    {
     "data": {
      "text/plain": "<Figure size 640x480 with 1 Axes>",
      "image/png": "[encoded data removed]"
     },
     "metadata": {},
     "output_type": "display_data"
    }
   ],
   "source": [
    "plot_data(True)"
   ],
   "metadata": {
    "collapsed": false,
    "ExecuteTime": {
     "end_time": "2023-05-22T08:05:09.404422148Z",
     "start_time": "2023-05-22T08:05:08.025161381Z"
    }
   }
  }
 ],
 "metadata": {
  "kernelspec": {
   "display_name": "Python 3",
   "language": "python",
   "name": "python3"
  },
  "language_info": {
   "codemirror_mode": {
    "name": "ipython",
    "version": 2
   },
   "file_extension": ".py",
   "mimetype": "text/x-python",
   "name": "python",
   "nbconvert_exporter": "python",
   "pygments_lexer": "ipython2",
   "version": "2.7.6"
  }
 },
 "nbformat": 4,
 "nbformat_minor": 0
}
